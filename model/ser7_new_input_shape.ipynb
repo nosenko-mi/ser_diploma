{
 "cells": [
  {
   "cell_type": "code",
   "execution_count": 1,
   "metadata": {},
   "outputs": [],
   "source": [
    "import pandas as pd\n",
    "import numpy as np\n",
    "\n",
    "import sys\n",
    "import os\n",
    "\n",
    "from pathlib import Path\n",
    "# librosa is a Python library for analyzing audio and music. It can be used to extract the data from the audio files we will see it later.\n",
    "import librosa\n",
    "import librosa.display\n",
    "import seaborn as sns\n",
    "import matplotlib.pyplot as plt\n",
    "\n",
    "from sklearn.preprocessing import StandardScaler, OneHotEncoder\n",
    "from sklearn.metrics import confusion_matrix, classification_report\n",
    "from sklearn.model_selection import train_test_split\n",
    "\n",
    "# to play the audio files\n",
    "from IPython.display import Audio\n",
    "\n",
    "import warnings\n",
    "if not sys.warnoptions:\n",
    "    warnings.simplefilter(\"ignore\")\n",
    "warnings.filterwarnings(\"ignore\", category=DeprecationWarning)"
   ]
  },
  {
   "cell_type": "code",
   "execution_count": 2,
   "metadata": {},
   "outputs": [],
   "source": [
    "os.environ[\"TF_MIN_GPU_MULTIPROCESSOR_COUNT\"] = \"2\"\n",
    "os.environ[\"CUDA_VISIBLE_DEVICES\"] = \"0,1\""
   ]
  },
  {
   "cell_type": "code",
   "execution_count": 3,
   "metadata": {},
   "outputs": [
    {
     "name": "stdout",
     "output_type": "stream",
     "text": [
      "[PhysicalDevice(name='/physical_device:GPU:0', device_type='GPU')]\n"
     ]
    }
   ],
   "source": [
    "import tensorflow as tf\n",
    "from tensorflow.keras.callbacks import ReduceLROnPlateau\n",
    "from tensorflow.keras.models import Sequential\n",
    "from tensorflow.keras.layers import Dense, Conv1D, Conv1DTranspose, Conv2D, MaxPooling2D, MaxPooling1D, AveragePooling1D, Flatten, Dropout, BatchNormalization\n",
    "from tensorflow.keras.utils import to_categorical\n",
    "from tensorflow.keras.callbacks import ModelCheckpoint\n",
    "from tensorflow.keras import metrics\n",
    "\n",
    "print(tf.config.list_physical_devices('GPU'))"
   ]
  },
  {
   "cell_type": "code",
   "execution_count": 4,
   "metadata": {},
   "outputs": [
    {
     "data": {
      "text/html": [
       "<div>\n",
       "<style scoped>\n",
       "    .dataframe tbody tr th:only-of-type {\n",
       "        vertical-align: middle;\n",
       "    }\n",
       "\n",
       "    .dataframe tbody tr th {\n",
       "        vertical-align: top;\n",
       "    }\n",
       "\n",
       "    .dataframe thead th {\n",
       "        text-align: right;\n",
       "    }\n",
       "</style>\n",
       "<table border=\"1\" class=\"dataframe\">\n",
       "  <thead>\n",
       "    <tr style=\"text-align: right;\">\n",
       "      <th></th>\n",
       "      <th>0</th>\n",
       "      <th>1</th>\n",
       "      <th>2</th>\n",
       "      <th>3</th>\n",
       "      <th>4</th>\n",
       "      <th>5</th>\n",
       "      <th>6</th>\n",
       "      <th>7</th>\n",
       "      <th>8</th>\n",
       "      <th>9</th>\n",
       "      <th>...</th>\n",
       "      <th>11127</th>\n",
       "      <th>11128</th>\n",
       "      <th>11129</th>\n",
       "      <th>11130</th>\n",
       "      <th>11131</th>\n",
       "      <th>11132</th>\n",
       "      <th>11133</th>\n",
       "      <th>11134</th>\n",
       "      <th>11135</th>\n",
       "      <th>labels</th>\n",
       "    </tr>\n",
       "  </thead>\n",
       "  <tbody>\n",
       "    <tr>\n",
       "      <th>0</th>\n",
       "      <td>1.339664e-05</td>\n",
       "      <td>1.098784e-03</td>\n",
       "      <td>0.003256</td>\n",
       "      <td>1.126937e-03</td>\n",
       "      <td>1.096965e-03</td>\n",
       "      <td>2.420358e-04</td>\n",
       "      <td>0.000568</td>\n",
       "      <td>0.000614</td>\n",
       "      <td>0.003155</td>\n",
       "      <td>0.003252</td>\n",
       "      <td>...</td>\n",
       "      <td>6.169090e-18</td>\n",
       "      <td>3.350818e-18</td>\n",
       "      <td>5.609749e-18</td>\n",
       "      <td>4.143587e-18</td>\n",
       "      <td>1.171458e-17</td>\n",
       "      <td>6.777783e-18</td>\n",
       "      <td>2.664948e-18</td>\n",
       "      <td>2.087889e-18</td>\n",
       "      <td>2.651840e-08</td>\n",
       "      <td>neutral</td>\n",
       "    </tr>\n",
       "    <tr>\n",
       "      <th>1</th>\n",
       "      <td>3.478781e-07</td>\n",
       "      <td>1.019803e-07</td>\n",
       "      <td>0.000001</td>\n",
       "      <td>1.715116e-07</td>\n",
       "      <td>6.445743e-08</td>\n",
       "      <td>2.231379e-07</td>\n",
       "      <td>0.000048</td>\n",
       "      <td>0.000132</td>\n",
       "      <td>0.000799</td>\n",
       "      <td>0.000617</td>\n",
       "      <td>...</td>\n",
       "      <td>0.000000e+00</td>\n",
       "      <td>0.000000e+00</td>\n",
       "      <td>0.000000e+00</td>\n",
       "      <td>0.000000e+00</td>\n",
       "      <td>0.000000e+00</td>\n",
       "      <td>0.000000e+00</td>\n",
       "      <td>0.000000e+00</td>\n",
       "      <td>0.000000e+00</td>\n",
       "      <td>0.000000e+00</td>\n",
       "      <td>sadness</td>\n",
       "    </tr>\n",
       "    <tr>\n",
       "      <th>2</th>\n",
       "      <td>1.209799e-03</td>\n",
       "      <td>2.331798e-04</td>\n",
       "      <td>0.002254</td>\n",
       "      <td>1.817391e-03</td>\n",
       "      <td>4.795465e-04</td>\n",
       "      <td>6.796536e-04</td>\n",
       "      <td>0.001990</td>\n",
       "      <td>0.000675</td>\n",
       "      <td>0.003583</td>\n",
       "      <td>0.003973</td>\n",
       "      <td>...</td>\n",
       "      <td>9.463693e-18</td>\n",
       "      <td>1.563433e-17</td>\n",
       "      <td>2.174778e-17</td>\n",
       "      <td>2.470158e-17</td>\n",
       "      <td>3.399514e-17</td>\n",
       "      <td>1.946311e-17</td>\n",
       "      <td>1.988722e-18</td>\n",
       "      <td>6.825164e-18</td>\n",
       "      <td>1.556677e-06</td>\n",
       "      <td>sadness</td>\n",
       "    </tr>\n",
       "    <tr>\n",
       "      <th>3</th>\n",
       "      <td>2.050425e-05</td>\n",
       "      <td>4.723475e-04</td>\n",
       "      <td>0.001311</td>\n",
       "      <td>5.813053e-03</td>\n",
       "      <td>1.610203e-03</td>\n",
       "      <td>1.371759e-03</td>\n",
       "      <td>0.000104</td>\n",
       "      <td>0.000203</td>\n",
       "      <td>0.000514</td>\n",
       "      <td>0.002252</td>\n",
       "      <td>...</td>\n",
       "      <td>2.679712e-10</td>\n",
       "      <td>7.917503e-13</td>\n",
       "      <td>0.000000e+00</td>\n",
       "      <td>0.000000e+00</td>\n",
       "      <td>0.000000e+00</td>\n",
       "      <td>0.000000e+00</td>\n",
       "      <td>0.000000e+00</td>\n",
       "      <td>0.000000e+00</td>\n",
       "      <td>0.000000e+00</td>\n",
       "      <td>happiness</td>\n",
       "    </tr>\n",
       "    <tr>\n",
       "      <th>4</th>\n",
       "      <td>2.958450e-05</td>\n",
       "      <td>3.698646e-03</td>\n",
       "      <td>0.006580</td>\n",
       "      <td>2.567383e-03</td>\n",
       "      <td>9.805348e-04</td>\n",
       "      <td>1.906194e-03</td>\n",
       "      <td>0.000515</td>\n",
       "      <td>0.001654</td>\n",
       "      <td>0.001007</td>\n",
       "      <td>0.000435</td>\n",
       "      <td>...</td>\n",
       "      <td>6.331623e-16</td>\n",
       "      <td>5.908136e-16</td>\n",
       "      <td>1.175875e-16</td>\n",
       "      <td>1.037157e-16</td>\n",
       "      <td>1.404837e-17</td>\n",
       "      <td>6.765908e-18</td>\n",
       "      <td>2.870726e-18</td>\n",
       "      <td>1.010349e-18</td>\n",
       "      <td>2.216822e-13</td>\n",
       "      <td>anger</td>\n",
       "    </tr>\n",
       "  </tbody>\n",
       "</table>\n",
       "<p>5 rows × 11137 columns</p>\n",
       "</div>"
      ],
      "text/plain": [
       "              0             1         2             3             4  \\\n",
       "0  1.339664e-05  1.098784e-03  0.003256  1.126937e-03  1.096965e-03   \n",
       "1  3.478781e-07  1.019803e-07  0.000001  1.715116e-07  6.445743e-08   \n",
       "2  1.209799e-03  2.331798e-04  0.002254  1.817391e-03  4.795465e-04   \n",
       "3  2.050425e-05  4.723475e-04  0.001311  5.813053e-03  1.610203e-03   \n",
       "4  2.958450e-05  3.698646e-03  0.006580  2.567383e-03  9.805348e-04   \n",
       "\n",
       "              5         6         7         8         9  ...         11127  \\\n",
       "0  2.420358e-04  0.000568  0.000614  0.003155  0.003252  ...  6.169090e-18   \n",
       "1  2.231379e-07  0.000048  0.000132  0.000799  0.000617  ...  0.000000e+00   \n",
       "2  6.796536e-04  0.001990  0.000675  0.003583  0.003973  ...  9.463693e-18   \n",
       "3  1.371759e-03  0.000104  0.000203  0.000514  0.002252  ...  2.679712e-10   \n",
       "4  1.906194e-03  0.000515  0.001654  0.001007  0.000435  ...  6.331623e-16   \n",
       "\n",
       "          11128         11129         11130         11131         11132  \\\n",
       "0  3.350818e-18  5.609749e-18  4.143587e-18  1.171458e-17  6.777783e-18   \n",
       "1  0.000000e+00  0.000000e+00  0.000000e+00  0.000000e+00  0.000000e+00   \n",
       "2  1.563433e-17  2.174778e-17  2.470158e-17  3.399514e-17  1.946311e-17   \n",
       "3  7.917503e-13  0.000000e+00  0.000000e+00  0.000000e+00  0.000000e+00   \n",
       "4  5.908136e-16  1.175875e-16  1.037157e-16  1.404837e-17  6.765908e-18   \n",
       "\n",
       "          11133         11134         11135     labels  \n",
       "0  2.664948e-18  2.087889e-18  2.651840e-08    neutral  \n",
       "1  0.000000e+00  0.000000e+00  0.000000e+00    sadness  \n",
       "2  1.988722e-18  6.825164e-18  1.556677e-06    sadness  \n",
       "3  0.000000e+00  0.000000e+00  0.000000e+00  happiness  \n",
       "4  2.870726e-18  1.010349e-18  2.216822e-13      anger  \n",
       "\n",
       "[5 rows x 11137 columns]"
      ]
     },
     "execution_count": 4,
     "metadata": {},
     "output_type": "execute_result"
    }
   ],
   "source": [
    "features_train_df = pd.read_csv('./features/features-train-all-2d-v2.csv')\n",
    "features_test_df = pd.read_csv('./features/features-test-all-2d-v2.csv')\n",
    "features_train_df.head()"
   ]
  },
  {
   "cell_type": "code",
   "execution_count": 5,
   "metadata": {},
   "outputs": [
    {
     "name": "stdout",
     "output_type": "stream",
     "text": [
      "<class 'pandas.core.frame.DataFrame'>\n",
      "RangeIndex: 9312 entries, 0 to 9311\n",
      "Columns: 11137 entries, 0 to labels\n",
      "dtypes: float64(11136), object(1)\n",
      "memory usage: 791.2+ MB\n"
     ]
    }
   ],
   "source": [
    "features_train_df.info()"
   ]
  },
  {
   "cell_type": "code",
   "execution_count": 6,
   "metadata": {},
   "outputs": [],
   "source": [
    "emotions_number = 8"
   ]
  },
  {
   "cell_type": "code",
   "execution_count": 7,
   "metadata": {},
   "outputs": [],
   "source": [
    "X_test = features_test_df.iloc[:, :-1].values\n",
    "y_test = features_test_df['labels'].values\n",
    "\n",
    "x_train = features_train_df.iloc[:, :-1].values\n",
    "y_train = features_train_df['labels'].values"
   ]
  },
  {
   "cell_type": "code",
   "execution_count": 8,
   "metadata": {},
   "outputs": [
    {
     "data": {
      "text/plain": [
       "(9312, 11136)"
      ]
     },
     "execution_count": 8,
     "metadata": {},
     "output_type": "execute_result"
    }
   ],
   "source": [
    "x_train.shape"
   ]
  },
  {
   "cell_type": "code",
   "execution_count": 9,
   "metadata": {},
   "outputs": [],
   "source": [
    "y_test = np.array(y_test)\n",
    "y_train = np.array(y_train)"
   ]
  },
  {
   "cell_type": "markdown",
   "metadata": {},
   "source": [
    "reshape back to 2d"
   ]
  },
  {
   "cell_type": "code",
   "execution_count": 10,
   "metadata": {},
   "outputs": [
    {
     "name": "stdout",
     "output_type": "stream",
     "text": [
      "(3991, 128, 87, 1) (3991,) (9312, 128, 87, 1) (9312,)\n"
     ]
    }
   ],
   "source": [
    "X_test = np.reshape(X_test, (len(X_test), 128, 87, 1))\n",
    "x_train = np.reshape(x_train, (len(x_train), 128, 87, 1))\n",
    "\n",
    "print(X_test.shape, y_test.shape, x_train.shape, y_train.shape)"
   ]
  },
  {
   "cell_type": "code",
   "execution_count": 11,
   "metadata": {},
   "outputs": [],
   "source": [
    "# As this is a multiclass classification problem onehotencoding our Y.\n",
    "encoder = OneHotEncoder()\n",
    "y_train_enc = encoder.fit_transform(np.array(y_train).reshape(-1, 1)).toarray()\n",
    "y_test_enc = encoder.fit_transform(np.array(y_test).reshape(-1, 1)).toarray()"
   ]
  },
  {
   "cell_type": "code",
   "execution_count": 12,
   "metadata": {},
   "outputs": [
    {
     "name": "stdout",
     "output_type": "stream",
     "text": [
      "val:\t ((3192, 128, 87, 1), (3192, 8))\n",
      "test:\t((799, 128, 87, 1), (799, 8))\n"
     ]
    }
   ],
   "source": [
    "# splitting data\n",
    "x_val, x_test, y_val_enc, y_test_enc = train_test_split(\n",
    "    X_test, y_test_enc, test_size=0.2, random_state=0, shuffle=True)\n",
    "\n",
    "print(\n",
    "    f'val:\\t {x_val.shape, y_val_enc.shape,}\\ntest:\\t{x_test.shape, y_test_enc.shape}')"
   ]
  },
  {
   "cell_type": "code",
   "execution_count": 13,
   "metadata": {},
   "outputs": [],
   "source": [
    "# # scaling our data with sklearn's Standard scaler\n",
    "# scaler = StandardScaler()\n",
    "# x_train = scaler.fit_transform(x_train)\n",
    "# x_test = scaler.transform(x_test)\n",
    "# x_val = scaler.fit_transform(x_val)\n",
    "# print(\n",
    "#     f'train:\\t {x_train.shape, y_train.shape,}\\ntest:\\t{x_val.shape, y_val.shape}\\ntest: {x_test.shape, y_test.shape}')"
   ]
  },
  {
   "cell_type": "markdown",
   "metadata": {},
   "source": [
    "## Model, train\n"
   ]
  },
  {
   "cell_type": "markdown",
   "metadata": {},
   "source": [
    "vgg9 no uk v1\n"
   ]
  },
  {
   "cell_type": "code",
   "execution_count": 14,
   "metadata": {},
   "outputs": [
    {
     "data": {
      "text/plain": [
       "array([[1., 1.],\n",
       "       [1., 1.],\n",
       "       [1., 1.]])"
      ]
     },
     "execution_count": 14,
     "metadata": {},
     "output_type": "execute_result"
    }
   ],
   "source": [
    "a = np.ones((3, 2))\n",
    "a"
   ]
  },
  {
   "cell_type": "code",
   "execution_count": 15,
   "metadata": {},
   "outputs": [
    {
     "data": {
      "text/plain": [
       "(128, 87, 1)"
      ]
     },
     "execution_count": 15,
     "metadata": {},
     "output_type": "execute_result"
    }
   ],
   "source": [
    "x_train[0].shape"
   ]
  },
  {
   "cell_type": "code",
   "execution_count": 16,
   "metadata": {},
   "outputs": [],
   "source": [
    "# model = Sequential()\n",
    "# model.add(Conv1D(1, kernel_size=5, strides=1, padding='same',\n",
    "#           activation='relu', input_shape=(128, 87)))\n",
    "# model.add(MaxPooling1D(pool_size=2, strides=2, padding='same'))\n",
    "# model.add(Conv1D(1, kernel_size=5, strides=1,\n",
    "#           padding='same', activation='relu'))\n",
    "# model.add(MaxPooling1D(pool_size=2, strides=2, padding='same'))\n",
    "# model.add(Flatten())\n",
    "# model.add(Dense(units=emotions_number, activation='softmax'))\n",
    "# model.compile(optimizer='adam', loss='categorical_crossentropy',\n",
    "#               metrics=['accuracy'])\n",
    "\n",
    "# model.summary()"
   ]
  },
  {
   "cell_type": "code",
   "execution_count": 17,
   "metadata": {},
   "outputs": [],
   "source": [
    "# model = Sequential()\n",
    "# model.add(Conv1D(64, kernel_size=3, strides=2, padding='same', activation='relu',\n",
    "#                  input_shape=(128, 87)))\n",
    "# model.add(MaxPooling1D(pool_size=2, strides=2, padding='same'))\n",
    "# model.add(Conv1D(128, kernel_size=3, padding='same', activation='relu'))\n",
    "# model.add(MaxPooling1D(pool_size=2, strides=2, padding='same'))\n",
    "# model.add(Conv1D(256, kernel_size=3, padding='same', activation='relu'))\n",
    "# model.add(Conv1D(256, kernel_size=3, padding='same', activation='relu'))\n",
    "# model.add(Conv1D(256, kernel_size=3, padding='same', activation='relu'))\n",
    "# model.add(MaxPooling1D(pool_size=2, strides=2, padding='same'))\n",
    "# model.add(Conv1D(512, kernel_size=3, padding='same', activation='relu'))\n",
    "# model.add(Conv1D(512, kernel_size=3, padding='same', activation='relu'))\n",
    "# model.add(Conv1D(512, kernel_size=3, padding='same', activation='relu'))\n",
    "# model.add(MaxPooling1D(pool_size=2, strides=2, padding='same'))\n",
    "# model.add(Dropout(0.5))\n",
    "# model.add(Flatten())\n",
    "# model.add(Dense(units=256, activation='relu'))\n",
    "# model.add(Dense(units=64, activation='relu'))\n",
    "# model.add(Dense(units=64, activation='relu'))\n",
    "# model.add(Dense(units=emotions_number, activation='softmax'))\n",
    "# model.compile(optimizer='adam', loss='categorical_crossentropy',\n",
    "#               metrics=['accuracy'])\n",
    "\n",
    "# model.summary()"
   ]
  },
  {
   "cell_type": "code",
   "execution_count": 18,
   "metadata": {},
   "outputs": [
    {
     "name": "stdout",
     "output_type": "stream",
     "text": [
      "Model: \"sequential\"\n",
      "_________________________________________________________________\n",
      " Layer (type)                Output Shape              Param #   \n",
      "=================================================================\n",
      " conv2d (Conv2D)             (None, 64, 44, 64)        1664      \n",
      "                                                                 \n",
      " max_pooling2d (MaxPooling2D  (None, 32, 22, 64)       0         \n",
      " )                                                               \n",
      "                                                                 \n",
      " conv2d_1 (Conv2D)           (None, 32, 22, 64)        102464    \n",
      "                                                                 \n",
      " max_pooling2d_1 (MaxPooling  (None, 16, 11, 64)       0         \n",
      " 2D)                                                             \n",
      "                                                                 \n",
      " dropout (Dropout)           (None, 16, 11, 64)        0         \n",
      "                                                                 \n",
      " conv2d_2 (Conv2D)           (None, 16, 11, 128)       73856     \n",
      "                                                                 \n",
      " conv2d_3 (Conv2D)           (None, 16, 11, 128)       147584    \n",
      "                                                                 \n",
      " conv2d_4 (Conv2D)           (None, 16, 11, 128)       147584    \n",
      "                                                                 \n",
      " max_pooling2d_2 (MaxPooling  (None, 8, 6, 128)        0         \n",
      " 2D)                                                             \n",
      "                                                                 \n",
      " conv2d_5 (Conv2D)           (None, 8, 6, 256)         295168    \n",
      "                                                                 \n",
      " conv2d_6 (Conv2D)           (None, 8, 6, 256)         590080    \n",
      "                                                                 \n",
      " conv2d_7 (Conv2D)           (None, 8, 6, 256)         590080    \n",
      "                                                                 \n",
      " max_pooling2d_3 (MaxPooling  (None, 4, 3, 256)        0         \n",
      " 2D)                                                             \n",
      "                                                                 \n",
      " dropout_1 (Dropout)         (None, 4, 3, 256)         0         \n",
      "                                                                 \n",
      " flatten (Flatten)           (None, 3072)              0         \n",
      "                                                                 \n",
      " dense (Dense)               (None, 64)                196672    \n",
      "                                                                 \n",
      " dense_1 (Dense)             (None, 64)                4160      \n",
      "                                                                 \n",
      " dense_2 (Dense)             (None, 64)                4160      \n",
      "                                                                 \n",
      " dense_3 (Dense)             (None, 8)                 520       \n",
      "                                                                 \n",
      "=================================================================\n",
      "Total params: 2,153,992\n",
      "Trainable params: 2,153,992\n",
      "Non-trainable params: 0\n",
      "_________________________________________________________________\n"
     ]
    }
   ],
   "source": [
    "model = Sequential()\n",
    "model.add(Conv2D(64, kernel_size=(5, 5), strides=2, padding='same', activation='relu',\n",
    "                 input_shape=(128, 87, 1)))\n",
    "model.add(MaxPooling2D(pool_size=2, strides=2, padding='same'))\n",
    "model.add(Conv2D(64, kernel_size=5, padding='same', activation='relu'))\n",
    "model.add(MaxPooling2D(pool_size=2, strides=2, padding='same'))\n",
    "model.add(Dropout(0.3))\n",
    "model.add(Conv2D(128, kernel_size=3, padding='same', activation='relu'))\n",
    "model.add(Conv2D(128, kernel_size=3, padding='same', activation='relu'))\n",
    "model.add(Conv2D(128, kernel_size=3, padding='same', activation='relu'))\n",
    "model.add(MaxPooling2D(pool_size=2, strides=2, padding='same'))\n",
    "model.add(Conv2D(256, kernel_size=3, padding='same', activation='relu'))\n",
    "model.add(Conv2D(256, kernel_size=3, padding='same', activation='relu'))\n",
    "model.add(Conv2D(256, kernel_size=3, padding='same', activation='relu'))\n",
    "model.add(MaxPooling2D(pool_size=2, strides=2, padding='same'))\n",
    "model.add(Dropout(0.5))\n",
    "model.add(Flatten())\n",
    "model.add(Dense(units=64, activation='relu'))\n",
    "model.add(Dense(units=64, activation='relu'))\n",
    "model.add(Dense(units=64, activation='relu'))\n",
    "model.add(Dense(units=emotions_number, activation='softmax'))\n",
    "model.compile(optimizer='adam', loss='categorical_crossentropy',\n",
    "              metrics=['accuracy'])\n",
    "\n",
    "model.summary()"
   ]
  },
  {
   "cell_type": "code",
   "execution_count": 19,
   "metadata": {},
   "outputs": [
    {
     "name": "stdout",
     "output_type": "stream",
     "text": [
      "Epoch 1/50\n",
      "582/582 [==============================] - 26s 40ms/step - loss: 1.7810 - accuracy: 0.2877 - val_loss: 1.7302 - val_accuracy: 0.3174 - lr: 0.0010\n",
      "Epoch 2/50\n",
      "582/582 [==============================] - 22s 38ms/step - loss: 1.6814 - accuracy: 0.3302 - val_loss: 1.6477 - val_accuracy: 0.3528 - lr: 0.0010\n",
      "Epoch 3/50\n",
      "582/582 [==============================] - 22s 38ms/step - loss: 1.6330 - accuracy: 0.3540 - val_loss: 1.5840 - val_accuracy: 0.3969 - lr: 0.0010\n",
      "Epoch 4/50\n",
      "582/582 [==============================] - 22s 39ms/step - loss: 1.5841 - accuracy: 0.3738 - val_loss: 1.5271 - val_accuracy: 0.4179 - lr: 0.0010\n",
      "Epoch 5/50\n",
      "582/582 [==============================] - 22s 39ms/step - loss: 1.5020 - accuracy: 0.4094 - val_loss: 1.6380 - val_accuracy: 0.3405 - lr: 0.0010\n",
      "Epoch 6/50\n",
      "582/582 [==============================] - 22s 38ms/step - loss: 1.4219 - accuracy: 0.4321 - val_loss: 1.3649 - val_accuracy: 0.4699 - lr: 0.0010\n",
      "Epoch 7/50\n",
      "582/582 [==============================] - 22s 39ms/step - loss: 1.3778 - accuracy: 0.4489 - val_loss: 1.3530 - val_accuracy: 0.4618 - lr: 0.0010\n",
      "Epoch 8/50\n",
      "582/582 [==============================] - 22s 39ms/step - loss: 1.3385 - accuracy: 0.4648 - val_loss: 1.3175 - val_accuracy: 0.4787 - lr: 0.0010\n",
      "Epoch 9/50\n",
      "582/582 [==============================] - 23s 39ms/step - loss: 1.3047 - accuracy: 0.4873 - val_loss: 1.4077 - val_accuracy: 0.4624 - lr: 0.0010\n",
      "Epoch 10/50\n",
      "582/582 [==============================] - 23s 40ms/step - loss: 1.2793 - accuracy: 0.4883 - val_loss: 1.3010 - val_accuracy: 0.4937 - lr: 0.0010\n",
      "Epoch 11/50\n",
      "582/582 [==============================] - 23s 40ms/step - loss: 1.2473 - accuracy: 0.4990 - val_loss: 1.2864 - val_accuracy: 0.4944 - lr: 0.0010\n",
      "Epoch 12/50\n",
      "582/582 [==============================] - 23s 40ms/step - loss: 1.2735 - accuracy: 0.4963 - val_loss: 1.2768 - val_accuracy: 0.4897 - lr: 0.0010\n",
      "Epoch 13/50\n",
      "582/582 [==============================] - 23s 40ms/step - loss: 1.2099 - accuracy: 0.5233 - val_loss: 1.2293 - val_accuracy: 0.5210 - lr: 0.0010\n",
      "Epoch 14/50\n",
      "582/582 [==============================] - 23s 40ms/step - loss: 1.1863 - accuracy: 0.5281 - val_loss: 1.2401 - val_accuracy: 0.5075 - lr: 0.0010\n",
      "Epoch 15/50\n",
      "582/582 [==============================] - 23s 40ms/step - loss: 1.1705 - accuracy: 0.5310 - val_loss: 1.2269 - val_accuracy: 0.5204 - lr: 0.0010\n",
      "Epoch 16/50\n",
      "582/582 [==============================] - 23s 40ms/step - loss: 1.1539 - accuracy: 0.5341 - val_loss: 1.2203 - val_accuracy: 0.5210 - lr: 0.0010\n",
      "Epoch 17/50\n",
      "582/582 [==============================] - 23s 40ms/step - loss: 1.1422 - accuracy: 0.5378 - val_loss: 1.2482 - val_accuracy: 0.5313 - lr: 0.0010\n",
      "Epoch 18/50\n",
      "582/582 [==============================] - 23s 40ms/step - loss: 1.1542 - accuracy: 0.5435 - val_loss: 1.1845 - val_accuracy: 0.5417 - lr: 0.0010\n",
      "Epoch 19/50\n",
      "582/582 [==============================] - 23s 40ms/step - loss: 1.1087 - accuracy: 0.5563 - val_loss: 1.1952 - val_accuracy: 0.5298 - lr: 0.0010\n",
      "Epoch 20/50\n",
      "582/582 [==============================] - 23s 40ms/step - loss: 1.1084 - accuracy: 0.5591 - val_loss: 1.1894 - val_accuracy: 0.5464 - lr: 0.0010\n",
      "Epoch 21/50\n",
      "582/582 [==============================] - 23s 40ms/step - loss: 1.1022 - accuracy: 0.5587 - val_loss: 1.1828 - val_accuracy: 0.5429 - lr: 0.0010\n",
      "Epoch 22/50\n",
      "582/582 [==============================] - 23s 40ms/step - loss: 1.0768 - accuracy: 0.5708 - val_loss: 1.2470 - val_accuracy: 0.5351 - lr: 0.0010\n",
      "Epoch 23/50\n",
      "582/582 [==============================] - 23s 39ms/step - loss: 1.0718 - accuracy: 0.5771 - val_loss: 1.2294 - val_accuracy: 0.5341 - lr: 0.0010\n",
      "Epoch 24/50\n",
      "582/582 [==============================] - 23s 39ms/step - loss: 1.0603 - accuracy: 0.5810 - val_loss: 1.1869 - val_accuracy: 0.5395 - lr: 0.0010\n",
      "Epoch 25/50\n",
      "582/582 [==============================] - 23s 39ms/step - loss: 1.0429 - accuracy: 0.5851 - val_loss: 1.1981 - val_accuracy: 0.5523 - lr: 0.0010\n",
      "Epoch 26/50\n",
      "582/582 [==============================] - 23s 39ms/step - loss: 1.0435 - accuracy: 0.5867 - val_loss: 1.2197 - val_accuracy: 0.5370 - lr: 0.0010\n",
      "Epoch 27/50\n",
      "582/582 [==============================] - 23s 39ms/step - loss: 1.0408 - accuracy: 0.5911 - val_loss: 1.1871 - val_accuracy: 0.5520 - lr: 0.0010\n",
      "Epoch 28/50\n",
      "582/582 [==============================] - 23s 39ms/step - loss: 1.0164 - accuracy: 0.6023 - val_loss: 1.2244 - val_accuracy: 0.5417 - lr: 0.0010\n",
      "Epoch 29/50\n",
      "582/582 [==============================] - 23s 39ms/step - loss: 1.0070 - accuracy: 0.6101 - val_loss: 1.2127 - val_accuracy: 0.5508 - lr: 0.0010\n",
      "Epoch 30/50\n",
      "582/582 [==============================] - 23s 39ms/step - loss: 0.9890 - accuracy: 0.6078 - val_loss: 1.2082 - val_accuracy: 0.5583 - lr: 0.0010\n",
      "Epoch 31/50\n",
      "582/582 [==============================] - 23s 39ms/step - loss: 0.9845 - accuracy: 0.6161 - val_loss: 1.2556 - val_accuracy: 0.5423 - lr: 0.0010\n",
      "Epoch 32/50\n",
      "582/582 [==============================] - 23s 39ms/step - loss: 0.9792 - accuracy: 0.6195 - val_loss: 1.2096 - val_accuracy: 0.5457 - lr: 0.0010\n",
      "Epoch 33/50\n",
      "582/582 [==============================] - 23s 39ms/step - loss: 0.9561 - accuracy: 0.6281 - val_loss: 1.1981 - val_accuracy: 0.5564 - lr: 0.0010\n",
      "Epoch 34/50\n",
      "582/582 [==============================] - 23s 39ms/step - loss: 0.9374 - accuracy: 0.6325 - val_loss: 1.2543 - val_accuracy: 0.5498 - lr: 0.0010\n",
      "Epoch 35/50\n",
      "582/582 [==============================] - 23s 39ms/step - loss: 0.9446 - accuracy: 0.6382 - val_loss: 1.2343 - val_accuracy: 0.5464 - lr: 0.0010\n",
      "Epoch 36/50\n",
      "582/582 [==============================] - 23s 39ms/step - loss: 0.9358 - accuracy: 0.6377 - val_loss: 1.2471 - val_accuracy: 0.5464 - lr: 0.0010\n",
      "Epoch 37/50\n",
      "582/582 [==============================] - 23s 39ms/step - loss: 0.9759 - accuracy: 0.6316 - val_loss: 1.1912 - val_accuracy: 0.5592 - lr: 0.0010\n",
      "Epoch 38/50\n",
      "582/582 [==============================] - 23s 39ms/step - loss: 0.9061 - accuracy: 0.6458 - val_loss: 1.2841 - val_accuracy: 0.5486 - lr: 0.0010\n",
      "Epoch 39/50\n",
      "582/582 [==============================] - 23s 40ms/step - loss: 0.8698 - accuracy: 0.6660 - val_loss: 1.2533 - val_accuracy: 0.5498 - lr: 0.0010\n",
      "Epoch 40/50\n",
      "582/582 [==============================] - 23s 40ms/step - loss: 0.8671 - accuracy: 0.6683 - val_loss: 1.2536 - val_accuracy: 0.5545 - lr: 0.0010\n",
      "Epoch 41/50\n",
      "582/582 [==============================] - 23s 40ms/step - loss: 0.8672 - accuracy: 0.6704 - val_loss: 1.2652 - val_accuracy: 0.5614 - lr: 0.0010\n",
      "Epoch 42/50\n",
      "582/582 [==============================] - 23s 40ms/step - loss: 0.8370 - accuracy: 0.6782 - val_loss: 1.2800 - val_accuracy: 0.5555 - lr: 0.0010\n",
      "Epoch 43/50\n",
      "582/582 [==============================] - 23s 40ms/step - loss: 0.8461 - accuracy: 0.6798 - val_loss: 1.2797 - val_accuracy: 0.5608 - lr: 0.0010\n",
      "Epoch 44/50\n",
      "582/582 [==============================] - 23s 40ms/step - loss: 0.8334 - accuracy: 0.6773 - val_loss: 1.2601 - val_accuracy: 0.5652 - lr: 0.0010\n",
      "Epoch 45/50\n",
      "582/582 [==============================] - 23s 40ms/step - loss: 0.8378 - accuracy: 0.6772 - val_loss: 1.3124 - val_accuracy: 0.5605 - lr: 0.0010\n",
      "Epoch 46/50\n",
      "582/582 [==============================] - 23s 40ms/step - loss: 0.8275 - accuracy: 0.6864 - val_loss: 1.2856 - val_accuracy: 0.5495 - lr: 0.0010\n",
      "Epoch 47/50\n",
      "582/582 [==============================] - 23s 40ms/step - loss: 0.8112 - accuracy: 0.6852 - val_loss: 1.3040 - val_accuracy: 0.5623 - lr: 0.0010\n",
      "Epoch 48/50\n",
      "582/582 [==============================] - 23s 40ms/step - loss: 0.8123 - accuracy: 0.6939 - val_loss: 1.2980 - val_accuracy: 0.5605 - lr: 0.0010\n",
      "Epoch 49/50\n",
      "582/582 [==============================] - 23s 40ms/step - loss: 0.7736 - accuracy: 0.7109 - val_loss: 1.4349 - val_accuracy: 0.5551 - lr: 0.0010\n",
      "Epoch 50/50\n",
      "582/582 [==============================] - 23s 39ms/step - loss: 0.7581 - accuracy: 0.7182 - val_loss: 1.3722 - val_accuracy: 0.5476 - lr: 0.0010\n"
     ]
    }
   ],
   "source": [
    "rlrp = ReduceLROnPlateau(monitor='loss', factor=0.4,\n",
    "                         verbose=0, patience=2, min_lr=0.0000001)\n",
    "\n",
    "\n",
    "history = model.fit(x_train, y_train_enc, batch_size=16, epochs=50,\n",
    "                    validation_data=(x_val, y_val_enc), callbacks=[rlrp])"
   ]
  },
  {
   "cell_type": "code",
   "execution_count": 20,
   "metadata": {},
   "outputs": [],
   "source": [
    "def print_report(model, history, test_x, test_y):\n",
    "    print(\"Accuracy of our model on test data : \",\n",
    "          model.evaluate(test_x, test_y)[1]*100, \"%\")\n",
    "\n",
    "    epochs = history.epoch\n",
    "\n",
    "    fig, ax = plt.subplots(1, 2)\n",
    "\n",
    "    train_acc = history.history['accuracy']\n",
    "    train_loss = history.history['loss']\n",
    "    test_acc = history.history['val_accuracy']\n",
    "    test_loss = history.history['val_loss']\n",
    "\n",
    "    fig.set_size_inches(20, 6)\n",
    "    ax[0].plot(epochs, train_loss, label='Training Loss')\n",
    "    ax[0].plot(epochs, test_loss, label='Testing Loss')\n",
    "    ax[0].set_title('Training & Testing Loss')\n",
    "    ax[0].legend()\n",
    "    ax[0].set_xlabel(\"Epochs\")\n",
    "    ax[1].plot(epochs, train_acc, label='Training Accuracy')\n",
    "    ax[1].plot(epochs, test_acc, label='Testing Accuracy')\n",
    "    ax[1].set_title('Training & Testing Accuracy')\n",
    "    ax[1].legend()\n",
    "    ax[1].set_xlabel(\"Epochs\")\n",
    "\n",
    "    plt.show()"
   ]
  },
  {
   "cell_type": "code",
   "execution_count": 21,
   "metadata": {},
   "outputs": [],
   "source": [
    "def print_confusion_matrix(test, pred, size=(12, 10)):\n",
    "    cm = confusion_matrix(test, pred)\n",
    "    plt.figure(figsize=size)\n",
    "    cm = pd.DataFrame(cm, index=[i for i in encoder.categories_], columns=[\n",
    "        i for i in encoder.categories_])\n",
    "    sns.heatmap(cm, linecolor='white', cmap='Blues',\n",
    "                linewidth=1, annot=True, fmt='')\n",
    "    plt.title('Confusion Matrix', size=20)\n",
    "    plt.xlabel('Predicted Labels', size=14)\n",
    "    plt.ylabel('Actual Labels', size=14)\n",
    "    plt.show()"
   ]
  },
  {
   "cell_type": "code",
   "execution_count": 22,
   "metadata": {},
   "outputs": [
    {
     "name": "stdout",
     "output_type": "stream",
     "text": [
      "25/25 [==============================] - 2s 40ms/step - loss: 1.3545 - accuracy: 0.5482\n",
      "Accuracy of our model on test data :  54.818522930145264 %\n"
     ]
    },
    {
     "data": {
      "image/png": "[encoded data removed]",
      "text/plain": [
       "<Figure size 2000x600 with 2 Axes>"
      ]
     },
     "metadata": {},
     "output_type": "display_data"
    }
   ],
   "source": [
    "print_report(model, history, x_test, y_test_enc)"
   ]
  },
  {
   "cell_type": "code",
   "execution_count": 23,
   "metadata": {},
   "outputs": [
    {
     "name": "stdout",
     "output_type": "stream",
     "text": [
      "25/25 [==============================] - 1s 16ms/step\n"
     ]
    }
   ],
   "source": [
    "# predicting on test data.\n",
    "pred_enc = model.predict(x_test)\n",
    "pred = encoder.inverse_transform(pred_enc)\n",
    "\n",
    "y_test_decoded = encoder.inverse_transform(y_test_enc)"
   ]
  },
  {
   "cell_type": "code",
   "execution_count": 24,
   "metadata": {},
   "outputs": [],
   "source": [
    "# df = pd.DataFrame(columns=['Predicted Labels', 'Actual Labels'])\n",
    "# df['Predicted Labels'] = y_pred.flatten()\n",
    "# df['Actual Labels'] = y_test_decoded.flatten()\n",
    "\n",
    "# df.head(10)"
   ]
  },
  {
   "cell_type": "code",
   "execution_count": 25,
   "metadata": {},
   "outputs": [
    {
     "data": {
      "text/plain": [
       "(3991,)"
      ]
     },
     "execution_count": 25,
     "metadata": {},
     "output_type": "execute_result"
    }
   ],
   "source": [
    "y_test.shape"
   ]
  },
  {
   "cell_type": "code",
   "execution_count": 26,
   "metadata": {},
   "outputs": [
    {
     "data": {
      "image/png": "[encoded data removed]",
      "text/plain": [
       "<Figure size 1200x1000 with 2 Axes>"
      ]
     },
     "metadata": {},
     "output_type": "display_data"
    }
   ],
   "source": [
    "print_confusion_matrix(y_test_decoded, pred)"
   ]
  },
  {
   "cell_type": "code",
   "execution_count": null,
   "metadata": {},
   "outputs": [
    {
     "name": "stdout",
     "output_type": "stream",
     "text": [
      "              precision    recall  f1-score   support\n",
      "\n",
      "       anger       0.55      0.77      0.64       118\n",
      "        calm       0.38      0.93      0.54        14\n",
      "    contempt       0.52      0.41      0.46       133\n",
      "        fear       0.54      0.30      0.39       124\n",
      "   happiness       0.43      0.45      0.44       133\n",
      "     neutral       0.55      0.69      0.61        99\n",
      "     sadness       0.54      0.54      0.54       130\n",
      "    surprise       0.91      0.65      0.76        48\n",
      "\n",
      "    accuracy                           0.53       799\n",
      "   macro avg       0.55      0.59      0.55       799\n",
      "weighted avg       0.54      0.53      0.52       799\n",
      "\n"
     ]
    }
   ],
   "source": [
    "print(classification_report(y_test_decoded, pred))"
   ]
  },
  {
   "cell_type": "markdown",
   "metadata": {},
   "source": [
    "## Save model\n"
   ]
  },
  {
   "cell_type": "code",
   "execution_count": 21,
   "metadata": {},
   "outputs": [
    {
     "name": "stderr",
     "output_type": "stream",
     "text": [
      "WARNING:absl:Found untraced functions such as _jit_compiled_convolution_op, _jit_compiled_convolution_op, _jit_compiled_convolution_op, _jit_compiled_convolution_op, _jit_compiled_convolution_op while saving (showing 5 of 19). These functions will not be directly callable after loading.\n"
     ]
    },
    {
     "name": "stdout",
     "output_type": "stream",
     "text": [
      "INFO:tensorflow:Assets written to: C:\\Users\\nicko\\AppData\\Local\\Temp\\tmpaqopaohn\\assets\n"
     ]
    },
    {
     "name": "stderr",
     "output_type": "stream",
     "text": [
      "INFO:tensorflow:Assets written to: C:\\Users\\nicko\\AppData\\Local\\Temp\\tmpaqopaohn\\assets\n"
     ]
    }
   ],
   "source": [
    "model.save('./saved_models/ser-main-v4-no-uk.keras')\n",
    "\n",
    "converter = tf.lite.TFLiteConverter.from_keras_model(model)\n",
    "tflite_model = converter.convert()\n",
    "\n",
    "\n",
    "with open('./saved_models/ser-main-v4-no-uk.tflite', 'wb') as f:\n",
    "    f.write(tflite_model)"
   ]
  },
  {
   "cell_type": "markdown",
   "metadata": {},
   "source": [
    "metadata (skip for now)\n"
   ]
  },
  {
   "cell_type": "code",
   "execution_count": 22,
   "metadata": {},
   "outputs": [],
   "source": [
    "# from tflite_support import flatbuffers\n",
    "# from tflite_support import metadata as _metadata\n",
    "# from tflite_support import metadata_schema_py_generated as _metadata_fb\n",
    "\n",
    "# # Creates model info.\n",
    "# model_meta = _metadata_fb.ModelMetadataT()\n",
    "# model_meta.name = \"Speech emotion recognition\"\n",
    "# model_meta.description = (\"Identify emotion of human voice\")\n",
    "# model_meta.version = \"v2\"\n",
    "# model_meta.author = \"Mykola Nosenko\"\n",
    "# model_meta.license = (\"Apache License. Version 2.0 \"\n",
    "#                       \"http://www.apache.org/licenses/LICENSE-2.0.\")  # verify later"
   ]
  },
  {
   "cell_type": "code",
   "execution_count": 23,
   "metadata": {},
   "outputs": [],
   "source": [
    "# # Creates output info.\n",
    "# output_meta = _metadata_fb.TensorMetadataT()\n",
    "# output_meta.name = \"probability\"\n",
    "# output_meta.description = \"Probabilities of the 8 labels respectively.\"\n",
    "# output_meta.content = _metadata_fb.ContentT()\n",
    "# output_meta.content.content_properties = _metadata_fb.FeaturePropertiesT()\n",
    "# output_meta.content.contentPropertiesType = (\n",
    "#     _metadata_fb.ContentProperties.FeatureProperties)\n",
    "# output_stats = _metadata_fb.StatsT()\n",
    "# output_stats.max = [1.0]\n",
    "# output_stats.min = [0.0]\n",
    "# output_meta.stats = output_stats\n",
    "# label_file = _metadata_fb.AssociatedFileT()\n",
    "# label_file.name = os.path.basename(\"./emotion_labels.txt\")\n",
    "# label_file.description = \"Labels for emotions that the model can recognize.\"\n",
    "# label_file.type = _metadata_fb.AssociatedFileType.TENSOR_AXIS_LABELS\n",
    "# output_meta.associatedFiles = [label_file]"
   ]
  },
  {
   "cell_type": "code",
   "execution_count": 24,
   "metadata": {},
   "outputs": [],
   "source": [
    "# # Creates subgraph info.\n",
    "# subgraph = _metadata_fb.SubGraphMetadataT()\n",
    "# # subgraph.inputTensorMetadata = [input_meta]\n",
    "# subgraph.outputTensorMetadata = [output_meta]\n",
    "# model_meta.subgraphMetadata = [subgraph]\n",
    "\n",
    "# b = flatbuffers.Builder(0)\n",
    "# b.Finish(\n",
    "#     model_meta.Pack(b),\n",
    "#     _metadata.MetadataPopulator.METADATA_FILE_IDENTIFIER)\n",
    "# metadata_buf = b.Output()"
   ]
  },
  {
   "cell_type": "code",
   "execution_count": 25,
   "metadata": {},
   "outputs": [],
   "source": [
    "# populator = _metadata.MetadataPopulator.with_model_file('./model.tflite')\n",
    "# populator.load_metadata_buffer(metadata_buf)\n",
    "# populator.load_associated_files([\"./emotion_labels.txt\"])\n",
    "# populator.populate()"
   ]
  },
  {
   "cell_type": "code",
   "execution_count": 26,
   "metadata": {},
   "outputs": [],
   "source": [
    "# displayer = _metadata.MetadataDisplayer.with_model_file(\n",
    "#     \"./model.tflite\")\n",
    "# export_json_file = os.path.join(\"D:/Documents/export_models/model.json\")\n",
    "# json_file = displayer.get_metadata_json()\n",
    "# # Optional: write out the metadata as a json file\n",
    "# with open(export_json_file, \"w\") as f:\n",
    "#     f.write(json_file)"
   ]
  },
  {
   "cell_type": "code",
   "execution_count": 27,
   "metadata": {},
   "outputs": [],
   "source": [
    "# # Convert the model\n",
    "# converter = tf.lite.TFLiteConverter.from_saved_model(\n",
    "#     \"./saved_models/ser4.keras\")  # path to the SavedModel directory\n",
    "# tflite_model = converter.convert()\n",
    "\n",
    "# # Save the model.\n",
    "# with open('ser4-model.tflite', 'wb') as f:\n",
    "#     f.write(tflite_model)"
   ]
  },
  {
   "cell_type": "markdown",
   "metadata": {},
   "source": [
    "## Test model\n"
   ]
  },
  {
   "cell_type": "code",
   "execution_count": 28,
   "metadata": {},
   "outputs": [],
   "source": [
    "# model_l = tf.keras.models.load_model('./saved_models/ser4-v4.keras')\n",
    "# model_l.summary()"
   ]
  },
  {
   "cell_type": "code",
   "execution_count": 21,
   "metadata": {},
   "outputs": [],
   "source": [
    "X_uk = features_uk_df.iloc[:, :-1].values\n",
    "y_uk = features_uk_df['labels'].values"
   ]
  },
  {
   "cell_type": "code",
   "execution_count": 22,
   "metadata": {},
   "outputs": [],
   "source": [
    "fear_label = 'fear'\n",
    "contempt_label = 'contempt'  # disgust\n",
    "happiness_label = 'happiness'\n",
    "anger_label = 'anger'\n",
    "sadness_label = 'sadness'\n",
    "neutral_label = 'neutral'\n",
    "surprise_label = 'surprise'\n",
    "calm_label = 'calm'\n",
    "\n",
    "emotions = [fear_label, contempt_label, happiness_label, anger_label,\n",
    "            sadness_label, neutral_label, surprise_label, calm_label]"
   ]
  },
  {
   "cell_type": "code",
   "execution_count": 23,
   "metadata": {},
   "outputs": [],
   "source": [
    "encoder_uk = OneHotEncoder(categories=[emotions])\n",
    "y_uk = encoder_uk.fit_transform(np.array(y_uk).reshape(-1, 1)).toarray()"
   ]
  },
  {
   "cell_type": "code",
   "execution_count": 24,
   "metadata": {},
   "outputs": [
    {
     "name": "stdout",
     "output_type": "stream",
     "text": [
      "3/3 - 0s - loss: 9.2090 - accuracy: 0.0897 - 451ms/epoch - 150ms/step\n",
      "Restored model, accuracy:  8.97%\n"
     ]
    }
   ],
   "source": [
    "loss, acc = model.evaluate(X_uk, y_uk, verbose=2)\n",
    "print('Restored model, accuracy: {:5.2f}%'.format(100 * acc))"
   ]
  },
  {
   "cell_type": "code",
   "execution_count": 25,
   "metadata": {},
   "outputs": [
    {
     "name": "stdout",
     "output_type": "stream",
     "text": [
      "3/3 [==============================] - 0s 7ms/step\n",
      "(78, 1)\n",
      "(78, 1)\n"
     ]
    }
   ],
   "source": [
    "pred_uk = model.predict(X_uk)\n",
    "pred_uk_decoded = encoder_uk.inverse_transform(pred_uk)\n",
    "y_uk_decoded = encoder_uk.inverse_transform(y_uk)\n",
    "print(pred_uk_decoded.shape)\n",
    "print(y_uk_decoded.shape)"
   ]
  },
  {
   "cell_type": "code",
   "execution_count": 26,
   "metadata": {},
   "outputs": [
    {
     "data": {
      "text/plain": [
       "array([[ 0,  0,  0,  6,  0,  0,  0,  3],\n",
       "       [ 0,  0,  0,  0,  0,  0,  0,  0],\n",
       "       [ 5,  5,  0,  3,  7,  2,  0, 14],\n",
       "       [ 0,  0,  0,  0,  3,  0,  0,  3],\n",
       "       [ 2,  3,  0,  0,  7,  0,  5,  7],\n",
       "       [ 0,  0,  0,  0,  0,  0,  0,  0],\n",
       "       [ 0,  0,  0,  0,  0,  0,  0,  3],\n",
       "       [ 0,  0,  0,  0,  0,  0,  0,  0]], dtype=int64)"
      ]
     },
     "execution_count": 26,
     "metadata": {},
     "output_type": "execute_result"
    }
   ],
   "source": [
    "cm = confusion_matrix(y_uk_decoded, pred_uk_decoded)\n",
    "cm"
   ]
  },
  {
   "cell_type": "code",
   "execution_count": 27,
   "metadata": {},
   "outputs": [
    {
     "name": "stdout",
     "output_type": "stream",
     "text": [
      "              precision    recall  f1-score   support\n",
      "\n",
      "       anger       0.00      0.00      0.00         9\n",
      "        calm       0.00      0.00      0.00         0\n",
      "    contempt       0.00      0.00      0.00        36\n",
      "        fear       0.00      0.00      0.00         6\n",
      "   happiness       0.41      0.29      0.34        24\n",
      "     neutral       0.00      0.00      0.00         0\n",
      "     sadness       0.00      0.00      0.00         3\n",
      "    surprise       0.00      0.00      0.00         0\n",
      "\n",
      "    accuracy                           0.09        78\n",
      "   macro avg       0.05      0.04      0.04        78\n",
      "weighted avg       0.13      0.09      0.11        78\n",
      "\n"
     ]
    }
   ],
   "source": [
    "print(classification_report(y_uk_decoded, pred_uk_decoded))"
   ]
  },
  {
   "cell_type": "code",
   "execution_count": 28,
   "metadata": {},
   "outputs": [
    {
     "name": "stdout",
     "output_type": "stream",
     "text": [
      "Memory usage: 0.019 GB\n"
     ]
    }
   ],
   "source": [
    "from model_analyzer import get_model_memory_usage\n",
    "\n",
    "\n",
    "print(f'Memory usage: {get_model_memory_usage(32, model)} GB')"
   ]
  },
  {
   "cell_type": "code",
   "execution_count": null,
   "metadata": {},
   "outputs": [],
   "source": []
  }
 ],
 "metadata": {
  "kernelspec": {
   "display_name": ".venv",
   "language": "python",
   "name": "python3"
  },
  "language_info": {
   "codemirror_mode": {
    "name": "ipython",
    "version": 3
   },
   "file_extension": ".py",
   "mimetype": "text/x-python",
   "name": "python",
   "nbconvert_exporter": "python",
   "pygments_lexer": "ipython3",
   "version": "3.10.6"
  }
 },
 "nbformat": 4,
 "nbformat_minor": 2
}
