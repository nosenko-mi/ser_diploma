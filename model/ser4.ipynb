{
 "cells": [
  {
   "cell_type": "code",
   "execution_count": 1,
   "metadata": {},
   "outputs": [],
   "source": [
    "import pandas as pd\n",
    "import numpy as np\n",
    "\n",
    "import sys\n",
    "import os\n",
    "\n",
    "from pathlib import Path\n",
    "# librosa is a Python library for analyzing audio and music. It can be used to extract the data from the audio files we will see it later.\n",
    "import librosa\n",
    "import librosa.display\n",
    "import seaborn as sns\n",
    "import matplotlib.pyplot as plt\n",
    "\n",
    "from sklearn.preprocessing import StandardScaler, OneHotEncoder\n",
    "from sklearn.metrics import confusion_matrix, classification_report\n",
    "from sklearn.model_selection import train_test_split\n",
    "\n",
    "# to play the audio files\n",
    "from IPython.display import Audio\n",
    "\n",
    "import warnings\n",
    "if not sys.warnoptions:\n",
    "    warnings.simplefilter(\"ignore\")\n",
    "warnings.filterwarnings(\"ignore\", category=DeprecationWarning)"
   ]
  },
  {
   "cell_type": "code",
   "execution_count": 2,
   "metadata": {},
   "outputs": [],
   "source": [
    "os.environ[\"TF_MIN_GPU_MULTIPROCESSOR_COUNT\"] = \"2\"\n",
    "os.environ[\"CUDA_VISIBLE_DEVICES\"] = \"0,1\""
   ]
  },
  {
   "cell_type": "code",
   "execution_count": 3,
   "metadata": {},
   "outputs": [
    {
     "name": "stdout",
     "output_type": "stream",
     "text": [
      "[PhysicalDevice(name='/physical_device:GPU:0', device_type='GPU')]\n"
     ]
    }
   ],
   "source": [
    "import tensorflow as tf\n",
    "from tensorflow.keras.callbacks import ReduceLROnPlateau\n",
    "from tensorflow.keras.models import Sequential\n",
    "from tensorflow.keras.layers import Dense, Conv1D, MaxPooling1D, AveragePooling1D, Flatten, Dropout, BatchNormalization\n",
    "from tensorflow.keras.utils import to_categorical\n",
    "from tensorflow.keras.callbacks import ModelCheckpoint\n",
    "from tensorflow.keras import metrics\n",
    "\n",
    "print(tf.config.list_physical_devices('GPU'))"
   ]
  },
  {
   "cell_type": "code",
   "execution_count": null,
   "metadata": {},
   "outputs": [],
   "source": []
  },
  {
   "cell_type": "code",
   "execution_count": 4,
   "metadata": {},
   "outputs": [
    {
     "data": {
      "text/html": [
       "<div>\n",
       "<style scoped>\n",
       "    .dataframe tbody tr th:only-of-type {\n",
       "        vertical-align: middle;\n",
       "    }\n",
       "\n",
       "    .dataframe tbody tr th {\n",
       "        vertical-align: top;\n",
       "    }\n",
       "\n",
       "    .dataframe thead th {\n",
       "        text-align: right;\n",
       "    }\n",
       "</style>\n",
       "<table border=\"1\" class=\"dataframe\">\n",
       "  <thead>\n",
       "    <tr style=\"text-align: right;\">\n",
       "      <th></th>\n",
       "      <th>0</th>\n",
       "      <th>1</th>\n",
       "      <th>2</th>\n",
       "      <th>3</th>\n",
       "      <th>4</th>\n",
       "      <th>5</th>\n",
       "      <th>6</th>\n",
       "      <th>7</th>\n",
       "      <th>8</th>\n",
       "      <th>9</th>\n",
       "      <th>...</th>\n",
       "      <th>153</th>\n",
       "      <th>154</th>\n",
       "      <th>155</th>\n",
       "      <th>156</th>\n",
       "      <th>157</th>\n",
       "      <th>158</th>\n",
       "      <th>159</th>\n",
       "      <th>160</th>\n",
       "      <th>161</th>\n",
       "      <th>labels</th>\n",
       "    </tr>\n",
       "  </thead>\n",
       "  <tbody>\n",
       "    <tr>\n",
       "      <th>0</th>\n",
       "      <td>0.174738</td>\n",
       "      <td>0.648226</td>\n",
       "      <td>0.677165</td>\n",
       "      <td>0.692260</td>\n",
       "      <td>0.716191</td>\n",
       "      <td>0.665501</td>\n",
       "      <td>0.607874</td>\n",
       "      <td>0.632416</td>\n",
       "      <td>0.642000</td>\n",
       "      <td>0.712695</td>\n",
       "      <td>...</td>\n",
       "      <td>0.008625</td>\n",
       "      <td>0.008645</td>\n",
       "      <td>0.009090</td>\n",
       "      <td>0.010604</td>\n",
       "      <td>0.011772</td>\n",
       "      <td>0.008924</td>\n",
       "      <td>0.003265</td>\n",
       "      <td>0.001107</td>\n",
       "      <td>0.000084</td>\n",
       "      <td>fear</td>\n",
       "    </tr>\n",
       "    <tr>\n",
       "      <th>1</th>\n",
       "      <td>0.257191</td>\n",
       "      <td>0.736847</td>\n",
       "      <td>0.749420</td>\n",
       "      <td>0.779179</td>\n",
       "      <td>0.760325</td>\n",
       "      <td>0.729013</td>\n",
       "      <td>0.669982</td>\n",
       "      <td>0.671527</td>\n",
       "      <td>0.696851</td>\n",
       "      <td>0.762176</td>\n",
       "      <td>...</td>\n",
       "      <td>0.012094</td>\n",
       "      <td>0.011879</td>\n",
       "      <td>0.012337</td>\n",
       "      <td>0.014288</td>\n",
       "      <td>0.015109</td>\n",
       "      <td>0.012017</td>\n",
       "      <td>0.006716</td>\n",
       "      <td>0.004248</td>\n",
       "      <td>0.002999</td>\n",
       "      <td>fear</td>\n",
       "    </tr>\n",
       "    <tr>\n",
       "      <th>2</th>\n",
       "      <td>0.174738</td>\n",
       "      <td>0.648226</td>\n",
       "      <td>0.677165</td>\n",
       "      <td>0.692260</td>\n",
       "      <td>0.716191</td>\n",
       "      <td>0.665501</td>\n",
       "      <td>0.607874</td>\n",
       "      <td>0.632416</td>\n",
       "      <td>0.642000</td>\n",
       "      <td>0.712695</td>\n",
       "      <td>...</td>\n",
       "      <td>0.008625</td>\n",
       "      <td>0.008645</td>\n",
       "      <td>0.009090</td>\n",
       "      <td>0.010604</td>\n",
       "      <td>0.011772</td>\n",
       "      <td>0.008924</td>\n",
       "      <td>0.003265</td>\n",
       "      <td>0.001107</td>\n",
       "      <td>0.000084</td>\n",
       "      <td>fear</td>\n",
       "    </tr>\n",
       "    <tr>\n",
       "      <th>3</th>\n",
       "      <td>0.181625</td>\n",
       "      <td>0.643610</td>\n",
       "      <td>0.581965</td>\n",
       "      <td>0.477430</td>\n",
       "      <td>0.558267</td>\n",
       "      <td>0.605189</td>\n",
       "      <td>0.522657</td>\n",
       "      <td>0.561186</td>\n",
       "      <td>0.614690</td>\n",
       "      <td>0.624254</td>\n",
       "      <td>...</td>\n",
       "      <td>0.183382</td>\n",
       "      <td>0.144932</td>\n",
       "      <td>0.060404</td>\n",
       "      <td>0.048087</td>\n",
       "      <td>0.056380</td>\n",
       "      <td>0.072826</td>\n",
       "      <td>0.076891</td>\n",
       "      <td>0.034622</td>\n",
       "      <td>0.004218</td>\n",
       "      <td>fear</td>\n",
       "    </tr>\n",
       "    <tr>\n",
       "      <th>4</th>\n",
       "      <td>0.290568</td>\n",
       "      <td>0.726541</td>\n",
       "      <td>0.717606</td>\n",
       "      <td>0.625811</td>\n",
       "      <td>0.651445</td>\n",
       "      <td>0.689244</td>\n",
       "      <td>0.616574</td>\n",
       "      <td>0.595777</td>\n",
       "      <td>0.650725</td>\n",
       "      <td>0.673668</td>\n",
       "      <td>...</td>\n",
       "      <td>0.203479</td>\n",
       "      <td>0.162828</td>\n",
       "      <td>0.077600</td>\n",
       "      <td>0.064426</td>\n",
       "      <td>0.074485</td>\n",
       "      <td>0.091503</td>\n",
       "      <td>0.093595</td>\n",
       "      <td>0.049453</td>\n",
       "      <td>0.020464</td>\n",
       "      <td>fear</td>\n",
       "    </tr>\n",
       "  </tbody>\n",
       "</table>\n",
       "<p>5 rows × 163 columns</p>\n",
       "</div>"
      ],
      "text/plain": [
       "          0         1         2         3         4         5         6  \\\n",
       "0  0.174738  0.648226  0.677165  0.692260  0.716191  0.665501  0.607874   \n",
       "1  0.257191  0.736847  0.749420  0.779179  0.760325  0.729013  0.669982   \n",
       "2  0.174738  0.648226  0.677165  0.692260  0.716191  0.665501  0.607874   \n",
       "3  0.181625  0.643610  0.581965  0.477430  0.558267  0.605189  0.522657   \n",
       "4  0.290568  0.726541  0.717606  0.625811  0.651445  0.689244  0.616574   \n",
       "\n",
       "          7         8         9  ...       153       154       155       156  \\\n",
       "0  0.632416  0.642000  0.712695  ...  0.008625  0.008645  0.009090  0.010604   \n",
       "1  0.671527  0.696851  0.762176  ...  0.012094  0.011879  0.012337  0.014288   \n",
       "2  0.632416  0.642000  0.712695  ...  0.008625  0.008645  0.009090  0.010604   \n",
       "3  0.561186  0.614690  0.624254  ...  0.183382  0.144932  0.060404  0.048087   \n",
       "4  0.595777  0.650725  0.673668  ...  0.203479  0.162828  0.077600  0.064426   \n",
       "\n",
       "        157       158       159       160       161  labels  \n",
       "0  0.011772  0.008924  0.003265  0.001107  0.000084    fear  \n",
       "1  0.015109  0.012017  0.006716  0.004248  0.002999    fear  \n",
       "2  0.011772  0.008924  0.003265  0.001107  0.000084    fear  \n",
       "3  0.056380  0.072826  0.076891  0.034622  0.004218    fear  \n",
       "4  0.074485  0.091503  0.093595  0.049453  0.020464    fear  \n",
       "\n",
       "[5 rows x 163 columns]"
      ]
     },
     "execution_count": 4,
     "metadata": {},
     "output_type": "execute_result"
    }
   ],
   "source": [
    "features_df = pd.read_csv('features-all-datasets-v2.csv')\n",
    "features_df.head()"
   ]
  },
  {
   "cell_type": "code",
   "execution_count": 5,
   "metadata": {},
   "outputs": [
    {
     "name": "stdout",
     "output_type": "stream",
     "text": [
      "<class 'pandas.core.frame.DataFrame'>\n",
      "RangeIndex: 39909 entries, 0 to 39908\n",
      "Columns: 163 entries, 0 to labels\n",
      "dtypes: float64(162), object(1)\n",
      "memory usage: 49.6+ MB\n"
     ]
    }
   ],
   "source": [
    "features_df.info()"
   ]
  },
  {
   "cell_type": "code",
   "execution_count": 6,
   "metadata": {},
   "outputs": [],
   "source": [
    "emotions_number = 8"
   ]
  },
  {
   "cell_type": "code",
   "execution_count": 7,
   "metadata": {},
   "outputs": [],
   "source": [
    "X = features_df.iloc[:, :-1].values\n",
    "y = features_df['labels'].values"
   ]
  },
  {
   "cell_type": "code",
   "execution_count": 8,
   "metadata": {},
   "outputs": [],
   "source": [
    "# As this is a multiclass classification problem onehotencoding our Y.\n",
    "encoder = OneHotEncoder()\n",
    "y = encoder.fit_transform(np.array(y).reshape(-1, 1)).toarray()"
   ]
  },
  {
   "cell_type": "code",
   "execution_count": 9,
   "metadata": {},
   "outputs": [
    {
     "name": "stdout",
     "output_type": "stream",
     "text": [
      "train:\t ((31927, 162), (31927, 8))\n",
      "test:\t((7982, 162), (7982, 8))\n"
     ]
    }
   ],
   "source": [
    "# splitting data\n",
    "x_train, x_test, y_train, y_test = train_test_split(\n",
    "    X, y, test_size=0.2, random_state=0, shuffle=True)\n",
    "\n",
    "print(\n",
    "    f'train:\\t {x_train.shape, y_train.shape,}\\ntest:\\t{x_test.shape, y_test.shape}')"
   ]
  },
  {
   "cell_type": "code",
   "execution_count": 10,
   "metadata": {},
   "outputs": [
    {
     "name": "stdout",
     "output_type": "stream",
     "text": [
      "val:\t ((5587, 162), (5587, 8))\n",
      "test:\t((2395, 162), (2395, 8))\n"
     ]
    }
   ],
   "source": [
    "# Split once to get the test and validation set\n",
    "x_val, x_test, y_val, y_test = train_test_split(\n",
    "    x_test, y_test, test_size=0.3, random_state=42)\n",
    "print(\n",
    "    f'val:\\t {x_val.shape, y_val.shape,}\\ntest:\\t{x_test.shape, y_test.shape}')"
   ]
  },
  {
   "cell_type": "code",
   "execution_count": 12,
   "metadata": {},
   "outputs": [],
   "source": [
    "# # scaling our data with sklearn's Standard scaler\n",
    "# scaler = StandardScaler()\n",
    "# x_train = scaler.fit_transform(x_train)\n",
    "# x_test = scaler.transform(x_test)\n",
    "# x_val = scaler.fit_transform(x_val)\n",
    "# print(\n",
    "#     f'train:\\t {x_train.shape, y_train.shape,}\\ntest:\\t{x_val.shape, y_val.shape}\\ntest: {x_test.shape, y_test.shape}')"
   ]
  },
  {
   "cell_type": "code",
   "execution_count": 11,
   "metadata": {},
   "outputs": [
    {
     "name": "stdout",
     "output_type": "stream",
     "text": [
      "Model: \"sequential\"\n",
      "_________________________________________________________________\n",
      " Layer (type)                Output Shape              Param #   \n",
      "=================================================================\n",
      " conv1d (Conv1D)             (None, 162, 64)           512       \n",
      "                                                                 \n",
      " max_pooling1d (MaxPooling1D  (None, 81, 64)           0         \n",
      " )                                                               \n",
      "                                                                 \n",
      " conv1d_1 (Conv1D)           (None, 81, 64)            12352     \n",
      "                                                                 \n",
      " conv1d_2 (Conv1D)           (None, 81, 64)            12352     \n",
      "                                                                 \n",
      " conv1d_3 (Conv1D)           (None, 81, 64)            12352     \n",
      "                                                                 \n",
      " conv1d_4 (Conv1D)           (None, 81, 64)            12352     \n",
      "                                                                 \n",
      " conv1d_5 (Conv1D)           (None, 81, 64)            12352     \n",
      "                                                                 \n",
      " conv1d_6 (Conv1D)           (None, 81, 64)            12352     \n",
      "                                                                 \n",
      " max_pooling1d_1 (MaxPooling  (None, 41, 64)           0         \n",
      " 1D)                                                             \n",
      "                                                                 \n",
      " dropout (Dropout)           (None, 41, 64)            0         \n",
      "                                                                 \n",
      " conv1d_7 (Conv1D)           (None, 39, 128)           24704     \n",
      "                                                                 \n",
      " conv1d_8 (Conv1D)           (None, 39, 128)           49280     \n",
      "                                                                 \n",
      " conv1d_9 (Conv1D)           (None, 39, 128)           49280     \n",
      "                                                                 \n",
      " conv1d_10 (Conv1D)          (None, 39, 128)           49280     \n",
      "                                                                 \n",
      " conv1d_11 (Conv1D)          (None, 39, 128)           49280     \n",
      "                                                                 \n",
      " conv1d_12 (Conv1D)          (None, 39, 128)           49280     \n",
      "                                                                 \n",
      " average_pooling1d (AverageP  (None, 20, 128)          0         \n",
      " ooling1D)                                                       \n",
      "                                                                 \n",
      " dropout_1 (Dropout)         (None, 20, 128)           0         \n",
      "                                                                 \n",
      " conv1d_13 (Conv1D)          (None, 18, 256)           98560     \n",
      "                                                                 \n",
      " conv1d_14 (Conv1D)          (None, 18, 256)           196864    \n",
      "                                                                 \n",
      " conv1d_15 (Conv1D)          (None, 18, 256)           196864    \n",
      "                                                                 \n",
      " conv1d_16 (Conv1D)          (None, 18, 256)           196864    \n",
      "                                                                 \n",
      " conv1d_17 (Conv1D)          (None, 18, 256)           196864    \n",
      "                                                                 \n",
      " conv1d_18 (Conv1D)          (None, 18, 256)           196864    \n",
      "                                                                 \n",
      " average_pooling1d_1 (Averag  (None, 9, 256)           0         \n",
      " ePooling1D)                                                     \n",
      "                                                                 \n",
      " dropout_2 (Dropout)         (None, 9, 256)            0         \n",
      "                                                                 \n",
      " flatten (Flatten)           (None, 2304)              0         \n",
      "                                                                 \n",
      " dense (Dense)               (None, 8)                 18440     \n",
      "                                                                 \n",
      "=================================================================\n",
      "Total params: 1,447,048\n",
      "Trainable params: 1,447,048\n",
      "Non-trainable params: 0\n",
      "_________________________________________________________________\n"
     ]
    }
   ],
   "source": [
    "model = Sequential()\n",
    "model.add(Conv1D(64, kernel_size=7, padding='same',\n",
    "          activation='relu', input_shape=(x_train.shape[1], 1)))\n",
    "model.add(MaxPooling1D(pool_size=2, padding='same'))\n",
    "model.add(Conv1D(64, kernel_size=3, padding='same', activation='relu'))\n",
    "model.add(Conv1D(64, kernel_size=3, padding='same', activation='relu'))\n",
    "model.add(Conv1D(64, kernel_size=3, padding='same', activation='relu'))\n",
    "model.add(Conv1D(64, kernel_size=3, padding='same', activation='relu'))\n",
    "model.add(Conv1D(64, kernel_size=3, padding='same', activation='relu'))\n",
    "model.add(Conv1D(64, kernel_size=3, padding='same', activation='relu'))\n",
    "model.add(MaxPooling1D(pool_size=2, padding='same'))\n",
    "model.add(Dropout(0.2))\n",
    "model.add(Conv1D(128, kernel_size=3, activation='relu'))\n",
    "model.add(Conv1D(128, kernel_size=3, padding='same', activation='relu'))\n",
    "model.add(Conv1D(128, kernel_size=3, padding='same', activation='relu'))\n",
    "model.add(Conv1D(128, kernel_size=3, padding='same', activation='relu'))\n",
    "model.add(Conv1D(128, kernel_size=3, padding='same', activation='relu'))\n",
    "model.add(Conv1D(128, kernel_size=3, padding='same', activation='relu'))\n",
    "model.add(AveragePooling1D(pool_size=2, padding='same'))\n",
    "model.add(Dropout(0.2))\n",
    "model.add(Conv1D(256, kernel_size=3, activation='relu'))\n",
    "model.add(Conv1D(256, kernel_size=3, padding='same', activation='relu'))\n",
    "model.add(Conv1D(256, kernel_size=3, padding='same', activation='relu'))\n",
    "model.add(Conv1D(256, kernel_size=3, padding='same', activation='relu'))\n",
    "model.add(Conv1D(256, kernel_size=3, padding='same', activation='relu'))\n",
    "model.add(Conv1D(256, kernel_size=3, padding='same', activation='relu'))\n",
    "model.add(AveragePooling1D(pool_size=2, padding='same'))\n",
    "model.add(Dropout(0.2))\n",
    "model.add(Flatten())\n",
    "model.add(Dense(units=emotions_number, activation='softmax'))\n",
    "model.compile(optimizer='adam', loss='categorical_crossentropy',\n",
    "              metrics=['accuracy'])\n",
    "\n",
    "model.summary()"
   ]
  },
  {
   "cell_type": "code",
   "execution_count": 12,
   "metadata": {},
   "outputs": [
    {
     "name": "stdout",
     "output_type": "stream",
     "text": [
      "Epoch 1/100\n",
      "998/998 [==============================] - 28s 19ms/step - loss: 1.5838 - accuracy: 0.3529 - val_loss: 1.4768 - val_accuracy: 0.3929 - lr: 0.0010\n",
      "Epoch 2/100\n",
      "998/998 [==============================] - 17s 17ms/step - loss: 1.3998 - accuracy: 0.4446 - val_loss: 1.3480 - val_accuracy: 0.4743 - lr: 0.0010\n",
      "Epoch 3/100\n",
      "998/998 [==============================] - 17s 17ms/step - loss: 1.3082 - accuracy: 0.4804 - val_loss: 1.3678 - val_accuracy: 0.4534 - lr: 0.0010\n",
      "Epoch 4/100\n",
      "998/998 [==============================] - 16s 16ms/step - loss: 1.2399 - accuracy: 0.5069 - val_loss: 1.2664 - val_accuracy: 0.4877 - lr: 0.0010\n",
      "Epoch 5/100\n",
      "998/998 [==============================] - 16s 16ms/step - loss: 1.2124 - accuracy: 0.5170 - val_loss: 1.1979 - val_accuracy: 0.5203 - lr: 0.0010\n",
      "Epoch 6/100\n",
      "998/998 [==============================] - 16s 16ms/step - loss: 1.1737 - accuracy: 0.5309 - val_loss: 1.2065 - val_accuracy: 0.5169 - lr: 0.0010\n",
      "Epoch 7/100\n",
      "998/998 [==============================] - 16s 16ms/step - loss: 1.1572 - accuracy: 0.5399 - val_loss: 1.1548 - val_accuracy: 0.5365 - lr: 0.0010\n",
      "Epoch 8/100\n",
      "998/998 [==============================] - 16s 16ms/step - loss: 1.1339 - accuracy: 0.5486 - val_loss: 1.1686 - val_accuracy: 0.5365 - lr: 0.0010\n",
      "Epoch 9/100\n",
      "998/998 [==============================] - 16s 16ms/step - loss: 1.1158 - accuracy: 0.5587 - val_loss: 1.1727 - val_accuracy: 0.5299 - lr: 0.0010\n",
      "Epoch 10/100\n",
      "998/998 [==============================] - 16s 16ms/step - loss: 1.1020 - accuracy: 0.5606 - val_loss: 1.1200 - val_accuracy: 0.5524 - lr: 0.0010\n",
      "Epoch 11/100\n",
      "998/998 [==============================] - 16s 16ms/step - loss: 1.0820 - accuracy: 0.5690 - val_loss: 1.1259 - val_accuracy: 0.5466 - lr: 0.0010\n",
      "Epoch 12/100\n",
      "998/998 [==============================] - 16s 16ms/step - loss: 1.0737 - accuracy: 0.5714 - val_loss: 1.0927 - val_accuracy: 0.5733 - lr: 0.0010\n",
      "Epoch 13/100\n",
      "998/998 [==============================] - 16s 16ms/step - loss: 1.0579 - accuracy: 0.5820 - val_loss: 1.0962 - val_accuracy: 0.5695 - lr: 0.0010\n",
      "Epoch 14/100\n",
      "998/998 [==============================] - 16s 16ms/step - loss: 1.0331 - accuracy: 0.5897 - val_loss: 1.0575 - val_accuracy: 0.5937 - lr: 0.0010\n",
      "Epoch 15/100\n",
      "998/998 [==============================] - 17s 17ms/step - loss: 1.0134 - accuracy: 0.5990 - val_loss: 1.0367 - val_accuracy: 0.5996 - lr: 0.0010\n",
      "Epoch 16/100\n",
      "998/998 [==============================] - 17s 17ms/step - loss: 1.0033 - accuracy: 0.6023 - val_loss: 1.0627 - val_accuracy: 0.5795 - lr: 0.0010\n",
      "Epoch 17/100\n",
      "998/998 [==============================] - 17s 17ms/step - loss: 1.0033 - accuracy: 0.6062 - val_loss: 1.0994 - val_accuracy: 0.5762 - lr: 0.0010\n",
      "Epoch 18/100\n",
      "998/998 [==============================] - 17s 17ms/step - loss: 0.9887 - accuracy: 0.6096 - val_loss: 0.9949 - val_accuracy: 0.6084 - lr: 0.0010\n",
      "Epoch 19/100\n",
      "998/998 [==============================] - 16s 16ms/step - loss: 0.9536 - accuracy: 0.6246 - val_loss: 1.0082 - val_accuracy: 0.6109 - lr: 0.0010\n",
      "Epoch 20/100\n",
      "998/998 [==============================] - 17s 17ms/step - loss: 0.9397 - accuracy: 0.6308 - val_loss: 0.9727 - val_accuracy: 0.6330 - lr: 0.0010\n",
      "Epoch 21/100\n",
      "998/998 [==============================] - 16s 16ms/step - loss: 0.9302 - accuracy: 0.6352 - val_loss: 0.9646 - val_accuracy: 0.6205 - lr: 0.0010\n",
      "Epoch 22/100\n",
      "998/998 [==============================] - 16s 16ms/step - loss: 0.9156 - accuracy: 0.6417 - val_loss: 0.9521 - val_accuracy: 0.6351 - lr: 0.0010\n",
      "Epoch 23/100\n",
      "998/998 [==============================] - 16s 16ms/step - loss: 0.8912 - accuracy: 0.6485 - val_loss: 0.9863 - val_accuracy: 0.6200 - lr: 0.0010\n",
      "Epoch 24/100\n",
      "998/998 [==============================] - 17s 17ms/step - loss: 0.8770 - accuracy: 0.6572 - val_loss: 0.9591 - val_accuracy: 0.6359 - lr: 0.0010\n",
      "Epoch 25/100\n",
      "998/998 [==============================] - 16s 17ms/step - loss: 0.8519 - accuracy: 0.6661 - val_loss: 0.9136 - val_accuracy: 0.6430 - lr: 0.0010\n",
      "Epoch 26/100\n",
      "998/998 [==============================] - 17s 17ms/step - loss: 0.8485 - accuracy: 0.6689 - val_loss: 0.8847 - val_accuracy: 0.6551 - lr: 0.0010\n",
      "Epoch 27/100\n",
      "998/998 [==============================] - 16s 16ms/step - loss: 0.8395 - accuracy: 0.6718 - val_loss: 0.9149 - val_accuracy: 0.6493 - lr: 0.0010\n",
      "Epoch 28/100\n",
      "998/998 [==============================] - 16s 16ms/step - loss: 0.8209 - accuracy: 0.6806 - val_loss: 0.8793 - val_accuracy: 0.6664 - lr: 0.0010\n",
      "Epoch 29/100\n",
      "998/998 [==============================] - 16s 17ms/step - loss: 0.7950 - accuracy: 0.6936 - val_loss: 0.8711 - val_accuracy: 0.6589 - lr: 0.0010\n",
      "Epoch 30/100\n",
      "998/998 [==============================] - 16s 16ms/step - loss: 0.7760 - accuracy: 0.6994 - val_loss: 0.8629 - val_accuracy: 0.6797 - lr: 0.0010\n",
      "Epoch 31/100\n",
      "998/998 [==============================] - 16s 16ms/step - loss: 0.7629 - accuracy: 0.7023 - val_loss: 0.8359 - val_accuracy: 0.6764 - lr: 0.0010\n",
      "Epoch 32/100\n",
      "998/998 [==============================] - 16s 16ms/step - loss: 0.7463 - accuracy: 0.7110 - val_loss: 0.8419 - val_accuracy: 0.6902 - lr: 0.0010\n",
      "Epoch 33/100\n",
      "998/998 [==============================] - 16s 16ms/step - loss: 0.7499 - accuracy: 0.7084 - val_loss: 0.8584 - val_accuracy: 0.6747 - lr: 0.0010\n",
      "Epoch 34/100\n",
      "998/998 [==============================] - 16s 17ms/step - loss: 0.7669 - accuracy: 0.7035 - val_loss: 0.8335 - val_accuracy: 0.6881 - lr: 0.0010\n",
      "Epoch 35/100\n",
      "998/998 [==============================] - 16s 16ms/step - loss: 0.6070 - accuracy: 0.7648 - val_loss: 0.7102 - val_accuracy: 0.7441 - lr: 4.0000e-04\n",
      "Epoch 36/100\n",
      "998/998 [==============================] - 17s 17ms/step - loss: 0.5382 - accuracy: 0.7928 - val_loss: 0.6712 - val_accuracy: 0.7595 - lr: 4.0000e-04\n",
      "Epoch 37/100\n",
      "998/998 [==============================] - 17s 17ms/step - loss: 0.5082 - accuracy: 0.8055 - val_loss: 0.6528 - val_accuracy: 0.7766 - lr: 4.0000e-04\n",
      "Epoch 38/100\n",
      "998/998 [==============================] - 18s 18ms/step - loss: 0.4799 - accuracy: 0.8164 - val_loss: 0.6540 - val_accuracy: 0.7858 - lr: 4.0000e-04\n",
      "Epoch 39/100\n",
      "998/998 [==============================] - 18s 18ms/step - loss: 0.4634 - accuracy: 0.8219 - val_loss: 0.6421 - val_accuracy: 0.7783 - lr: 4.0000e-04\n",
      "Epoch 40/100\n",
      "998/998 [==============================] - 18s 18ms/step - loss: 0.4400 - accuracy: 0.8312 - val_loss: 0.6091 - val_accuracy: 0.7958 - lr: 4.0000e-04\n",
      "Epoch 41/100\n",
      "998/998 [==============================] - 18s 18ms/step - loss: 0.4299 - accuracy: 0.8387 - val_loss: 0.5802 - val_accuracy: 0.8046 - lr: 4.0000e-04\n",
      "Epoch 42/100\n",
      "998/998 [==============================] - 18s 18ms/step - loss: 0.4045 - accuracy: 0.8448 - val_loss: 0.5872 - val_accuracy: 0.8071 - lr: 4.0000e-04\n",
      "Epoch 43/100\n",
      "998/998 [==============================] - 17s 17ms/step - loss: 0.3957 - accuracy: 0.8498 - val_loss: 0.5699 - val_accuracy: 0.8138 - lr: 4.0000e-04\n",
      "Epoch 44/100\n",
      "998/998 [==============================] - 16s 16ms/step - loss: 0.3780 - accuracy: 0.8556 - val_loss: 0.6027 - val_accuracy: 0.8150 - lr: 4.0000e-04\n",
      "Epoch 45/100\n",
      "998/998 [==============================] - 17s 17ms/step - loss: 0.3721 - accuracy: 0.8576 - val_loss: 0.5902 - val_accuracy: 0.8184 - lr: 4.0000e-04\n",
      "Epoch 46/100\n",
      "998/998 [==============================] - 17s 17ms/step - loss: 0.3672 - accuracy: 0.8598 - val_loss: 0.5975 - val_accuracy: 0.8154 - lr: 4.0000e-04\n",
      "Epoch 47/100\n",
      "998/998 [==============================] - 17s 17ms/step - loss: 0.3411 - accuracy: 0.8697 - val_loss: 0.5953 - val_accuracy: 0.8267 - lr: 4.0000e-04\n",
      "Epoch 48/100\n",
      "998/998 [==============================] - 17s 17ms/step - loss: 0.3323 - accuracy: 0.8751 - val_loss: 0.5611 - val_accuracy: 0.8313 - lr: 4.0000e-04\n",
      "Epoch 49/100\n",
      "998/998 [==============================] - 17s 17ms/step - loss: 0.3252 - accuracy: 0.8767 - val_loss: 0.5276 - val_accuracy: 0.8413 - lr: 4.0000e-04\n",
      "Epoch 50/100\n",
      "998/998 [==============================] - 17s 17ms/step - loss: 0.3212 - accuracy: 0.8778 - val_loss: 0.5990 - val_accuracy: 0.8280 - lr: 4.0000e-04\n",
      "Epoch 51/100\n",
      "998/998 [==============================] - 17s 17ms/step - loss: 0.3054 - accuracy: 0.8845 - val_loss: 0.5778 - val_accuracy: 0.8338 - lr: 4.0000e-04\n",
      "Epoch 52/100\n",
      "998/998 [==============================] - 17s 17ms/step - loss: 0.2986 - accuracy: 0.8864 - val_loss: 0.5550 - val_accuracy: 0.8443 - lr: 4.0000e-04\n",
      "Epoch 53/100\n",
      "998/998 [==============================] - 17s 17ms/step - loss: 0.2929 - accuracy: 0.8905 - val_loss: 0.5445 - val_accuracy: 0.8422 - lr: 4.0000e-04\n",
      "Epoch 54/100\n",
      "998/998 [==============================] - 17s 17ms/step - loss: 0.2852 - accuracy: 0.8918 - val_loss: 0.5548 - val_accuracy: 0.8409 - lr: 4.0000e-04\n",
      "Epoch 55/100\n",
      "998/998 [==============================] - 17s 17ms/step - loss: 0.2854 - accuracy: 0.8935 - val_loss: 0.5350 - val_accuracy: 0.8459 - lr: 4.0000e-04\n",
      "Epoch 56/100\n",
      "998/998 [==============================] - 17s 17ms/step - loss: 0.2705 - accuracy: 0.8988 - val_loss: 0.5379 - val_accuracy: 0.8597 - lr: 4.0000e-04\n",
      "Epoch 57/100\n",
      "998/998 [==============================] - 17s 17ms/step - loss: 0.2609 - accuracy: 0.9012 - val_loss: 0.5645 - val_accuracy: 0.8480 - lr: 4.0000e-04\n",
      "Epoch 58/100\n",
      "998/998 [==============================] - 17s 17ms/step - loss: 0.2856 - accuracy: 0.8965 - val_loss: 0.5264 - val_accuracy: 0.8568 - lr: 4.0000e-04\n",
      "Epoch 59/100\n",
      "998/998 [==============================] - 17s 17ms/step - loss: 0.2447 - accuracy: 0.9082 - val_loss: 0.5645 - val_accuracy: 0.8593 - lr: 4.0000e-04\n",
      "Epoch 60/100\n",
      "998/998 [==============================] - 17s 17ms/step - loss: 0.2342 - accuracy: 0.9142 - val_loss: 0.5222 - val_accuracy: 0.8660 - lr: 4.0000e-04\n",
      "Epoch 61/100\n",
      "998/998 [==============================] - 17s 17ms/step - loss: 0.2371 - accuracy: 0.9116 - val_loss: 0.4926 - val_accuracy: 0.8735 - lr: 4.0000e-04\n",
      "Epoch 62/100\n",
      "998/998 [==============================] - 17s 17ms/step - loss: 0.2323 - accuracy: 0.9133 - val_loss: 0.4931 - val_accuracy: 0.8743 - lr: 4.0000e-04\n",
      "Epoch 63/100\n",
      "998/998 [==============================] - 17s 17ms/step - loss: 0.2552 - accuracy: 0.9079 - val_loss: 0.4640 - val_accuracy: 0.8697 - lr: 4.0000e-04\n",
      "Epoch 64/100\n",
      "998/998 [==============================] - 17s 17ms/step - loss: 0.2249 - accuracy: 0.9185 - val_loss: 0.4627 - val_accuracy: 0.8789 - lr: 4.0000e-04\n",
      "Epoch 65/100\n",
      "998/998 [==============================] - 17s 17ms/step - loss: 0.2124 - accuracy: 0.9215 - val_loss: 0.5040 - val_accuracy: 0.8722 - lr: 4.0000e-04\n",
      "Epoch 66/100\n",
      "998/998 [==============================] - 17s 17ms/step - loss: 0.2093 - accuracy: 0.9221 - val_loss: 0.4995 - val_accuracy: 0.8802 - lr: 4.0000e-04\n",
      "Epoch 67/100\n",
      "998/998 [==============================] - 17s 17ms/step - loss: 0.2078 - accuracy: 0.9234 - val_loss: 0.5439 - val_accuracy: 0.8630 - lr: 4.0000e-04\n",
      "Epoch 68/100\n",
      "998/998 [==============================] - 17s 17ms/step - loss: 0.2081 - accuracy: 0.9235 - val_loss: 0.5484 - val_accuracy: 0.8610 - lr: 4.0000e-04\n",
      "Epoch 69/100\n",
      "998/998 [==============================] - 17s 17ms/step - loss: 0.2080 - accuracy: 0.9243 - val_loss: 0.5288 - val_accuracy: 0.8693 - lr: 4.0000e-04\n",
      "Epoch 70/100\n",
      "998/998 [==============================] - 17s 17ms/step - loss: 0.1440 - accuracy: 0.9471 - val_loss: 0.4946 - val_accuracy: 0.8835 - lr: 1.6000e-04\n",
      "Epoch 71/100\n",
      "998/998 [==============================] - 16s 16ms/step - loss: 0.1223 - accuracy: 0.9566 - val_loss: 0.4638 - val_accuracy: 0.9019 - lr: 1.6000e-04\n",
      "Epoch 72/100\n",
      "998/998 [==============================] - 17s 17ms/step - loss: 0.1179 - accuracy: 0.9559 - val_loss: 0.5051 - val_accuracy: 0.8981 - lr: 1.6000e-04\n",
      "Epoch 73/100\n",
      "998/998 [==============================] - 17s 17ms/step - loss: 0.1121 - accuracy: 0.9593 - val_loss: 0.4812 - val_accuracy: 0.9040 - lr: 1.6000e-04\n",
      "Epoch 74/100\n",
      "998/998 [==============================] - 17s 17ms/step - loss: 0.1069 - accuracy: 0.9605 - val_loss: 0.4735 - val_accuracy: 0.9136 - lr: 1.6000e-04\n",
      "Epoch 75/100\n",
      "998/998 [==============================] - 17s 17ms/step - loss: 0.1049 - accuracy: 0.9609 - val_loss: 0.5196 - val_accuracy: 0.9065 - lr: 1.6000e-04\n",
      "Epoch 76/100\n",
      "998/998 [==============================] - 17s 17ms/step - loss: 0.1053 - accuracy: 0.9619 - val_loss: 0.4736 - val_accuracy: 0.9090 - lr: 1.6000e-04\n",
      "Epoch 77/100\n",
      "998/998 [==============================] - 17s 17ms/step - loss: 0.1001 - accuracy: 0.9627 - val_loss: 0.4553 - val_accuracy: 0.9132 - lr: 1.6000e-04\n",
      "Epoch 78/100\n",
      "998/998 [==============================] - 17s 17ms/step - loss: 0.0935 - accuracy: 0.9644 - val_loss: 0.4850 - val_accuracy: 0.9165 - lr: 1.6000e-04\n",
      "Epoch 79/100\n",
      "998/998 [==============================] - 17s 17ms/step - loss: 0.0964 - accuracy: 0.9655 - val_loss: 0.4958 - val_accuracy: 0.9136 - lr: 1.6000e-04\n",
      "Epoch 80/100\n",
      "998/998 [==============================] - 16s 17ms/step - loss: 0.0905 - accuracy: 0.9673 - val_loss: 0.4922 - val_accuracy: 0.9127 - lr: 1.6000e-04\n",
      "Epoch 81/100\n",
      "998/998 [==============================] - 17s 17ms/step - loss: 0.0904 - accuracy: 0.9668 - val_loss: 0.5174 - val_accuracy: 0.9106 - lr: 1.6000e-04\n",
      "Epoch 82/100\n",
      "998/998 [==============================] - 17s 17ms/step - loss: 0.0823 - accuracy: 0.9696 - val_loss: 0.4940 - val_accuracy: 0.9207 - lr: 1.6000e-04\n",
      "Epoch 83/100\n",
      "998/998 [==============================] - 17s 17ms/step - loss: 0.0901 - accuracy: 0.9679 - val_loss: 0.5315 - val_accuracy: 0.9035 - lr: 1.6000e-04\n",
      "Epoch 84/100\n",
      "998/998 [==============================] - 17s 17ms/step - loss: 0.0818 - accuracy: 0.9707 - val_loss: 0.5054 - val_accuracy: 0.9177 - lr: 1.6000e-04\n",
      "Epoch 85/100\n",
      "998/998 [==============================] - 17s 17ms/step - loss: 0.0785 - accuracy: 0.9717 - val_loss: 0.5274 - val_accuracy: 0.9081 - lr: 1.6000e-04\n",
      "Epoch 86/100\n",
      "998/998 [==============================] - 17s 17ms/step - loss: 0.0784 - accuracy: 0.9720 - val_loss: 0.5196 - val_accuracy: 0.9157 - lr: 1.6000e-04\n",
      "Epoch 87/100\n",
      "998/998 [==============================] - 17s 17ms/step - loss: 0.0790 - accuracy: 0.9720 - val_loss: 0.4960 - val_accuracy: 0.9211 - lr: 1.6000e-04\n",
      "Epoch 88/100\n",
      "998/998 [==============================] - 17s 17ms/step - loss: 0.0810 - accuracy: 0.9720 - val_loss: 0.5214 - val_accuracy: 0.9194 - lr: 1.6000e-04\n",
      "Epoch 89/100\n",
      "998/998 [==============================] - 16s 16ms/step - loss: 0.0591 - accuracy: 0.9789 - val_loss: 0.5259 - val_accuracy: 0.9236 - lr: 6.4000e-05\n",
      "Epoch 90/100\n",
      "998/998 [==============================] - 16s 16ms/step - loss: 0.0549 - accuracy: 0.9808 - val_loss: 0.5217 - val_accuracy: 0.9236 - lr: 6.4000e-05\n",
      "Epoch 91/100\n",
      "998/998 [==============================] - 17s 17ms/step - loss: 0.0541 - accuracy: 0.9805 - val_loss: 0.5119 - val_accuracy: 0.9261 - lr: 6.4000e-05\n",
      "Epoch 92/100\n",
      "998/998 [==============================] - 17s 17ms/step - loss: 0.0539 - accuracy: 0.9811 - val_loss: 0.5421 - val_accuracy: 0.9177 - lr: 6.4000e-05\n",
      "Epoch 93/100\n",
      "998/998 [==============================] - 17s 17ms/step - loss: 0.0487 - accuracy: 0.9827 - val_loss: 0.5259 - val_accuracy: 0.9248 - lr: 6.4000e-05\n",
      "Epoch 94/100\n",
      "998/998 [==============================] - 17s 17ms/step - loss: 0.0479 - accuracy: 0.9829 - val_loss: 0.5350 - val_accuracy: 0.9240 - lr: 6.4000e-05\n",
      "Epoch 95/100\n",
      "998/998 [==============================] - 17s 17ms/step - loss: 0.0479 - accuracy: 0.9833 - val_loss: 0.5250 - val_accuracy: 0.9261 - lr: 6.4000e-05\n",
      "Epoch 96/100\n",
      "998/998 [==============================] - 17s 17ms/step - loss: 0.0471 - accuracy: 0.9830 - val_loss: 0.5194 - val_accuracy: 0.9282 - lr: 6.4000e-05\n",
      "Epoch 97/100\n",
      "998/998 [==============================] - 17s 17ms/step - loss: 0.0447 - accuracy: 0.9845 - val_loss: 0.5289 - val_accuracy: 0.9307 - lr: 6.4000e-05\n",
      "Epoch 98/100\n",
      "998/998 [==============================] - 17s 17ms/step - loss: 0.0455 - accuracy: 0.9847 - val_loss: 0.5190 - val_accuracy: 0.9269 - lr: 6.4000e-05\n",
      "Epoch 99/100\n",
      "998/998 [==============================] - 16s 16ms/step - loss: 0.0409 - accuracy: 0.9854 - val_loss: 0.5275 - val_accuracy: 0.9282 - lr: 6.4000e-05\n",
      "Epoch 100/100\n",
      "998/998 [==============================] - 17s 17ms/step - loss: 0.0416 - accuracy: 0.9861 - val_loss: 0.5588 - val_accuracy: 0.9273 - lr: 6.4000e-05\n"
     ]
    }
   ],
   "source": [
    "rlrp = ReduceLROnPlateau(monitor='loss', factor=0.4,\n",
    "                         verbose=0, patience=2, min_lr=0.0000001)\n",
    "\n",
    "\n",
    "history = model.fit(x_train, y_train, batch_size=32, epochs=100,\n",
    "                    validation_data=(x_test, y_test), callbacks=[rlrp])"
   ]
  },
  {
   "cell_type": "code",
   "execution_count": 13,
   "metadata": {},
   "outputs": [],
   "source": [
    "def print_report(model, history, test_x, test_y):\n",
    "    print(\"Accuracy of our model on test data : \",\n",
    "          model.evaluate(test_x, test_y)[1]*100, \"%\")\n",
    "\n",
    "    epochs = history.epoch\n",
    "\n",
    "    fig, ax = plt.subplots(1, 2)\n",
    "\n",
    "    train_acc = history.history['accuracy']\n",
    "    train_loss = history.history['loss']\n",
    "    test_acc = history.history['val_accuracy']\n",
    "    test_loss = history.history['val_loss']\n",
    "\n",
    "    fig.set_size_inches(20, 6)\n",
    "    ax[0].plot(epochs, train_loss, label='Training Loss')\n",
    "    ax[0].plot(epochs, test_loss, label='Testing Loss')\n",
    "    ax[0].set_title('Training & Testing Loss')\n",
    "    ax[0].legend()\n",
    "    ax[0].set_xlabel(\"Epochs\")\n",
    "    ax[1].plot(epochs, train_acc, label='Training Accuracy')\n",
    "    ax[1].plot(epochs, test_acc, label='Testing Accuracy')\n",
    "    ax[1].set_title('Training & Testing Accuracy')\n",
    "    ax[1].legend()\n",
    "    ax[1].set_xlabel(\"Epochs\")\n",
    "\n",
    "    plt.show()"
   ]
  },
  {
   "cell_type": "code",
   "execution_count": 14,
   "metadata": {},
   "outputs": [],
   "source": [
    "def print_confusion_matrix(test, pred, size=(12, 10)):\n",
    "    cm = confusion_matrix(test, pred)\n",
    "    plt.figure(figsize=size)\n",
    "    cm = pd.DataFrame(cm, index=[i for i in encoder.categories_], columns=[\n",
    "        i for i in encoder.categories_])\n",
    "    sns.heatmap(cm, linecolor='white', cmap='Blues',\n",
    "                linewidth=1, annot=True, fmt='')\n",
    "    plt.title('Confusion Matrix', size=20)\n",
    "    plt.xlabel('Predicted Labels', size=14)\n",
    "    plt.ylabel('Actual Labels', size=14)\n",
    "    plt.show()"
   ]
  },
  {
   "cell_type": "code",
   "execution_count": 15,
   "metadata": {},
   "outputs": [
    {
     "name": "stdout",
     "output_type": "stream",
     "text": [
      " 1/75 [..............................] - ETA: 2s - loss: 0.5870 - accuracy: 0.9062"
     ]
    },
    {
     "name": "stdout",
     "output_type": "stream",
     "text": [
      "75/75 [==============================] - 1s 7ms/step - loss: 0.5588 - accuracy: 0.9273\n",
      "Accuracy of our model on test data :  92.73486137390137 %\n"
     ]
    },
    {
     "data": {
      "image/png": "[encoded data removed]",
      "text/plain": [
       "<Figure size 2000x600 with 2 Axes>"
      ]
     },
     "metadata": {},
     "output_type": "display_data"
    }
   ],
   "source": [
    "print_report(model, history, x_test, y_test)"
   ]
  },
  {
   "cell_type": "code",
   "execution_count": 16,
   "metadata": {},
   "outputs": [
    {
     "name": "stdout",
     "output_type": "stream",
     "text": [
      "75/75 [==============================] - 1s 5ms/step\n"
     ]
    }
   ],
   "source": [
    "# predicting on test data.\n",
    "pred_test = model.predict(x_test)\n",
    "y_pred = encoder.inverse_transform(pred_test)\n",
    "\n",
    "y_test_decoded = encoder.inverse_transform(y_test)"
   ]
  },
  {
   "cell_type": "code",
   "execution_count": 17,
   "metadata": {},
   "outputs": [],
   "source": [
    "# df = pd.DataFrame(columns=['Predicted Labels', 'Actual Labels'])\n",
    "# df['Predicted Labels'] = y_pred.flatten()\n",
    "# df['Actual Labels'] = y_test_decoded.flatten()\n",
    "\n",
    "# df.head(10)"
   ]
  },
  {
   "cell_type": "code",
   "execution_count": 18,
   "metadata": {},
   "outputs": [
    {
     "data": {
      "image/png": "[encoded data removed]",
      "text/plain": [
       "<Figure size 1200x1000 with 2 Axes>"
      ]
     },
     "metadata": {},
     "output_type": "display_data"
    }
   ],
   "source": [
    "print_confusion_matrix(y_test_decoded, y_pred)"
   ]
  },
  {
   "cell_type": "code",
   "execution_count": 19,
   "metadata": {},
   "outputs": [
    {
     "name": "stdout",
     "output_type": "stream",
     "text": [
      "              precision    recall  f1-score   support\n",
      "\n",
      "       anger       0.95      0.97      0.96       348\n",
      "        calm       0.86      0.88      0.87        43\n",
      "    contempt       0.91      0.92      0.92       429\n",
      "        fear       0.93      0.91      0.92       413\n",
      "   happiness       0.92      0.94      0.93       373\n",
      "     neutral       0.93      0.91      0.92       301\n",
      "     sadness       0.92      0.91      0.91       378\n",
      "    surprise       0.95      0.95      0.95       110\n",
      "\n",
      "    accuracy                           0.93      2395\n",
      "   macro avg       0.92      0.93      0.92      2395\n",
      "weighted avg       0.93      0.93      0.93      2395\n",
      "\n"
     ]
    }
   ],
   "source": [
    "print(classification_report(y_test_decoded, y_pred))"
   ]
  },
  {
   "cell_type": "code",
   "execution_count": 22,
   "metadata": {},
   "outputs": [
    {
     "name": "stdout",
     "output_type": "stream",
     "text": [
      "              precision    recall  f1-score   support\n",
      "\n",
      "       anger       0.97      0.98      0.98       348\n",
      "        calm       0.71      0.84      0.77        43\n",
      "    contempt       0.95      0.90      0.93       429\n",
      "        fear       0.94      0.95      0.94       413\n",
      "   happiness       0.96      0.96      0.96       373\n",
      "     neutral       0.93      0.94      0.94       301\n",
      "     sadness       0.90      0.93      0.92       378\n",
      "    surprise       0.95      0.95      0.95       110\n",
      "\n",
      "    accuracy                           0.94      2395\n",
      "   macro avg       0.92      0.93      0.92      2395\n",
      "weighted avg       0.94      0.94      0.94      2395\n",
      "\n"
     ]
    }
   ],
   "source": [
    "print(classification_report(y_test_decoded, y_pred))"
   ]
  },
  {
   "cell_type": "code",
   "execution_count": 47,
   "metadata": {},
   "outputs": [
    {
     "name": "stdout",
     "output_type": "stream",
     "text": [
      "              precision    recall  f1-score   support\n",
      "\n",
      "       anger       0.91      0.89      0.90       348\n",
      "        calm       0.44      0.79      0.57        43\n",
      "    contempt       0.75      0.66      0.70       429\n",
      "        fear       0.80      0.73      0.76       413\n",
      "   happiness       0.74      0.76      0.75       373\n",
      "     neutral       0.65      0.69      0.67       301\n",
      "     sadness       0.69      0.75      0.72       378\n",
      "    surprise       0.85      0.85      0.85       110\n",
      "\n",
      "    accuracy                           0.75      2395\n",
      "   macro avg       0.73      0.76      0.74      2395\n",
      "weighted avg       0.76      0.75      0.75      2395\n",
      "\n"
     ]
    }
   ],
   "source": [
    "print(classification_report(y_test_decoded, y_pred))"
   ]
  },
  {
   "cell_type": "code",
   "execution_count": 18,
   "metadata": {},
   "outputs": [
    {
     "name": "stdout",
     "output_type": "stream",
     "text": [
      "              precision    recall  f1-score   support\n",
      "\n",
      "       anger       0.86      0.87      0.87        87\n",
      "        calm       0.76      0.88      0.82        33\n",
      "    contempt       0.79      0.82      0.81        71\n",
      "        fear       0.77      0.77      0.77        73\n",
      "   happiness       0.85      0.83      0.84        81\n",
      "     neutral       0.55      0.73      0.63        15\n",
      "     sadness       0.90      0.79      0.84        72\n",
      "    surprise       0.84      0.79      0.81        33\n",
      "\n",
      "    accuracy                           0.82       465\n",
      "   macro avg       0.79      0.81      0.80       465\n",
      "weighted avg       0.82      0.82      0.82       465\n",
      "\n"
     ]
    }
   ],
   "source": [
    "print(classification_report(y_test_decoded, y_pred))"
   ]
  },
  {
   "cell_type": "code",
   "execution_count": 20,
   "metadata": {},
   "outputs": [],
   "source": [
    "model.save('ser4-v2.keras')"
   ]
  },
  {
   "cell_type": "code",
   "execution_count": 21,
   "metadata": {},
   "outputs": [
    {
     "name": "stderr",
     "output_type": "stream",
     "text": [
      "WARNING:absl:Found untraced functions such as _jit_compiled_convolution_op, _jit_compiled_convolution_op, _jit_compiled_convolution_op, _jit_compiled_convolution_op, _jit_compiled_convolution_op while saving (showing 5 of 19). These functions will not be directly callable after loading.\n"
     ]
    },
    {
     "name": "stdout",
     "output_type": "stream",
     "text": [
      "INFO:tensorflow:Assets written to: C:\\Users\\nicko\\AppData\\Local\\Temp\\tmpcny3_ghz\\assets\n"
     ]
    },
    {
     "name": "stderr",
     "output_type": "stream",
     "text": [
      "INFO:tensorflow:Assets written to: C:\\Users\\nicko\\AppData\\Local\\Temp\\tmpcny3_ghz\\assets\n"
     ]
    }
   ],
   "source": [
    "# Convert the model.\n",
    "converter = tf.lite.TFLiteConverter.from_keras_model(model)\n",
    "tflite_model = converter.convert()\n",
    "\n",
    "# Save the model.\n",
    "with open('model-nm-v2.tflite', 'wb') as f:\n",
    "    f.write(tflite_model)"
   ]
  },
  {
   "cell_type": "code",
   "execution_count": 33,
   "metadata": {},
   "outputs": [],
   "source": [
    "from tflite_support import flatbuffers\n",
    "from tflite_support import metadata as _metadata\n",
    "from tflite_support import metadata_schema_py_generated as _metadata_fb\n",
    "\n",
    "# Creates model info.\n",
    "model_meta = _metadata_fb.ModelMetadataT()\n",
    "model_meta.name = \"Speech emotion recognition\"\n",
    "model_meta.description = (\"Identify emotion of human voice\")\n",
    "model_meta.version = \"v2\"\n",
    "model_meta.author = \"Mykola Nosenko\"\n",
    "model_meta.license = (\"Apache License. Version 2.0 \"\n",
    "                      \"http://www.apache.org/licenses/LICENSE-2.0.\")  # verify later"
   ]
  },
  {
   "cell_type": "code",
   "execution_count": 34,
   "metadata": {},
   "outputs": [],
   "source": [
    "# Creates output info.\n",
    "output_meta = _metadata_fb.TensorMetadataT()\n",
    "output_meta.name = \"probability\"\n",
    "output_meta.description = \"Probabilities of the 8 labels respectively.\"\n",
    "output_meta.content = _metadata_fb.ContentT()\n",
    "output_meta.content.content_properties = _metadata_fb.FeaturePropertiesT()\n",
    "output_meta.content.contentPropertiesType = (\n",
    "    _metadata_fb.ContentProperties.FeatureProperties)\n",
    "output_stats = _metadata_fb.StatsT()\n",
    "output_stats.max = [1.0]\n",
    "output_stats.min = [0.0]\n",
    "output_meta.stats = output_stats\n",
    "label_file = _metadata_fb.AssociatedFileT()\n",
    "label_file.name = os.path.basename(\"./emotion_labels.txt\")\n",
    "label_file.description = \"Labels for emotions that the model can recognize.\"\n",
    "label_file.type = _metadata_fb.AssociatedFileType.TENSOR_AXIS_LABELS\n",
    "output_meta.associatedFiles = [label_file]"
   ]
  },
  {
   "cell_type": "code",
   "execution_count": 35,
   "metadata": {},
   "outputs": [],
   "source": [
    "# Creates subgraph info.\n",
    "subgraph = _metadata_fb.SubGraphMetadataT()\n",
    "# subgraph.inputTensorMetadata = [input_meta]\n",
    "subgraph.outputTensorMetadata = [output_meta]\n",
    "model_meta.subgraphMetadata = [subgraph]\n",
    "\n",
    "b = flatbuffers.Builder(0)\n",
    "b.Finish(\n",
    "    model_meta.Pack(b),\n",
    "    _metadata.MetadataPopulator.METADATA_FILE_IDENTIFIER)\n",
    "metadata_buf = b.Output()"
   ]
  },
  {
   "cell_type": "code",
   "execution_count": 36,
   "metadata": {},
   "outputs": [],
   "source": [
    "populator = _metadata.MetadataPopulator.with_model_file('./model.tflite')\n",
    "populator.load_metadata_buffer(metadata_buf)\n",
    "populator.load_associated_files([\"./emotion_labels.txt\"])\n",
    "populator.populate()"
   ]
  },
  {
   "cell_type": "code",
   "execution_count": 39,
   "metadata": {},
   "outputs": [],
   "source": [
    "displayer = _metadata.MetadataDisplayer.with_model_file(\n",
    "    \"./model.tflite\")\n",
    "export_json_file = os.path.join(\"D:/Documents/export_models/model.json\")\n",
    "json_file = displayer.get_metadata_json()\n",
    "# Optional: write out the metadata as a json file\n",
    "with open(export_json_file, \"w\") as f:\n",
    "    f.write(json_file)"
   ]
  },
  {
   "cell_type": "code",
   "execution_count": 31,
   "metadata": {},
   "outputs": [],
   "source": [
    "# # Convert the model\n",
    "# converter = tf.lite.TFLiteConverter.from_saved_model(\n",
    "#     \"./saved_models/ser4.keras\")  # path to the SavedModel directory\n",
    "# tflite_model = converter.convert()\n",
    "\n",
    "# # Save the model.\n",
    "# with open('ser4-model.tflite', 'wb') as f:\n",
    "#     f.write(tflite_model)"
   ]
  },
  {
   "cell_type": "code",
   "execution_count": null,
   "metadata": {},
   "outputs": [],
   "source": []
  }
 ],
 "metadata": {
  "kernelspec": {
   "display_name": ".venv",
   "language": "python",
   "name": "python3"
  },
  "language_info": {
   "codemirror_mode": {
    "name": "ipython",
    "version": 3
   },
   "file_extension": ".py",
   "mimetype": "text/x-python",
   "name": "python",
   "nbconvert_exporter": "python",
   "pygments_lexer": "ipython3",
   "version": "3.10.6"
  }
 },
 "nbformat": 4,
 "nbformat_minor": 2
}
