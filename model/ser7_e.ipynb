{
 "cells": [
  {
   "cell_type": "code",
   "execution_count": 1,
   "metadata": {},
   "outputs": [],
   "source": [
    "import pandas as pd\n",
    "import numpy as np\n",
    "\n",
    "import sys\n",
    "import os\n",
    "\n",
    "from pathlib import Path\n",
    "# librosa is a Python library for analyzing audio and music. It can be used to extract the data from the audio files we will see it later.\n",
    "import librosa\n",
    "import librosa.display\n",
    "import seaborn as sns\n",
    "import matplotlib.pyplot as plt\n",
    "\n",
    "from sklearn.preprocessing import StandardScaler, OneHotEncoder\n",
    "from sklearn.metrics import confusion_matrix, classification_report\n",
    "from sklearn.model_selection import train_test_split\n",
    "\n",
    "# to play the audio files\n",
    "from IPython.display import Audio\n",
    "\n",
    "import warnings\n",
    "if not sys.warnoptions:\n",
    "    warnings.simplefilter(\"ignore\")\n",
    "warnings.filterwarnings(\"ignore\", category=DeprecationWarning)"
   ]
  },
  {
   "cell_type": "code",
   "execution_count": 2,
   "metadata": {},
   "outputs": [],
   "source": [
    "os.environ[\"TF_MIN_GPU_MULTIPROCESSOR_COUNT\"] = \"2\"\n",
    "os.environ[\"CUDA_VISIBLE_DEVICES\"] = \"0,1\""
   ]
  },
  {
   "cell_type": "code",
   "execution_count": 3,
   "metadata": {},
   "outputs": [
    {
     "name": "stdout",
     "output_type": "stream",
     "text": [
      "[PhysicalDevice(name='/physical_device:GPU:0', device_type='GPU')]\n"
     ]
    }
   ],
   "source": [
    "import tensorflow as tf\n",
    "from tensorflow.keras.callbacks import ReduceLROnPlateau\n",
    "from tensorflow.keras.models import Sequential\n",
    "from tensorflow.keras.layers import Dense, Conv1D, MaxPooling1D, AveragePooling1D, Flatten, Dropout, BatchNormalization\n",
    "from tensorflow.keras.utils import to_categorical\n",
    "from tensorflow.keras.callbacks import ModelCheckpoint\n",
    "from tensorflow.keras import metrics\n",
    "\n",
    "print(tf.config.list_physical_devices('GPU'))"
   ]
  },
  {
   "cell_type": "code",
   "execution_count": 8,
   "metadata": {},
   "outputs": [],
   "source": [
    "# features_df = pd.read_csv('./features/features-no-uk-v1.csv')\n",
    "# features_uk_df = pd.read_csv('./features/features-uk-only-v2.csv')\n",
    "features_train_df = pd.read_csv('./features/features-train-all-v1.csv')\n",
    "features_test_df = pd.read_csv('./features/features-test-all-v1.csv')"
   ]
  },
  {
   "cell_type": "code",
   "execution_count": 5,
   "metadata": {},
   "outputs": [
    {
     "ename": "NameError",
     "evalue": "name 'features_df' is not defined",
     "output_type": "error",
     "traceback": [
      "\u001b[1;31m---------------------------------------------------------------------------\u001b[0m",
      "\u001b[1;31mNameError\u001b[0m                                 Traceback (most recent call last)",
      "Cell \u001b[1;32mIn[5], line 1\u001b[0m\n\u001b[1;32m----> 1\u001b[0m \u001b[43mfeatures_df\u001b[49m\u001b[38;5;241m.\u001b[39minfo()\n",
      "\u001b[1;31mNameError\u001b[0m: name 'features_df' is not defined"
     ]
    }
   ],
   "source": [
    "features_df.info()"
   ]
  },
  {
   "cell_type": "code",
   "execution_count": 9,
   "metadata": {},
   "outputs": [],
   "source": [
    "emotions_number = 8"
   ]
  },
  {
   "cell_type": "markdown",
   "metadata": {},
   "source": [
    "## Splitted features\n"
   ]
  },
  {
   "cell_type": "code",
   "execution_count": 15,
   "metadata": {},
   "outputs": [],
   "source": [
    "x_train = features_train_df.iloc[:, :-1].values\n",
    "y_train = features_train_df['labels'].values\n",
    "\n",
    "X_test = features_test_df.iloc[:, :-1].values\n",
    "y_test = features_test_df['labels'].values"
   ]
  },
  {
   "cell_type": "code",
   "execution_count": 16,
   "metadata": {},
   "outputs": [],
   "source": [
    "# As this is a multiclass classification problem onehotencoding our Y.\n",
    "encoder = OneHotEncoder()\n",
    "y_train_enc = encoder.fit_transform(np.array(y_train).reshape(-1, 1)).toarray()\n",
    "y_test_enc = encoder.fit_transform(np.array(y_test).reshape(-1, 1)).toarray()"
   ]
  },
  {
   "cell_type": "code",
   "execution_count": 17,
   "metadata": {},
   "outputs": [],
   "source": [
    "# # splitting data\n",
    "# x_train, x_test, y_train, y_test = train_test_split(\n",
    "#     X, y, test_size=0.2, random_state=0, shuffle=True)\n",
    "\n",
    "# print(\n",
    "#     f'train:\\t {x_train.shape, y_train.shape,}\\ntest:\\t{x_test.shape, y_test.shape}')"
   ]
  },
  {
   "cell_type": "code",
   "execution_count": 18,
   "metadata": {},
   "outputs": [
    {
     "name": "stdout",
     "output_type": "stream",
     "text": [
      "val:\t ((2793, 162), (2793, 8))\n",
      "test:\t((1198, 162), (1198, 8))\n"
     ]
    }
   ],
   "source": [
    "# Split once to get the test and validation set\n",
    "x_val, x_test, y_val_enc, y_test_enc = train_test_split(\n",
    "    X_test, y_test_enc, test_size=0.3, random_state=42)\n",
    "print(\n",
    "    f'val:\\t {x_val.shape, y_val_enc.shape,}\\ntest:\\t{x_test.shape, y_test_enc.shape}')"
   ]
  },
  {
   "cell_type": "code",
   "execution_count": 19,
   "metadata": {},
   "outputs": [
    {
     "name": "stdout",
     "output_type": "stream",
     "text": [
      "train:\t ((27936, 162), (27936, 8))\n",
      "val:\t ((2793, 162), (2793, 8))\n",
      "test:\t((1198, 162), (1198, 8))\n"
     ]
    }
   ],
   "source": [
    "print(\n",
    "    f'train:\\t {x_train.shape, y_train_enc.shape,}')\n",
    "print(\n",
    "    f'val:\\t {x_val.shape, y_val_enc.shape,}\\ntest:\\t{x_test.shape, y_test_enc.shape}')"
   ]
  },
  {
   "cell_type": "markdown",
   "metadata": {},
   "source": [
    "## Features without splitting"
   ]
  },
  {
   "cell_type": "code",
   "execution_count": 14,
   "metadata": {},
   "outputs": [
    {
     "ename": "NameError",
     "evalue": "name 'features_df' is not defined",
     "output_type": "error",
     "traceback": [
      "\u001b[1;31m---------------------------------------------------------------------------\u001b[0m",
      "\u001b[1;31mNameError\u001b[0m                                 Traceback (most recent call last)",
      "Cell \u001b[1;32mIn[14], line 1\u001b[0m\n\u001b[1;32m----> 1\u001b[0m X \u001b[38;5;241m=\u001b[39m \u001b[43mfeatures_df\u001b[49m\u001b[38;5;241m.\u001b[39miloc[:, :\u001b[38;5;241m-\u001b[39m\u001b[38;5;241m1\u001b[39m]\u001b[38;5;241m.\u001b[39mvalues\n\u001b[0;32m      2\u001b[0m y \u001b[38;5;241m=\u001b[39m features_df[\u001b[38;5;124m'\u001b[39m\u001b[38;5;124mlabels\u001b[39m\u001b[38;5;124m'\u001b[39m]\u001b[38;5;241m.\u001b[39mvalues\n",
      "\u001b[1;31mNameError\u001b[0m: name 'features_df' is not defined"
     ]
    }
   ],
   "source": [
    "X = features_df.iloc[:, :-1].values\n",
    "y = features_df['labels'].values"
   ]
  },
  {
   "cell_type": "code",
   "execution_count": null,
   "metadata": {},
   "outputs": [],
   "source": [
    "# As this is a multiclass classification problem onehotencoding our Y.\n",
    "encoder = OneHotEncoder()\n",
    "y = encoder.fit_transform(np.array(y).reshape(-1, 1)).toarray()"
   ]
  },
  {
   "cell_type": "code",
   "execution_count": null,
   "metadata": {},
   "outputs": [
    {
     "name": "stdout",
     "output_type": "stream",
     "text": [
      "train:\t ((31864, 162), (31864, 8))\n",
      "test:\t((7967, 162), (7967, 8))\n"
     ]
    }
   ],
   "source": [
    "# splitting data\n",
    "x_train, x_test, y_train, y_test = train_test_split(\n",
    "    X, y, test_size=0.2, random_state=0, shuffle=True)\n",
    "\n",
    "print(\n",
    "    f'train:\\t {x_train.shape, y_train.shape,}\\ntest:\\t{x_test.shape, y_test.shape}')"
   ]
  },
  {
   "cell_type": "code",
   "execution_count": null,
   "metadata": {},
   "outputs": [
    {
     "name": "stdout",
     "output_type": "stream",
     "text": [
      "val:\t ((5576, 162), (5576, 8))\n",
      "test:\t((2391, 162), (2391, 8))\n"
     ]
    }
   ],
   "source": [
    "# Split once to get the test and validation set\n",
    "x_val, x_test, y_val, y_test = train_test_split(\n",
    "    x_test, y_test, test_size=0.3, random_state=42)\n",
    "print(\n",
    "    f'val:\\t {x_val.shape, y_val.shape,}\\ntest:\\t{x_test.shape, y_test.shape}')"
   ]
  },
  {
   "cell_type": "code",
   "execution_count": 11,
   "metadata": {},
   "outputs": [],
   "source": [
    "# # scaling our data with sklearn's Standard scaler\n",
    "# scaler = StandardScaler()\n",
    "# x_train = scaler.fit_transform(x_train)\n",
    "# x_test = scaler.transform(x_test)\n",
    "# x_val = scaler.fit_transform(x_val)\n",
    "# print(\n",
    "#     f'train:\\t {x_train.shape, y_train.shape,}\\ntest:\\t{x_val.shape, y_val.shape}\\ntest: {x_test.shape, y_test.shape}')"
   ]
  },
  {
   "cell_type": "markdown",
   "metadata": {},
   "source": [
    "## Model, train\n"
   ]
  },
  {
   "cell_type": "markdown",
   "metadata": {},
   "source": [
    "vgg9 no uk v1\n"
   ]
  },
  {
   "cell_type": "code",
   "execution_count": null,
   "metadata": {},
   "outputs": [],
   "source": [
    "# model = Sequential()\n",
    "# model.add(Conv1D(64, kernel_size=3, padding='same',\n",
    "#           activation='relu', input_shape=(x_train.shape[1], 1)))\n",
    "# model.add(MaxPooling1D(pool_size=2, strides=2, padding='same'))\n",
    "# model.add(Conv1D(128, kernel_size=3, padding='same', activation='relu'))\n",
    "# model.add(MaxPooling1D(pool_size=2, strides=2, padding='same'))\n",
    "# model.add(Dropout(0.2))\n",
    "# model.add(Conv1D(256, kernel_size=3, activation='relu'))\n",
    "# model.add(Conv1D(256, kernel_size=3, padding='same', activation='relu'))\n",
    "# model.add(MaxPooling1D(pool_size=2, strides=2, padding='same'))\n",
    "# model.add(Dropout(0.2))\n",
    "# model.add(Conv1D(512, kernel_size=3, activation='relu'))\n",
    "# model.add(Conv1D(512, kernel_size=3, padding='same', activation='relu'))\n",
    "# model.add(MaxPooling1D(pool_size=2, strides=2, padding='same'))\n",
    "# model.add(Dropout(0.2))\n",
    "# model.add(Flatten())\n",
    "# model.add(Dense(units=64, activation='relu'))\n",
    "# model.add(Dense(units=64, activation='relu'))\n",
    "# model.add(Dense(units=emotions_number, activation='softmax'))\n",
    "# model.compile(optimizer='adam', loss='categorical_crossentropy',\n",
    "#               metrics=['accuracy'])\n",
    "\n",
    "# model.summary()"
   ]
  },
  {
   "cell_type": "markdown",
   "metadata": {},
   "source": [
    "vgg\n"
   ]
  },
  {
   "cell_type": "code",
   "execution_count": 41,
   "metadata": {},
   "outputs": [
    {
     "name": "stdout",
     "output_type": "stream",
     "text": [
      "Model: \"sequential_6\"\n",
      "_________________________________________________________________\n",
      " Layer (type)                Output Shape              Param #   \n",
      "=================================================================\n",
      " conv1d_25 (Conv1D)          (None, 54, 64)            384       \n",
      "                                                                 \n",
      " max_pooling1d_20 (MaxPoolin  (None, 27, 64)           0         \n",
      " g1D)                                                            \n",
      "                                                                 \n",
      " conv1d_26 (Conv1D)          (None, 27, 128)           24704     \n",
      "                                                                 \n",
      " max_pooling1d_21 (MaxPoolin  (None, 14, 128)          0         \n",
      " g1D)                                                            \n",
      "                                                                 \n",
      " dropout_15 (Dropout)        (None, 14, 128)           0         \n",
      "                                                                 \n",
      " conv1d_27 (Conv1D)          (None, 14, 256)           98560     \n",
      "                                                                 \n",
      " max_pooling1d_22 (MaxPoolin  (None, 7, 256)           0         \n",
      " g1D)                                                            \n",
      "                                                                 \n",
      " dropout_16 (Dropout)        (None, 7, 256)            0         \n",
      "                                                                 \n",
      " conv1d_28 (Conv1D)          (None, 7, 512)            393728    \n",
      "                                                                 \n",
      " conv1d_29 (Conv1D)          (None, 7, 512)            786944    \n",
      "                                                                 \n",
      " max_pooling1d_23 (MaxPoolin  (None, 4, 512)           0         \n",
      " g1D)                                                            \n",
      "                                                                 \n",
      " dropout_17 (Dropout)        (None, 4, 512)            0         \n",
      "                                                                 \n",
      " flatten_5 (Flatten)         (None, 2048)              0         \n",
      "                                                                 \n",
      " dense_24 (Dense)            (None, 128)               262272    \n",
      "                                                                 \n",
      " dense_25 (Dense)            (None, 64)                8256      \n",
      "                                                                 \n",
      " dense_26 (Dense)            (None, 32)                2080      \n",
      "                                                                 \n",
      " dense_27 (Dense)            (None, 16)                528       \n",
      "                                                                 \n",
      " dense_28 (Dense)            (None, 8)                 136       \n",
      "                                                                 \n",
      "=================================================================\n",
      "Total params: 1,577,592\n",
      "Trainable params: 1,577,592\n",
      "Non-trainable params: 0\n",
      "_________________________________________________________________\n"
     ]
    }
   ],
   "source": [
    "model = Sequential()\n",
    "model.add(Conv1D(64, kernel_size=5, strides=3, padding='same',\n",
    "          activation='relu', input_shape=(x_train.shape[1], 1)))\n",
    "model.add(MaxPooling1D(pool_size=2, strides=2, padding='same'))\n",
    "model.add(Conv1D(128, kernel_size=3, padding='same', activation='relu'))\n",
    "model.add(MaxPooling1D(pool_size=2, strides=2, padding='same'))\n",
    "model.add(Dropout(0.2))\n",
    "model.add(Conv1D(256, kernel_size=3, padding='same', activation='relu'))\n",
    "model.add(MaxPooling1D(pool_size=2, strides=2, padding='same'))\n",
    "model.add(Dropout(0.2))\n",
    "model.add(Conv1D(512, kernel_size=3, padding='same', activation='relu'))\n",
    "model.add(Conv1D(512, kernel_size=3, padding='same', activation='relu'))\n",
    "model.add(MaxPooling1D(pool_size=2, strides=2, padding='same'))\n",
    "model.add(Dropout(0.25))\n",
    "model.add(Flatten())\n",
    "model.add(Dense(units=128, activation='relu'))\n",
    "model.add(Dense(units=64, activation='relu'))\n",
    "model.add(Dense(units=32, activation='relu'))\n",
    "model.add(Dense(units=16, activation='relu'))\n",
    "model.add(Dense(units=emotions_number, activation='softmax'))\n",
    "model.compile(optimizer='adam', loss='categorical_crossentropy',\n",
    "              metrics=['accuracy'])\n",
    "\n",
    "model.summary()"
   ]
  },
  {
   "cell_type": "markdown",
   "metadata": {},
   "source": [
    "vgg18\n"
   ]
  },
  {
   "cell_type": "code",
   "execution_count": 42,
   "metadata": {},
   "outputs": [],
   "source": [
    "# model = Sequential()\n",
    "# model.add(Conv1D(64, kernel_size=5, strides=3, padding='same',\n",
    "#           activation='relu', input_shape=(x_train.shape[1], 1)))\n",
    "# model.add(MaxPooling1D(pool_size=2, strides=2, padding='same'))\n",
    "# model.add(Conv1D(96, kernel_size=3, padding='same', activation='relu'))\n",
    "# model.add(MaxPooling1D(pool_size=2, strides=2, padding='same'))\n",
    "# model.add(Dropout(0.3))\n",
    "# model.add(Conv1D(128, kernel_size=3, padding='same', activation='relu'))\n",
    "# model.add(Conv1D(128, kernel_size=3, padding='same', activation='relu'))\n",
    "# model.add(Conv1D(128, kernel_size=3, padding='same', activation='relu'))\n",
    "# model.add(Conv1D(128, kernel_size=3, padding='same', activation='relu'))\n",
    "# model.add(MaxPooling1D(pool_size=2, strides=2, padding='same'))\n",
    "# model.add(Dropout(0.3))\n",
    "# model.add(Conv1D(256, kernel_size=3, padding='same', activation='relu'))\n",
    "# model.add(Conv1D(256, kernel_size=3, padding='same', activation='relu'))\n",
    "# model.add(Conv1D(256, kernel_size=3, padding='same', activation='relu'))\n",
    "# model.add(Conv1D(256, kernel_size=3, padding='same', activation='relu'))\n",
    "# model.add(MaxPooling1D(pool_size=2, strides=2, padding='same'))\n",
    "# model.add(Dropout(0.3))\n",
    "# model.add(Conv1D(512, kernel_size=3, padding='same', activation='relu'))\n",
    "# model.add(Conv1D(512, kernel_size=3, padding='same', activation='relu'))\n",
    "# model.add(Conv1D(512, kernel_size=3, padding='same', activation='relu'))\n",
    "# model.add(Conv1D(512, kernel_size=3, padding='same', activation='relu'))\n",
    "# model.add(MaxPooling1D(pool_size=2, strides=2, padding='same'))\n",
    "# model.add(Dropout(0.3))\n",
    "# model.add(Flatten())\n",
    "# model.add(Dense(units=64, activation='relu'))\n",
    "# model.add(Dense(units=64, activation='relu'))\n",
    "# model.add(Dense(units=32, activation='relu'))\n",
    "# model.add(Dense(units=16, activation='relu'))\n",
    "# model.add(Dense(units=emotions_number, activation='softmax'))\n",
    "# model.compile(optimizer='adam', loss='categorical_crossentropy',\n",
    "#               metrics=['accuracy'])\n",
    "\n",
    "# model.summary()"
   ]
  },
  {
   "cell_type": "code",
   "execution_count": 43,
   "metadata": {},
   "outputs": [
    {
     "name": "stdout",
     "output_type": "stream",
     "text": [
      "Epoch 1/20\n",
      "873/873 [==============================] - 10s 10ms/step - loss: 1.6293 - accuracy: 0.3309 - val_loss: 1.4250 - val_accuracy: 0.4311 - lr: 0.0010\n",
      "Epoch 2/20\n",
      "873/873 [==============================] - 9s 10ms/step - loss: 1.3226 - accuracy: 0.4604 - val_loss: 1.1815 - val_accuracy: 0.5188 - lr: 0.0010\n",
      "Epoch 3/20\n",
      "873/873 [==============================] - 9s 10ms/step - loss: 1.2230 - accuracy: 0.5060 - val_loss: 1.2255 - val_accuracy: 0.5177 - lr: 0.0010\n",
      "Epoch 4/20\n",
      "873/873 [==============================] - 8s 10ms/step - loss: 1.1800 - accuracy: 0.5229 - val_loss: 1.0988 - val_accuracy: 0.5539 - lr: 0.0010\n",
      "Epoch 5/20\n",
      "873/873 [==============================] - 9s 10ms/step - loss: 1.1411 - accuracy: 0.5350 - val_loss: 1.0635 - val_accuracy: 0.5739 - lr: 0.0010\n",
      "Epoch 6/20\n",
      "873/873 [==============================] - 9s 10ms/step - loss: 1.1164 - accuracy: 0.5489 - val_loss: 1.0441 - val_accuracy: 0.5768 - lr: 0.0010\n",
      "Epoch 7/20\n",
      "873/873 [==============================] - 9s 10ms/step - loss: 1.1050 - accuracy: 0.5519 - val_loss: 1.0209 - val_accuracy: 0.5951 - lr: 0.0010\n",
      "Epoch 8/20\n",
      "873/873 [==============================] - 9s 10ms/step - loss: 1.0646 - accuracy: 0.5731 - val_loss: 1.0084 - val_accuracy: 0.5947 - lr: 0.0010\n",
      "Epoch 9/20\n",
      "873/873 [==============================] - 9s 10ms/step - loss: 1.0458 - accuracy: 0.5863 - val_loss: 1.0001 - val_accuracy: 0.6058 - lr: 0.0010\n",
      "Epoch 10/20\n",
      "873/873 [==============================] - 9s 10ms/step - loss: 1.0200 - accuracy: 0.5899 - val_loss: 1.0017 - val_accuracy: 0.6105 - lr: 0.0010\n",
      "Epoch 11/20\n",
      "873/873 [==============================] - 9s 10ms/step - loss: 0.9988 - accuracy: 0.6005 - val_loss: 0.9694 - val_accuracy: 0.6101 - lr: 0.0010\n",
      "Epoch 12/20\n",
      "873/873 [==============================] - 8s 10ms/step - loss: 0.9676 - accuracy: 0.6162 - val_loss: 0.9477 - val_accuracy: 0.6369 - lr: 0.0010\n",
      "Epoch 13/20\n",
      "873/873 [==============================] - 9s 10ms/step - loss: 0.9448 - accuracy: 0.6272 - val_loss: 0.9392 - val_accuracy: 0.6502 - lr: 0.0010\n",
      "Epoch 14/20\n",
      "873/873 [==============================] - 10s 12ms/step - loss: 0.9182 - accuracy: 0.6377 - val_loss: 0.9245 - val_accuracy: 0.6455 - lr: 0.0010\n",
      "Epoch 15/20\n",
      "873/873 [==============================] - 9s 11ms/step - loss: 0.9008 - accuracy: 0.6473 - val_loss: 0.8814 - val_accuracy: 0.6745 - lr: 0.0010\n",
      "Epoch 16/20\n",
      "873/873 [==============================] - 9s 10ms/step - loss: 0.8795 - accuracy: 0.6554 - val_loss: 0.8359 - val_accuracy: 0.6860 - lr: 0.0010\n",
      "Epoch 17/20\n",
      "873/873 [==============================] - 9s 10ms/step - loss: 0.8534 - accuracy: 0.6693 - val_loss: 0.8729 - val_accuracy: 0.6738 - lr: 0.0010\n",
      "Epoch 18/20\n",
      "873/873 [==============================] - 9s 10ms/step - loss: 0.8204 - accuracy: 0.6811 - val_loss: 0.8680 - val_accuracy: 0.6942 - lr: 0.0010\n",
      "Epoch 19/20\n",
      "873/873 [==============================] - 9s 10ms/step - loss: 0.8058 - accuracy: 0.6903 - val_loss: 0.8162 - val_accuracy: 0.7103 - lr: 0.0010\n",
      "Epoch 20/20\n",
      "873/873 [==============================] - 9s 10ms/step - loss: 0.7861 - accuracy: 0.6979 - val_loss: 0.8118 - val_accuracy: 0.7250 - lr: 0.0010\n"
     ]
    }
   ],
   "source": [
    "rlrp = ReduceLROnPlateau(monitor='loss', factor=0.4,\n",
    "                         verbose=0, patience=2, min_lr=0.0000001)\n",
    "\n",
    "\n",
    "history = model.fit(x_train, y_train_enc, batch_size=32, epochs=20,\n",
    "                    validation_data=(x_val, y_val_enc), callbacks=[rlrp])"
   ]
  },
  {
   "cell_type": "code",
   "execution_count": 44,
   "metadata": {},
   "outputs": [],
   "source": [
    "def print_report(model, history, test_x, test_y):\n",
    "    print(\"Accuracy of our model on test data : \",\n",
    "          model.evaluate(test_x, test_y)[1]*100, \"%\")\n",
    "\n",
    "    epochs = history.epoch\n",
    "\n",
    "    fig, ax = plt.subplots(1, 2)\n",
    "\n",
    "    train_acc = history.history['accuracy']\n",
    "    train_loss = history.history['loss']\n",
    "    test_acc = history.history['val_accuracy']\n",
    "    test_loss = history.history['val_loss']\n",
    "\n",
    "    fig.set_size_inches(20, 6)\n",
    "    ax[0].plot(epochs, train_loss, label='Training Loss')\n",
    "    ax[0].plot(epochs, test_loss, label='Testing Loss')\n",
    "    ax[0].set_title('Training & Testing Loss')\n",
    "    ax[0].legend()\n",
    "    ax[0].set_xlabel(\"Epochs\")\n",
    "    ax[1].plot(epochs, train_acc, label='Training Accuracy')\n",
    "    ax[1].plot(epochs, test_acc, label='Testing Accuracy')\n",
    "    ax[1].set_title('Training & Testing Accuracy')\n",
    "    ax[1].legend()\n",
    "    ax[1].set_xlabel(\"Epochs\")\n",
    "\n",
    "    plt.show()"
   ]
  },
  {
   "cell_type": "code",
   "execution_count": 45,
   "metadata": {},
   "outputs": [],
   "source": [
    "def print_confusion_matrix(test, pred, size=(12, 10)):\n",
    "    cm = confusion_matrix(test, pred)\n",
    "    plt.figure(figsize=size)\n",
    "    cm = pd.DataFrame(cm, index=[i for i in encoder.categories_], columns=[\n",
    "        i for i in encoder.categories_])\n",
    "    sns.heatmap(cm, linecolor='white', cmap='Blues',\n",
    "                linewidth=1, annot=True, fmt='')\n",
    "    plt.title('Confusion Matrix', size=20)\n",
    "    plt.xlabel('Predicted Labels', size=14)\n",
    "    plt.ylabel('Actual Labels', size=14)\n",
    "    plt.show()"
   ]
  },
  {
   "cell_type": "code",
   "execution_count": 46,
   "metadata": {},
   "outputs": [
    {
     "name": "stdout",
     "output_type": "stream",
     "text": [
      "38/38 [==============================] - 0s 4ms/step - loss: 0.8398 - accuracy: 0.7070\n",
      "Accuracy of our model on test data :  70.70116996765137 %\n"
     ]
    },
    {
     "data": {
      "image/png": "[encoded data removed]",
      "text/plain": [
       "<Figure size 2000x600 with 2 Axes>"
      ]
     },
     "metadata": {},
     "output_type": "display_data"
    }
   ],
   "source": [
    "print_report(model, history, x_test, y_test_enc)"
   ]
  },
  {
   "cell_type": "code",
   "execution_count": 47,
   "metadata": {},
   "outputs": [
    {
     "name": "stdout",
     "output_type": "stream",
     "text": [
      "38/38 [==============================] - 0s 3ms/step\n"
     ]
    }
   ],
   "source": [
    "# predicting on test data.\n",
    "pred_enc = model.predict(x_test)\n",
    "pred = encoder.inverse_transform(pred_enc)\n",
    "\n",
    "y_test_decoded = encoder.inverse_transform(y_test_enc)"
   ]
  },
  {
   "cell_type": "code",
   "execution_count": 48,
   "metadata": {},
   "outputs": [],
   "source": [
    "# df = pd.DataFrame(columns=['Predicted Labels', 'Actual Labels'])\n",
    "# df['Predicted Labels'] = y_pred.flatten()\n",
    "# df['Actual Labels'] = y_test_decoded.flatten()\n",
    "\n",
    "# df.head(10)"
   ]
  },
  {
   "cell_type": "code",
   "execution_count": 49,
   "metadata": {},
   "outputs": [
    {
     "name": "stdout",
     "output_type": "stream",
     "text": [
      "(1198, 1) (1198, 1)\n"
     ]
    }
   ],
   "source": [
    "print(y_test_decoded.shape, pred.shape)"
   ]
  },
  {
   "cell_type": "code",
   "execution_count": 50,
   "metadata": {},
   "outputs": [
    {
     "data": {
      "image/png": "[encoded data removed]",
      "text/plain": [
       "<Figure size 1200x1000 with 2 Axes>"
      ]
     },
     "metadata": {},
     "output_type": "display_data"
    }
   ],
   "source": [
    "print_confusion_matrix(y_test_decoded, pred)"
   ]
  },
  {
   "cell_type": "code",
   "execution_count": 51,
   "metadata": {},
   "outputs": [
    {
     "name": "stdout",
     "output_type": "stream",
     "text": [
      "              precision    recall  f1-score   support\n",
      "\n",
      "       anger       0.84      0.81      0.82       199\n",
      "        calm       0.47      1.00      0.64        24\n",
      "    contempt       0.66      0.59      0.62       193\n",
      "        fear       0.76      0.61      0.68       180\n",
      "   happiness       0.70      0.73      0.71       204\n",
      "     neutral       0.61      0.75      0.67       154\n",
      "     sadness       0.66      0.66      0.66       173\n",
      "    surprise       0.92      0.82      0.87        71\n",
      "\n",
      "    accuracy                           0.71      1198\n",
      "   macro avg       0.70      0.75      0.71      1198\n",
      "weighted avg       0.72      0.71      0.71      1198\n",
      "\n"
     ]
    }
   ],
   "source": [
    "print(classification_report(y_test_decoded, pred))"
   ]
  },
  {
   "cell_type": "markdown",
   "metadata": {},
   "source": [
    "## Save model\n"
   ]
  },
  {
   "cell_type": "code",
   "execution_count": 52,
   "metadata": {},
   "outputs": [
    {
     "name": "stderr",
     "output_type": "stream",
     "text": [
      "WARNING:absl:Found untraced functions such as _jit_compiled_convolution_op, _jit_compiled_convolution_op, _jit_compiled_convolution_op, _jit_compiled_convolution_op, _jit_compiled_convolution_op while saving (showing 5 of 5). These functions will not be directly callable after loading.\n"
     ]
    },
    {
     "name": "stdout",
     "output_type": "stream",
     "text": [
      "INFO:tensorflow:Assets written to: C:\\Users\\nicko\\AppData\\Local\\Temp\\tmpnha4688c\\assets\n"
     ]
    },
    {
     "name": "stderr",
     "output_type": "stream",
     "text": [
      "INFO:tensorflow:Assets written to: C:\\Users\\nicko\\AppData\\Local\\Temp\\tmpnha4688c\\assets\n"
     ]
    }
   ],
   "source": [
    "model.save('./saved_models/vgg-like-v1.keras')\n",
    "\n",
    "converter = tf.lite.TFLiteConverter.from_keras_model(model)\n",
    "tflite_model = converter.convert()\n",
    "\n",
    "\n",
    "with open('./saved_models/vgg-like-v1.tflite', 'wb') as f:\n",
    "    f.write(tflite_model)"
   ]
  },
  {
   "cell_type": "markdown",
   "metadata": {},
   "source": [
    "metadata (skip for now)\n"
   ]
  },
  {
   "cell_type": "code",
   "execution_count": 22,
   "metadata": {},
   "outputs": [],
   "source": [
    "# from tflite_support import flatbuffers\n",
    "# from tflite_support import metadata as _metadata\n",
    "# from tflite_support import metadata_schema_py_generated as _metadata_fb\n",
    "\n",
    "# # Creates model info.\n",
    "# model_meta = _metadata_fb.ModelMetadataT()\n",
    "# model_meta.name = \"Speech emotion recognition\"\n",
    "# model_meta.description = (\"Identify emotion of human voice\")\n",
    "# model_meta.version = \"v2\"\n",
    "# model_meta.author = \"Mykola Nosenko\"\n",
    "# model_meta.license = (\"Apache License. Version 2.0 \"\n",
    "#                       \"http://www.apache.org/licenses/LICENSE-2.0.\")  # verify later"
   ]
  },
  {
   "cell_type": "code",
   "execution_count": 23,
   "metadata": {},
   "outputs": [],
   "source": [
    "# # Creates output info.\n",
    "# output_meta = _metadata_fb.TensorMetadataT()\n",
    "# output_meta.name = \"probability\"\n",
    "# output_meta.description = \"Probabilities of the 8 labels respectively.\"\n",
    "# output_meta.content = _metadata_fb.ContentT()\n",
    "# output_meta.content.content_properties = _metadata_fb.FeaturePropertiesT()\n",
    "# output_meta.content.contentPropertiesType = (\n",
    "#     _metadata_fb.ContentProperties.FeatureProperties)\n",
    "# output_stats = _metadata_fb.StatsT()\n",
    "# output_stats.max = [1.0]\n",
    "# output_stats.min = [0.0]\n",
    "# output_meta.stats = output_stats\n",
    "# label_file = _metadata_fb.AssociatedFileT()\n",
    "# label_file.name = os.path.basename(\"./emotion_labels.txt\")\n",
    "# label_file.description = \"Labels for emotions that the model can recognize.\"\n",
    "# label_file.type = _metadata_fb.AssociatedFileType.TENSOR_AXIS_LABELS\n",
    "# output_meta.associatedFiles = [label_file]"
   ]
  },
  {
   "cell_type": "code",
   "execution_count": 24,
   "metadata": {},
   "outputs": [],
   "source": [
    "# # Creates subgraph info.\n",
    "# subgraph = _metadata_fb.SubGraphMetadataT()\n",
    "# # subgraph.inputTensorMetadata = [input_meta]\n",
    "# subgraph.outputTensorMetadata = [output_meta]\n",
    "# model_meta.subgraphMetadata = [subgraph]\n",
    "\n",
    "# b = flatbuffers.Builder(0)\n",
    "# b.Finish(\n",
    "#     model_meta.Pack(b),\n",
    "#     _metadata.MetadataPopulator.METADATA_FILE_IDENTIFIER)\n",
    "# metadata_buf = b.Output()"
   ]
  },
  {
   "cell_type": "code",
   "execution_count": 25,
   "metadata": {},
   "outputs": [],
   "source": [
    "# populator = _metadata.MetadataPopulator.with_model_file('./model.tflite')\n",
    "# populator.load_metadata_buffer(metadata_buf)\n",
    "# populator.load_associated_files([\"./emotion_labels.txt\"])\n",
    "# populator.populate()"
   ]
  },
  {
   "cell_type": "code",
   "execution_count": 26,
   "metadata": {},
   "outputs": [],
   "source": [
    "# displayer = _metadata.MetadataDisplayer.with_model_file(\n",
    "#     \"./model.tflite\")\n",
    "# export_json_file = os.path.join(\"D:/Documents/export_models/model.json\")\n",
    "# json_file = displayer.get_metadata_json()\n",
    "# # Optional: write out the metadata as a json file\n",
    "# with open(export_json_file, \"w\") as f:\n",
    "#     f.write(json_file)"
   ]
  },
  {
   "cell_type": "code",
   "execution_count": 27,
   "metadata": {},
   "outputs": [],
   "source": [
    "# # Convert the model\n",
    "# converter = tf.lite.TFLiteConverter.from_saved_model(\n",
    "#     \"./saved_models/ser4.keras\")  # path to the SavedModel directory\n",
    "# tflite_model = converter.convert()\n",
    "\n",
    "# # Save the model.\n",
    "# with open('ser4-model.tflite', 'wb') as f:\n",
    "#     f.write(tflite_model)"
   ]
  },
  {
   "cell_type": "markdown",
   "metadata": {},
   "source": [
    "## Test model\n"
   ]
  },
  {
   "cell_type": "code",
   "execution_count": 28,
   "metadata": {},
   "outputs": [],
   "source": [
    "# model_l = tf.keras.models.load_model('./saved_models/ser4-v4.keras')\n",
    "# model_l.summary()"
   ]
  },
  {
   "cell_type": "code",
   "execution_count": 21,
   "metadata": {},
   "outputs": [],
   "source": [
    "X_uk = features_uk_df.iloc[:, :-1].values\n",
    "y_uk = features_uk_df['labels'].values"
   ]
  },
  {
   "cell_type": "code",
   "execution_count": 22,
   "metadata": {},
   "outputs": [],
   "source": [
    "fear_label = 'fear'\n",
    "contempt_label = 'contempt'  # disgust\n",
    "happiness_label = 'happiness'\n",
    "anger_label = 'anger'\n",
    "sadness_label = 'sadness'\n",
    "neutral_label = 'neutral'\n",
    "surprise_label = 'surprise'\n",
    "calm_label = 'calm'\n",
    "\n",
    "emotions = [fear_label, contempt_label, happiness_label, anger_label,\n",
    "            sadness_label, neutral_label, surprise_label, calm_label]"
   ]
  },
  {
   "cell_type": "code",
   "execution_count": 23,
   "metadata": {},
   "outputs": [],
   "source": [
    "encoder_uk = OneHotEncoder(categories=[emotions])\n",
    "y_uk = encoder_uk.fit_transform(np.array(y_uk).reshape(-1, 1)).toarray()"
   ]
  },
  {
   "cell_type": "code",
   "execution_count": 24,
   "metadata": {},
   "outputs": [
    {
     "name": "stdout",
     "output_type": "stream",
     "text": [
      "3/3 - 0s - loss: 9.2090 - accuracy: 0.0897 - 451ms/epoch - 150ms/step\n",
      "Restored model, accuracy:  8.97%\n"
     ]
    }
   ],
   "source": [
    "loss, acc = model.evaluate(X_uk, y_uk, verbose=2)\n",
    "print('Restored model, accuracy: {:5.2f}%'.format(100 * acc))"
   ]
  },
  {
   "cell_type": "code",
   "execution_count": 25,
   "metadata": {},
   "outputs": [
    {
     "name": "stdout",
     "output_type": "stream",
     "text": [
      "3/3 [==============================] - 0s 7ms/step\n",
      "(78, 1)\n",
      "(78, 1)\n"
     ]
    }
   ],
   "source": [
    "pred_uk = model.predict(X_uk)\n",
    "pred_uk_decoded = encoder_uk.inverse_transform(pred_uk)\n",
    "y_uk_decoded = encoder_uk.inverse_transform(y_uk)\n",
    "print(pred_uk_decoded.shape)\n",
    "print(y_uk_decoded.shape)"
   ]
  },
  {
   "cell_type": "code",
   "execution_count": 26,
   "metadata": {},
   "outputs": [
    {
     "data": {
      "text/plain": [
       "array([[ 0,  0,  0,  6,  0,  0,  0,  3],\n",
       "       [ 0,  0,  0,  0,  0,  0,  0,  0],\n",
       "       [ 5,  5,  0,  3,  7,  2,  0, 14],\n",
       "       [ 0,  0,  0,  0,  3,  0,  0,  3],\n",
       "       [ 2,  3,  0,  0,  7,  0,  5,  7],\n",
       "       [ 0,  0,  0,  0,  0,  0,  0,  0],\n",
       "       [ 0,  0,  0,  0,  0,  0,  0,  3],\n",
       "       [ 0,  0,  0,  0,  0,  0,  0,  0]], dtype=int64)"
      ]
     },
     "execution_count": 26,
     "metadata": {},
     "output_type": "execute_result"
    }
   ],
   "source": [
    "cm = confusion_matrix(y_uk_decoded, pred_uk_decoded)\n",
    "cm"
   ]
  },
  {
   "cell_type": "code",
   "execution_count": 27,
   "metadata": {},
   "outputs": [
    {
     "name": "stdout",
     "output_type": "stream",
     "text": [
      "              precision    recall  f1-score   support\n",
      "\n",
      "       anger       0.00      0.00      0.00         9\n",
      "        calm       0.00      0.00      0.00         0\n",
      "    contempt       0.00      0.00      0.00        36\n",
      "        fear       0.00      0.00      0.00         6\n",
      "   happiness       0.41      0.29      0.34        24\n",
      "     neutral       0.00      0.00      0.00         0\n",
      "     sadness       0.00      0.00      0.00         3\n",
      "    surprise       0.00      0.00      0.00         0\n",
      "\n",
      "    accuracy                           0.09        78\n",
      "   macro avg       0.05      0.04      0.04        78\n",
      "weighted avg       0.13      0.09      0.11        78\n",
      "\n"
     ]
    }
   ],
   "source": [
    "print(classification_report(y_uk_decoded, pred_uk_decoded))"
   ]
  },
  {
   "cell_type": "code",
   "execution_count": 28,
   "metadata": {},
   "outputs": [
    {
     "name": "stdout",
     "output_type": "stream",
     "text": [
      "Memory usage: 0.019 GB\n"
     ]
    }
   ],
   "source": [
    "from model_analyzer import get_model_memory_usage\n",
    "\n",
    "\n",
    "print(f'Memory usage: {get_model_memory_usage(32, model)} GB')"
   ]
  },
  {
   "cell_type": "code",
   "execution_count": null,
   "metadata": {},
   "outputs": [],
   "source": []
  }
 ],
 "metadata": {
  "kernelspec": {
   "display_name": ".venv",
   "language": "python",
   "name": "python3"
  },
  "language_info": {
   "codemirror_mode": {
    "name": "ipython",
    "version": 3
   },
   "file_extension": ".py",
   "mimetype": "text/x-python",
   "name": "python",
   "nbconvert_exporter": "python",
   "pygments_lexer": "ipython3",
   "version": "3.10.6"
  }
 },
 "nbformat": 4,
 "nbformat_minor": 2
}
