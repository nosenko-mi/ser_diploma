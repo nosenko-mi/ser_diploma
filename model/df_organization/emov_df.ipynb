{
 "cells": [
  {
   "cell_type": "code",
   "execution_count": 1,
   "metadata": {},
   "outputs": [],
   "source": [
    "import os\n",
    "import pandas as pd\n",
    "\n",
    "from os.path import join, basename, isdir, isfile, exists\n",
    "from pathlib import Path"
   ]
  },
  {
   "cell_type": "code",
   "execution_count": 2,
   "metadata": {},
   "outputs": [],
   "source": [
    "base_dir = r'I:\\Datasets\\emov-db'\n"
   ]
  },
  {
   "cell_type": "code",
   "execution_count": 3,
   "metadata": {},
   "outputs": [],
   "source": [
    "contempt_label = 'contempt'  # disgust"
   ]
  },
  {
   "cell_type": "code",
   "execution_count": 4,
   "metadata": {},
   "outputs": [],
   "source": [
    "def get_all_files(path):\n",
    "    files = []\n",
    "    for f in os.listdir(path):\n",
    "        full_path = join(path, f)\n",
    "        if isfile(full_path) and f[0] != '.':\n",
    "            files.append(full_path)\n",
    "    return files\n",
    "\n",
    "\n",
    "emov_map = {'emotion': [], 'path': []}\n",
    "for i in os.listdir(base_dir):\n",
    "    dir_path = join(base_dir, i)\n",
    "    if (not isdir(dir_path)):\n",
    "        continue\n",
    "    files = get_all_files(dir_path)\n",
    "    emov_map['path'].extend(files)\n",
    "    emov_map['emotion'].extend([contempt_label.lower()] * len(files))\n",
    "    "
   ]
  },
  {
   "cell_type": "code",
   "execution_count": 7,
   "metadata": {},
   "outputs": [
    {
     "data": {
      "text/html": [
       "<div>\n",
       "<style scoped>\n",
       "    .dataframe tbody tr th:only-of-type {\n",
       "        vertical-align: middle;\n",
       "    }\n",
       "\n",
       "    .dataframe tbody tr th {\n",
       "        vertical-align: top;\n",
       "    }\n",
       "\n",
       "    .dataframe thead th {\n",
       "        text-align: right;\n",
       "    }\n",
       "</style>\n",
       "<table border=\"1\" class=\"dataframe\">\n",
       "  <thead>\n",
       "    <tr style=\"text-align: right;\">\n",
       "      <th></th>\n",
       "      <th>emotion</th>\n",
       "      <th>path</th>\n",
       "    </tr>\n",
       "  </thead>\n",
       "  <tbody>\n",
       "    <tr>\n",
       "      <th>0</th>\n",
       "      <td>contempt</td>\n",
       "      <td>I:\\Datasets\\emov-db\\disgusted1\\disgust_141-168...</td>\n",
       "    </tr>\n",
       "    <tr>\n",
       "      <th>1</th>\n",
       "      <td>contempt</td>\n",
       "      <td>I:\\Datasets\\emov-db\\disgusted1\\disgust_141-168...</td>\n",
       "    </tr>\n",
       "    <tr>\n",
       "      <th>2</th>\n",
       "      <td>contempt</td>\n",
       "      <td>I:\\Datasets\\emov-db\\disgusted1\\disgust_141-168...</td>\n",
       "    </tr>\n",
       "    <tr>\n",
       "      <th>3</th>\n",
       "      <td>contempt</td>\n",
       "      <td>I:\\Datasets\\emov-db\\disgusted1\\disgust_141-168...</td>\n",
       "    </tr>\n",
       "    <tr>\n",
       "      <th>4</th>\n",
       "      <td>contempt</td>\n",
       "      <td>I:\\Datasets\\emov-db\\disgusted1\\disgust_141-168...</td>\n",
       "    </tr>\n",
       "  </tbody>\n",
       "</table>\n",
       "</div>"
      ],
      "text/plain": [
       "    emotion                                               path\n",
       "0  contempt  I:\\Datasets\\emov-db\\disgusted1\\disgust_141-168...\n",
       "1  contempt  I:\\Datasets\\emov-db\\disgusted1\\disgust_141-168...\n",
       "2  contempt  I:\\Datasets\\emov-db\\disgusted1\\disgust_141-168...\n",
       "3  contempt  I:\\Datasets\\emov-db\\disgusted1\\disgust_141-168...\n",
       "4  contempt  I:\\Datasets\\emov-db\\disgusted1\\disgust_141-168..."
      ]
     },
     "execution_count": 7,
     "metadata": {},
     "output_type": "execute_result"
    }
   ],
   "source": [
    "emov_df = pd.DataFrame(emov_map)\n",
    "emov_df.head(5)"
   ]
  },
  {
   "cell_type": "code",
   "execution_count": 8,
   "metadata": {},
   "outputs": [
    {
     "data": {
      "text/plain": [
       "contempt    1019\n",
       "Name: emotion, dtype: int64"
      ]
     },
     "execution_count": 8,
     "metadata": {},
     "output_type": "execute_result"
    }
   ],
   "source": [
    "emov_df.emotion.value_counts()\n"
   ]
  },
  {
   "cell_type": "code",
   "execution_count": 9,
   "metadata": {},
   "outputs": [],
   "source": [
    "emov_df.to_csv('emov_df.csv', index=False)\n"
   ]
  }
 ],
 "metadata": {
  "kernelspec": {
   "display_name": "Python 3",
   "language": "python",
   "name": "python3"
  },
  "language_info": {
   "codemirror_mode": {
    "name": "ipython",
    "version": 3
   },
   "file_extension": ".py",
   "mimetype": "text/x-python",
   "name": "python",
   "nbconvert_exporter": "python",
   "pygments_lexer": "ipython3",
   "version": "3.10.5"
  }
 },
 "nbformat": 4,
 "nbformat_minor": 2
}
