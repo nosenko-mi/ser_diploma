{
 "cells": [
  {
   "cell_type": "code",
   "execution_count": 8,
   "metadata": {},
   "outputs": [],
   "source": [
    "import os\n",
    "import pandas as pd"
   ]
  },
  {
   "cell_type": "code",
   "execution_count": 9,
   "metadata": {},
   "outputs": [],
   "source": [
    "fear_label = 'fear'\n",
    "contempt_label = 'contempt'  # disgust\n",
    "happiness_label = 'happiness'\n",
    "anger_label = 'anger'\n",
    "sadness_label = 'sadness'\n",
    "neutral_label = 'neutral'\n",
    "surprise_label = 'surprise'\n",
    "calm_label = 'calm'"
   ]
  },
  {
   "cell_type": "code",
   "execution_count": 10,
   "metadata": {},
   "outputs": [],
   "source": [
    "Emofilm = 'D:/Programming/nn/emotion_classification/datasets/emofilm/wav_corpus/'"
   ]
  },
  {
   "cell_type": "code",
   "execution_count": 11,
   "metadata": {},
   "outputs": [],
   "source": [
    "def load(path):\n",
    "    emofilm_emotions = {\n",
    "        'ans': fear_label,\n",
    "        'dis': contempt_label,\n",
    "        'gio': happiness_label,\n",
    "        'rab': anger_label,\n",
    "        'tri': sadness_label\n",
    "    }\n",
    "\n",
    "    emofilm_map = {'emotion': [], 'path': [], }\n",
    "    emofilm_info_df = pd.read_csv(path)\n",
    "    for index, row in emofilm_info_df.iterrows():\n",
    "        emofilm_map['emotion'].append(emofilm_emotions.get(row.emotion))\n",
    "        emofilm_map['path'].append(os.path.join(Emofilm, row.file) + '.wav')\n",
    "\n",
    "    emofilm_df = pd.DataFrame(emofilm_map)\n",
    "\n",
    "    return emofilm_df"
   ]
  },
  {
   "cell_type": "code",
   "execution_count": 12,
   "metadata": {},
   "outputs": [
    {
     "data": {
      "text/html": [
       "<div>\n",
       "<style scoped>\n",
       "    .dataframe tbody tr th:only-of-type {\n",
       "        vertical-align: middle;\n",
       "    }\n",
       "\n",
       "    .dataframe tbody tr th {\n",
       "        vertical-align: top;\n",
       "    }\n",
       "\n",
       "    .dataframe thead th {\n",
       "        text-align: right;\n",
       "    }\n",
       "</style>\n",
       "<table border=\"1\" class=\"dataframe\">\n",
       "  <thead>\n",
       "    <tr style=\"text-align: right;\">\n",
       "      <th></th>\n",
       "      <th>emotion</th>\n",
       "      <th>path</th>\n",
       "    </tr>\n",
       "  </thead>\n",
       "  <tbody>\n",
       "    <tr>\n",
       "      <th>0</th>\n",
       "      <td>fear</td>\n",
       "      <td>D:/Programming/nn/emotion_classification/datas...</td>\n",
       "    </tr>\n",
       "    <tr>\n",
       "      <th>1</th>\n",
       "      <td>fear</td>\n",
       "      <td>D:/Programming/nn/emotion_classification/datas...</td>\n",
       "    </tr>\n",
       "    <tr>\n",
       "      <th>2</th>\n",
       "      <td>fear</td>\n",
       "      <td>D:/Programming/nn/emotion_classification/datas...</td>\n",
       "    </tr>\n",
       "    <tr>\n",
       "      <th>3</th>\n",
       "      <td>fear</td>\n",
       "      <td>D:/Programming/nn/emotion_classification/datas...</td>\n",
       "    </tr>\n",
       "    <tr>\n",
       "      <th>4</th>\n",
       "      <td>fear</td>\n",
       "      <td>D:/Programming/nn/emotion_classification/datas...</td>\n",
       "    </tr>\n",
       "    <tr>\n",
       "      <th>...</th>\n",
       "      <td>...</td>\n",
       "      <td>...</td>\n",
       "    </tr>\n",
       "    <tr>\n",
       "      <th>1110</th>\n",
       "      <td>sadness</td>\n",
       "      <td>D:/Programming/nn/emotion_classification/datas...</td>\n",
       "    </tr>\n",
       "    <tr>\n",
       "      <th>1111</th>\n",
       "      <td>sadness</td>\n",
       "      <td>D:/Programming/nn/emotion_classification/datas...</td>\n",
       "    </tr>\n",
       "    <tr>\n",
       "      <th>1112</th>\n",
       "      <td>sadness</td>\n",
       "      <td>D:/Programming/nn/emotion_classification/datas...</td>\n",
       "    </tr>\n",
       "    <tr>\n",
       "      <th>1113</th>\n",
       "      <td>sadness</td>\n",
       "      <td>D:/Programming/nn/emotion_classification/datas...</td>\n",
       "    </tr>\n",
       "    <tr>\n",
       "      <th>1114</th>\n",
       "      <td>sadness</td>\n",
       "      <td>D:/Programming/nn/emotion_classification/datas...</td>\n",
       "    </tr>\n",
       "  </tbody>\n",
       "</table>\n",
       "<p>1115 rows × 2 columns</p>\n",
       "</div>"
      ],
      "text/plain": [
       "      emotion                                               path\n",
       "0        fear  D:/Programming/nn/emotion_classification/datas...\n",
       "1        fear  D:/Programming/nn/emotion_classification/datas...\n",
       "2        fear  D:/Programming/nn/emotion_classification/datas...\n",
       "3        fear  D:/Programming/nn/emotion_classification/datas...\n",
       "4        fear  D:/Programming/nn/emotion_classification/datas...\n",
       "...       ...                                                ...\n",
       "1110  sadness  D:/Programming/nn/emotion_classification/datas...\n",
       "1111  sadness  D:/Programming/nn/emotion_classification/datas...\n",
       "1112  sadness  D:/Programming/nn/emotion_classification/datas...\n",
       "1113  sadness  D:/Programming/nn/emotion_classification/datas...\n",
       "1114  sadness  D:/Programming/nn/emotion_classification/datas...\n",
       "\n",
       "[1115 rows x 2 columns]"
      ]
     },
     "execution_count": 12,
     "metadata": {},
     "output_type": "execute_result"
    }
   ],
   "source": [
    "df = load(\n",
    "    \"D:/Programming/nn/emotion_classification/datasets/emofilm/complete_info.csv\")\n",
    "\n",
    "df"
   ]
  },
  {
   "cell_type": "code",
   "execution_count": 13,
   "metadata": {},
   "outputs": [],
   "source": [
    "df.to_csv(\"emofilm_df.csv\", index=False)"
   ]
  },
  {
   "cell_type": "code",
   "execution_count": null,
   "metadata": {},
   "outputs": [],
   "source": []
  }
 ],
 "metadata": {
  "kernelspec": {
   "display_name": ".venv",
   "language": "python",
   "name": "python3"
  },
  "language_info": {
   "codemirror_mode": {
    "name": "ipython",
    "version": 3
   },
   "file_extension": ".py",
   "mimetype": "text/x-python",
   "name": "python",
   "nbconvert_exporter": "python",
   "pygments_lexer": "ipython3",
   "version": "3.10.5"
  }
 },
 "nbformat": 4,
 "nbformat_minor": 2
}
