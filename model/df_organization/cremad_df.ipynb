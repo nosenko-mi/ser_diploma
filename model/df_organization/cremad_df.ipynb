{
 "cells": [
  {
   "cell_type": "code",
   "execution_count": 1,
   "metadata": {},
   "outputs": [],
   "source": [
    "import os\n",
    "import pandas as pd"
   ]
  },
  {
   "cell_type": "code",
   "execution_count": 2,
   "metadata": {},
   "outputs": [],
   "source": [
    "fear_label = 'fear'\n",
    "contempt_label = 'contempt'  # disgust\n",
    "happiness_label = 'happiness'\n",
    "anger_label = 'anger'\n",
    "sadness_label = 'sadness'\n",
    "neutral_label = 'neutral'\n",
    "surprise_label = 'surprise'\n",
    "calm_label = 'calm'"
   ]
  },
  {
   "cell_type": "code",
   "execution_count": 3,
   "metadata": {},
   "outputs": [],
   "source": [
    "def load(path):\n",
    "    cremad_directory_list = os.listdir(path)\n",
    "    cremad_emotions_map = {\n",
    "        'ANG': anger_label,\n",
    "        'DIS': contempt_label,\n",
    "        'FEA': fear_label,\n",
    "        'HAP': happiness_label,\n",
    "        'NEU': neutral_label,\n",
    "        'SAD': sadness_label,\n",
    "    }\n",
    "\n",
    "    cremad_map = {'emotion': [], 'path': [], }\n",
    "\n",
    "    for file in cremad_directory_list:\n",
    "        # storing file emotions\n",
    "        emotion = file.split('_')[2]\n",
    "\n",
    "        cremad_map['path'].append(os.path.join(path, file))\n",
    "        cremad_map['emotion'].append(cremad_emotions_map.get(emotion))\n",
    "\n",
    "    # dataframe for emotion of files\n",
    "    cremad_df = pd.DataFrame(cremad_map)\n",
    "\n",
    "    return cremad_df"
   ]
  },
  {
   "cell_type": "code",
   "execution_count": 4,
   "metadata": {},
   "outputs": [
    {
     "data": {
      "text/html": [
       "<div>\n",
       "<style scoped>\n",
       "    .dataframe tbody tr th:only-of-type {\n",
       "        vertical-align: middle;\n",
       "    }\n",
       "\n",
       "    .dataframe tbody tr th {\n",
       "        vertical-align: top;\n",
       "    }\n",
       "\n",
       "    .dataframe thead th {\n",
       "        text-align: right;\n",
       "    }\n",
       "</style>\n",
       "<table border=\"1\" class=\"dataframe\">\n",
       "  <thead>\n",
       "    <tr style=\"text-align: right;\">\n",
       "      <th></th>\n",
       "      <th>emotion</th>\n",
       "      <th>path</th>\n",
       "    </tr>\n",
       "  </thead>\n",
       "  <tbody>\n",
       "    <tr>\n",
       "      <th>0</th>\n",
       "      <td>anger</td>\n",
       "      <td>D:/Programming/nn/emotion_classification/datas...</td>\n",
       "    </tr>\n",
       "    <tr>\n",
       "      <th>1</th>\n",
       "      <td>contempt</td>\n",
       "      <td>D:/Programming/nn/emotion_classification/datas...</td>\n",
       "    </tr>\n",
       "    <tr>\n",
       "      <th>2</th>\n",
       "      <td>fear</td>\n",
       "      <td>D:/Programming/nn/emotion_classification/datas...</td>\n",
       "    </tr>\n",
       "    <tr>\n",
       "      <th>3</th>\n",
       "      <td>happiness</td>\n",
       "      <td>D:/Programming/nn/emotion_classification/datas...</td>\n",
       "    </tr>\n",
       "    <tr>\n",
       "      <th>4</th>\n",
       "      <td>neutral</td>\n",
       "      <td>D:/Programming/nn/emotion_classification/datas...</td>\n",
       "    </tr>\n",
       "    <tr>\n",
       "      <th>...</th>\n",
       "      <td>...</td>\n",
       "      <td>...</td>\n",
       "    </tr>\n",
       "    <tr>\n",
       "      <th>7437</th>\n",
       "      <td>contempt</td>\n",
       "      <td>D:/Programming/nn/emotion_classification/datas...</td>\n",
       "    </tr>\n",
       "    <tr>\n",
       "      <th>7438</th>\n",
       "      <td>fear</td>\n",
       "      <td>D:/Programming/nn/emotion_classification/datas...</td>\n",
       "    </tr>\n",
       "    <tr>\n",
       "      <th>7439</th>\n",
       "      <td>happiness</td>\n",
       "      <td>D:/Programming/nn/emotion_classification/datas...</td>\n",
       "    </tr>\n",
       "    <tr>\n",
       "      <th>7440</th>\n",
       "      <td>neutral</td>\n",
       "      <td>D:/Programming/nn/emotion_classification/datas...</td>\n",
       "    </tr>\n",
       "    <tr>\n",
       "      <th>7441</th>\n",
       "      <td>sadness</td>\n",
       "      <td>D:/Programming/nn/emotion_classification/datas...</td>\n",
       "    </tr>\n",
       "  </tbody>\n",
       "</table>\n",
       "<p>7442 rows × 2 columns</p>\n",
       "</div>"
      ],
      "text/plain": [
       "        emotion                                               path\n",
       "0         anger  D:/Programming/nn/emotion_classification/datas...\n",
       "1      contempt  D:/Programming/nn/emotion_classification/datas...\n",
       "2          fear  D:/Programming/nn/emotion_classification/datas...\n",
       "3     happiness  D:/Programming/nn/emotion_classification/datas...\n",
       "4       neutral  D:/Programming/nn/emotion_classification/datas...\n",
       "...         ...                                                ...\n",
       "7437   contempt  D:/Programming/nn/emotion_classification/datas...\n",
       "7438       fear  D:/Programming/nn/emotion_classification/datas...\n",
       "7439  happiness  D:/Programming/nn/emotion_classification/datas...\n",
       "7440    neutral  D:/Programming/nn/emotion_classification/datas...\n",
       "7441    sadness  D:/Programming/nn/emotion_classification/datas...\n",
       "\n",
       "[7442 rows x 2 columns]"
      ]
     },
     "execution_count": 4,
     "metadata": {},
     "output_type": "execute_result"
    }
   ],
   "source": [
    "df = load(\"D:/Documents/cremad/AudioWAV/\")\n",
    "df"
   ]
  },
  {
   "cell_type": "code",
   "execution_count": 5,
   "metadata": {},
   "outputs": [],
   "source": [
    "df.to_csv(\"cremad_df.csv\", index=False)"
   ]
  },
  {
   "cell_type": "code",
   "execution_count": null,
   "metadata": {},
   "outputs": [],
   "source": []
  }
 ],
 "metadata": {
  "kernelspec": {
   "display_name": ".venv",
   "language": "python",
   "name": "python3"
  },
  "language_info": {
   "codemirror_mode": {
    "name": "ipython",
    "version": 3
   },
   "file_extension": ".py",
   "mimetype": "text/x-python",
   "name": "python",
   "nbconvert_exporter": "python",
   "pygments_lexer": "ipython3",
   "version": "3.10.5"
  }
 },
 "nbformat": 4,
 "nbformat_minor": 2
}
