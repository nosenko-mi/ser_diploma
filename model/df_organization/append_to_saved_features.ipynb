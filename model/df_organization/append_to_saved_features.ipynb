{
 "cells": [
  {
   "cell_type": "code",
   "execution_count": 1,
   "metadata": {},
   "outputs": [],
   "source": [
    "import pandas as pd"
   ]
  },
  {
   "cell_type": "code",
   "execution_count": 3,
   "metadata": {},
   "outputs": [],
   "source": [
    "uk_new_train = pd.read_csv('./features/features-train-uk-new-mfcc-v4.csv')\n",
    "uk_new_test = pd.read_csv('./features/features-test-uk-new-mfcc-v4.csv')\n",
    "uk_new_val = pd.read_csv('./features/features-val-uk-new-mfcc-v4.csv')\n",
    "\n",
    "features_train_df = pd.read_csv(\"./features/features-train-all-mfcc-v2.csv\")\n",
    "features_test_df = pd.read_csv(\"./features/features-test-all-mfcc-v2.csv\")\n",
    "features_val_df = pd.read_csv(\"./features/features-val-all-mfcc-v2.csv\")"
   ]
  },
  {
   "cell_type": "code",
   "execution_count": 4,
   "metadata": {},
   "outputs": [],
   "source": [
    "features_train_df = features_train_df.sample(frac=1).reset_index(drop=True)\n",
    "features_test_df = features_test_df.sample(frac=1).reset_index(drop=True)\n",
    "features_val_df = features_val_df.sample(frac=1).reset_index(drop=True)"
   ]
  },
  {
   "cell_type": "code",
   "execution_count": null,
   "metadata": {},
   "outputs": [],
   "source": [
    "# features_train_df.to_csv(\"./features/features-train-all-mfcc-v2-shuffled.csv\", index=False)\n",
    "# features_test_df.to_csv(\"./features/features-test-all-mfcc-v2-shuffled.csv\", index=False)\n",
    "# features_val_df .to_csv(\"./features/features-val-all-mfcc-v2-shuffled.csv\", index=False)"
   ]
  },
  {
   "cell_type": "code",
   "execution_count": 5,
   "metadata": {},
   "outputs": [],
   "source": [
    "new_features_train_df = pd.concat([features_train_df, uk_new_train])\n",
    "new_features_test_df = pd.concat([features_test_df, uk_new_test])\n",
    "new_features_val_df = pd.concat([features_val_df, uk_new_val])"
   ]
  },
  {
   "cell_type": "code",
   "execution_count": 6,
   "metadata": {},
   "outputs": [
    {
     "name": "stdout",
     "output_type": "stream",
     "text": [
      "True\n"
     ]
    }
   ],
   "source": [
    "print(len(new_features_train_df) - len(features_train_df) == len(uk_new_train))"
   ]
  },
  {
   "cell_type": "code",
   "execution_count": 8,
   "metadata": {},
   "outputs": [],
   "source": [
    "new_features_train_df = new_features_train_df.sample(frac=1).reset_index(drop=True)\n",
    "new_features_test_df = new_features_test_df.sample(frac=1).reset_index(drop=True)\n",
    "new_features_val_df = new_features_val_df.sample(frac=1).reset_index(drop=True)\n"
   ]
  },
  {
   "cell_type": "code",
   "execution_count": 9,
   "metadata": {},
   "outputs": [],
   "source": [
    "new_features_train_df['labels'].replace('calm', 'neutral', inplace=True)\n",
    "new_features_test_df['labels'].replace('calm', 'neutral', inplace=True)\n",
    "new_features_val_df['labels'].replace('calm', 'neutral', inplace=True)"
   ]
  },
  {
   "cell_type": "code",
   "execution_count": 10,
   "metadata": {},
   "outputs": [],
   "source": [
    "new_features_train_path = './features/features-train-all-mfcc-v4-extended.csv'\n",
    "new_features_test_path = './features/features-test-all-mfcc-v4-extended.csv'\n",
    "new_features_val_path = './features/features-val-all-mfcc-v4-extended.csv'\n",
    "\n",
    "new_features_train_df.to_csv(new_features_train_path, index=False)\n",
    "new_features_test_df.to_csv(new_features_test_path, index=False)\n",
    "new_features_val_df .to_csv(new_features_val_path, index=False)"
   ]
  },
  {
   "cell_type": "code",
   "execution_count": null,
   "metadata": {},
   "outputs": [],
   "source": []
  }
 ],
 "metadata": {
  "kernelspec": {
   "display_name": "Python 3",
   "language": "python",
   "name": "python3"
  },
  "language_info": {
   "codemirror_mode": {
    "name": "ipython",
    "version": 3
   },
   "file_extension": ".py",
   "mimetype": "text/x-python",
   "name": "python",
   "nbconvert_exporter": "python",
   "pygments_lexer": "ipython3",
   "version": "3.10.5"
  }
 },
 "nbformat": 4,
 "nbformat_minor": 2
}
