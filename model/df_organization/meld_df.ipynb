{
 "cells": [
  {
   "cell_type": "code",
   "execution_count": 12,
   "metadata": {},
   "outputs": [],
   "source": [
    "import os\n",
    "import pandas as pd\n",
    "\n",
    "from os.path import join, basename, isdir, isfile, exists\n",
    "from pathlib import Path"
   ]
  },
  {
   "cell_type": "code",
   "execution_count": 13,
   "metadata": {},
   "outputs": [],
   "source": [
    "fear_label = 'fear'\n",
    "contempt_label = 'contempt'  # disgust\n",
    "happiness_label = 'happiness'\n",
    "anger_label = 'anger'\n",
    "sadness_label = 'sadness'\n",
    "neutral_label = 'neutral'\n",
    "surprise_label = 'surprise'\n",
    "calm_label = 'calm'"
   ]
  },
  {
   "cell_type": "code",
   "execution_count": 14,
   "metadata": {},
   "outputs": [],
   "source": [
    "meld_dir = r'I:\\Datasets\\meld\\train_splits\\wav'\n",
    "train_files_path = r'I:\\Datasets\\meld\\train_splits'\n",
    "train_info_path = r'I:\\Datasets\\meld\\train_sent_emo.csv'"
   ]
  },
  {
   "cell_type": "code",
   "execution_count": 15,
   "metadata": {},
   "outputs": [],
   "source": [
    "train_info = pd.read_csv(train_info_path)"
   ]
  },
  {
   "cell_type": "code",
   "execution_count": 16,
   "metadata": {},
   "outputs": [
    {
     "data": {
      "text/html": [
       "<div>\n",
       "<style scoped>\n",
       "    .dataframe tbody tr th:only-of-type {\n",
       "        vertical-align: middle;\n",
       "    }\n",
       "\n",
       "    .dataframe tbody tr th {\n",
       "        vertical-align: top;\n",
       "    }\n",
       "\n",
       "    .dataframe thead th {\n",
       "        text-align: right;\n",
       "    }\n",
       "</style>\n",
       "<table border=\"1\" class=\"dataframe\">\n",
       "  <thead>\n",
       "    <tr style=\"text-align: right;\">\n",
       "      <th></th>\n",
       "      <th>Sr No.</th>\n",
       "      <th>Utterance</th>\n",
       "      <th>Speaker</th>\n",
       "      <th>Emotion</th>\n",
       "      <th>Sentiment</th>\n",
       "      <th>Dialogue_ID</th>\n",
       "      <th>Utterance_ID</th>\n",
       "      <th>Season</th>\n",
       "      <th>Episode</th>\n",
       "      <th>StartTime</th>\n",
       "      <th>EndTime</th>\n",
       "    </tr>\n",
       "  </thead>\n",
       "  <tbody>\n",
       "    <tr>\n",
       "      <th>0</th>\n",
       "      <td>1</td>\n",
       "      <td>also I was the point person on my companys tr...</td>\n",
       "      <td>Chandler</td>\n",
       "      <td>neutral</td>\n",
       "      <td>neutral</td>\n",
       "      <td>0</td>\n",
       "      <td>0</td>\n",
       "      <td>8</td>\n",
       "      <td>21</td>\n",
       "      <td>00:16:16,059</td>\n",
       "      <td>00:16:21,731</td>\n",
       "    </tr>\n",
       "    <tr>\n",
       "      <th>1</th>\n",
       "      <td>2</td>\n",
       "      <td>You mustve had your hands full.</td>\n",
       "      <td>The Interviewer</td>\n",
       "      <td>neutral</td>\n",
       "      <td>neutral</td>\n",
       "      <td>0</td>\n",
       "      <td>1</td>\n",
       "      <td>8</td>\n",
       "      <td>21</td>\n",
       "      <td>00:16:21,940</td>\n",
       "      <td>00:16:23,442</td>\n",
       "    </tr>\n",
       "  </tbody>\n",
       "</table>\n",
       "</div>"
      ],
      "text/plain": [
       "   Sr No.                                          Utterance          Speaker  \\\n",
       "0       1  also I was the point person on my companys tr...         Chandler   \n",
       "1       2                   You mustve had your hands full.  The Interviewer   \n",
       "\n",
       "   Emotion Sentiment  Dialogue_ID  Utterance_ID  Season  Episode  \\\n",
       "0  neutral   neutral            0             0       8       21   \n",
       "1  neutral   neutral            0             1       8       21   \n",
       "\n",
       "      StartTime       EndTime  \n",
       "0  00:16:16,059  00:16:21,731  \n",
       "1  00:16:21,940  00:16:23,442  "
      ]
     },
     "execution_count": 16,
     "metadata": {},
     "output_type": "execute_result"
    }
   ],
   "source": [
    "train_info.head(2)"
   ]
  },
  {
   "cell_type": "markdown",
   "metadata": {
    "slideshow": {
     "slide_type": "slide"
    }
   },
   "source": [
    "Column Name  | Description \n",
    "\n",
    "Sr No.       | Serial numbers of the utterances mainly for referencing the utterances in case of different versions or multiple copies with different subsets. \n",
    "\n",
    "Utterance    | Individual utterances from EmotionLines as a string.\n",
    "\n",
    "Speaker      | Name of the speaker associated with the utterance. \n",
    "\n",
    "Emotion      | The emotion (neutral, joy, sadness, anger, surprise, fear, disgust)\n",
    "\n",
    "Sentiment    | The sentiment (positive, neutral, negative) expressed by the speaker in the utterance.\n",
    "\n",
    "Dialogue_ID  | The index of the dialogue starting from 0.       \n",
    "\n",
    "Utterance_ID | The index of the particular utterance in the dialogue starting from 0.     \n",
    "\n",
    "StartTime    | The starting time of the utterance in the given episode in the format 'hh:mm:ss,ms'. \n",
    "\n",
    "StartTime    | The starting time of the utterance in the given episode in the format 'hh:mm:ss,ms'. "
   ]
  },
  {
   "cell_type": "code",
   "execution_count": 17,
   "metadata": {},
   "outputs": [],
   "source": [
    "train_filenames = [f for f in os.listdir(train_files_path) if isfile(join(train_files_path, f))]\n"
   ]
  },
  {
   "cell_type": "code",
   "execution_count": 18,
   "metadata": {},
   "outputs": [
    {
     "data": {
      "text/plain": [
       "['dia0_utt0.mp4',\n",
       " 'dia0_utt1.mp4',\n",
       " 'dia0_utt10.mp4',\n",
       " 'dia0_utt11.mp4',\n",
       " 'dia0_utt12.mp4']"
      ]
     },
     "execution_count": 18,
     "metadata": {},
     "output_type": "execute_result"
    }
   ],
   "source": [
    "train_filenames[:5]"
   ]
  },
  {
   "cell_type": "code",
   "execution_count": 19,
   "metadata": {},
   "outputs": [],
   "source": [
    "#emotion - file path\n",
    "#add file column to train info (\"dia{Dialogue_ID}_urr{Utterance_ID}.ext\")\n",
    "#emotion from train_info, path from dir+train_filenames"
   ]
  },
  {
   "cell_type": "code",
   "execution_count": 20,
   "metadata": {},
   "outputs": [
    {
     "name": "stdout",
     "output_type": "stream",
     "text": [
      "True\n"
     ]
    }
   ],
   "source": [
    "filenames = []\n",
    "for i, row in train_info.iterrows():\n",
    "    filenames.append(f'{meld_dir}\\dia{row.Dialogue_ID}_utt{row.Utterance_ID}.wav')\n",
    "\n",
    "print(len(filenames) == len(train_info))"
   ]
  },
  {
   "cell_type": "code",
   "execution_count": 21,
   "metadata": {},
   "outputs": [
    {
     "data": {
      "text/html": [
       "<div>\n",
       "<style scoped>\n",
       "    .dataframe tbody tr th:only-of-type {\n",
       "        vertical-align: middle;\n",
       "    }\n",
       "\n",
       "    .dataframe tbody tr th {\n",
       "        vertical-align: top;\n",
       "    }\n",
       "\n",
       "    .dataframe thead th {\n",
       "        text-align: right;\n",
       "    }\n",
       "</style>\n",
       "<table border=\"1\" class=\"dataframe\">\n",
       "  <thead>\n",
       "    <tr style=\"text-align: right;\">\n",
       "      <th></th>\n",
       "      <th>Sr No.</th>\n",
       "      <th>Utterance</th>\n",
       "      <th>Speaker</th>\n",
       "      <th>Emotion</th>\n",
       "      <th>Sentiment</th>\n",
       "      <th>Dialogue_ID</th>\n",
       "      <th>Utterance_ID</th>\n",
       "      <th>path</th>\n",
       "      <th>Season</th>\n",
       "      <th>Episode</th>\n",
       "      <th>StartTime</th>\n",
       "      <th>EndTime</th>\n",
       "    </tr>\n",
       "  </thead>\n",
       "  <tbody>\n",
       "    <tr>\n",
       "      <th>0</th>\n",
       "      <td>1</td>\n",
       "      <td>also I was the point person on my companys tr...</td>\n",
       "      <td>Chandler</td>\n",
       "      <td>neutral</td>\n",
       "      <td>neutral</td>\n",
       "      <td>0</td>\n",
       "      <td>0</td>\n",
       "      <td>I:\\Datasets\\meld\\train_splits\\wav\\dia0_utt0.wav</td>\n",
       "      <td>8</td>\n",
       "      <td>21</td>\n",
       "      <td>00:16:16,059</td>\n",
       "      <td>00:16:21,731</td>\n",
       "    </tr>\n",
       "    <tr>\n",
       "      <th>1</th>\n",
       "      <td>2</td>\n",
       "      <td>You mustve had your hands full.</td>\n",
       "      <td>The Interviewer</td>\n",
       "      <td>neutral</td>\n",
       "      <td>neutral</td>\n",
       "      <td>0</td>\n",
       "      <td>1</td>\n",
       "      <td>I:\\Datasets\\meld\\train_splits\\wav\\dia0_utt1.wav</td>\n",
       "      <td>8</td>\n",
       "      <td>21</td>\n",
       "      <td>00:16:21,940</td>\n",
       "      <td>00:16:23,442</td>\n",
       "    </tr>\n",
       "  </tbody>\n",
       "</table>\n",
       "</div>"
      ],
      "text/plain": [
       "   Sr No.                                          Utterance          Speaker  \\\n",
       "0       1  also I was the point person on my companys tr...         Chandler   \n",
       "1       2                   You mustve had your hands full.  The Interviewer   \n",
       "\n",
       "   Emotion Sentiment  Dialogue_ID  Utterance_ID  \\\n",
       "0  neutral   neutral            0             0   \n",
       "1  neutral   neutral            0             1   \n",
       "\n",
       "                                              path  Season  Episode  \\\n",
       "0  I:\\Datasets\\meld\\train_splits\\wav\\dia0_utt0.wav       8       21   \n",
       "1  I:\\Datasets\\meld\\train_splits\\wav\\dia0_utt1.wav       8       21   \n",
       "\n",
       "      StartTime       EndTime  \n",
       "0  00:16:16,059  00:16:21,731  \n",
       "1  00:16:21,940  00:16:23,442  "
      ]
     },
     "execution_count": 21,
     "metadata": {},
     "output_type": "execute_result"
    }
   ],
   "source": [
    "train_info.insert(7, 'path', filenames)\n",
    "train_info.head(2)"
   ]
  },
  {
   "cell_type": "code",
   "execution_count": 22,
   "metadata": {},
   "outputs": [
    {
     "name": "stdout",
     "output_type": "stream",
     "text": [
      "file does not exist: I:\\Datasets\\meld\\train_splits\\wav\\dia125_utt3.wav\n"
     ]
    }
   ],
   "source": [
    "for i, row in train_info.iterrows():\n",
    "    if not exists(row.path):\n",
    "        print(f'file does not exist: {row.path}')\n"
   ]
  },
  {
   "cell_type": "code",
   "execution_count": 23,
   "metadata": {},
   "outputs": [
    {
     "name": "stdout",
     "output_type": "stream",
     "text": [
      "True\n"
     ]
    }
   ],
   "source": [
    "i = train_info[(train_info.path == r'I:\\Datasets\\meld\\train_splits\\wav\\dia125_utt3.wav')].index\n",
    "train_info_valid = train_info.drop(i)\n",
    "print(len(train_info) - len(train_info_valid) == 1)"
   ]
  },
  {
   "cell_type": "code",
   "execution_count": 24,
   "metadata": {},
   "outputs": [],
   "source": [
    "meld_df = train_info_valid[['Emotion', 'path']].copy()\n",
    "meld_df = meld_df.rename(columns={'Emotion': 'emotion'})"
   ]
  },
  {
   "cell_type": "code",
   "execution_count": 25,
   "metadata": {},
   "outputs": [],
   "source": [
    "for i, row in meld_df.iterrows():\n",
    "    if not exists(row.path):\n",
    "        print(f'file does not exist: {row.path}')"
   ]
  },
  {
   "cell_type": "code",
   "execution_count": 26,
   "metadata": {},
   "outputs": [
    {
     "data": {
      "text/html": [
       "<div>\n",
       "<style scoped>\n",
       "    .dataframe tbody tr th:only-of-type {\n",
       "        vertical-align: middle;\n",
       "    }\n",
       "\n",
       "    .dataframe tbody tr th {\n",
       "        vertical-align: top;\n",
       "    }\n",
       "\n",
       "    .dataframe thead th {\n",
       "        text-align: right;\n",
       "    }\n",
       "</style>\n",
       "<table border=\"1\" class=\"dataframe\">\n",
       "  <thead>\n",
       "    <tr style=\"text-align: right;\">\n",
       "      <th></th>\n",
       "      <th>emotion</th>\n",
       "      <th>path</th>\n",
       "    </tr>\n",
       "  </thead>\n",
       "  <tbody>\n",
       "    <tr>\n",
       "      <th>0</th>\n",
       "      <td>neutral</td>\n",
       "      <td>I:\\Datasets\\meld\\train_splits\\wav\\dia0_utt0.wav</td>\n",
       "    </tr>\n",
       "    <tr>\n",
       "      <th>1</th>\n",
       "      <td>neutral</td>\n",
       "      <td>I:\\Datasets\\meld\\train_splits\\wav\\dia0_utt1.wav</td>\n",
       "    </tr>\n",
       "    <tr>\n",
       "      <th>2</th>\n",
       "      <td>neutral</td>\n",
       "      <td>I:\\Datasets\\meld\\train_splits\\wav\\dia0_utt2.wav</td>\n",
       "    </tr>\n",
       "    <tr>\n",
       "      <th>3</th>\n",
       "      <td>neutral</td>\n",
       "      <td>I:\\Datasets\\meld\\train_splits\\wav\\dia0_utt3.wav</td>\n",
       "    </tr>\n",
       "    <tr>\n",
       "      <th>4</th>\n",
       "      <td>surprise</td>\n",
       "      <td>I:\\Datasets\\meld\\train_splits\\wav\\dia0_utt4.wav</td>\n",
       "    </tr>\n",
       "  </tbody>\n",
       "</table>\n",
       "</div>"
      ],
      "text/plain": [
       "    emotion                                             path\n",
       "0   neutral  I:\\Datasets\\meld\\train_splits\\wav\\dia0_utt0.wav\n",
       "1   neutral  I:\\Datasets\\meld\\train_splits\\wav\\dia0_utt1.wav\n",
       "2   neutral  I:\\Datasets\\meld\\train_splits\\wav\\dia0_utt2.wav\n",
       "3   neutral  I:\\Datasets\\meld\\train_splits\\wav\\dia0_utt3.wav\n",
       "4  surprise  I:\\Datasets\\meld\\train_splits\\wav\\dia0_utt4.wav"
      ]
     },
     "execution_count": 26,
     "metadata": {},
     "output_type": "execute_result"
    }
   ],
   "source": [
    "meld_df.head()"
   ]
  },
  {
   "cell_type": "code",
   "execution_count": 28,
   "metadata": {},
   "outputs": [
    {
     "data": {
      "text/plain": [
       "neutral     4709\n",
       "joy         1743\n",
       "surprise    1205\n",
       "anger       1109\n",
       "sadness      683\n",
       "disgust      271\n",
       "fear         268\n",
       "Name: emotion, dtype: int64"
      ]
     },
     "execution_count": 28,
     "metadata": {},
     "output_type": "execute_result"
    }
   ],
   "source": [
    "meld_df.emotion.value_counts()"
   ]
  },
  {
   "cell_type": "code",
   "execution_count": 40,
   "metadata": {},
   "outputs": [],
   "source": [
    "meld_crop_df = meld_df[(meld_df.emotion != 'joy')]"
   ]
  },
  {
   "cell_type": "code",
   "execution_count": 41,
   "metadata": {},
   "outputs": [
    {
     "data": {
      "text/plain": [
       "neutral     4709\n",
       "surprise    1205\n",
       "anger       1109\n",
       "sadness      683\n",
       "contempt     271\n",
       "fear         268\n",
       "Name: emotion, dtype: int64"
      ]
     },
     "execution_count": 41,
     "metadata": {},
     "output_type": "execute_result"
    }
   ],
   "source": [
    "meld_crop_df.emotion.value_counts()"
   ]
  },
  {
   "cell_type": "code",
   "execution_count": 44,
   "metadata": {},
   "outputs": [],
   "source": [
    "meld_df.emotion.replace('neutral', neutral_label, inplace=True)\n",
    "meld_df.emotion.replace('surprise', surprise_label, inplace=True)\n",
    "meld_df.emotion.replace('anger', anger_label, inplace=True)\n",
    "meld_df.emotion.replace('sadness', sadness_label, inplace=True)\n",
    "meld_df.emotion.replace('disgust', contempt_label, inplace=True)\n",
    "meld_df.emotion.replace('fear', fear_label, inplace=True)"
   ]
  },
  {
   "cell_type": "code",
   "execution_count": 45,
   "metadata": {},
   "outputs": [],
   "source": [
    "meld_crop_df.to_csv('meld_df.csv', index=False)"
   ]
  },
  {
   "cell_type": "code",
   "execution_count": 46,
   "metadata": {},
   "outputs": [],
   "source": [
    "meld_crop_df = meld_crop_df.groupby(['emotion']).head(1000).reset_index(drop=True)"
   ]
  },
  {
   "cell_type": "code",
   "execution_count": 47,
   "metadata": {},
   "outputs": [
    {
     "data": {
      "text/plain": [
       "neutral     1000\n",
       "surprise    1000\n",
       "anger       1000\n",
       "sadness      683\n",
       "contempt     271\n",
       "fear         268\n",
       "Name: emotion, dtype: int64"
      ]
     },
     "execution_count": 47,
     "metadata": {},
     "output_type": "execute_result"
    }
   ],
   "source": [
    "meld_crop_df.emotion.value_counts()\n"
   ]
  },
  {
   "cell_type": "code",
   "execution_count": 48,
   "metadata": {},
   "outputs": [],
   "source": [
    "meld_crop_df.to_csv('meld_crop_df.csv', index=False)"
   ]
  },
  {
   "cell_type": "code",
   "execution_count": null,
   "metadata": {},
   "outputs": [],
   "source": []
  }
 ],
 "metadata": {
  "kernelspec": {
   "display_name": "Python 3",
   "language": "python",
   "name": "python3"
  },
  "language_info": {
   "codemirror_mode": {
    "name": "ipython",
    "version": 3
   },
   "file_extension": ".py",
   "mimetype": "text/x-python",
   "name": "python",
   "nbconvert_exporter": "python",
   "pygments_lexer": "ipython3",
   "version": "3.10.5"
  }
 },
 "nbformat": 4,
 "nbformat_minor": 2
}
