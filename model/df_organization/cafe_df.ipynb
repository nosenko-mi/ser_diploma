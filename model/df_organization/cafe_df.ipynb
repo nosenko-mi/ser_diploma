{
 "cells": [
  {
   "cell_type": "code",
   "execution_count": 17,
   "metadata": {},
   "outputs": [],
   "source": [
    "import os\n",
    "import pandas as pd\n",
    "\n",
    "from os.path import join, basename, isdir, isfile, exists, splitext\n",
    "from pathlib import Path"
   ]
  },
  {
   "cell_type": "code",
   "execution_count": 4,
   "metadata": {},
   "outputs": [],
   "source": [
    "base_dir = r'I:\\Datasets\\cafe'\n"
   ]
  },
  {
   "cell_type": "code",
   "execution_count": 5,
   "metadata": {},
   "outputs": [],
   "source": [
    "fear_label = 'fear'\n",
    "contempt_label = 'contempt'  # disgust\n",
    "happiness_label = 'happiness'\n",
    "anger_label = 'anger'\n",
    "sadness_label = 'sadness'\n",
    "neutral_label = 'neutral'\n",
    "surprise_label = 'surprise'\n",
    "calm_label = 'calm'"
   ]
  },
  {
   "cell_type": "code",
   "execution_count": 32,
   "metadata": {},
   "outputs": [],
   "source": [
    "def get_files(dir):\n",
    "    files = []\n",
    "    for d in os.listdir(dir):\n",
    "        path = join(dir, d)\n",
    "        if (not isdir(path)):\n",
    "            continue\n",
    "        for file in os.listdir(path):\n",
    "            _, file_extension = splitext(file)\n",
    "            if file_extension != '.wav':\n",
    "                continue\n",
    "            files.append(join(path, file))\n",
    "    return files"
   ]
  },
  {
   "cell_type": "code",
   "execution_count": 37,
   "metadata": {},
   "outputs": [],
   "source": [
    "cafe_map = {'emotion': [], 'path' : []}\n",
    "for dir in os.listdir(base_dir):\n",
    "    path = join(base_dir, dir)\n",
    "    if (isdir(path)):\n",
    "        files = get_files(path)\n",
    "        cafe_map['path'].extend(files)\n",
    "        cafe_map['emotion'].extend([dir.lower()] * len(files))"
   ]
  },
  {
   "cell_type": "code",
   "execution_count": 38,
   "metadata": {},
   "outputs": [
    {
     "data": {
      "text/html": [
       "<div>\n",
       "<style scoped>\n",
       "    .dataframe tbody tr th:only-of-type {\n",
       "        vertical-align: middle;\n",
       "    }\n",
       "\n",
       "    .dataframe tbody tr th {\n",
       "        vertical-align: top;\n",
       "    }\n",
       "\n",
       "    .dataframe thead th {\n",
       "        text-align: right;\n",
       "    }\n",
       "</style>\n",
       "<table border=\"1\" class=\"dataframe\">\n",
       "  <thead>\n",
       "    <tr style=\"text-align: right;\">\n",
       "      <th></th>\n",
       "      <th>emotion</th>\n",
       "      <th>path</th>\n",
       "    </tr>\n",
       "  </thead>\n",
       "  <tbody>\n",
       "    <tr>\n",
       "      <th>0</th>\n",
       "      <td>anger</td>\n",
       "      <td>I:\\Datasets\\cafe\\anger\\Faible\\01-C-1-1.wav</td>\n",
       "    </tr>\n",
       "    <tr>\n",
       "      <th>1</th>\n",
       "      <td>anger</td>\n",
       "      <td>I:\\Datasets\\cafe\\anger\\Faible\\01-C-1-2.wav</td>\n",
       "    </tr>\n",
       "    <tr>\n",
       "      <th>2</th>\n",
       "      <td>anger</td>\n",
       "      <td>I:\\Datasets\\cafe\\anger\\Faible\\01-C-1-3.wav</td>\n",
       "    </tr>\n",
       "    <tr>\n",
       "      <th>3</th>\n",
       "      <td>anger</td>\n",
       "      <td>I:\\Datasets\\cafe\\anger\\Faible\\01-C-1-4.wav</td>\n",
       "    </tr>\n",
       "    <tr>\n",
       "      <th>4</th>\n",
       "      <td>anger</td>\n",
       "      <td>I:\\Datasets\\cafe\\anger\\Faible\\01-C-1-5.wav</td>\n",
       "    </tr>\n",
       "  </tbody>\n",
       "</table>\n",
       "</div>"
      ],
      "text/plain": [
       "  emotion                                        path\n",
       "0   anger  I:\\Datasets\\cafe\\anger\\Faible\\01-C-1-1.wav\n",
       "1   anger  I:\\Datasets\\cafe\\anger\\Faible\\01-C-1-2.wav\n",
       "2   anger  I:\\Datasets\\cafe\\anger\\Faible\\01-C-1-3.wav\n",
       "3   anger  I:\\Datasets\\cafe\\anger\\Faible\\01-C-1-4.wav\n",
       "4   anger  I:\\Datasets\\cafe\\anger\\Faible\\01-C-1-5.wav"
      ]
     },
     "execution_count": 38,
     "metadata": {},
     "output_type": "execute_result"
    }
   ],
   "source": [
    "cafe_df = pd.DataFrame(cafe_map)\n",
    "cafe_df.head(5)"
   ]
  },
  {
   "cell_type": "code",
   "execution_count": 39,
   "metadata": {},
   "outputs": [
    {
     "data": {
      "text/plain": [
       "anger        72\n",
       "disgust      72\n",
       "fear         72\n",
       "happiness    72\n",
       "sadness      72\n",
       "surprise     72\n",
       "Name: emotion, dtype: int64"
      ]
     },
     "execution_count": 39,
     "metadata": {},
     "output_type": "execute_result"
    }
   ],
   "source": [
    "cafe_df.emotion.value_counts()"
   ]
  },
  {
   "cell_type": "code",
   "execution_count": 40,
   "metadata": {},
   "outputs": [
    {
     "name": "stdout",
     "output_type": "stream",
     "text": [
      "['anger' 'contempt' 'fear' 'happiness' 'sadness' 'surprise']\n"
     ]
    }
   ],
   "source": [
    "cafe_df.emotion.replace('anger', anger_label, inplace=True)\n",
    "cafe_df.emotion.replace('disgust', contempt_label, inplace=True)\n",
    "cafe_df.emotion.replace('fear', fear_label, inplace=True)\n",
    "cafe_df.emotion.replace('happiness', happiness_label, inplace=True)\n",
    "cafe_df.emotion.replace('sadness', sadness_label, inplace=True)\n",
    "cafe_df.emotion.replace('surprise', surprise_label, inplace=True)\n",
    "print(cafe_df.emotion.unique())"
   ]
  },
  {
   "cell_type": "code",
   "execution_count": 41,
   "metadata": {},
   "outputs": [],
   "source": [
    "cafe_df.to_csv('cafe_df.csv', index=False)"
   ]
  }
 ],
 "metadata": {
  "kernelspec": {
   "display_name": "Python 3",
   "language": "python",
   "name": "python3"
  },
  "language_info": {
   "codemirror_mode": {
    "name": "ipython",
    "version": 3
   },
   "file_extension": ".py",
   "mimetype": "text/x-python",
   "name": "python",
   "nbconvert_exporter": "python",
   "pygments_lexer": "ipython3",
   "version": "3.10.5"
  }
 },
 "nbformat": 4,
 "nbformat_minor": 2
}
