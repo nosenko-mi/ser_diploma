{
 "cells": [
  {
   "cell_type": "code",
   "execution_count": 1,
   "metadata": {},
   "outputs": [],
   "source": [
    "import os\n",
    "import pandas as pd\n",
    "\n",
    "from os.path import join, basename, isdir, isfile, exists\n",
    "from pathlib import Path"
   ]
  },
  {
   "cell_type": "code",
   "execution_count": 2,
   "metadata": {},
   "outputs": [],
   "source": [
    "base_dir = r'I:\\Datasets\\esd-eng'\n"
   ]
  },
  {
   "cell_type": "code",
   "execution_count": 3,
   "metadata": {},
   "outputs": [],
   "source": [
    "fear_label = 'fear'\n",
    "contempt_label = 'contempt'  # disgust\n",
    "happiness_label = 'happiness'\n",
    "anger_label = 'anger'\n",
    "sadness_label = 'sadness'\n",
    "neutral_label = 'neutral'\n",
    "surprise_label = 'surprise'\n",
    "calm_label = 'calm'"
   ]
  },
  {
   "cell_type": "code",
   "execution_count": 4,
   "metadata": {},
   "outputs": [],
   "source": [
    "# folder structure\n",
    "# esd-eng:\n",
    "#   0011\n",
    "#       Angry\n",
    "#       Happy\n",
    "#       ...\n",
    "#   0012\n",
    "#       Angry\n",
    "#       ..."
   ]
  },
  {
   "cell_type": "code",
   "execution_count": 5,
   "metadata": {},
   "outputs": [],
   "source": [
    "# train_filenames = [f for f in os.listdir(train_files_path) if isfile(join(train_files_path, f))]\n",
    "def get_all_files(path):\n",
    "    files = []\n",
    "    for f in os.listdir(path):\n",
    "        full_path = join(path, f)\n",
    "        if isfile(full_path):\n",
    "            files.append(full_path)\n",
    "    return files\n",
    "\n",
    "\n",
    "esd_map = {'emotion': [], 'path': []}\n",
    "for i in os.listdir(base_dir):\n",
    "    for j in os.listdir(join(base_dir, i)):\n",
    "        if isdir(join(base_dir, i, j)):\n",
    "            files = get_all_files(join(base_dir, i, j))\n",
    "            esd_map['path'].extend(files)\n",
    "            esd_map['emotion'].extend([j.lower()] * len(files))\n"
   ]
  },
  {
   "cell_type": "code",
   "execution_count": 6,
   "metadata": {},
   "outputs": [
    {
     "data": {
      "text/html": [
       "<div>\n",
       "<style scoped>\n",
       "    .dataframe tbody tr th:only-of-type {\n",
       "        vertical-align: middle;\n",
       "    }\n",
       "\n",
       "    .dataframe tbody tr th {\n",
       "        vertical-align: top;\n",
       "    }\n",
       "\n",
       "    .dataframe thead th {\n",
       "        text-align: right;\n",
       "    }\n",
       "</style>\n",
       "<table border=\"1\" class=\"dataframe\">\n",
       "  <thead>\n",
       "    <tr style=\"text-align: right;\">\n",
       "      <th></th>\n",
       "      <th>emotion</th>\n",
       "      <th>path</th>\n",
       "    </tr>\n",
       "  </thead>\n",
       "  <tbody>\n",
       "    <tr>\n",
       "      <th>0</th>\n",
       "      <td>angry</td>\n",
       "      <td>I:\\Datasets\\esd-eng\\0011\\Angry\\0011_000351.wav</td>\n",
       "    </tr>\n",
       "    <tr>\n",
       "      <th>1</th>\n",
       "      <td>angry</td>\n",
       "      <td>I:\\Datasets\\esd-eng\\0011\\Angry\\0011_000352.wav</td>\n",
       "    </tr>\n",
       "    <tr>\n",
       "      <th>2</th>\n",
       "      <td>angry</td>\n",
       "      <td>I:\\Datasets\\esd-eng\\0011\\Angry\\0011_000353.wav</td>\n",
       "    </tr>\n",
       "    <tr>\n",
       "      <th>3</th>\n",
       "      <td>angry</td>\n",
       "      <td>I:\\Datasets\\esd-eng\\0011\\Angry\\0011_000354.wav</td>\n",
       "    </tr>\n",
       "    <tr>\n",
       "      <th>4</th>\n",
       "      <td>angry</td>\n",
       "      <td>I:\\Datasets\\esd-eng\\0011\\Angry\\0011_000355.wav</td>\n",
       "    </tr>\n",
       "  </tbody>\n",
       "</table>\n",
       "</div>"
      ],
      "text/plain": [
       "  emotion                                            path\n",
       "0   angry  I:\\Datasets\\esd-eng\\0011\\Angry\\0011_000351.wav\n",
       "1   angry  I:\\Datasets\\esd-eng\\0011\\Angry\\0011_000352.wav\n",
       "2   angry  I:\\Datasets\\esd-eng\\0011\\Angry\\0011_000353.wav\n",
       "3   angry  I:\\Datasets\\esd-eng\\0011\\Angry\\0011_000354.wav\n",
       "4   angry  I:\\Datasets\\esd-eng\\0011\\Angry\\0011_000355.wav"
      ]
     },
     "execution_count": 6,
     "metadata": {},
     "output_type": "execute_result"
    }
   ],
   "source": [
    "esd_df = pd.DataFrame(esd_map)\n",
    "esd_df.head(5)"
   ]
  },
  {
   "cell_type": "code",
   "execution_count": 7,
   "metadata": {},
   "outputs": [
    {
     "data": {
      "text/plain": [
       "happy       3501\n",
       "sad         3501\n",
       "angry       3500\n",
       "neutral     3500\n",
       "surprise    3500\n",
       "Name: emotion, dtype: int64"
      ]
     },
     "execution_count": 7,
     "metadata": {},
     "output_type": "execute_result"
    }
   ],
   "source": [
    "esd_df.emotion.value_counts()"
   ]
  },
  {
   "cell_type": "code",
   "execution_count": 10,
   "metadata": {},
   "outputs": [],
   "source": [
    "esd_df.emotion.replace('happy', happiness_label, inplace=True)\n",
    "esd_df.emotion.replace('sad', sadness_label, inplace=True)\n",
    "esd_df.emotion.replace('angry', anger_label, inplace=True)\n",
    "esd_df.emotion.replace('neutral', neutral_label, inplace=True)\n",
    "esd_df.emotion.replace('surprise', surprise_label, inplace=True)\n"
   ]
  },
  {
   "cell_type": "code",
   "execution_count": null,
   "metadata": {},
   "outputs": [],
   "source": []
  },
  {
   "cell_type": "code",
   "execution_count": 11,
   "metadata": {},
   "outputs": [],
   "source": [
    "esd_df.to_csv('esd_eng_df.csv', index=False)"
   ]
  }
 ],
 "metadata": {
  "kernelspec": {
   "display_name": "Python 3",
   "language": "python",
   "name": "python3"
  },
  "language_info": {
   "codemirror_mode": {
    "name": "ipython",
    "version": 3
   },
   "file_extension": ".py",
   "mimetype": "text/x-python",
   "name": "python",
   "nbconvert_exporter": "python",
   "pygments_lexer": "ipython3",
   "version": "3.10.5"
  }
 },
 "nbformat": 4,
 "nbformat_minor": 2
}
