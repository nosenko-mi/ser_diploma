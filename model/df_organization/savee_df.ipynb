{
 "cells": [
  {
   "cell_type": "code",
   "execution_count": 6,
   "metadata": {},
   "outputs": [],
   "source": [
    "import os\n",
    "import pandas as pd"
   ]
  },
  {
   "cell_type": "code",
   "execution_count": 7,
   "metadata": {},
   "outputs": [],
   "source": [
    "fear_label = 'fear'\n",
    "contempt_label = 'contempt'  # disgust\n",
    "happiness_label = 'happiness'\n",
    "anger_label = 'anger'\n",
    "sadness_label = 'sadness'\n",
    "neutral_label = 'neutral'\n",
    "surprise_label = 'surprise'\n",
    "calm_label = 'calm'"
   ]
  },
  {
   "cell_type": "code",
   "execution_count": 8,
   "metadata": {},
   "outputs": [],
   "source": [
    "def load_savee(path):\n",
    "    savee_files = os.listdir(path)\n",
    "    savee_emotions_map = {\n",
    "        'a': anger_label,\n",
    "        'd': contempt_label,\n",
    "        'f': fear_label,\n",
    "        'h': happiness_label,\n",
    "        'n': neutral_label,\n",
    "        'sa': sadness_label,\n",
    "        'su': surprise_label,\n",
    "    }\n",
    "\n",
    "    savee_map = {'emotion': [], 'path': [], }\n",
    "    for f in savee_files:\n",
    "        part = f.split('_')[1]\n",
    "        emotion = part[:-6]\n",
    "\n",
    "        savee_map['emotion'].append(savee_emotions_map.get(emotion))\n",
    "        savee_map['path'].append(os.path.join(path, f))\n",
    "\n",
    "    # dataframe for emotion of files\n",
    "    savee_df = pd.DataFrame(savee_map)\n",
    "    savee_df = pd.DataFrame(savee_map)\n",
    "\n",
    "    return savee_df"
   ]
  },
  {
   "cell_type": "code",
   "execution_count": 9,
   "metadata": {},
   "outputs": [
    {
     "data": {
      "text/html": [
       "<div>\n",
       "<style scoped>\n",
       "    .dataframe tbody tr th:only-of-type {\n",
       "        vertical-align: middle;\n",
       "    }\n",
       "\n",
       "    .dataframe tbody tr th {\n",
       "        vertical-align: top;\n",
       "    }\n",
       "\n",
       "    .dataframe thead th {\n",
       "        text-align: right;\n",
       "    }\n",
       "</style>\n",
       "<table border=\"1\" class=\"dataframe\">\n",
       "  <thead>\n",
       "    <tr style=\"text-align: right;\">\n",
       "      <th></th>\n",
       "      <th>emotion</th>\n",
       "      <th>path</th>\n",
       "    </tr>\n",
       "  </thead>\n",
       "  <tbody>\n",
       "    <tr>\n",
       "      <th>0</th>\n",
       "      <td>anger</td>\n",
       "      <td>D:/Programming/nn/emotion_classification/datas...</td>\n",
       "    </tr>\n",
       "    <tr>\n",
       "      <th>1</th>\n",
       "      <td>anger</td>\n",
       "      <td>D:/Programming/nn/emotion_classification/datas...</td>\n",
       "    </tr>\n",
       "    <tr>\n",
       "      <th>2</th>\n",
       "      <td>anger</td>\n",
       "      <td>D:/Programming/nn/emotion_classification/datas...</td>\n",
       "    </tr>\n",
       "    <tr>\n",
       "      <th>3</th>\n",
       "      <td>anger</td>\n",
       "      <td>D:/Programming/nn/emotion_classification/datas...</td>\n",
       "    </tr>\n",
       "    <tr>\n",
       "      <th>4</th>\n",
       "      <td>anger</td>\n",
       "      <td>D:/Programming/nn/emotion_classification/datas...</td>\n",
       "    </tr>\n",
       "    <tr>\n",
       "      <th>...</th>\n",
       "      <td>...</td>\n",
       "      <td>...</td>\n",
       "    </tr>\n",
       "    <tr>\n",
       "      <th>475</th>\n",
       "      <td>surprise</td>\n",
       "      <td>D:/Programming/nn/emotion_classification/datas...</td>\n",
       "    </tr>\n",
       "    <tr>\n",
       "      <th>476</th>\n",
       "      <td>surprise</td>\n",
       "      <td>D:/Programming/nn/emotion_classification/datas...</td>\n",
       "    </tr>\n",
       "    <tr>\n",
       "      <th>477</th>\n",
       "      <td>surprise</td>\n",
       "      <td>D:/Programming/nn/emotion_classification/datas...</td>\n",
       "    </tr>\n",
       "    <tr>\n",
       "      <th>478</th>\n",
       "      <td>surprise</td>\n",
       "      <td>D:/Programming/nn/emotion_classification/datas...</td>\n",
       "    </tr>\n",
       "    <tr>\n",
       "      <th>479</th>\n",
       "      <td>surprise</td>\n",
       "      <td>D:/Programming/nn/emotion_classification/datas...</td>\n",
       "    </tr>\n",
       "  </tbody>\n",
       "</table>\n",
       "<p>480 rows × 2 columns</p>\n",
       "</div>"
      ],
      "text/plain": [
       "      emotion                                               path\n",
       "0       anger  D:/Programming/nn/emotion_classification/datas...\n",
       "1       anger  D:/Programming/nn/emotion_classification/datas...\n",
       "2       anger  D:/Programming/nn/emotion_classification/datas...\n",
       "3       anger  D:/Programming/nn/emotion_classification/datas...\n",
       "4       anger  D:/Programming/nn/emotion_classification/datas...\n",
       "..        ...                                                ...\n",
       "475  surprise  D:/Programming/nn/emotion_classification/datas...\n",
       "476  surprise  D:/Programming/nn/emotion_classification/datas...\n",
       "477  surprise  D:/Programming/nn/emotion_classification/datas...\n",
       "478  surprise  D:/Programming/nn/emotion_classification/datas...\n",
       "479  surprise  D:/Programming/nn/emotion_classification/datas...\n",
       "\n",
       "[480 rows x 2 columns]"
      ]
     },
     "execution_count": 9,
     "metadata": {},
     "output_type": "execute_result"
    }
   ],
   "source": [
    "savee_df = load_savee(\n",
    "    \"D:/Programming/nn/emotion_classification/datasets/savee/ALL/\")\n",
    "savee_df"
   ]
  },
  {
   "cell_type": "code",
   "execution_count": 10,
   "metadata": {},
   "outputs": [],
   "source": [
    "savee_df.to_csv(\"savee_df.csv\", index=False)"
   ]
  },
  {
   "cell_type": "code",
   "execution_count": null,
   "metadata": {},
   "outputs": [],
   "source": []
  }
 ],
 "metadata": {
  "kernelspec": {
   "display_name": ".venv",
   "language": "python",
   "name": "python3"
  },
  "language_info": {
   "codemirror_mode": {
    "name": "ipython",
    "version": 3
   },
   "file_extension": ".py",
   "mimetype": "text/x-python",
   "name": "python",
   "nbconvert_exporter": "python",
   "pygments_lexer": "ipython3",
   "version": "3.10.5"
  }
 },
 "nbformat": 4,
 "nbformat_minor": 2
}
