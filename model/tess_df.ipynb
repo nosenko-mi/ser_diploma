{
 "cells": [
  {
   "cell_type": "code",
   "execution_count": 9,
   "metadata": {},
   "outputs": [],
   "source": [
    "import os\n",
    "import pandas as pd"
   ]
  },
  {
   "cell_type": "code",
   "execution_count": 10,
   "metadata": {},
   "outputs": [],
   "source": [
    "fear_label = 'fear'\n",
    "contempt_label = 'contempt'  # disgust\n",
    "happiness_label = 'happiness'\n",
    "anger_label = 'anger'\n",
    "sadness_label = 'sadness'\n",
    "neutral_label = 'neutral'\n",
    "surprise_label = 'surprise'\n",
    "calm_label = 'calm'"
   ]
  },
  {
   "cell_type": "code",
   "execution_count": 11,
   "metadata": {},
   "outputs": [],
   "source": [
    "def load(path):\n",
    "    tess_directory_list = os.listdir(path)\n",
    "    tess_emotions_map = {\n",
    "        'angry': anger_label,\n",
    "        'disgust': contempt_label,\n",
    "        'fear': fear_label,\n",
    "        'happy': happiness_label,\n",
    "        'neutral': neutral_label,\n",
    "        'sad': sadness_label,\n",
    "        'ps': surprise_label,\n",
    "    }\n",
    "\n",
    "    tess_map = {'emotion': [], 'path': [], }\n",
    "    for dir in tess_directory_list:\n",
    "        directories = os.listdir(os.path.join(path, dir))\n",
    "        for file in directories:\n",
    "            part = file.split('.')[0]\n",
    "            emotion = part.split('_')[2]\n",
    "            tess_map['emotion'].append(tess_emotions_map.get(emotion))\n",
    "            tess_map['path'].append(os.path.join(path, dir, file))\n",
    "\n",
    "    tess_df = pd.DataFrame(tess_map)\n",
    "\n",
    "    return tess_df"
   ]
  },
  {
   "cell_type": "code",
   "execution_count": 12,
   "metadata": {},
   "outputs": [
    {
     "data": {
      "text/html": [
       "<div>\n",
       "<style scoped>\n",
       "    .dataframe tbody tr th:only-of-type {\n",
       "        vertical-align: middle;\n",
       "    }\n",
       "\n",
       "    .dataframe tbody tr th {\n",
       "        vertical-align: top;\n",
       "    }\n",
       "\n",
       "    .dataframe thead th {\n",
       "        text-align: right;\n",
       "    }\n",
       "</style>\n",
       "<table border=\"1\" class=\"dataframe\">\n",
       "  <thead>\n",
       "    <tr style=\"text-align: right;\">\n",
       "      <th></th>\n",
       "      <th>emotion</th>\n",
       "      <th>path</th>\n",
       "    </tr>\n",
       "  </thead>\n",
       "  <tbody>\n",
       "    <tr>\n",
       "      <th>0</th>\n",
       "      <td>anger</td>\n",
       "      <td>D:/Documents/tess/TESS Toronto emotional speec...</td>\n",
       "    </tr>\n",
       "    <tr>\n",
       "      <th>1</th>\n",
       "      <td>anger</td>\n",
       "      <td>D:/Documents/tess/TESS Toronto emotional speec...</td>\n",
       "    </tr>\n",
       "    <tr>\n",
       "      <th>2</th>\n",
       "      <td>anger</td>\n",
       "      <td>D:/Documents/tess/TESS Toronto emotional speec...</td>\n",
       "    </tr>\n",
       "    <tr>\n",
       "      <th>3</th>\n",
       "      <td>anger</td>\n",
       "      <td>D:/Documents/tess/TESS Toronto emotional speec...</td>\n",
       "    </tr>\n",
       "    <tr>\n",
       "      <th>4</th>\n",
       "      <td>anger</td>\n",
       "      <td>D:/Documents/tess/TESS Toronto emotional speec...</td>\n",
       "    </tr>\n",
       "    <tr>\n",
       "      <th>...</th>\n",
       "      <td>...</td>\n",
       "      <td>...</td>\n",
       "    </tr>\n",
       "    <tr>\n",
       "      <th>2795</th>\n",
       "      <td>sadness</td>\n",
       "      <td>D:/Documents/tess/TESS Toronto emotional speec...</td>\n",
       "    </tr>\n",
       "    <tr>\n",
       "      <th>2796</th>\n",
       "      <td>sadness</td>\n",
       "      <td>D:/Documents/tess/TESS Toronto emotional speec...</td>\n",
       "    </tr>\n",
       "    <tr>\n",
       "      <th>2797</th>\n",
       "      <td>sadness</td>\n",
       "      <td>D:/Documents/tess/TESS Toronto emotional speec...</td>\n",
       "    </tr>\n",
       "    <tr>\n",
       "      <th>2798</th>\n",
       "      <td>sadness</td>\n",
       "      <td>D:/Documents/tess/TESS Toronto emotional speec...</td>\n",
       "    </tr>\n",
       "    <tr>\n",
       "      <th>2799</th>\n",
       "      <td>sadness</td>\n",
       "      <td>D:/Documents/tess/TESS Toronto emotional speec...</td>\n",
       "    </tr>\n",
       "  </tbody>\n",
       "</table>\n",
       "<p>2800 rows × 2 columns</p>\n",
       "</div>"
      ],
      "text/plain": [
       "      emotion                                               path\n",
       "0       anger  D:/Documents/tess/TESS Toronto emotional speec...\n",
       "1       anger  D:/Documents/tess/TESS Toronto emotional speec...\n",
       "2       anger  D:/Documents/tess/TESS Toronto emotional speec...\n",
       "3       anger  D:/Documents/tess/TESS Toronto emotional speec...\n",
       "4       anger  D:/Documents/tess/TESS Toronto emotional speec...\n",
       "...       ...                                                ...\n",
       "2795  sadness  D:/Documents/tess/TESS Toronto emotional speec...\n",
       "2796  sadness  D:/Documents/tess/TESS Toronto emotional speec...\n",
       "2797  sadness  D:/Documents/tess/TESS Toronto emotional speec...\n",
       "2798  sadness  D:/Documents/tess/TESS Toronto emotional speec...\n",
       "2799  sadness  D:/Documents/tess/TESS Toronto emotional speec...\n",
       "\n",
       "[2800 rows x 2 columns]"
      ]
     },
     "execution_count": 12,
     "metadata": {},
     "output_type": "execute_result"
    }
   ],
   "source": [
    "df = load(\"D:/Documents/tess/TESS Toronto emotional speech set data/\")\n",
    "df"
   ]
  },
  {
   "cell_type": "code",
   "execution_count": 13,
   "metadata": {},
   "outputs": [],
   "source": [
    "df.to_csv(\"tess_df.csv\", index=False)"
   ]
  },
  {
   "cell_type": "code",
   "execution_count": null,
   "metadata": {},
   "outputs": [],
   "source": []
  }
 ],
 "metadata": {
  "kernelspec": {
   "display_name": ".venv",
   "language": "python",
   "name": "python3"
  },
  "language_info": {
   "codemirror_mode": {
    "name": "ipython",
    "version": 3
   },
   "file_extension": ".py",
   "mimetype": "text/x-python",
   "name": "python",
   "nbconvert_exporter": "python",
   "pygments_lexer": "ipython3",
   "version": "3.10.6"
  }
 },
 "nbformat": 4,
 "nbformat_minor": 2
}
