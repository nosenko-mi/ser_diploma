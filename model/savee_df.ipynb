{
 "cells": [
  {
   "cell_type": "code",
   "execution_count": 1,
   "metadata": {},
   "outputs": [],
   "source": [
    "import os\n",
    "import pandas as pd"
   ]
  },
  {
   "cell_type": "code",
   "execution_count": 2,
   "metadata": {},
   "outputs": [],
   "source": [
    "fear_label = 'fear'\n",
    "contempt_label = 'contempt'  # disgust\n",
    "happiness_label = 'happiness'\n",
    "anger_label = 'anger'\n",
    "sadness_label = 'sadness'\n",
    "neutral_label = 'neutral'\n",
    "surprise_label = 'surprise'\n",
    "calm_label = 'calm'"
   ]
  },
  {
   "cell_type": "code",
   "execution_count": 17,
   "metadata": {},
   "outputs": [],
   "source": [
    "def load_savee(path):\n",
    "    savee_files = os.listdir(path)\n",
    "    savee_emotions_map = {\n",
    "        'a': anger_label,\n",
    "        'd': contempt_label,\n",
    "        'f': fear_label,\n",
    "        'h': happiness_label,\n",
    "        'n': neutral_label,\n",
    "        'sa': sadness_label,\n",
    "        'su': surprise_label,\n",
    "    }\n",
    "\n",
    "    savee_map = {'emotion': [], 'path': [], }\n",
    "    for f in savee_files:\n",
    "        part = f.split('_')[1]\n",
    "        emotion = part[:-6]\n",
    "\n",
    "        savee_map['emotion'].append(savee_emotions_map.get(emotion))\n",
    "        savee_map['path'].append(os.path.join(path, f))\n",
    "\n",
    "    # dataframe for emotion of files\n",
    "    savee_df = pd.DataFrame(savee_map)\n",
    "    savee_df = pd.DataFrame(savee_map)\n",
    "\n",
    "    return savee_df"
   ]
  },
  {
   "cell_type": "code",
   "execution_count": 18,
   "metadata": {},
   "outputs": [],
   "source": [
    "savee_df = load_savee(\"D:\\Documents\\savee\\ALL\")"
   ]
  },
  {
   "cell_type": "code",
   "execution_count": 20,
   "metadata": {},
   "outputs": [],
   "source": [
    "savee_df.to_csv(\"savee_df.csv\", index=False)"
   ]
  },
  {
   "cell_type": "code",
   "execution_count": null,
   "metadata": {},
   "outputs": [],
   "source": []
  }
 ],
 "metadata": {
  "kernelspec": {
   "display_name": ".venv",
   "language": "python",
   "name": "python3"
  },
  "language_info": {
   "codemirror_mode": {
    "name": "ipython",
    "version": 3
   },
   "file_extension": ".py",
   "mimetype": "text/x-python",
   "name": "python",
   "nbconvert_exporter": "python",
   "pygments_lexer": "ipython3",
   "version": "3.10.6"
  }
 },
 "nbformat": 4,
 "nbformat_minor": 2
}
