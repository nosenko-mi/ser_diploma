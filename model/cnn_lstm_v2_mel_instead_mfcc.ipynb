{
 "cells": [
  {
   "cell_type": "code",
   "execution_count": 141,
   "metadata": {},
   "outputs": [],
   "source": [
    "import pandas as pd\n",
    "import numpy as np\n",
    "\n",
    "import sys\n",
    "import os\n",
    "\n",
    "from pathlib import Path\n",
    "# librosa is a Python library for analyzing audio and music. It can be used to extract the data from the audio files we will see it later.\n",
    "import librosa\n",
    "import librosa.display\n",
    "import seaborn as sns\n",
    "import matplotlib.pyplot as plt\n",
    "\n",
    "from sklearn.preprocessing import StandardScaler, OneHotEncoder, normalize\n",
    "from sklearn.metrics import confusion_matrix, classification_report\n",
    "from sklearn.model_selection import train_test_split\n",
    "\n",
    "# to play the audio files\n",
    "from IPython.display import Audio\n",
    "\n",
    "import warnings\n",
    "if not sys.warnoptions:\n",
    "    warnings.simplefilter(\"ignore\")\n",
    "warnings.filterwarnings(\"ignore\", category=DeprecationWarning)"
   ]
  },
  {
   "cell_type": "markdown",
   "metadata": {},
   "source": [
    "## Data Loading\n"
   ]
  },
  {
   "cell_type": "code",
   "execution_count": 142,
   "metadata": {},
   "outputs": [],
   "source": [
    "# emotions = ['fear', 'contempt', 'happiness', 'anger',\n",
    "#             'sadness', 'neutral', 'surprise']\n",
    "\n",
    "\n",
    "# emotions_number = len(emotions)\n",
    "\n",
    "\n",
    "# print(emotions, emotions_number)"
   ]
  },
  {
   "cell_type": "markdown",
   "metadata": {},
   "source": [
    "## Extract features"
   ]
  },
  {
   "cell_type": "markdown",
   "metadata": {},
   "source": [
    "### Load features from df"
   ]
  },
  {
   "cell_type": "markdown",
   "metadata": {},
   "source": [
    "load"
   ]
  },
  {
   "cell_type": "code",
   "execution_count": 143,
   "metadata": {},
   "outputs": [
    {
     "data": {
      "text/html": [
       "<div>\n",
       "<style scoped>\n",
       "    .dataframe tbody tr th:only-of-type {\n",
       "        vertical-align: middle;\n",
       "    }\n",
       "\n",
       "    .dataframe tbody tr th {\n",
       "        vertical-align: top;\n",
       "    }\n",
       "\n",
       "    .dataframe thead th {\n",
       "        text-align: right;\n",
       "    }\n",
       "</style>\n",
       "<table border=\"1\" class=\"dataframe\">\n",
       "  <thead>\n",
       "    <tr style=\"text-align: right;\">\n",
       "      <th></th>\n",
       "      <th>0</th>\n",
       "      <th>1</th>\n",
       "      <th>2</th>\n",
       "      <th>3</th>\n",
       "      <th>4</th>\n",
       "      <th>5</th>\n",
       "      <th>6</th>\n",
       "      <th>7</th>\n",
       "      <th>8</th>\n",
       "      <th>9</th>\n",
       "      <th>...</th>\n",
       "      <th>4087</th>\n",
       "      <th>4088</th>\n",
       "      <th>4089</th>\n",
       "      <th>4090</th>\n",
       "      <th>4091</th>\n",
       "      <th>4092</th>\n",
       "      <th>4093</th>\n",
       "      <th>4094</th>\n",
       "      <th>4095</th>\n",
       "      <th>labels</th>\n",
       "    </tr>\n",
       "  </thead>\n",
       "  <tbody>\n",
       "    <tr>\n",
       "      <th>0</th>\n",
       "      <td>90.357407</td>\n",
       "      <td>25.381262</td>\n",
       "      <td>13.217480</td>\n",
       "      <td>8.188929</td>\n",
       "      <td>8.712362</td>\n",
       "      <td>22.920258</td>\n",
       "      <td>15.890907</td>\n",
       "      <td>12.241099</td>\n",
       "      <td>8.261765</td>\n",
       "      <td>31.130510</td>\n",
       "      <td>...</td>\n",
       "      <td>0.000857</td>\n",
       "      <td>0.002469</td>\n",
       "      <td>0.001963</td>\n",
       "      <td>0.002475</td>\n",
       "      <td>0.002073</td>\n",
       "      <td>0.001551</td>\n",
       "      <td>0.000752</td>\n",
       "      <td>0.000323</td>\n",
       "      <td>0.002240</td>\n",
       "      <td>anger</td>\n",
       "    </tr>\n",
       "    <tr>\n",
       "      <th>1</th>\n",
       "      <td>98.479868</td>\n",
       "      <td>27.626112</td>\n",
       "      <td>12.403676</td>\n",
       "      <td>7.132805</td>\n",
       "      <td>11.004840</td>\n",
       "      <td>26.238426</td>\n",
       "      <td>21.339986</td>\n",
       "      <td>13.977914</td>\n",
       "      <td>9.464882</td>\n",
       "      <td>34.198121</td>\n",
       "      <td>...</td>\n",
       "      <td>0.879177</td>\n",
       "      <td>0.716687</td>\n",
       "      <td>0.917389</td>\n",
       "      <td>0.885052</td>\n",
       "      <td>1.110173</td>\n",
       "      <td>1.133701</td>\n",
       "      <td>1.293268</td>\n",
       "      <td>1.077869</td>\n",
       "      <td>1.121075</td>\n",
       "      <td>anger</td>\n",
       "    </tr>\n",
       "    <tr>\n",
       "      <th>2</th>\n",
       "      <td>90.357407</td>\n",
       "      <td>25.381262</td>\n",
       "      <td>13.217480</td>\n",
       "      <td>8.188929</td>\n",
       "      <td>8.712362</td>\n",
       "      <td>22.920258</td>\n",
       "      <td>15.890907</td>\n",
       "      <td>12.241099</td>\n",
       "      <td>8.261765</td>\n",
       "      <td>31.130510</td>\n",
       "      <td>...</td>\n",
       "      <td>0.000857</td>\n",
       "      <td>0.002469</td>\n",
       "      <td>0.001963</td>\n",
       "      <td>0.002475</td>\n",
       "      <td>0.002073</td>\n",
       "      <td>0.001551</td>\n",
       "      <td>0.000752</td>\n",
       "      <td>0.000323</td>\n",
       "      <td>0.002240</td>\n",
       "      <td>anger</td>\n",
       "    </tr>\n",
       "    <tr>\n",
       "      <th>3</th>\n",
       "      <td>20.002951</td>\n",
       "      <td>3.949590</td>\n",
       "      <td>3.899841</td>\n",
       "      <td>1.271599</td>\n",
       "      <td>1.667388</td>\n",
       "      <td>2.722115</td>\n",
       "      <td>63.597122</td>\n",
       "      <td>25.016373</td>\n",
       "      <td>13.182193</td>\n",
       "      <td>8.177568</td>\n",
       "      <td>...</td>\n",
       "      <td>0.000310</td>\n",
       "      <td>0.000125</td>\n",
       "      <td>0.000081</td>\n",
       "      <td>0.000016</td>\n",
       "      <td>0.000022</td>\n",
       "      <td>0.000204</td>\n",
       "      <td>0.000861</td>\n",
       "      <td>0.002468</td>\n",
       "      <td>0.003056</td>\n",
       "      <td>anger</td>\n",
       "    </tr>\n",
       "    <tr>\n",
       "      <th>4</th>\n",
       "      <td>17.137007</td>\n",
       "      <td>20.320030</td>\n",
       "      <td>8.576147</td>\n",
       "      <td>5.224805</td>\n",
       "      <td>1.583428</td>\n",
       "      <td>0.537228</td>\n",
       "      <td>1.285165</td>\n",
       "      <td>1.700830</td>\n",
       "      <td>1.986353</td>\n",
       "      <td>0.626370</td>\n",
       "      <td>...</td>\n",
       "      <td>0.000013</td>\n",
       "      <td>0.000010</td>\n",
       "      <td>0.000007</td>\n",
       "      <td>0.000004</td>\n",
       "      <td>0.000003</td>\n",
       "      <td>0.000003</td>\n",
       "      <td>0.000005</td>\n",
       "      <td>0.000007</td>\n",
       "      <td>0.000014</td>\n",
       "      <td>neutral</td>\n",
       "    </tr>\n",
       "  </tbody>\n",
       "</table>\n",
       "<p>5 rows × 4097 columns</p>\n",
       "</div>"
      ],
      "text/plain": [
       "           0          1          2         3          4          5          6  \\\n",
       "0  90.357407  25.381262  13.217480  8.188929   8.712362  22.920258  15.890907   \n",
       "1  98.479868  27.626112  12.403676  7.132805  11.004840  26.238426  21.339986   \n",
       "2  90.357407  25.381262  13.217480  8.188929   8.712362  22.920258  15.890907   \n",
       "3  20.002951   3.949590   3.899841  1.271599   1.667388   2.722115  63.597122   \n",
       "4  17.137007  20.320030   8.576147  5.224805   1.583428   0.537228   1.285165   \n",
       "\n",
       "           7          8          9  ...      4087      4088      4089  \\\n",
       "0  12.241099   8.261765  31.130510  ...  0.000857  0.002469  0.001963   \n",
       "1  13.977914   9.464882  34.198121  ...  0.879177  0.716687  0.917389   \n",
       "2  12.241099   8.261765  31.130510  ...  0.000857  0.002469  0.001963   \n",
       "3  25.016373  13.182193   8.177568  ...  0.000310  0.000125  0.000081   \n",
       "4   1.700830   1.986353   0.626370  ...  0.000013  0.000010  0.000007   \n",
       "\n",
       "       4090      4091      4092      4093      4094      4095   labels  \n",
       "0  0.002475  0.002073  0.001551  0.000752  0.000323  0.002240    anger  \n",
       "1  0.885052  1.110173  1.133701  1.293268  1.077869  1.121075    anger  \n",
       "2  0.002475  0.002073  0.001551  0.000752  0.000323  0.002240    anger  \n",
       "3  0.000016  0.000022  0.000204  0.000861  0.002468  0.003056    anger  \n",
       "4  0.000004  0.000003  0.000003  0.000005  0.000007  0.000014  neutral  \n",
       "\n",
       "[5 rows x 4097 columns]"
      ]
     },
     "execution_count": 143,
     "metadata": {},
     "output_type": "execute_result"
    }
   ],
   "source": [
    "# # features-train-all-v4 - melspectrogram only 128-65\n",
    "# features_train_df = pd.read_csv('./features/features-train-all-mfcc-v2.csv')\n",
    "# features_test_df = pd.read_csv('./features/features-test-all-mfcc-v2.csv')\n",
    "# features_val_df = pd.read_csv('./features/features-val-all-mfcc-v2.csv')\n",
    "# features_train_df.head()\n",
    "\n",
    "# features-train-all-v4 - melspectrogram only 128-65\n",
    "features_train_df = pd.read_csv(\"./features/features-train-no-uk-mel-v2.csv\")\n",
    "features_test_df = pd.read_csv(\"./features/features-test-no-uk-mel-v2.csv\")\n",
    "features_val_df = pd.read_csv(\"./features/features-val-no-uk-mel-v2.csv\")\n",
    "features_uk_test_df = pd.read_csv(\n",
    "    \"./features/features-test-uk-only-mel-v2.csv\")\n",
    "features_train_df.head()"
   ]
  },
  {
   "cell_type": "code",
   "execution_count": 144,
   "metadata": {},
   "outputs": [
    {
     "name": "stdout",
     "output_type": "stream",
     "text": [
      "['anger' 'neutral' 'sadness' 'contempt' 'happiness' 'fear' 'surprise'] 7\n"
     ]
    }
   ],
   "source": [
    "emotions = features_train_df.labels.unique()\n",
    "emotions_number = len(emotions)\n",
    "print(emotions, emotions_number)"
   ]
  },
  {
   "cell_type": "code",
   "execution_count": 145,
   "metadata": {},
   "outputs": [
    {
     "name": "stdout",
     "output_type": "stream",
     "text": [
      "<class 'pandas.core.frame.DataFrame'>\n",
      "RangeIndex: 37172 entries, 0 to 37171\n",
      "Columns: 4097 entries, 0 to labels\n",
      "dtypes: float64(4096), object(1)\n",
      "memory usage: 1.1+ GB\n"
     ]
    }
   ],
   "source": [
    "features_train_df.info()"
   ]
  },
  {
   "cell_type": "code",
   "execution_count": 146,
   "metadata": {},
   "outputs": [
    {
     "data": {
      "text/html": [
       "<div>\n",
       "<style scoped>\n",
       "    .dataframe tbody tr th:only-of-type {\n",
       "        vertical-align: middle;\n",
       "    }\n",
       "\n",
       "    .dataframe tbody tr th {\n",
       "        vertical-align: top;\n",
       "    }\n",
       "\n",
       "    .dataframe thead th {\n",
       "        text-align: right;\n",
       "    }\n",
       "</style>\n",
       "<table border=\"1\" class=\"dataframe\">\n",
       "  <thead>\n",
       "    <tr style=\"text-align: right;\">\n",
       "      <th></th>\n",
       "      <th>0</th>\n",
       "      <th>1</th>\n",
       "      <th>2</th>\n",
       "      <th>3</th>\n",
       "      <th>4</th>\n",
       "      <th>5</th>\n",
       "      <th>6</th>\n",
       "      <th>7</th>\n",
       "      <th>8</th>\n",
       "      <th>9</th>\n",
       "      <th>...</th>\n",
       "      <th>4086</th>\n",
       "      <th>4087</th>\n",
       "      <th>4088</th>\n",
       "      <th>4089</th>\n",
       "      <th>4090</th>\n",
       "      <th>4091</th>\n",
       "      <th>4092</th>\n",
       "      <th>4093</th>\n",
       "      <th>4094</th>\n",
       "      <th>4095</th>\n",
       "    </tr>\n",
       "  </thead>\n",
       "  <tbody>\n",
       "    <tr>\n",
       "      <th>count</th>\n",
       "      <td>1594.000000</td>\n",
       "      <td>1594.000000</td>\n",
       "      <td>1594.000000</td>\n",
       "      <td>1594.000000</td>\n",
       "      <td>1594.000000</td>\n",
       "      <td>1594.000000</td>\n",
       "      <td>1594.000000</td>\n",
       "      <td>1594.000000</td>\n",
       "      <td>1594.000000</td>\n",
       "      <td>1594.000000</td>\n",
       "      <td>...</td>\n",
       "      <td>1.594000e+03</td>\n",
       "      <td>1.594000e+03</td>\n",
       "      <td>1.594000e+03</td>\n",
       "      <td>1.594000e+03</td>\n",
       "      <td>1.594000e+03</td>\n",
       "      <td>1594.000000</td>\n",
       "      <td>1594.000000</td>\n",
       "      <td>1594.000000</td>\n",
       "      <td>1594.000000</td>\n",
       "      <td>1594.000000</td>\n",
       "    </tr>\n",
       "    <tr>\n",
       "      <th>mean</th>\n",
       "      <td>349.906058</td>\n",
       "      <td>215.895077</td>\n",
       "      <td>57.311215</td>\n",
       "      <td>29.728711</td>\n",
       "      <td>23.688773</td>\n",
       "      <td>21.786274</td>\n",
       "      <td>22.053254</td>\n",
       "      <td>23.355035</td>\n",
       "      <td>26.097391</td>\n",
       "      <td>27.622281</td>\n",
       "      <td>...</td>\n",
       "      <td>5.789895e-03</td>\n",
       "      <td>5.595780e-03</td>\n",
       "      <td>6.468716e-03</td>\n",
       "      <td>8.908844e-03</td>\n",
       "      <td>1.379310e-02</td>\n",
       "      <td>0.030791</td>\n",
       "      <td>0.054768</td>\n",
       "      <td>0.047598</td>\n",
       "      <td>0.043806</td>\n",
       "      <td>0.076290</td>\n",
       "    </tr>\n",
       "    <tr>\n",
       "      <th>std</th>\n",
       "      <td>2063.897798</td>\n",
       "      <td>1161.215388</td>\n",
       "      <td>285.925092</td>\n",
       "      <td>147.905538</td>\n",
       "      <td>116.491527</td>\n",
       "      <td>107.594050</td>\n",
       "      <td>108.298696</td>\n",
       "      <td>114.316840</td>\n",
       "      <td>129.424244</td>\n",
       "      <td>135.950170</td>\n",
       "      <td>...</td>\n",
       "      <td>6.602672e-02</td>\n",
       "      <td>7.613391e-02</td>\n",
       "      <td>6.651306e-02</td>\n",
       "      <td>9.012403e-02</td>\n",
       "      <td>1.965762e-01</td>\n",
       "      <td>0.783735</td>\n",
       "      <td>1.234401</td>\n",
       "      <td>1.004924</td>\n",
       "      <td>0.905626</td>\n",
       "      <td>1.841945</td>\n",
       "    </tr>\n",
       "    <tr>\n",
       "      <th>min</th>\n",
       "      <td>0.113131</td>\n",
       "      <td>0.233583</td>\n",
       "      <td>0.091777</td>\n",
       "      <td>0.070308</td>\n",
       "      <td>0.035393</td>\n",
       "      <td>0.027907</td>\n",
       "      <td>0.032145</td>\n",
       "      <td>0.033131</td>\n",
       "      <td>0.029768</td>\n",
       "      <td>0.020027</td>\n",
       "      <td>...</td>\n",
       "      <td>6.611547e-07</td>\n",
       "      <td>7.244483e-07</td>\n",
       "      <td>6.527902e-07</td>\n",
       "      <td>8.991437e-07</td>\n",
       "      <td>9.307003e-07</td>\n",
       "      <td>0.000001</td>\n",
       "      <td>0.000001</td>\n",
       "      <td>0.000002</td>\n",
       "      <td>0.000001</td>\n",
       "      <td>0.000001</td>\n",
       "    </tr>\n",
       "    <tr>\n",
       "      <th>25%</th>\n",
       "      <td>6.805339</td>\n",
       "      <td>5.076859</td>\n",
       "      <td>1.836119</td>\n",
       "      <td>1.083058</td>\n",
       "      <td>0.896121</td>\n",
       "      <td>0.779052</td>\n",
       "      <td>0.887055</td>\n",
       "      <td>0.930683</td>\n",
       "      <td>0.955138</td>\n",
       "      <td>1.099464</td>\n",
       "      <td>...</td>\n",
       "      <td>1.474390e-06</td>\n",
       "      <td>1.553846e-06</td>\n",
       "      <td>1.431572e-06</td>\n",
       "      <td>1.987737e-06</td>\n",
       "      <td>1.848238e-06</td>\n",
       "      <td>0.000002</td>\n",
       "      <td>0.000002</td>\n",
       "      <td>0.000003</td>\n",
       "      <td>0.000002</td>\n",
       "      <td>0.000009</td>\n",
       "    </tr>\n",
       "    <tr>\n",
       "      <th>50%</th>\n",
       "      <td>25.256513</td>\n",
       "      <td>29.884600</td>\n",
       "      <td>9.936425</td>\n",
       "      <td>5.369187</td>\n",
       "      <td>4.813163</td>\n",
       "      <td>4.120754</td>\n",
       "      <td>4.024556</td>\n",
       "      <td>4.006011</td>\n",
       "      <td>4.770455</td>\n",
       "      <td>4.986985</td>\n",
       "      <td>...</td>\n",
       "      <td>6.632691e-06</td>\n",
       "      <td>6.724581e-06</td>\n",
       "      <td>7.050309e-06</td>\n",
       "      <td>7.735448e-06</td>\n",
       "      <td>7.720478e-06</td>\n",
       "      <td>0.000007</td>\n",
       "      <td>0.000008</td>\n",
       "      <td>0.000008</td>\n",
       "      <td>0.000008</td>\n",
       "      <td>0.000066</td>\n",
       "    </tr>\n",
       "    <tr>\n",
       "      <th>75%</th>\n",
       "      <td>77.246081</td>\n",
       "      <td>76.701730</td>\n",
       "      <td>24.208867</td>\n",
       "      <td>12.648365</td>\n",
       "      <td>10.518270</td>\n",
       "      <td>9.716903</td>\n",
       "      <td>9.232369</td>\n",
       "      <td>10.476739</td>\n",
       "      <td>11.400866</td>\n",
       "      <td>11.617737</td>\n",
       "      <td>...</td>\n",
       "      <td>7.355046e-05</td>\n",
       "      <td>7.168104e-05</td>\n",
       "      <td>7.445996e-05</td>\n",
       "      <td>7.362203e-05</td>\n",
       "      <td>6.547127e-05</td>\n",
       "      <td>0.000058</td>\n",
       "      <td>0.000063</td>\n",
       "      <td>0.000071</td>\n",
       "      <td>0.000078</td>\n",
       "      <td>0.000693</td>\n",
       "    </tr>\n",
       "    <tr>\n",
       "      <th>max</th>\n",
       "      <td>20279.998000</td>\n",
       "      <td>11400.497000</td>\n",
       "      <td>2798.908700</td>\n",
       "      <td>1423.429400</td>\n",
       "      <td>1132.776900</td>\n",
       "      <td>1034.871500</td>\n",
       "      <td>1059.492700</td>\n",
       "      <td>1121.438000</td>\n",
       "      <td>1305.575400</td>\n",
       "      <td>1351.641100</td>\n",
       "      <td>...</td>\n",
       "      <td>1.755534e+00</td>\n",
       "      <td>2.740840e+00</td>\n",
       "      <td>1.626206e+00</td>\n",
       "      <td>1.810526e+00</td>\n",
       "      <td>5.274726e+00</td>\n",
       "      <td>29.846157</td>\n",
       "      <td>43.953630</td>\n",
       "      <td>34.905990</td>\n",
       "      <td>28.899847</td>\n",
       "      <td>55.519260</td>\n",
       "    </tr>\n",
       "  </tbody>\n",
       "</table>\n",
       "<p>8 rows × 4096 columns</p>\n",
       "</div>"
      ],
      "text/plain": [
       "                  0             1            2            3            4  \\\n",
       "count   1594.000000   1594.000000  1594.000000  1594.000000  1594.000000   \n",
       "mean     349.906058    215.895077    57.311215    29.728711    23.688773   \n",
       "std     2063.897798   1161.215388   285.925092   147.905538   116.491527   \n",
       "min        0.113131      0.233583     0.091777     0.070308     0.035393   \n",
       "25%        6.805339      5.076859     1.836119     1.083058     0.896121   \n",
       "50%       25.256513     29.884600     9.936425     5.369187     4.813163   \n",
       "75%       77.246081     76.701730    24.208867    12.648365    10.518270   \n",
       "max    20279.998000  11400.497000  2798.908700  1423.429400  1132.776900   \n",
       "\n",
       "                 5            6            7            8            9  ...  \\\n",
       "count  1594.000000  1594.000000  1594.000000  1594.000000  1594.000000  ...   \n",
       "mean     21.786274    22.053254    23.355035    26.097391    27.622281  ...   \n",
       "std     107.594050   108.298696   114.316840   129.424244   135.950170  ...   \n",
       "min       0.027907     0.032145     0.033131     0.029768     0.020027  ...   \n",
       "25%       0.779052     0.887055     0.930683     0.955138     1.099464  ...   \n",
       "50%       4.120754     4.024556     4.006011     4.770455     4.986985  ...   \n",
       "75%       9.716903     9.232369    10.476739    11.400866    11.617737  ...   \n",
       "max    1034.871500  1059.492700  1121.438000  1305.575400  1351.641100  ...   \n",
       "\n",
       "               4086          4087          4088          4089          4090  \\\n",
       "count  1.594000e+03  1.594000e+03  1.594000e+03  1.594000e+03  1.594000e+03   \n",
       "mean   5.789895e-03  5.595780e-03  6.468716e-03  8.908844e-03  1.379310e-02   \n",
       "std    6.602672e-02  7.613391e-02  6.651306e-02  9.012403e-02  1.965762e-01   \n",
       "min    6.611547e-07  7.244483e-07  6.527902e-07  8.991437e-07  9.307003e-07   \n",
       "25%    1.474390e-06  1.553846e-06  1.431572e-06  1.987737e-06  1.848238e-06   \n",
       "50%    6.632691e-06  6.724581e-06  7.050309e-06  7.735448e-06  7.720478e-06   \n",
       "75%    7.355046e-05  7.168104e-05  7.445996e-05  7.362203e-05  6.547127e-05   \n",
       "max    1.755534e+00  2.740840e+00  1.626206e+00  1.810526e+00  5.274726e+00   \n",
       "\n",
       "              4091         4092         4093         4094         4095  \n",
       "count  1594.000000  1594.000000  1594.000000  1594.000000  1594.000000  \n",
       "mean      0.030791     0.054768     0.047598     0.043806     0.076290  \n",
       "std       0.783735     1.234401     1.004924     0.905626     1.841945  \n",
       "min       0.000001     0.000001     0.000002     0.000001     0.000001  \n",
       "25%       0.000002     0.000002     0.000003     0.000002     0.000009  \n",
       "50%       0.000007     0.000008     0.000008     0.000008     0.000066  \n",
       "75%       0.000058     0.000063     0.000071     0.000078     0.000693  \n",
       "max      29.846157    43.953630    34.905990    28.899847    55.519260  \n",
       "\n",
       "[8 rows x 4096 columns]"
      ]
     },
     "execution_count": 146,
     "metadata": {},
     "output_type": "execute_result"
    }
   ],
   "source": [
    "features_test_df.describe()"
   ]
  },
  {
   "cell_type": "code",
   "execution_count": 147,
   "metadata": {},
   "outputs": [],
   "source": [
    "x_train = features_train_df.iloc[:, :-1].values\n",
    "y_train = features_train_df['labels'].values\n",
    "\n",
    "x_test = features_test_df.iloc[:, :-1].values\n",
    "y_test = features_test_df['labels'].values\n",
    "\n",
    "x_val = features_val_df.iloc[:, :-1].values\n",
    "y_val = features_val_df['labels'].values\n",
    "\n",
    "x_test_uk = features_uk_test_df.iloc[:, :-1].values\n",
    "y_test_uk = features_uk_test_df['labels'].values"
   ]
  },
  {
   "cell_type": "markdown",
   "metadata": {},
   "source": [
    "scale data"
   ]
  },
  {
   "cell_type": "code",
   "execution_count": 148,
   "metadata": {},
   "outputs": [],
   "source": [
    "all_features_df = pd.concat(\n",
    "    [features_test_df, features_val_df])\n",
    "all_features_df.drop(['labels'], axis=1, inplace=True)\n",
    "all_features = all_features_df.to_numpy()"
   ]
  },
  {
   "cell_type": "code",
   "execution_count": 149,
   "metadata": {},
   "outputs": [],
   "source": [
    "from sklearn.preprocessing import MinMaxScaler\n",
    "\n",
    "\n",
    "scaler = StandardScaler()\n",
    "scaler = scaler.fit(all_features)\n",
    "x_train = scaler.transform(x_train)\n",
    "x_test = scaler.transform(x_test)\n",
    "x_val = scaler.transform(x_val)"
   ]
  },
  {
   "cell_type": "markdown",
   "metadata": {},
   "source": [
    "reshape\n"
   ]
  },
  {
   "cell_type": "code",
   "execution_count": 150,
   "metadata": {},
   "outputs": [
    {
     "name": "stdout",
     "output_type": "stream",
     "text": [
      "(1594, 64, 64) (1594,) (37172, 64, 64) (37172,) (2390, 64, 64) (2390,)\n",
      "(26, 64, 64) (26,)\n"
     ]
    }
   ],
   "source": [
    "x_train = np.reshape(x_train, (len(x_train), 64, 64))\n",
    "x_test = np.reshape(x_test, (len(x_test), 64, 64))\n",
    "x_val = np.reshape(x_val, (len(x_val), 64, 64))\n",
    "x_test_uk = np.reshape(x_test_uk, (len(x_test_uk), 64, 64))\n",
    "\n",
    "\n",
    "print(x_test.shape, y_test.shape, x_train.shape,\n",
    "      y_train.shape, x_val.shape, y_val.shape)\n",
    "print(x_test_uk.shape, y_test_uk.shape)"
   ]
  },
  {
   "cell_type": "markdown",
   "metadata": {},
   "source": [
    "encode labels"
   ]
  },
  {
   "cell_type": "code",
   "execution_count": 151,
   "metadata": {},
   "outputs": [],
   "source": [
    "# As this is a multiclass classification problem onehotencoding our Y.\n",
    "encoder = OneHotEncoder()\n",
    "y_train_enc = encoder.fit_transform(np.array(y_train).reshape(-1, 1)).toarray()\n",
    "y_test_enc = encoder.transform(np.array(y_test).reshape(-1, 1)).toarray()\n",
    "y_val_enc = encoder.transform(np.array(y_val).reshape(-1, 1)).toarray()\n",
    "\n",
    "y_test_uk_enc = encoder.transform(\n",
    "    np.array(y_test_uk).reshape(-1, 1)).toarray()"
   ]
  },
  {
   "cell_type": "code",
   "execution_count": 152,
   "metadata": {},
   "outputs": [
    {
     "data": {
      "text/plain": [
       "[array(['anger', 'contempt', 'fear', 'happiness', 'neutral', 'sadness',\n",
       "        'surprise'], dtype=object)]"
      ]
     },
     "execution_count": 152,
     "metadata": {},
     "output_type": "execute_result"
    }
   ],
   "source": [
    "encoder.categories_"
   ]
  },
  {
   "cell_type": "code",
   "execution_count": 153,
   "metadata": {},
   "outputs": [
    {
     "name": "stdout",
     "output_type": "stream",
     "text": [
      "train:\t((37172, 64, 64), (37172, 7))\n",
      "val:\t ((2390, 64, 64), (2390, 7))\n",
      "test:\t((1594, 64, 64), (1594, 7))\n"
     ]
    }
   ],
   "source": [
    "print(\n",
    "    f'train:\\t{x_train.shape, y_train_enc.shape}\\nval:\\t {x_val.shape, y_val_enc.shape,}\\ntest:\\t{x_test.shape, y_test_enc.shape}')"
   ]
  },
  {
   "cell_type": "markdown",
   "metadata": {},
   "source": [
    "## Modeling\n"
   ]
  },
  {
   "cell_type": "code",
   "execution_count": 154,
   "metadata": {},
   "outputs": [],
   "source": [
    "def print_report(model, history, test_x, test_y):\n",
    "    print(\"Accuracy of our model on test data : \",\n",
    "          model.evaluate(test_x, test_y)[1]*100, \"%\")\n",
    "\n",
    "    epochs = history.epoch\n",
    "\n",
    "    fig, ax = plt.subplots(1, 2)\n",
    "\n",
    "    train_acc = history.history['accuracy']\n",
    "    train_loss = history.history['loss']\n",
    "    test_acc = history.history['val_accuracy']\n",
    "    test_loss = history.history['val_loss']\n",
    "\n",
    "    fig.set_size_inches(20, 6)\n",
    "    ax[0].plot(epochs, train_loss, label='Training Loss')\n",
    "    ax[0].plot(epochs, test_loss, label='Testing Loss')\n",
    "    ax[0].set_title('Training & Testing Loss')\n",
    "    ax[0].legend()\n",
    "    ax[0].set_xlabel(\"Epochs\")\n",
    "    ax[1].plot(epochs, train_acc, label='Training Accuracy')\n",
    "    ax[1].plot(epochs, test_acc, label='Testing Accuracy')\n",
    "    ax[1].set_title('Training & Testing Accuracy')\n",
    "    ax[1].legend()\n",
    "    ax[1].set_xlabel(\"Epochs\")\n",
    "\n",
    "    plt.show()\n",
    "\n",
    "\n",
    "def print_confusion_matrix(test, pred, size=(12, 10)):\n",
    "    cm = confusion_matrix(test, pred)\n",
    "    plt.figure(figsize=size)\n",
    "    cm = pd.DataFrame(cm, index=[i for i in encoder.categories_], columns=[\n",
    "        i for i in encoder.categories_])\n",
    "    sns.heatmap(cm, linecolor='white', cmap='Blues',\n",
    "                linewidth=1, annot=True, fmt='')\n",
    "    plt.title('Confusion Matrix', size=20)\n",
    "    plt.xlabel('Predicted Labels', size=14)\n",
    "    plt.ylabel('Actual Labels', size=14)\n",
    "    plt.show()"
   ]
  },
  {
   "cell_type": "code",
   "execution_count": 164,
   "metadata": {},
   "outputs": [
    {
     "name": "stdout",
     "output_type": "stream",
     "text": [
      "[PhysicalDevice(name='/physical_device:GPU:0', device_type='GPU')]\n"
     ]
    }
   ],
   "source": [
    "import tensorflow as tf\n",
    "from tensorflow.keras import initializers\n",
    "from tensorflow.keras.callbacks import ReduceLROnPlateau, EarlyStopping\n",
    "from tensorflow.keras.models import Sequential\n",
    "from tensorflow.keras.layers import Dense, LSTM, Conv2D, MaxPooling2D, AveragePooling2D, GlobalAveragePooling2D, Flatten, Dropout, BatchNormalization\n",
    "from tensorflow.keras.utils import Sequence, to_categorical\n",
    "from tensorflow.keras.callbacks import ModelCheckpoint\n",
    "\n",
    "print(tf.config.list_physical_devices('GPU'))"
   ]
  },
  {
   "cell_type": "markdown",
   "metadata": {},
   "source": [
    "data generator:"
   ]
  },
  {
   "cell_type": "code",
   "execution_count": 156,
   "metadata": {},
   "outputs": [],
   "source": [
    "# https://stackoverflow.com/questions/62916904/failed-copying-input-tensor-from-cpu-to-gpu-in-order-to-run-gatherve-dst-tensor\n",
    "# Fernando Wittmann\n",
    "\n",
    "class DataGenerator(Sequence):\n",
    "    def __init__(self, x_set, y_set, batch_size):\n",
    "        self.x, self.y = x_set, y_set\n",
    "        self.batch_size = batch_size\n",
    "\n",
    "    def __len__(self):\n",
    "        return int(np.ceil(len(self.x) / float(self.batch_size)))\n",
    "\n",
    "    def __getitem__(self, idx):\n",
    "        batch_x = self.x[idx * self.batch_size:(idx + 1) * self.batch_size]\n",
    "        batch_y = self.y[idx * self.batch_size:(idx + 1) * self.batch_size]\n",
    "        return batch_x, batch_y"
   ]
  },
  {
   "cell_type": "markdown",
   "metadata": {},
   "source": [
    "### main\n"
   ]
  },
  {
   "cell_type": "code",
   "execution_count": 157,
   "metadata": {},
   "outputs": [],
   "source": [
    "from sklearn.metrics import recall_score, precision_score, accuracy_score, f1_score\n",
    "from sklearn.model_selection import cross_val_score\n",
    "\n",
    "\n",
    "def print_report(model, history, test_x, test_y):\n",
    "    print(\"Accuracy of our model on test data : \",\n",
    "          model.evaluate(test_x, test_y)[1]*100, \"%\")\n",
    "    epochs = history.epoch\n",
    "\n",
    "    fig, ax = plt.subplots(1, 2)\n",
    "\n",
    "    train_acc = history.history['accuracy']\n",
    "    train_loss = history.history['loss']\n",
    "    test_acc = history.history['val_accuracy']\n",
    "    test_loss = history.history['val_loss']\n",
    "\n",
    "    fig.set_size_inches(20, 6)\n",
    "    ax[0].plot(epochs, train_loss, label='Training Loss')\n",
    "    ax[0].plot(epochs, test_loss, label='Testing Loss')\n",
    "    ax[0].set_title('Training & Testing Loss')\n",
    "    ax[0].legend()\n",
    "    ax[0].set_xlabel(\"Epochs\")\n",
    "    ax[1].plot(epochs, train_acc, label='Training Accuracy')\n",
    "    ax[1].plot(epochs, test_acc, label='Testing Accuracy')\n",
    "    ax[1].set_title('Training & Testing Accuracy')\n",
    "    ax[1].legend()\n",
    "    ax[1].set_xlabel(\"Epochs\")\n",
    "\n",
    "    plt.show()\n",
    "\n",
    "\n",
    "def print_report_v2(history):\n",
    "    epochs = history.epoch\n",
    "    fig, ax = plt.subplots(1, 2)\n",
    "\n",
    "    train_acc = history.history['accuracy']\n",
    "    train_loss = history.history['loss']\n",
    "    test_acc = history.history['val_accuracy']\n",
    "    test_loss = history.history['val_loss']\n",
    "\n",
    "    fig.set_size_inches(20, 6)\n",
    "    ax[0].plot(epochs, train_loss, label='Training Loss')\n",
    "    ax[0].plot(epochs, test_loss, label='Testing Loss')\n",
    "    ax[0].set_title('Training & Testing Loss')\n",
    "    ax[0].legend()\n",
    "    ax[0].set_xlabel(\"Epochs\")\n",
    "    ax[1].plot(epochs, train_acc, label='Training Accuracy')\n",
    "    ax[1].plot(epochs, test_acc, label='Testing Accuracy')\n",
    "    ax[1].set_title('Training & Testing Accuracy')\n",
    "    ax[1].legend()\n",
    "    ax[1].set_xlabel(\"Epochs\")\n",
    "\n",
    "    plt.show()\n",
    "\n",
    "\n",
    "def get_metrics(model, y_test, tag):\n",
    "    y_pred = model.predict(y_test_enc)\n",
    "    y_pred_decoded = encoder.inverse_transform(y_pred)\n",
    "\n",
    "    metrics_map = {'model': tag, 'recall': 0,\n",
    "                   'precision': 0, 'accuracy': 0, 'f1': 0}\n",
    "    metrics_map['recall'] = recall_score(\n",
    "        y_true=y_test, y_pred=y_pred_decoded, average='micro')\n",
    "    metrics_map['precision'] = precision_score(\n",
    "        y_true=y_test, y_pred=y_pred_decoded, average='micro')\n",
    "    metrics_map['accuracy'] = accuracy_score(\n",
    "        y_true=y_test, y_pred=y_pred_decoded)\n",
    "    metrics_map['f1'] = f1_score(\n",
    "        y_true=y_test, y_pred=y_pred_decoded, average='micro')\n",
    "\n",
    "    results = pd.DataFrame(metrics_map, index=[0])\n",
    "\n",
    "    if (os.path.exists('training_results.csv')):\n",
    "        saved_metrics = pd.read_csv('training_results.csv')\n",
    "\n",
    "        results = results.append(saved_metrics)\n",
    "\n",
    "    results.to_csv('training_results.csv', index=False)\n",
    "\n",
    "\n",
    "def get_metrics_v2(model, test_data, tag, steps=20):\n",
    "\n",
    "    # Model Evaluation\n",
    "    err, acc = model.evaluate_generator(generator=test_data, steps=steps)\n",
    "    print(err, acc)\n",
    "    test_data.reset()\n",
    "\n",
    "    y_pred = model.predict_generator(test_data, verbose=1)\n",
    "    # encoded prediction e.g 0 1 2 3\n",
    "    y_pred_indices = np.argmax(y_pred, axis=1)\n",
    "    labels = (test_data.class_indices)\n",
    "    labels = dict((v, k) for k, v in labels.items())\n",
    "    y_pred_decoded = [labels[k] for k in y_pred_indices]\n",
    "    y_true_decoded = [labels[k] for k in test_data.labels]\n",
    "    print(len(y_pred_decoded), len(y_true_decoded))\n",
    "\n",
    "    metrics_map = {'model': tag, 'recall': 0,\n",
    "                   'precision': 0, 'accuracy': 0, 'f1': 0}\n",
    "\n",
    "    metrics_map['recall'] = recall_score(\n",
    "        y_true=y_true_decoded, y_pred=y_pred_decoded, average='micro')\n",
    "    metrics_map['precision'] = precision_score(\n",
    "        y_true=y_true_decoded, y_pred=y_pred_decoded, average='micro')\n",
    "    metrics_map['accuracy'] = accuracy_score(\n",
    "        y_true=y_true_decoded, y_pred=y_pred_decoded)\n",
    "    metrics_map['f1'] = f1_score(\n",
    "        y_true=y_true_decoded, y_pred=y_pred_decoded, average='micro')\n",
    "\n",
    "    results = pd.DataFrame(metrics_map, index=[0])\n",
    "\n",
    "    if (os.path.exists('training_results.csv')):\n",
    "        saved_metrics = pd.read_csv('training_results.csv')\n",
    "\n",
    "        results = results.append(saved_metrics)\n",
    "\n",
    "    results.to_csv('training_results.csv', index=False)\n",
    "\n",
    "    return [y_pred_decoded, y_true_decoded]"
   ]
  },
  {
   "cell_type": "code",
   "execution_count": 158,
   "metadata": {},
   "outputs": [],
   "source": [
    "# https://towardsdatascience.com/recurrent-neural-nets-for-audio-classification-81cb62327990"
   ]
  },
  {
   "cell_type": "code",
   "execution_count": 159,
   "metadata": {},
   "outputs": [],
   "source": [
    "from tensorflow.keras.utils import plot_model\n",
    "# plot_model(model, \"mini_resnet.png\", show_shapes=True)"
   ]
  },
  {
   "cell_type": "code",
   "execution_count": 160,
   "metadata": {},
   "outputs": [],
   "source": [
    "train_size=len(x_train)\n",
    "batch_size=128\n",
    "epochs=50"
   ]
  },
  {
   "cell_type": "code",
   "execution_count": 161,
   "metadata": {},
   "outputs": [],
   "source": [
    "initial_learning_rate = 0.001\n",
    "final_learning_rate = 0.0001\n",
    "learning_rate_decay_factor = (final_learning_rate / initial_learning_rate)**(1/epochs)\n",
    "steps_per_epoch = int(train_size/batch_size)\n",
    "\n",
    "lr_schedule = tf.keras.optimizers.schedules.ExponentialDecay(\n",
    "                initial_learning_rate=initial_learning_rate,\n",
    "                decay_steps=steps_per_epoch,\n",
    "                decay_rate=learning_rate_decay_factor,\n",
    "                staircase=True)\n",
    "\n",
    "learning_rate_schedule = tf.keras.optimizers.schedules.ExponentialDecay(\n",
    "    initial_learning_rate=0.001,\n",
    "    decay_steps=1000,\n",
    "    decay_rate=0.96\n",
    ")"
   ]
  },
  {
   "cell_type": "code",
   "execution_count": 102,
   "metadata": {},
   "outputs": [],
   "source": [
    "# input_shape = (64, 64, 1)\n",
    "\n",
    "# model = Sequential()\n",
    "# model.add(Conv2D(8, 3, input_shape=input_shape,\n",
    "#           padding='same', activation='relu'))  # : f 32 > 8\n",
    "# model.add(MaxPooling2D())  # A > 4. B\n",
    "# # : f 32 > 6. 16 (less overfit) > 7. none\n",
    "# # model.add(Conv2D(16, 3, padding='same', activation='relu'))\n",
    "# # model.add(AveragePooling2D())  # A > 4. B\n",
    "# # may remove in future\n",
    "# # f: 32! > 3. 64 > 5. null! (less overfit)\n",
    "# model.add(Conv2D(8, 3, padding='same', activation='relu')) # : f 32 > 8\n",
    "# model.add(MaxPooling2D())  # A > 4. B\n",
    "# model.add(Flatten())\n",
    "# # 8192 = 1 sample; 32 time step; 256 features in each step\n",
    "# model.add(tf.keras.layers.Reshape((8, 256)))  # 32 > 8\n",
    "# model.add(LSTM(32, input_shape=(8, 256)))  # 256 - 32\n",
    "# model.add(Dense(7, activation='softmax'))\n",
    "\n",
    "\n",
    "# optimizer = tf.keras.optimizers.Adam(learning_rate=lr_schedule)\n",
    "# # optimizer = tf.keras.optimizers.SGD(learning_rate=learning_rate_schedule)\n",
    "# model.compile(optimizer=optimizer,\n",
    "#               loss='categorical_crossentropy', metrics=['accuracy'])\n",
    "# model.summary()"
   ]
  },
  {
   "cell_type": "code",
   "execution_count": 162,
   "metadata": {},
   "outputs": [
    {
     "name": "stdout",
     "output_type": "stream",
     "text": [
      "Model: \"sequential_20\"\n",
      "_________________________________________________________________\n",
      " Layer (type)                Output Shape              Param #   \n",
      "=================================================================\n",
      " conv2d_33 (Conv2D)          (None, 16, 16, 16)        160       \n",
      "                                                                 \n",
      " max_pooling2d_33 (MaxPoolin  (None, 8, 8, 16)         0         \n",
      " g2D)                                                            \n",
      "                                                                 \n",
      " flatten_17 (Flatten)        (None, 1024)              0         \n",
      "                                                                 \n",
      " reshape_13 (Reshape)        (None, 16, 64)            0         \n",
      "                                                                 \n",
      " lstm_12 (LSTM)              (None, 64)                33024     \n",
      "                                                                 \n",
      " dense_19 (Dense)            (None, 7)                 455       \n",
      "                                                                 \n",
      "=================================================================\n",
      "Total params: 33,639\n",
      "Trainable params: 33,639\n",
      "Non-trainable params: 0\n",
      "_________________________________________________________________\n"
     ]
    }
   ],
   "source": [
    "# input_shape = (64, 64, 1)\n",
    "\n",
    "# model = Sequential()\n",
    "# model.add(Conv2D(16, 3, strides=4, input_shape=input_shape, activation='relu'))  # : f 32 > 8 > 16\n",
    "# model.add(MaxPooling2D())  # A > 4. B\n",
    "# # : f 32 > 6. 16 (less overfit) > 7. none\n",
    "# # model.add(Conv2D(16, 3, padding='same', activation='relu'))\n",
    "# # model.add(AveragePooling2D())  # A > 4. B\n",
    "# # may remove in future\n",
    "# # f: 32! > 3. 64 > 5. null! (less overfit)\n",
    "# # model.add(Conv2D(8, 3, padding='same', activation='relu')) # : f 32 > 8\n",
    "# # model.add(MaxPooling2D())  # A > 4. B\n",
    "# model.add(Flatten())\n",
    "# # 8192 = 1 sample; 32 time step; 256 features in each step\n",
    "# model.add(tf.keras.layers.Reshape((16, 64)))  # 32 > 8\n",
    "# model.add(LSTM(64, input_shape=(16, 64)))  # 256 - 32\n",
    "# model.add(Dense(7, activation='softmax'))\n",
    "\n",
    "\n",
    "# optimizer = tf.keras.optimizers.Adam(learning_rate=lr_schedule)\n",
    "# # optimizer = tf.keras.optimizers.SGD(learning_rate=learning_rate_schedule)\n",
    "# model.compile(optimizer=optimizer,\n",
    "#               loss='categorical_crossentropy', metrics=['accuracy'])\n",
    "# model.summary()"
   ]
  },
  {
   "cell_type": "code",
   "execution_count": null,
   "metadata": {},
   "outputs": [],
   "source": []
  },
  {
   "cell_type": "code",
   "execution_count": 196,
   "metadata": {},
   "outputs": [
    {
     "name": "stdout",
     "output_type": "stream",
     "text": [
      "Model: \"sequential_29\"\n",
      "_________________________________________________________________\n",
      " Layer (type)                Output Shape              Param #   \n",
      "=================================================================\n",
      " conv2d_50 (Conv2D)          (None, 64, 64, 64)        640       \n",
      "                                                                 \n",
      " average_pooling2d_16 (Avera  (None, 32, 32, 64)       0         \n",
      " gePooling2D)                                                    \n",
      "                                                                 \n",
      " conv2d_51 (Conv2D)          (None, 32, 32, 32)        18464     \n",
      "                                                                 \n",
      " average_pooling2d_17 (Avera  (None, 16, 16, 32)       0         \n",
      " gePooling2D)                                                    \n",
      "                                                                 \n",
      " flatten_26 (Flatten)        (None, 8192)              0         \n",
      "                                                                 \n",
      " reshape_22 (Reshape)        (None, 128, 64)           0         \n",
      "                                                                 \n",
      " lstm_21 (LSTM)              (None, 64)                33024     \n",
      "                                                                 \n",
      " dense_37 (Dense)            (None, 64)                4160      \n",
      "                                                                 \n",
      " dense_38 (Dense)            (None, 32)                2080      \n",
      "                                                                 \n",
      " dense_39 (Dense)            (None, 16)                528       \n",
      "                                                                 \n",
      " dense_40 (Dense)            (None, 7)                 119       \n",
      "                                                                 \n",
      "=================================================================\n",
      "Total params: 59,015\n",
      "Trainable params: 59,015\n",
      "Non-trainable params: 0\n",
      "_________________________________________________________________\n"
     ]
    }
   ],
   "source": [
    "input_shape = (64, 64, 1)\n",
    "\n",
    "model = Sequential()\n",
    "model.add(Conv2D(64, 3, input_shape=input_shape,\n",
    "          padding='same', activation='relu', kernel_initializer='glorot_normal'))  # : f 32\n",
    "model.add(AveragePooling2D())  # A > 4. B\n",
    "# : f 32 > 6. 16 (less overfit) > 7. none\n",
    "# model.add(Conv2D(16, 3, padding='same', activation='relu'))\n",
    "# model.add(AveragePooling2D())  # A > 4. B\n",
    "# may remove in future\n",
    "# f: 32! > 3. 64 > 5. null! (less overfit)\n",
    "model.add(Conv2D(32, 3, padding='same', activation='relu', kernel_initializer='glorot_normal'))\n",
    "model.add(AveragePooling2D())  # A > 4. B\n",
    "model.add(Flatten())\n",
    "# 2048 = 1 sample; 32 time step; 64 features in each step\n",
    "model.add(tf.keras.layers.Reshape((128, 64)))  # 3. 64*64  > 7. 128*64\n",
    "model.add(LSTM(64, input_shape=(128, 64), kernel_initializer=\"glorot_normal\", recurrent_initializer=\"orthogonal\"))  # 1. 64! > 2. 128  > 7. 128\n",
    "model.add(Dense(64, activation='relu', kernel_initializer='glorot_normal'))\n",
    "model.add(Dense(32, activation='relu', kernel_initializer='glorot_normal'))\n",
    "model.add(Dense(16, activation='relu', kernel_initializer='glorot_normal'))\n",
    "model.add(Dense(7, activation='softmax'))\n",
    "\n",
    "learning_rate_schedule = tf.keras.optimizers.schedules.ExponentialDecay(\n",
    "    initial_learning_rate=0.001,\n",
    "    decay_steps=1000,\n",
    "    decay_rate=0.96\n",
    ")\n",
    "optimizer = tf.keras.optimizers.Adam(learning_rate=lr_schedule)\n",
    "# optimizer = tf.keras.optimizers.SGD(learning_rate=learning_rate_schedule)\n",
    "model.compile(optimizer=optimizer,\n",
    "              loss='categorical_crossentropy', metrics=['accuracy'])\n",
    "model.summary()"
   ]
  },
  {
   "cell_type": "code",
   "execution_count": 166,
   "metadata": {},
   "outputs": [],
   "source": [
    "rlrp = ReduceLROnPlateau(monitor='loss', factor=0.4,\n",
    "                         verbose=0, patience=5, min_lr=0.0000001)\n",
    "early_stopping = EarlyStopping(monitor='val_accuracy', patience=5)\n",
    "\n",
    "def scheduler(epoch, lr):\n",
    "  if epoch < 10:\n",
    "    return lr\n",
    "  else:\n",
    "    return lr * 0.1\n",
    "lrs = tf.keras.callbacks.LearningRateScheduler(\n",
    "    scheduler, verbose=0\n",
    ")"
   ]
  },
  {
   "cell_type": "code",
   "execution_count": 167,
   "metadata": {},
   "outputs": [],
   "source": [
    "# def print_lr(scheduler_func, lr, epochs):\n",
    "#     y_lr = []\n",
    "#     x_lr = [i+1 for i in range(epochs) ]\n",
    "#     for i in range(epochs):\n",
    "#         y_lr.append(scheduler_func(i+1, lr))\n",
    "#     plt.plot(x_lr, y_lr)\n",
    "# print_lr(scheduler_func=scheduler, lr=0.001, epochs=50)"
   ]
  },
  {
   "cell_type": "code",
   "execution_count": 197,
   "metadata": {},
   "outputs": [
    {
     "name": "stdout",
     "output_type": "stream",
     "text": [
      "Epoch 1/50\n",
      "291/291 [==============================] - 17s 50ms/step - loss: 1.8042 - accuracy: 0.2453 - val_loss: 1.7087 - val_accuracy: 0.2992\n",
      "Epoch 2/50\n",
      "291/291 [==============================] - 15s 51ms/step - loss: 1.6818 - accuracy: 0.3098 - val_loss: 1.6227 - val_accuracy: 0.3556\n",
      "Epoch 3/50\n",
      "291/291 [==============================] - 15s 51ms/step - loss: 1.6258 - accuracy: 0.3383 - val_loss: 1.6057 - val_accuracy: 0.3724\n",
      "Epoch 4/50\n",
      "291/291 [==============================] - 14s 50ms/step - loss: 1.5823 - accuracy: 0.3552 - val_loss: 1.5682 - val_accuracy: 0.3707\n",
      "Epoch 5/50\n",
      "291/291 [==============================] - 14s 50ms/step - loss: 1.5514 - accuracy: 0.3676 - val_loss: 1.5569 - val_accuracy: 0.3791\n",
      "Epoch 6/50\n",
      "291/291 [==============================] - 14s 50ms/step - loss: 1.5091 - accuracy: 0.3856 - val_loss: 1.4870 - val_accuracy: 0.3992\n",
      "Epoch 7/50\n",
      "291/291 [==============================] - 10s 34ms/step - loss: 1.4615 - accuracy: 0.4088 - val_loss: 1.4469 - val_accuracy: 0.4259\n",
      "Epoch 8/50\n",
      "291/291 [==============================] - 13s 45ms/step - loss: 1.4257 - accuracy: 0.4251 - val_loss: 1.4511 - val_accuracy: 0.4213\n",
      "Epoch 9/50\n",
      "291/291 [==============================] - 15s 50ms/step - loss: 1.3872 - accuracy: 0.4380 - val_loss: 1.4125 - val_accuracy: 0.4423\n",
      "Epoch 10/50\n",
      "291/291 [==============================] - 15s 52ms/step - loss: 1.4079 - accuracy: 0.4297 - val_loss: 1.4239 - val_accuracy: 0.4389\n",
      "Epoch 11/50\n",
      "291/291 [==============================] - 15s 52ms/step - loss: 1.3625 - accuracy: 0.4472 - val_loss: 1.3874 - val_accuracy: 0.4448\n",
      "Epoch 12/50\n",
      "291/291 [==============================] - 15s 51ms/step - loss: 1.3543 - accuracy: 0.4523 - val_loss: 1.6134 - val_accuracy: 0.3393\n",
      "Epoch 13/50\n",
      "291/291 [==============================] - 15s 51ms/step - loss: 1.3667 - accuracy: 0.4444 - val_loss: 1.3719 - val_accuracy: 0.4510\n",
      "Epoch 14/50\n",
      "291/291 [==============================] - 15s 51ms/step - loss: 1.3422 - accuracy: 0.4580 - val_loss: 1.3892 - val_accuracy: 0.4494\n",
      "Epoch 15/50\n",
      "291/291 [==============================] - 15s 50ms/step - loss: 1.3215 - accuracy: 0.4657 - val_loss: 1.3673 - val_accuracy: 0.4552\n",
      "Epoch 16/50\n",
      "291/291 [==============================] - 15s 50ms/step - loss: 1.2912 - accuracy: 0.4755 - val_loss: 1.3641 - val_accuracy: 0.4594\n",
      "Epoch 17/50\n",
      "291/291 [==============================] - 8s 27ms/step - loss: 1.2880 - accuracy: 0.4778 - val_loss: 1.3489 - val_accuracy: 0.4640\n",
      "Epoch 18/50\n",
      "291/291 [==============================] - 15s 51ms/step - loss: 1.3924 - accuracy: 0.4306 - val_loss: 1.4291 - val_accuracy: 0.4188\n",
      "Epoch 19/50\n",
      "291/291 [==============================] - 15s 53ms/step - loss: 1.3433 - accuracy: 0.4526 - val_loss: 1.3670 - val_accuracy: 0.4427\n",
      "Epoch 20/50\n",
      "291/291 [==============================] - 15s 52ms/step - loss: 1.3027 - accuracy: 0.4719 - val_loss: 1.3522 - val_accuracy: 0.4548\n",
      "Epoch 21/50\n",
      "291/291 [==============================] - 15s 51ms/step - loss: 1.2816 - accuracy: 0.4801 - val_loss: 1.3357 - val_accuracy: 0.4640\n",
      "Epoch 22/50\n",
      "291/291 [==============================] - 15s 53ms/step - loss: 1.2669 - accuracy: 0.4874 - val_loss: 1.3255 - val_accuracy: 0.4720\n",
      "Epoch 23/50\n",
      "291/291 [==============================] - 11s 38ms/step - loss: 1.2505 - accuracy: 0.4946 - val_loss: 1.3248 - val_accuracy: 0.4782\n",
      "Epoch 24/50\n",
      "291/291 [==============================] - 11s 38ms/step - loss: 1.2417 - accuracy: 0.4966 - val_loss: 1.3089 - val_accuracy: 0.4753\n",
      "Epoch 25/50\n",
      "291/291 [==============================] - 14s 47ms/step - loss: 1.2306 - accuracy: 0.5003 - val_loss: 1.2986 - val_accuracy: 0.4837\n",
      "Epoch 26/50\n",
      "291/291 [==============================] - 13s 46ms/step - loss: 1.2212 - accuracy: 0.5026 - val_loss: 1.3036 - val_accuracy: 0.4787\n",
      "Epoch 27/50\n",
      "291/291 [==============================] - 13s 46ms/step - loss: 1.2129 - accuracy: 0.5090 - val_loss: 1.3055 - val_accuracy: 0.4715\n",
      "Epoch 28/50\n",
      "291/291 [==============================] - 13s 45ms/step - loss: 1.2053 - accuracy: 0.5118 - val_loss: 1.3058 - val_accuracy: 0.4828\n",
      "Epoch 29/50\n",
      "291/291 [==============================] - 13s 43ms/step - loss: 1.1985 - accuracy: 0.5133 - val_loss: 1.3105 - val_accuracy: 0.4841\n",
      "Epoch 30/50\n",
      "291/291 [==============================] - 12s 40ms/step - loss: 1.1898 - accuracy: 0.5168 - val_loss: 1.3018 - val_accuracy: 0.4841\n",
      "Epoch 31/50\n",
      "291/291 [==============================] - 8s 26ms/step - loss: 1.1839 - accuracy: 0.5195 - val_loss: 1.3010 - val_accuracy: 0.4854\n",
      "Epoch 32/50\n",
      "291/291 [==============================] - 7s 26ms/step - loss: 1.1803 - accuracy: 0.5196 - val_loss: 1.3044 - val_accuracy: 0.4916\n",
      "Epoch 33/50\n",
      "291/291 [==============================] - 7s 25ms/step - loss: 1.1718 - accuracy: 0.5228 - val_loss: 1.3169 - val_accuracy: 0.4753\n",
      "Epoch 34/50\n",
      "291/291 [==============================] - 7s 25ms/step - loss: 1.1647 - accuracy: 0.5266 - val_loss: 1.3086 - val_accuracy: 0.4925\n",
      "Epoch 35/50\n",
      "291/291 [==============================] - 7s 26ms/step - loss: 1.1602 - accuracy: 0.5299 - val_loss: 1.3099 - val_accuracy: 0.4883\n",
      "Epoch 36/50\n",
      "291/291 [==============================] - 7s 25ms/step - loss: 1.1544 - accuracy: 0.5326 - val_loss: 1.3085 - val_accuracy: 0.4854\n",
      "Epoch 37/50\n",
      "291/291 [==============================] - 8s 26ms/step - loss: 1.1510 - accuracy: 0.5332 - val_loss: 1.3294 - val_accuracy: 0.4791\n",
      "Epoch 38/50\n",
      "291/291 [==============================] - 7s 25ms/step - loss: 1.1467 - accuracy: 0.5345 - val_loss: 1.3080 - val_accuracy: 0.4912\n",
      "Epoch 39/50\n",
      "291/291 [==============================] - 8s 26ms/step - loss: 1.1408 - accuracy: 0.5364 - val_loss: 1.3051 - val_accuracy: 0.4895\n"
     ]
    }
   ],
   "source": [
    "history = model.fit(x_train, y_train_enc,\n",
    "                    epochs=epochs,\n",
    "                    batch_size=batch_size,\n",
    "                    validation_data=(x_val, y_val_enc),\n",
    "                    callbacks=[early_stopping])\n",
    "\n",
    "# get_metrics(model, test_labels_decoded, '6v3-1d8-dp03-adam-20e')"
   ]
  },
  {
   "cell_type": "code",
   "execution_count": 198,
   "metadata": {},
   "outputs": [
    {
     "name": "stdout",
     "output_type": "stream",
     "text": [
      "50/50 [==============================] - 0s 7ms/step - loss: 1.3227 - accuracy: 0.4649\n",
      "Accuracy of our model on test data :  46.48682475090027 %\n"
     ]
    },
    {
     "data": {
      "image/png": "[encoded data removed]",
      "text/plain": [
       "<Figure size 1440x432 with 2 Axes>"
      ]
     },
     "metadata": {
      "needs_background": "light"
     },
     "output_type": "display_data"
    }
   ],
   "source": [
    "print_report(model, history, x_test, y_test_enc) "
   ]
  },
  {
   "cell_type": "code",
   "execution_count": 170,
   "metadata": {},
   "outputs": [],
   "source": [
    "# print_report(model, history, x_test, y_test_enc)"
   ]
  },
  {
   "cell_type": "markdown",
   "metadata": {},
   "source": [
    "### Predictions"
   ]
  },
  {
   "cell_type": "code",
   "execution_count": 171,
   "metadata": {},
   "outputs": [
    {
     "name": "stdout",
     "output_type": "stream",
     "text": [
      "50/50 [==============================] - 1s 10ms/step\n",
      "1/1 [==============================] - 0s 30ms/step\n"
     ]
    }
   ],
   "source": [
    "# predicting on test data.\n",
    "y_pred = model.predict(x_test)\n",
    "y_pred_uk = model.predict(x_test_uk)\n",
    "y_pred_decoded = encoder.inverse_transform(y_pred)\n",
    "y_pred_uk_decoded = encoder.inverse_transform(y_pred_uk)\n",
    "# y_test_decoded = encoder.inverse_transform(test_labels)"
   ]
  },
  {
   "cell_type": "code",
   "execution_count": 172,
   "metadata": {},
   "outputs": [],
   "source": [
    "def print_confusion_matrix(test, pred, size=(12, 10)):\n",
    "    cm = confusion_matrix(test, pred)\n",
    "    plt.figure(figsize=size)\n",
    "    cm = pd.DataFrame(cm, index=[i for i in encoder.categories_], columns=[\n",
    "        i for i in encoder.categories_])\n",
    "    sns.heatmap(cm, linecolor='white', cmap='Blues',\n",
    "                linewidth=1, annot=True, fmt='')\n",
    "    plt.title('Confusion Matrix', size=20)\n",
    "    plt.xlabel('Predicted Labels', size=14)\n",
    "    plt.ylabel('Actual Labels', size=14)\n",
    "    plt.show()\n",
    "\n",
    "\n",
    "def print_confusion_matrix_v2(test, pred, size=(12, 10)):\n",
    "    cm = confusion_matrix(test, pred)\n",
    "    plt.figure(figsize=size)\n",
    "    # cm = pd.DataFrame(cm, index=[i for i in emotions_number], columns=[\n",
    "    #     i for i in encoder.categories_])\n",
    "    sns.heatmap(cm, linecolor='white', cmap='Blues',\n",
    "                linewidth=1, annot=True, fmt='')\n",
    "    plt.title('Confusion Matrix', size=20)\n",
    "    plt.xlabel('Predicted Labels', size=14)\n",
    "    plt.ylabel('Actual Labels', size=14)\n",
    "    plt.show()"
   ]
  },
  {
   "cell_type": "markdown",
   "metadata": {},
   "source": [
    "### Confusion matrix + report"
   ]
  },
  {
   "cell_type": "code",
   "execution_count": 173,
   "metadata": {},
   "outputs": [
    {
     "data": {
      "text/plain": [
       "array([['anger'],\n",
       "       ['neutral'],\n",
       "       ['sadness'],\n",
       "       ...,\n",
       "       ['happiness'],\n",
       "       ['neutral'],\n",
       "       ['neutral']], dtype=object)"
      ]
     },
     "execution_count": 173,
     "metadata": {},
     "output_type": "execute_result"
    }
   ],
   "source": [
    "y_pred_decoded"
   ]
  },
  {
   "cell_type": "code",
   "execution_count": 174,
   "metadata": {},
   "outputs": [
    {
     "data": {
      "image/png": "[encoded data removed]",
      "text/plain": [
       "<Figure size 864x720 with 2 Axes>"
      ]
     },
     "metadata": {
      "needs_background": "light"
     },
     "output_type": "display_data"
    }
   ],
   "source": [
    "print_confusion_matrix(y_test, y_pred_decoded)"
   ]
  },
  {
   "cell_type": "code",
   "execution_count": 175,
   "metadata": {},
   "outputs": [
    {
     "data": {
      "text/plain": [
       "(1594, 1)"
      ]
     },
     "execution_count": 175,
     "metadata": {},
     "output_type": "execute_result"
    }
   ],
   "source": [
    "y_pred_decoded.shape"
   ]
  },
  {
   "cell_type": "code",
   "execution_count": 176,
   "metadata": {},
   "outputs": [
    {
     "data": {
      "image/png": "[encoded data removed]",
      "text/plain": [
       "<Figure size 864x720 with 2 Axes>"
      ]
     },
     "metadata": {
      "needs_background": "light"
     },
     "output_type": "display_data"
    }
   ],
   "source": [
    "print_confusion_matrix_v2(y_test_uk, y_pred_uk_decoded)"
   ]
  },
  {
   "cell_type": "markdown",
   "metadata": {},
   "source": [
    "data for the saved model cnn-lstm-i64x64-p109k-oAe50-f079-v1"
   ]
  },
  {
   "cell_type": "code",
   "execution_count": 177,
   "metadata": {},
   "outputs": [
    {
     "name": "stdout",
     "output_type": "stream",
     "text": [
      "              precision    recall  f1-score   support\n",
      "\n",
      "       anger       0.57      0.67      0.61       259\n",
      "    contempt       0.51      0.18      0.27       262\n",
      "        fear       0.68      0.24      0.35       275\n",
      "   happiness       0.51      0.33      0.40       259\n",
      "     neutral       0.32      0.64      0.43       218\n",
      "     sadness       0.37      0.69      0.48       248\n",
      "    surprise       0.92      0.49      0.64        73\n",
      "\n",
      "    accuracy                           0.45      1594\n",
      "   macro avg       0.55      0.46      0.45      1594\n",
      "weighted avg       0.52      0.45      0.43      1594\n",
      "\n"
     ]
    }
   ],
   "source": [
    "print(classification_report(y_test, y_pred_decoded))"
   ]
  },
  {
   "cell_type": "markdown",
   "metadata": {},
   "source": [
    "## Save the model"
   ]
  },
  {
   "cell_type": "code",
   "execution_count": 115,
   "metadata": {},
   "outputs": [],
   "source": [
    "model_k = './saved_models/cnn-lstm-i64x64-p109k-oAe40-l075-f074-v1.keras'\n",
    "model_t = './saved_models/cnn-lstm-i64x64-p109k-oAe40-l075-f074-v1.tflite'\n",
    "model_j = './saved_models/cnn-lstm-i64x64-p109k-oAe40-l075-f074-v1.json'\n",
    "version = 'v1'"
   ]
  },
  {
   "cell_type": "code",
   "execution_count": 116,
   "metadata": {},
   "outputs": [],
   "source": [
    "model.save(model_k)"
   ]
  },
  {
   "cell_type": "code",
   "execution_count": 117,
   "metadata": {},
   "outputs": [
    {
     "name": "stderr",
     "output_type": "stream",
     "text": [
      "WARNING:absl:Found untraced functions such as _jit_compiled_convolution_op, _jit_compiled_convolution_op, lstm_cell_11_layer_call_fn, lstm_cell_11_layer_call_and_return_conditional_losses while saving (showing 4 of 4). These functions will not be directly callable after loading.\n"
     ]
    },
    {
     "name": "stdout",
     "output_type": "stream",
     "text": [
      "INFO:tensorflow:Assets written to: C:\\Users\\nicko\\AppData\\Local\\Temp\\tmpdi7r03_s\\assets\n"
     ]
    },
    {
     "name": "stderr",
     "output_type": "stream",
     "text": [
      "INFO:tensorflow:Assets written to: C:\\Users\\nicko\\AppData\\Local\\Temp\\tmpdi7r03_s\\assets\n"
     ]
    }
   ],
   "source": [
    "converter = tf.lite.TFLiteConverter.from_keras_model(model)\n",
    "\n",
    "converter.optimizations = [tf.lite.Optimize.DEFAULT]\n",
    "converter.experimental_new_converter = True\n",
    "converter.target_spec.supported_ops = [tf.lite.OpsSet.TFLITE_BUILTINS,\n",
    "                                       tf.lite.OpsSet.SELECT_TF_OPS]\n",
    "\n",
    "tflite_model = converter.convert()\n",
    "\n",
    "with open(model_t, 'wb') as f:\n",
    "    f.write(tflite_model)"
   ]
  },
  {
   "cell_type": "markdown",
   "metadata": {},
   "source": [
    "metadata"
   ]
  },
  {
   "cell_type": "code",
   "execution_count": 118,
   "metadata": {},
   "outputs": [
    {
     "data": {
      "text/plain": [
       "32.159162702465686"
      ]
     },
     "execution_count": 118,
     "metadata": {},
     "output_type": "execute_result"
    }
   ],
   "source": [
    "all_features.std()"
   ]
  },
  {
   "cell_type": "code",
   "execution_count": 119,
   "metadata": {},
   "outputs": [],
   "source": [
    "import os\n",
    "from tflite_support import flatbuffers\n",
    "from tflite_support import metadata as _metadata\n",
    "from tflite_support import metadata_schema_py_generated as _metadata_fb"
   ]
  },
  {
   "cell_type": "code",
   "execution_count": 120,
   "metadata": {},
   "outputs": [],
   "source": [
    "# Creates model info.\n",
    "model_meta = _metadata_fb.ModelMetadataT()\n",
    "model_meta.name = \"Speech emotion recognition CNN+LSTM hybrid model\"\n",
    "model_meta.description = (\"Identify emotion of human voice\")\n",
    "model_meta.version = version\n",
    "model_meta.author = \"Mykola Nosenko\"\n",
    "model_meta.license = (\"Apache License. Version 2.0 \"\n",
    "                      \"http://www.apache.org/licenses/LICENSE-2.0.\")  # verify later"
   ]
  },
  {
   "cell_type": "code",
   "execution_count": 121,
   "metadata": {},
   "outputs": [],
   "source": [
    "input_meta = _metadata_fb.TensorMetadataT()\n",
    "\n",
    "input_meta.name = \"mfcc\"\n",
    "input_meta.description = (\n",
    "    \"Input mfcc to be classified. The expected 2d array is 64 x 64\".format(160, 160))\n",
    "input_meta.content = _metadata_fb.ContentT()\n",
    "input_meta.content.contentProperties = _metadata_fb.FeaturePropertiesT()\n",
    "input_meta.content.contentPropertiesType = (\n",
    "    _metadata_fb.ContentProperties.FeatureProperties)\n",
    "# input_normalization = _metadata_fb.ProcessUnitT()\n",
    "# input_normalization.optionsType = (\n",
    "#     _metadata_fb.ProcessUnitOptions.NormalizationOptions)\n",
    "# input_normalization.options = _metadata_fb.NormalizationOptionsT()\n",
    "# input_normalization.options.mean = [127.5]\n",
    "# input_normalization.options.std = [127.5]\n",
    "# input_meta.processUnits = [input_normalization]\n",
    "# input_stats = _metadata_fb.StatsT()\n",
    "# input_stats.max = [255]\n",
    "# input_stats.min = [0]\n",
    "# input_meta.stats = input_stats"
   ]
  },
  {
   "cell_type": "code",
   "execution_count": 122,
   "metadata": {},
   "outputs": [],
   "source": [
    "# Creates output info.\n",
    "output_meta = _metadata_fb.TensorMetadataT()\n",
    "output_meta.name = \"probability\"\n",
    "output_meta.description = \"Probabilities of the 8 labels respectively.\"\n",
    "output_meta.content = _metadata_fb.ContentT()\n",
    "output_meta.content.content_properties = _metadata_fb.FeaturePropertiesT()\n",
    "output_meta.content.contentPropertiesType = (\n",
    "    _metadata_fb.ContentProperties.FeatureProperties)\n",
    "output_stats = _metadata_fb.StatsT()\n",
    "output_stats.max = [1.0]\n",
    "output_stats.min = [0.0]\n",
    "output_meta.stats = output_stats\n",
    "label_file = _metadata_fb.AssociatedFileT()\n",
    "label_file.name = os.path.basename(\"./emotion_labels.txt\")\n",
    "label_file.description = \"Labels for emotions that the model can recognize.\"\n",
    "label_file.type = _metadata_fb.AssociatedFileType.TENSOR_AXIS_LABELS\n",
    "output_meta.associatedFiles = [label_file]"
   ]
  },
  {
   "cell_type": "code",
   "execution_count": 123,
   "metadata": {},
   "outputs": [],
   "source": [
    "# Creates subgraph info.\n",
    "subgraph = _metadata_fb.SubGraphMetadataT()\n",
    "subgraph.inputTensorMetadata = [input_meta]\n",
    "subgraph.outputTensorMetadata = [output_meta]\n",
    "model_meta.subgraphMetadata = [subgraph]\n",
    "\n",
    "b = flatbuffers.Builder(0)\n",
    "b.Finish(\n",
    "    model_meta.Pack(b),\n",
    "    _metadata.MetadataPopulator.METADATA_FILE_IDENTIFIER)\n",
    "metadata_buf = b.Output()"
   ]
  },
  {
   "cell_type": "code",
   "execution_count": 124,
   "metadata": {},
   "outputs": [],
   "source": [
    "populator = _metadata.MetadataPopulator.with_model_file(model_t)\n",
    "populator.load_metadata_buffer(metadata_buf)\n",
    "populator.load_associated_files([\"./emotion_labels.txt\"])\n",
    "populator.populate()"
   ]
  },
  {
   "cell_type": "code",
   "execution_count": 125,
   "metadata": {},
   "outputs": [],
   "source": [
    "displayer = _metadata.MetadataDisplayer.with_model_file(model_t)\n",
    "export_json_file = os.path.join(model_j)\n",
    "json_file = displayer.get_metadata_json()\n",
    "# Optional: write out the metadata as a json file\n",
    "with open(export_json_file, \"w\") as f:\n",
    "    f.write(json_file)"
   ]
  },
  {
   "cell_type": "code",
   "execution_count": null,
   "metadata": {},
   "outputs": [],
   "source": []
  },
  {
   "cell_type": "code",
   "execution_count": null,
   "metadata": {},
   "outputs": [],
   "source": []
  }
 ],
 "metadata": {
  "kernelspec": {
   "display_name": ".venv",
   "language": "python",
   "name": "python3"
  },
  "language_info": {
   "codemirror_mode": {
    "name": "ipython",
    "version": 3
   },
   "file_extension": ".py",
   "mimetype": "text/x-python",
   "name": "python",
   "nbconvert_exporter": "python",
   "pygments_lexer": "ipython3",
   "version": "3.10.5"
  }
 },
 "nbformat": 4,
 "nbformat_minor": 2
}
