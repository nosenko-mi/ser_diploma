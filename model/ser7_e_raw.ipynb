{
 "cells": [
  {
   "cell_type": "code",
   "execution_count": 38,
   "metadata": {},
   "outputs": [],
   "source": [
    "import pandas as pd\n",
    "import numpy as np\n",
    "\n",
    "import sys\n",
    "import os\n",
    "\n",
    "from pathlib import Path\n",
    "# librosa is a Python library for analyzing audio and music. It can be used to extract the data from the audio files we will see it later.\n",
    "import librosa\n",
    "import librosa.display\n",
    "import seaborn as sns\n",
    "import matplotlib.pyplot as plt\n",
    "\n",
    "from sklearn.preprocessing import StandardScaler, OneHotEncoder\n",
    "from sklearn.metrics import confusion_matrix, classification_report\n",
    "from sklearn.model_selection import train_test_split\n",
    "\n",
    "# to play the audio files\n",
    "from IPython.display import Audio\n",
    "\n",
    "import warnings\n",
    "if not sys.warnoptions:\n",
    "    warnings.simplefilter(\"ignore\")\n",
    "warnings.filterwarnings(\"ignore\", category=DeprecationWarning)"
   ]
  },
  {
   "cell_type": "code",
   "execution_count": 39,
   "metadata": {},
   "outputs": [],
   "source": [
    "os.environ[\"TF_MIN_GPU_MULTIPROCESSOR_COUNT\"] = \"2\"\n",
    "os.environ[\"CUDA_VISIBLE_DEVICES\"] = \"0,1\""
   ]
  },
  {
   "cell_type": "code",
   "execution_count": 40,
   "metadata": {},
   "outputs": [
    {
     "name": "stdout",
     "output_type": "stream",
     "text": [
      "[PhysicalDevice(name='/physical_device:GPU:0', device_type='GPU')]\n"
     ]
    }
   ],
   "source": [
    "import tensorflow as tf\n",
    "from tensorflow.keras.callbacks import ReduceLROnPlateau\n",
    "from tensorflow.keras.models import Sequential\n",
    "from tensorflow.keras.layers import Dense, Conv1D, MaxPooling1D, AveragePooling1D, Flatten, Dropout, BatchNormalization\n",
    "from tensorflow.keras.utils import Sequence, to_categorical\n",
    "from tensorflow.keras.callbacks import ModelCheckpoint\n",
    "from tensorflow.keras import metrics\n",
    "\n",
    "print(tf.config.list_physical_devices('GPU'))"
   ]
  },
  {
   "cell_type": "code",
   "execution_count": 41,
   "metadata": {},
   "outputs": [
    {
     "data": {
      "text/html": [
       "<div>\n",
       "<style scoped>\n",
       "    .dataframe tbody tr th:only-of-type {\n",
       "        vertical-align: middle;\n",
       "    }\n",
       "\n",
       "    .dataframe tbody tr th {\n",
       "        vertical-align: top;\n",
       "    }\n",
       "\n",
       "    .dataframe thead th {\n",
       "        text-align: right;\n",
       "    }\n",
       "</style>\n",
       "<table border=\"1\" class=\"dataframe\">\n",
       "  <thead>\n",
       "    <tr style=\"text-align: right;\">\n",
       "      <th></th>\n",
       "      <th>0</th>\n",
       "      <th>1</th>\n",
       "      <th>2</th>\n",
       "      <th>3</th>\n",
       "      <th>4</th>\n",
       "      <th>5</th>\n",
       "      <th>6</th>\n",
       "      <th>7</th>\n",
       "      <th>8</th>\n",
       "      <th>9</th>\n",
       "      <th>...</th>\n",
       "      <th>153</th>\n",
       "      <th>154</th>\n",
       "      <th>155</th>\n",
       "      <th>156</th>\n",
       "      <th>157</th>\n",
       "      <th>158</th>\n",
       "      <th>159</th>\n",
       "      <th>160</th>\n",
       "      <th>161</th>\n",
       "      <th>labels</th>\n",
       "    </tr>\n",
       "  </thead>\n",
       "  <tbody>\n",
       "    <tr>\n",
       "      <th>0</th>\n",
       "      <td>0.174738</td>\n",
       "      <td>0.648226</td>\n",
       "      <td>0.677165</td>\n",
       "      <td>0.692260</td>\n",
       "      <td>0.716191</td>\n",
       "      <td>0.665501</td>\n",
       "      <td>0.607874</td>\n",
       "      <td>0.632416</td>\n",
       "      <td>0.642000</td>\n",
       "      <td>0.712695</td>\n",
       "      <td>...</td>\n",
       "      <td>0.008625</td>\n",
       "      <td>0.008645</td>\n",
       "      <td>0.009090</td>\n",
       "      <td>0.010604</td>\n",
       "      <td>0.011772</td>\n",
       "      <td>0.008924</td>\n",
       "      <td>0.003265</td>\n",
       "      <td>0.001107</td>\n",
       "      <td>0.000084</td>\n",
       "      <td>fear</td>\n",
       "    </tr>\n",
       "    <tr>\n",
       "      <th>1</th>\n",
       "      <td>0.252287</td>\n",
       "      <td>0.713152</td>\n",
       "      <td>0.745960</td>\n",
       "      <td>0.769096</td>\n",
       "      <td>0.762554</td>\n",
       "      <td>0.728579</td>\n",
       "      <td>0.661987</td>\n",
       "      <td>0.659903</td>\n",
       "      <td>0.686460</td>\n",
       "      <td>0.755400</td>\n",
       "      <td>...</td>\n",
       "      <td>0.011694</td>\n",
       "      <td>0.011428</td>\n",
       "      <td>0.012471</td>\n",
       "      <td>0.013722</td>\n",
       "      <td>0.014640</td>\n",
       "      <td>0.011388</td>\n",
       "      <td>0.005821</td>\n",
       "      <td>0.003910</td>\n",
       "      <td>0.003054</td>\n",
       "      <td>fear</td>\n",
       "    </tr>\n",
       "    <tr>\n",
       "      <th>2</th>\n",
       "      <td>0.174738</td>\n",
       "      <td>0.648226</td>\n",
       "      <td>0.677165</td>\n",
       "      <td>0.692260</td>\n",
       "      <td>0.716191</td>\n",
       "      <td>0.665501</td>\n",
       "      <td>0.607874</td>\n",
       "      <td>0.632416</td>\n",
       "      <td>0.642000</td>\n",
       "      <td>0.712695</td>\n",
       "      <td>...</td>\n",
       "      <td>0.008625</td>\n",
       "      <td>0.008645</td>\n",
       "      <td>0.009090</td>\n",
       "      <td>0.010604</td>\n",
       "      <td>0.011772</td>\n",
       "      <td>0.008924</td>\n",
       "      <td>0.003265</td>\n",
       "      <td>0.001107</td>\n",
       "      <td>0.000084</td>\n",
       "      <td>fear</td>\n",
       "    </tr>\n",
       "    <tr>\n",
       "      <th>3</th>\n",
       "      <td>0.181625</td>\n",
       "      <td>0.643610</td>\n",
       "      <td>0.581965</td>\n",
       "      <td>0.477430</td>\n",
       "      <td>0.558267</td>\n",
       "      <td>0.605189</td>\n",
       "      <td>0.522657</td>\n",
       "      <td>0.561186</td>\n",
       "      <td>0.614690</td>\n",
       "      <td>0.624254</td>\n",
       "      <td>...</td>\n",
       "      <td>0.183382</td>\n",
       "      <td>0.144932</td>\n",
       "      <td>0.060404</td>\n",
       "      <td>0.048087</td>\n",
       "      <td>0.056380</td>\n",
       "      <td>0.072826</td>\n",
       "      <td>0.076891</td>\n",
       "      <td>0.034622</td>\n",
       "      <td>0.004218</td>\n",
       "      <td>fear</td>\n",
       "    </tr>\n",
       "    <tr>\n",
       "      <th>4</th>\n",
       "      <td>0.238893</td>\n",
       "      <td>0.683777</td>\n",
       "      <td>0.635173</td>\n",
       "      <td>0.549861</td>\n",
       "      <td>0.612256</td>\n",
       "      <td>0.639177</td>\n",
       "      <td>0.560762</td>\n",
       "      <td>0.587642</td>\n",
       "      <td>0.635393</td>\n",
       "      <td>0.645892</td>\n",
       "      <td>...</td>\n",
       "      <td>0.184496</td>\n",
       "      <td>0.148167</td>\n",
       "      <td>0.064108</td>\n",
       "      <td>0.050857</td>\n",
       "      <td>0.059945</td>\n",
       "      <td>0.077811</td>\n",
       "      <td>0.082175</td>\n",
       "      <td>0.038339</td>\n",
       "      <td>0.007538</td>\n",
       "      <td>fear</td>\n",
       "    </tr>\n",
       "  </tbody>\n",
       "</table>\n",
       "<p>5 rows × 163 columns</p>\n",
       "</div>"
      ],
      "text/plain": [
       "          0         1         2         3         4         5         6  \\\n",
       "0  0.174738  0.648226  0.677165  0.692260  0.716191  0.665501  0.607874   \n",
       "1  0.252287  0.713152  0.745960  0.769096  0.762554  0.728579  0.661987   \n",
       "2  0.174738  0.648226  0.677165  0.692260  0.716191  0.665501  0.607874   \n",
       "3  0.181625  0.643610  0.581965  0.477430  0.558267  0.605189  0.522657   \n",
       "4  0.238893  0.683777  0.635173  0.549861  0.612256  0.639177  0.560762   \n",
       "\n",
       "          7         8         9  ...       153       154       155       156  \\\n",
       "0  0.632416  0.642000  0.712695  ...  0.008625  0.008645  0.009090  0.010604   \n",
       "1  0.659903  0.686460  0.755400  ...  0.011694  0.011428  0.012471  0.013722   \n",
       "2  0.632416  0.642000  0.712695  ...  0.008625  0.008645  0.009090  0.010604   \n",
       "3  0.561186  0.614690  0.624254  ...  0.183382  0.144932  0.060404  0.048087   \n",
       "4  0.587642  0.635393  0.645892  ...  0.184496  0.148167  0.064108  0.050857   \n",
       "\n",
       "        157       158       159       160       161  labels  \n",
       "0  0.011772  0.008924  0.003265  0.001107  0.000084    fear  \n",
       "1  0.014640  0.011388  0.005821  0.003910  0.003054    fear  \n",
       "2  0.011772  0.008924  0.003265  0.001107  0.000084    fear  \n",
       "3  0.056380  0.072826  0.076891  0.034622  0.004218    fear  \n",
       "4  0.059945  0.077811  0.082175  0.038339  0.007538    fear  \n",
       "\n",
       "[5 rows x 163 columns]"
      ]
     },
     "execution_count": 41,
     "metadata": {},
     "output_type": "execute_result"
    }
   ],
   "source": [
    "features_df = pd.read_csv('./features/features-no-uk-v1.csv')\n",
    "features_uk_df = pd.read_csv('./features/features-uk-only-v2.csv')\n",
    "\n",
    "features_df.head()"
   ]
  },
  {
   "cell_type": "code",
   "execution_count": 42,
   "metadata": {},
   "outputs": [],
   "source": [
    "emofilm_uk_df = pd.read_csv('D:/Documents/emofilm/data/emofilm_uk_df.csv')\n",
    "emofilm_df = pd.read_csv('D:/Documents/emofilm_df.csv')\n",
    "ravdess_df = pd.read_csv('D:/Documents/ravdess_df.csv')\n",
    "savee_df = pd.read_csv('D:/Documents/savee_df.csv')\n",
    "tess_df = pd.read_csv('D:/Documents/tess_df.csv')\n",
    "cremad_df = pd.read_csv('D:/Documents/cremad_df.csv')"
   ]
  },
  {
   "cell_type": "code",
   "execution_count": 43,
   "metadata": {},
   "outputs": [
    {
     "name": "stdout",
     "output_type": "stream",
     "text": [
      "<class 'pandas.core.frame.DataFrame'>\n",
      "RangeIndex: 13303 entries, 0 to 13302\n",
      "Data columns (total 2 columns):\n",
      " #   Column   Non-Null Count  Dtype \n",
      "---  ------   --------------  ----- \n",
      " 0   emotion  13303 non-null  object\n",
      " 1   path     13303 non-null  object\n",
      "dtypes: object(2)\n",
      "memory usage: 208.0+ KB\n"
     ]
    }
   ],
   "source": [
    "data_df = pd.concat([emofilm_df, emofilm_uk_df, ravdess_df, savee_df, tess_df, cremad_df],\n",
    "                    axis=0, ignore_index=True)\n",
    "# data_df = pd.concat([emofilm_df],\n",
    "#                     axis=0, ignore_index=True)\n",
    "\n",
    "data_df.info()"
   ]
  },
  {
   "cell_type": "code",
   "execution_count": 44,
   "metadata": {},
   "outputs": [],
   "source": [
    "from pandas import DataFrame\n",
    "\n",
    "\n",
    "def load_raw_data(df: DataFrame, fixed_length: int = -1):\n",
    "    data = {'data': [], 'emotion': []}\n",
    "    for i, row in df.iterrows():\n",
    "        a, sr = librosa.load(path=row['path'])\n",
    "        if (fixed_length > 0):\n",
    "            a = librosa.util.fix_length(a, size=fixed_length)\n",
    "        data['data'].append(a)\n",
    "        data['emotion'].append(row['emotion'])\n",
    "\n",
    "    return pd.DataFrame(data)"
   ]
  },
  {
   "cell_type": "code",
   "execution_count": 45,
   "metadata": {},
   "outputs": [],
   "source": [
    "width3s = int(3*22050)  # duration(s) * sample rate\n",
    "raw_df = load_raw_data(data_df, width3s)"
   ]
  },
  {
   "cell_type": "code",
   "execution_count": 46,
   "metadata": {},
   "outputs": [
    {
     "name": "stdout",
     "output_type": "stream",
     "text": [
      "<class 'pandas.core.frame.DataFrame'>\n",
      "RangeIndex: 13303 entries, 0 to 13302\n",
      "Data columns (total 2 columns):\n",
      " #   Column   Non-Null Count  Dtype \n",
      "---  ------   --------------  ----- \n",
      " 0   data     13303 non-null  object\n",
      " 1   emotion  13303 non-null  object\n",
      "dtypes: object(2)\n",
      "memory usage: 208.0+ KB\n"
     ]
    }
   ],
   "source": [
    "raw_df.info()"
   ]
  },
  {
   "cell_type": "code",
   "execution_count": 47,
   "metadata": {},
   "outputs": [
    {
     "name": "stdout",
     "output_type": "stream",
     "text": [
      "8\n"
     ]
    }
   ],
   "source": [
    "emotions_number = len(raw_df.emotion.unique())\n",
    "print(emotions_number)"
   ]
  },
  {
   "cell_type": "code",
   "execution_count": 48,
   "metadata": {},
   "outputs": [],
   "source": [
    "X = np.asarray(raw_df['data'].values)\n",
    "y = raw_df['emotion'].values"
   ]
  },
  {
   "cell_type": "code",
   "execution_count": 49,
   "metadata": {},
   "outputs": [],
   "source": [
    "X = np.vstack(X).reshape((len(X), X[0].shape[0], 1))"
   ]
  },
  {
   "cell_type": "code",
   "execution_count": 50,
   "metadata": {},
   "outputs": [],
   "source": [
    "# As this is a multiclass classification problem onehotencoding our Y.\n",
    "encoder = OneHotEncoder()\n",
    "y = encoder.fit_transform(np.array(y).reshape(-1, 1)).toarray()"
   ]
  },
  {
   "cell_type": "code",
   "execution_count": 51,
   "metadata": {},
   "outputs": [
    {
     "name": "stdout",
     "output_type": "stream",
     "text": [
      "train:\t ((10642, 66150, 1), (10642, 8))\n",
      "test:\t((2661, 66150, 1), (2661, 8))\n"
     ]
    }
   ],
   "source": [
    "# splitting data\n",
    "x_train, x_test, y_train, y_test = train_test_split(\n",
    "    X, y, test_size=0.2, random_state=0, shuffle=True)\n",
    "\n",
    "print(\n",
    "    f'train:\\t {x_train.shape, y_train.shape,}\\ntest:\\t{x_test.shape, y_test.shape}')"
   ]
  },
  {
   "cell_type": "code",
   "execution_count": 52,
   "metadata": {},
   "outputs": [
    {
     "name": "stdout",
     "output_type": "stream",
     "text": [
      "val:\t ((1862, 66150, 1), (1862, 8))\n",
      "test:\t((799, 66150, 1), (799, 8))\n"
     ]
    }
   ],
   "source": [
    "# Split once to get the test and validation set\n",
    "x_val, x_test, y_val, y_test = train_test_split(\n",
    "    x_test, y_test, test_size=0.3, random_state=42)\n",
    "print(\n",
    "    f'val:\\t {x_val.shape, y_val.shape,}\\ntest:\\t{x_test.shape, y_test.shape}')"
   ]
  },
  {
   "cell_type": "code",
   "execution_count": 53,
   "metadata": {},
   "outputs": [],
   "source": [
    "# # scaling our data with sklearn's Standard scaler\n",
    "# scaler = StandardScaler()\n",
    "# x_train = scaler.fit_transform(x_train)\n",
    "# x_test = scaler.transform(x_test)\n",
    "# x_val = scaler.fit_transform(x_val)\n",
    "# print(\n",
    "#     f'train:\\t {x_train.shape, y_train.shape,}\\ntest:\\t{x_val.shape, y_val.shape}\\ntest: {x_test.shape, y_test.shape}')"
   ]
  },
  {
   "cell_type": "markdown",
   "metadata": {},
   "source": [
    "## Model, train\n"
   ]
  },
  {
   "cell_type": "code",
   "execution_count": 54,
   "metadata": {},
   "outputs": [],
   "source": [
    "# https://stackoverflow.com/questions/62916904/failed-copying-input-tensor-from-cpu-to-gpu-in-order-to-run-gatherve-dst-tensor\n",
    "# Fernando Wittmann\n",
    "\n",
    "class DataGenerator(Sequence):\n",
    "    def __init__(self, x_set, y_set, batch_size):\n",
    "        self.x, self.y = x_set, y_set\n",
    "        self.batch_size = batch_size\n",
    "\n",
    "    def __len__(self):\n",
    "        return int(np.ceil(len(self.x) / float(self.batch_size)))\n",
    "\n",
    "    def __getitem__(self, idx):\n",
    "        batch_x = self.x[idx * self.batch_size:(idx + 1) * self.batch_size]\n",
    "        batch_y = self.y[idx * self.batch_size:(idx + 1) * self.batch_size]\n",
    "        return batch_x, batch_y\n",
    "\n",
    "\n",
    "train_gen = DataGenerator(x_train, y_train, 32)\n",
    "val_gen = DataGenerator(x_val, y_val, 32)"
   ]
  },
  {
   "cell_type": "markdown",
   "metadata": {},
   "source": [
    "vgg9 no uk v1\n"
   ]
  },
  {
   "cell_type": "code",
   "execution_count": 55,
   "metadata": {},
   "outputs": [
    {
     "data": {
      "text/plain": [
       "(66150, 1)"
      ]
     },
     "execution_count": 55,
     "metadata": {},
     "output_type": "execute_result"
    }
   ],
   "source": [
    "x_test[0].shape"
   ]
  },
  {
   "cell_type": "code",
   "execution_count": 56,
   "metadata": {},
   "outputs": [
    {
     "name": "stdout",
     "output_type": "stream",
     "text": [
      "(66150, 1)\n"
     ]
    }
   ],
   "source": [
    "input_shape = x_test[0].shape\n",
    "print(input_shape)"
   ]
  },
  {
   "cell_type": "code",
   "execution_count": 57,
   "metadata": {},
   "outputs": [
    {
     "name": "stdout",
     "output_type": "stream",
     "text": [
      "Model: \"sequential_2\"\n",
      "_________________________________________________________________\n",
      " Layer (type)                Output Shape              Param #   \n",
      "=================================================================\n",
      " conv1d_14 (Conv1D)          (None, 16538, 64)         768       \n",
      "                                                                 \n",
      " max_pooling1d_7 (MaxPooling  (None, 8269, 64)         0         \n",
      " 1D)                                                             \n",
      "                                                                 \n",
      " conv1d_15 (Conv1D)          (None, 4135, 64)          20544     \n",
      "                                                                 \n",
      " max_pooling1d_8 (MaxPooling  (None, 2068, 64)         0         \n",
      " 1D)                                                             \n",
      "                                                                 \n",
      " dropout_6 (Dropout)         (None, 2068, 64)          0         \n",
      "                                                                 \n",
      " conv1d_16 (Conv1D)          (None, 2066, 128)         24704     \n",
      "                                                                 \n",
      " conv1d_17 (Conv1D)          (None, 2066, 128)         49280     \n",
      "                                                                 \n",
      " conv1d_18 (Conv1D)          (None, 2066, 128)         49280     \n",
      "                                                                 \n",
      " max_pooling1d_9 (MaxPooling  (None, 1033, 128)        0         \n",
      " 1D)                                                             \n",
      "                                                                 \n",
      " dropout_7 (Dropout)         (None, 1033, 128)         0         \n",
      "                                                                 \n",
      " conv1d_19 (Conv1D)          (None, 1031, 256)         98560     \n",
      "                                                                 \n",
      " conv1d_20 (Conv1D)          (None, 1031, 256)         196864    \n",
      "                                                                 \n",
      " conv1d_21 (Conv1D)          (None, 1031, 256)         196864    \n",
      "                                                                 \n",
      " average_pooling1d_1 (Averag  (None, 516, 256)         0         \n",
      " ePooling1D)                                                     \n",
      "                                                                 \n",
      " dropout_8 (Dropout)         (None, 516, 256)          0         \n",
      "                                                                 \n",
      " flatten_2 (Flatten)         (None, 132096)            0         \n",
      "                                                                 \n",
      " dense_6 (Dense)             (None, 16)                2113552   \n",
      "                                                                 \n",
      " dense_7 (Dense)             (None, 16)                272       \n",
      "                                                                 \n",
      " dense_8 (Dense)             (None, 8)                 136       \n",
      "                                                                 \n",
      "=================================================================\n",
      "Total params: 2,750,824\n",
      "Trainable params: 2,750,824\n",
      "Non-trainable params: 0\n",
      "_________________________________________________________________\n"
     ]
    }
   ],
   "source": [
    "model = Sequential()\n",
    "model.add(Conv1D(64, kernel_size=11, strides=4, padding='same',\n",
    "          activation='relu', input_shape=input_shape))\n",
    "model.add(MaxPooling1D(pool_size=2, strides=2, padding='same'))\n",
    "model.add(Conv1D(64, kernel_size=5, strides=2,\n",
    "          padding='same', activation='relu'))\n",
    "model.add(MaxPooling1D(pool_size=2, strides=2, padding='same'))\n",
    "model.add(Dropout(0.2))\n",
    "model.add(Conv1D(128, kernel_size=3, activation='relu'))\n",
    "model.add(Conv1D(128, kernel_size=3, padding='same', activation='relu'))\n",
    "model.add(Conv1D(128, kernel_size=3, padding='same', activation='relu'))\n",
    "model.add(MaxPooling1D(pool_size=2, strides=2, padding='same'))\n",
    "model.add(Dropout(0.2))\n",
    "model.add(Conv1D(256, kernel_size=3, activation='relu'))\n",
    "model.add(Conv1D(256, kernel_size=3, padding='same', activation='relu'))\n",
    "model.add(Conv1D(256, kernel_size=3, padding='same', activation='relu'))\n",
    "model.add(AveragePooling1D(pool_size=2, strides=2, padding='same'))\n",
    "model.add(Dropout(0.2))\n",
    "model.add(Flatten())\n",
    "model.add(Dense(units=16, activation='relu'))\n",
    "model.add(Dense(units=16, activation='relu'))\n",
    "model.add(Dense(units=emotions_number, activation='softmax'))\n",
    "\n",
    "model.compile(optimizer='adam', loss='categorical_crossentropy',\n",
    "              metrics=['accuracy'])\n",
    "\n",
    "model.summary()"
   ]
  },
  {
   "cell_type": "markdown",
   "metadata": {},
   "source": []
  },
  {
   "cell_type": "code",
   "execution_count": 58,
   "metadata": {},
   "outputs": [],
   "source": [
    "# model = Sequential()\n",
    "# model.add(Conv1D(64, kernel_size=3, padding='same',\n",
    "#           activation='relu', input_shape=(x_train.shape[1], 1)))\n",
    "# model.add(MaxPooling1D(pool_size=2, strides=2, padding='same'))\n",
    "# model.add(Conv1D(128, kernel_size=3, padding='same', activation='relu'))\n",
    "# model.add(MaxPooling1D(pool_size=2, strides=2, padding='same'))\n",
    "# model.add(Dropout(0.2))\n",
    "# model.add(Conv1D(256, kernel_size=3, activation='relu'))\n",
    "# model.add(Conv1D(256, kernel_size=3, padding='same', activation='relu'))\n",
    "# model.add(MaxPooling1D(pool_size=2, strides=2, padding='same'))\n",
    "# model.add(Dropout(0.2))\n",
    "# model.add(Conv1D(512, kernel_size=3, activation='relu'))\n",
    "# model.add(Conv1D(512, kernel_size=3, padding='same', activation='relu'))\n",
    "# model.add(MaxPooling1D(pool_size=2, strides=2, padding='same'))\n",
    "# model.add(Dropout(0.2))\n",
    "# model.add(Flatten())\n",
    "# model.add(Dense(units=64, activation='relu'))\n",
    "# model.add(Dense(units=64, activation='relu'))\n",
    "# model.add(Dense(units=emotions_number, activation='softmax'))\n",
    "# model.compile(optimizer='adam', loss='categorical_crossentropy',\n",
    "#               metrics=['accuracy'])\n",
    "\n",
    "# model.summary()"
   ]
  },
  {
   "cell_type": "code",
   "execution_count": 59,
   "metadata": {},
   "outputs": [
    {
     "name": "stdout",
     "output_type": "stream",
     "text": [
      "Epoch 1/30\n",
      "333/333 [==============================] - 178s 528ms/step - loss: 1.8831 - accuracy: 0.2184 - val_loss: 1.7204 - val_accuracy: 0.2981 - lr: 0.0010\n",
      "Epoch 2/30\n",
      "333/333 [==============================] - 174s 523ms/step - loss: 1.7194 - accuracy: 0.3005 - val_loss: 1.6831 - val_accuracy: 0.2970 - lr: 0.0010\n",
      "Epoch 3/30\n",
      "333/333 [==============================] - 173s 520ms/step - loss: 1.6746 - accuracy: 0.3133 - val_loss: 1.6603 - val_accuracy: 0.3222 - lr: 0.0010\n",
      "Epoch 4/30\n",
      "333/333 [==============================] - 173s 518ms/step - loss: 1.6346 - accuracy: 0.3283 - val_loss: 1.7496 - val_accuracy: 0.2755 - lr: 0.0010\n",
      "Epoch 5/30\n",
      "333/333 [==============================] - 173s 521ms/step - loss: 1.5603 - accuracy: 0.3706 - val_loss: 1.5287 - val_accuracy: 0.3867 - lr: 0.0010\n",
      "Epoch 6/30\n",
      "333/333 [==============================] - 174s 522ms/step - loss: 1.4831 - accuracy: 0.4047 - val_loss: 1.5543 - val_accuracy: 0.3829 - lr: 0.0010\n",
      "Epoch 7/30\n",
      "333/333 [==============================] - 174s 522ms/step - loss: 1.4218 - accuracy: 0.4308 - val_loss: 1.4412 - val_accuracy: 0.4345 - lr: 0.0010\n",
      "Epoch 8/30\n",
      "333/333 [==============================] - 174s 522ms/step - loss: 1.3731 - accuracy: 0.4520 - val_loss: 1.4089 - val_accuracy: 0.4468 - lr: 0.0010\n",
      "Epoch 9/30\n",
      "333/333 [==============================] - 174s 522ms/step - loss: 1.3243 - accuracy: 0.4730 - val_loss: 1.4257 - val_accuracy: 0.4409 - lr: 0.0010\n",
      "Epoch 10/30\n",
      "333/333 [==============================] - 174s 524ms/step - loss: 1.2953 - accuracy: 0.4890 - val_loss: 1.4077 - val_accuracy: 0.4409 - lr: 0.0010\n",
      "Epoch 11/30\n",
      "333/333 [==============================] - 174s 523ms/step - loss: 1.2402 - accuracy: 0.5046 - val_loss: 1.4318 - val_accuracy: 0.4404 - lr: 0.0010\n",
      "Epoch 12/30\n",
      "333/333 [==============================] - 174s 523ms/step - loss: 1.2081 - accuracy: 0.5193 - val_loss: 1.4249 - val_accuracy: 0.4527 - lr: 0.0010\n",
      "Epoch 13/30\n",
      "333/333 [==============================] - 174s 523ms/step - loss: 1.1758 - accuracy: 0.5321 - val_loss: 1.4341 - val_accuracy: 0.4522 - lr: 0.0010\n",
      "Epoch 14/30\n",
      "333/333 [==============================] - 174s 523ms/step - loss: 1.1434 - accuracy: 0.5475 - val_loss: 1.4527 - val_accuracy: 0.4544 - lr: 0.0010\n",
      "Epoch 15/30\n",
      "333/333 [==============================] - 174s 523ms/step - loss: 1.1159 - accuracy: 0.5635 - val_loss: 1.4792 - val_accuracy: 0.4592 - lr: 0.0010\n",
      "Epoch 16/30\n",
      "333/333 [==============================] - 174s 524ms/step - loss: 1.0838 - accuracy: 0.5754 - val_loss: 1.4832 - val_accuracy: 0.4506 - lr: 0.0010\n",
      "Epoch 17/30\n",
      "333/333 [==============================] - 174s 524ms/step - loss: 1.0527 - accuracy: 0.5899 - val_loss: 1.4761 - val_accuracy: 0.4501 - lr: 0.0010\n",
      "Epoch 18/30\n",
      "333/333 [==============================] - 174s 524ms/step - loss: 1.0122 - accuracy: 0.6069 - val_loss: 1.5671 - val_accuracy: 0.4549 - lr: 0.0010\n",
      "Epoch 19/30\n",
      "333/333 [==============================] - 174s 523ms/step - loss: 0.9952 - accuracy: 0.6166 - val_loss: 1.5209 - val_accuracy: 0.4527 - lr: 0.0010\n",
      "Epoch 20/30\n",
      "333/333 [==============================] - 174s 524ms/step - loss: 0.9663 - accuracy: 0.6254 - val_loss: 1.6289 - val_accuracy: 0.4350 - lr: 0.0010\n",
      "Epoch 21/30\n",
      "333/333 [==============================] - 174s 524ms/step - loss: 0.9302 - accuracy: 0.6401 - val_loss: 1.6221 - val_accuracy: 0.4474 - lr: 0.0010\n",
      "Epoch 22/30\n",
      "333/333 [==============================] - 174s 524ms/step - loss: 0.9081 - accuracy: 0.6524 - val_loss: 1.6194 - val_accuracy: 0.4501 - lr: 0.0010\n",
      "Epoch 23/30\n",
      "333/333 [==============================] - 174s 524ms/step - loss: 0.8967 - accuracy: 0.6567 - val_loss: 1.6811 - val_accuracy: 0.4608 - lr: 0.0010\n",
      "Epoch 24/30\n",
      "333/333 [==============================] - 174s 523ms/step - loss: 0.8312 - accuracy: 0.6799 - val_loss: 1.7635 - val_accuracy: 0.4581 - lr: 0.0010\n",
      "Epoch 25/30\n",
      "333/333 [==============================] - 174s 523ms/step - loss: 0.8200 - accuracy: 0.6825 - val_loss: 1.7587 - val_accuracy: 0.4608 - lr: 0.0010\n",
      "Epoch 26/30\n",
      "333/333 [==============================] - 174s 524ms/step - loss: 0.7935 - accuracy: 0.6998 - val_loss: 1.8215 - val_accuracy: 0.4603 - lr: 0.0010\n",
      "Epoch 27/30\n",
      "333/333 [==============================] - 174s 523ms/step - loss: 0.7735 - accuracy: 0.7062 - val_loss: 1.7286 - val_accuracy: 0.4694 - lr: 0.0010\n",
      "Epoch 28/30\n",
      "333/333 [==============================] - 174s 524ms/step - loss: 0.7473 - accuracy: 0.7203 - val_loss: 1.8321 - val_accuracy: 0.4527 - lr: 0.0010\n",
      "Epoch 29/30\n",
      "333/333 [==============================] - 174s 524ms/step - loss: 0.7129 - accuracy: 0.7339 - val_loss: 1.9035 - val_accuracy: 0.4527 - lr: 0.0010\n",
      "Epoch 30/30\n",
      "333/333 [==============================] - 174s 524ms/step - loss: 0.7019 - accuracy: 0.7375 - val_loss: 2.0358 - val_accuracy: 0.4554 - lr: 0.0010\n"
     ]
    }
   ],
   "source": [
    "rlrp = ReduceLROnPlateau(monitor='loss', factor=0.4,\n",
    "                         verbose=0, patience=2, min_lr=0.0000001)\n",
    "\n",
    "\n",
    "history = model.fit(train_gen, epochs=30,\n",
    "                    validation_data=val_gen, callbacks=[rlrp])"
   ]
  },
  {
   "cell_type": "code",
   "execution_count": 60,
   "metadata": {},
   "outputs": [],
   "source": [
    "def print_report(model, history, test_x, test_y):\n",
    "    print(\"Accuracy of our model on test data : \",\n",
    "          model.evaluate(test_x, test_y)[1]*100, \"%\")\n",
    "\n",
    "    epochs = history.epoch\n",
    "\n",
    "    fig, ax = plt.subplots(1, 2)\n",
    "\n",
    "    train_acc = history.history['accuracy']\n",
    "    train_loss = history.history['loss']\n",
    "    test_acc = history.history['val_accuracy']\n",
    "    test_loss = history.history['val_loss']\n",
    "\n",
    "    fig.set_size_inches(20, 6)\n",
    "    ax[0].plot(epochs, train_loss, label='Training Loss')\n",
    "    ax[0].plot(epochs, test_loss, label='Testing Loss')\n",
    "    ax[0].set_title('Training & Testing Loss')\n",
    "    ax[0].legend()\n",
    "    ax[0].set_xlabel(\"Epochs\")\n",
    "    ax[1].plot(epochs, train_acc, label='Training Accuracy')\n",
    "    ax[1].plot(epochs, test_acc, label='Testing Accuracy')\n",
    "    ax[1].set_title('Training & Testing Accuracy')\n",
    "    ax[1].legend()\n",
    "    ax[1].set_xlabel(\"Epochs\")\n",
    "\n",
    "    plt.show()"
   ]
  },
  {
   "cell_type": "code",
   "execution_count": 61,
   "metadata": {},
   "outputs": [],
   "source": [
    "def print_confusion_matrix(test, pred, size=(12, 10)):\n",
    "    cm = confusion_matrix(test, pred)\n",
    "    plt.figure(figsize=size)\n",
    "    cm = pd.DataFrame(cm, index=[i for i in encoder.categories_], columns=[\n",
    "        i for i in encoder.categories_])\n",
    "    sns.heatmap(cm, linecolor='white', cmap='Blues',\n",
    "                linewidth=1, annot=True, fmt='')\n",
    "    plt.title('Confusion Matrix', size=20)\n",
    "    plt.xlabel('Predicted Labels', size=14)\n",
    "    plt.ylabel('Actual Labels', size=14)\n",
    "    plt.show()"
   ]
  },
  {
   "cell_type": "code",
   "execution_count": 62,
   "metadata": {},
   "outputs": [
    {
     "name": "stdout",
     "output_type": "stream",
     "text": [
      "25/25 [==============================] - 5s 196ms/step - loss: 1.9586 - accuracy: 0.4643\n",
      "Accuracy of our model on test data :  46.433040499687195 %\n"
     ]
    },
    {
     "data": {
      "image/png": "[encoded data removed]",
      "text/plain": [
       "<Figure size 2000x600 with 2 Axes>"
      ]
     },
     "metadata": {},
     "output_type": "display_data"
    }
   ],
   "source": [
    "print_report(model, history, x_test, y_test)"
   ]
  },
  {
   "cell_type": "code",
   "execution_count": 63,
   "metadata": {},
   "outputs": [
    {
     "name": "stdout",
     "output_type": "stream",
     "text": [
      "25/25 [==============================] - 4s 163ms/step\n"
     ]
    }
   ],
   "source": [
    "# predicting on test data.\n",
    "pred_test = model.predict(x_test)\n",
    "y_pred = encoder.inverse_transform(pred_test)\n",
    "\n",
    "y_test_decoded = encoder.inverse_transform(y_test)"
   ]
  },
  {
   "cell_type": "code",
   "execution_count": 64,
   "metadata": {},
   "outputs": [],
   "source": [
    "# df = pd.DataFrame(columns=['Predicted Labels', 'Actual Labels'])\n",
    "# df['Predicted Labels'] = y_pred.flatten()\n",
    "# df['Actual Labels'] = y_test_decoded.flatten()\n",
    "\n",
    "# df.head(10)"
   ]
  },
  {
   "cell_type": "code",
   "execution_count": 65,
   "metadata": {},
   "outputs": [
    {
     "data": {
      "image/png": "[encoded data removed]",
      "text/plain": [
       "<Figure size 1200x1000 with 2 Axes>"
      ]
     },
     "metadata": {},
     "output_type": "display_data"
    }
   ],
   "source": [
    "print_confusion_matrix(y_test_decoded, y_pred)"
   ]
  },
  {
   "cell_type": "code",
   "execution_count": 66,
   "metadata": {},
   "outputs": [
    {
     "name": "stdout",
     "output_type": "stream",
     "text": [
      "              precision    recall  f1-score   support\n",
      "\n",
      "       anger       0.64      0.49      0.55       138\n",
      "        calm       0.26      0.45      0.33        11\n",
      "    contempt       0.42      0.33      0.37       144\n",
      "        fear       0.35      0.33      0.34       113\n",
      "   happiness       0.44      0.47      0.46       120\n",
      "     neutral       0.37      0.53      0.43        94\n",
      "     sadness       0.48      0.59      0.53       138\n",
      "    surprise       0.93      0.68      0.79        41\n",
      "\n",
      "    accuracy                           0.46       799\n",
      "   macro avg       0.49      0.48      0.48       799\n",
      "weighted avg       0.48      0.46      0.47       799\n",
      "\n"
     ]
    }
   ],
   "source": [
    "print(classification_report(y_test_decoded, y_pred))"
   ]
  },
  {
   "cell_type": "markdown",
   "metadata": {},
   "source": [
    "## Save model\n"
   ]
  },
  {
   "cell_type": "code",
   "execution_count": 21,
   "metadata": {},
   "outputs": [
    {
     "name": "stderr",
     "output_type": "stream",
     "text": [
      "WARNING:absl:Found untraced functions such as _jit_compiled_convolution_op, _jit_compiled_convolution_op, _jit_compiled_convolution_op, _jit_compiled_convolution_op, _jit_compiled_convolution_op while saving (showing 5 of 19). These functions will not be directly callable after loading.\n"
     ]
    },
    {
     "name": "stdout",
     "output_type": "stream",
     "text": [
      "INFO:tensorflow:Assets written to: C:\\Users\\nicko\\AppData\\Local\\Temp\\tmpaqopaohn\\assets\n"
     ]
    },
    {
     "name": "stderr",
     "output_type": "stream",
     "text": [
      "INFO:tensorflow:Assets written to: C:\\Users\\nicko\\AppData\\Local\\Temp\\tmpaqopaohn\\assets\n"
     ]
    }
   ],
   "source": [
    "model.save('./saved_models/ser-main-v4-no-uk.keras')\n",
    "\n",
    "converter = tf.lite.TFLiteConverter.from_keras_model(model)\n",
    "tflite_model = converter.convert()\n",
    "\n",
    "\n",
    "with open('./saved_models/ser-main-v4-no-uk.tflite', 'wb') as f:\n",
    "    f.write(tflite_model)"
   ]
  },
  {
   "cell_type": "markdown",
   "metadata": {},
   "source": [
    "metadata (skip for now)\n"
   ]
  },
  {
   "cell_type": "code",
   "execution_count": 22,
   "metadata": {},
   "outputs": [],
   "source": [
    "# from tflite_support import flatbuffers\n",
    "# from tflite_support import metadata as _metadata\n",
    "# from tflite_support import metadata_schema_py_generated as _metadata_fb\n",
    "\n",
    "# # Creates model info.\n",
    "# model_meta = _metadata_fb.ModelMetadataT()\n",
    "# model_meta.name = \"Speech emotion recognition\"\n",
    "# model_meta.description = (\"Identify emotion of human voice\")\n",
    "# model_meta.version = \"v2\"\n",
    "# model_meta.author = \"Mykola Nosenko\"\n",
    "# model_meta.license = (\"Apache License. Version 2.0 \"\n",
    "#                       \"http://www.apache.org/licenses/LICENSE-2.0.\")  # verify later"
   ]
  },
  {
   "cell_type": "code",
   "execution_count": 23,
   "metadata": {},
   "outputs": [],
   "source": [
    "# # Creates output info.\n",
    "# output_meta = _metadata_fb.TensorMetadataT()\n",
    "# output_meta.name = \"probability\"\n",
    "# output_meta.description = \"Probabilities of the 8 labels respectively.\"\n",
    "# output_meta.content = _metadata_fb.ContentT()\n",
    "# output_meta.content.content_properties = _metadata_fb.FeaturePropertiesT()\n",
    "# output_meta.content.contentPropertiesType = (\n",
    "#     _metadata_fb.ContentProperties.FeatureProperties)\n",
    "# output_stats = _metadata_fb.StatsT()\n",
    "# output_stats.max = [1.0]\n",
    "# output_stats.min = [0.0]\n",
    "# output_meta.stats = output_stats\n",
    "# label_file = _metadata_fb.AssociatedFileT()\n",
    "# label_file.name = os.path.basename(\"./emotion_labels.txt\")\n",
    "# label_file.description = \"Labels for emotions that the model can recognize.\"\n",
    "# label_file.type = _metadata_fb.AssociatedFileType.TENSOR_AXIS_LABELS\n",
    "# output_meta.associatedFiles = [label_file]"
   ]
  },
  {
   "cell_type": "code",
   "execution_count": 24,
   "metadata": {},
   "outputs": [],
   "source": [
    "# # Creates subgraph info.\n",
    "# subgraph = _metadata_fb.SubGraphMetadataT()\n",
    "# # subgraph.inputTensorMetadata = [input_meta]\n",
    "# subgraph.outputTensorMetadata = [output_meta]\n",
    "# model_meta.subgraphMetadata = [subgraph]\n",
    "\n",
    "# b = flatbuffers.Builder(0)\n",
    "# b.Finish(\n",
    "#     model_meta.Pack(b),\n",
    "#     _metadata.MetadataPopulator.METADATA_FILE_IDENTIFIER)\n",
    "# metadata_buf = b.Output()"
   ]
  },
  {
   "cell_type": "code",
   "execution_count": 25,
   "metadata": {},
   "outputs": [],
   "source": [
    "# populator = _metadata.MetadataPopulator.with_model_file('./model.tflite')\n",
    "# populator.load_metadata_buffer(metadata_buf)\n",
    "# populator.load_associated_files([\"./emotion_labels.txt\"])\n",
    "# populator.populate()"
   ]
  },
  {
   "cell_type": "code",
   "execution_count": 26,
   "metadata": {},
   "outputs": [],
   "source": [
    "# displayer = _metadata.MetadataDisplayer.with_model_file(\n",
    "#     \"./model.tflite\")\n",
    "# export_json_file = os.path.join(\"D:/Documents/export_models/model.json\")\n",
    "# json_file = displayer.get_metadata_json()\n",
    "# # Optional: write out the metadata as a json file\n",
    "# with open(export_json_file, \"w\") as f:\n",
    "#     f.write(json_file)"
   ]
  },
  {
   "cell_type": "code",
   "execution_count": 27,
   "metadata": {},
   "outputs": [],
   "source": [
    "# # Convert the model\n",
    "# converter = tf.lite.TFLiteConverter.from_saved_model(\n",
    "#     \"./saved_models/ser4.keras\")  # path to the SavedModel directory\n",
    "# tflite_model = converter.convert()\n",
    "\n",
    "# # Save the model.\n",
    "# with open('ser4-model.tflite', 'wb') as f:\n",
    "#     f.write(tflite_model)"
   ]
  },
  {
   "cell_type": "markdown",
   "metadata": {},
   "source": [
    "## Test model\n"
   ]
  },
  {
   "cell_type": "code",
   "execution_count": 28,
   "metadata": {},
   "outputs": [],
   "source": [
    "# model_l = tf.keras.models.load_model('./saved_models/ser4-v4.keras')\n",
    "# model_l.summary()"
   ]
  },
  {
   "cell_type": "code",
   "execution_count": 21,
   "metadata": {},
   "outputs": [],
   "source": [
    "X_uk = features_uk_df.iloc[:, :-1].values\n",
    "y_uk = features_uk_df['labels'].values"
   ]
  },
  {
   "cell_type": "code",
   "execution_count": 22,
   "metadata": {},
   "outputs": [],
   "source": [
    "fear_label = 'fear'\n",
    "contempt_label = 'contempt'  # disgust\n",
    "happiness_label = 'happiness'\n",
    "anger_label = 'anger'\n",
    "sadness_label = 'sadness'\n",
    "neutral_label = 'neutral'\n",
    "surprise_label = 'surprise'\n",
    "calm_label = 'calm'\n",
    "\n",
    "emotions = [fear_label, contempt_label, happiness_label, anger_label,\n",
    "            sadness_label, neutral_label, surprise_label, calm_label]"
   ]
  },
  {
   "cell_type": "code",
   "execution_count": 23,
   "metadata": {},
   "outputs": [],
   "source": [
    "encoder_uk = OneHotEncoder(categories=[emotions])\n",
    "y_uk = encoder_uk.fit_transform(np.array(y_uk).reshape(-1, 1)).toarray()"
   ]
  },
  {
   "cell_type": "code",
   "execution_count": 24,
   "metadata": {},
   "outputs": [
    {
     "name": "stdout",
     "output_type": "stream",
     "text": [
      "3/3 - 0s - loss: 9.2090 - accuracy: 0.0897 - 451ms/epoch - 150ms/step\n",
      "Restored model, accuracy:  8.97%\n"
     ]
    }
   ],
   "source": [
    "loss, acc = model.evaluate(X_uk, y_uk, verbose=2)\n",
    "print('Restored model, accuracy: {:5.2f}%'.format(100 * acc))"
   ]
  },
  {
   "cell_type": "code",
   "execution_count": 25,
   "metadata": {},
   "outputs": [
    {
     "name": "stdout",
     "output_type": "stream",
     "text": [
      "3/3 [==============================] - 0s 7ms/step\n",
      "(78, 1)\n",
      "(78, 1)\n"
     ]
    }
   ],
   "source": [
    "pred_uk = model.predict(X_uk)\n",
    "pred_uk_decoded = encoder_uk.inverse_transform(pred_uk)\n",
    "y_uk_decoded = encoder_uk.inverse_transform(y_uk)\n",
    "print(pred_uk_decoded.shape)\n",
    "print(y_uk_decoded.shape)"
   ]
  },
  {
   "cell_type": "code",
   "execution_count": 26,
   "metadata": {},
   "outputs": [
    {
     "data": {
      "text/plain": [
       "array([[ 0,  0,  0,  6,  0,  0,  0,  3],\n",
       "       [ 0,  0,  0,  0,  0,  0,  0,  0],\n",
       "       [ 5,  5,  0,  3,  7,  2,  0, 14],\n",
       "       [ 0,  0,  0,  0,  3,  0,  0,  3],\n",
       "       [ 2,  3,  0,  0,  7,  0,  5,  7],\n",
       "       [ 0,  0,  0,  0,  0,  0,  0,  0],\n",
       "       [ 0,  0,  0,  0,  0,  0,  0,  3],\n",
       "       [ 0,  0,  0,  0,  0,  0,  0,  0]], dtype=int64)"
      ]
     },
     "execution_count": 26,
     "metadata": {},
     "output_type": "execute_result"
    }
   ],
   "source": [
    "cm = confusion_matrix(y_uk_decoded, pred_uk_decoded)\n",
    "cm"
   ]
  },
  {
   "cell_type": "code",
   "execution_count": 27,
   "metadata": {},
   "outputs": [
    {
     "name": "stdout",
     "output_type": "stream",
     "text": [
      "              precision    recall  f1-score   support\n",
      "\n",
      "       anger       0.00      0.00      0.00         9\n",
      "        calm       0.00      0.00      0.00         0\n",
      "    contempt       0.00      0.00      0.00        36\n",
      "        fear       0.00      0.00      0.00         6\n",
      "   happiness       0.41      0.29      0.34        24\n",
      "     neutral       0.00      0.00      0.00         0\n",
      "     sadness       0.00      0.00      0.00         3\n",
      "    surprise       0.00      0.00      0.00         0\n",
      "\n",
      "    accuracy                           0.09        78\n",
      "   macro avg       0.05      0.04      0.04        78\n",
      "weighted avg       0.13      0.09      0.11        78\n",
      "\n"
     ]
    }
   ],
   "source": [
    "print(classification_report(y_uk_decoded, pred_uk_decoded))"
   ]
  },
  {
   "cell_type": "code",
   "execution_count": 28,
   "metadata": {},
   "outputs": [
    {
     "name": "stdout",
     "output_type": "stream",
     "text": [
      "Memory usage: 0.019 GB\n"
     ]
    }
   ],
   "source": [
    "from model_analyzer import get_model_memory_usage\n",
    "\n",
    "\n",
    "print(f'Memory usage: {get_model_memory_usage(32, model)} GB')"
   ]
  },
  {
   "cell_type": "code",
   "execution_count": null,
   "metadata": {},
   "outputs": [],
   "source": []
  }
 ],
 "metadata": {
  "kernelspec": {
   "display_name": ".venv",
   "language": "python",
   "name": "python3"
  },
  "language_info": {
   "codemirror_mode": {
    "name": "ipython",
    "version": 3
   },
   "file_extension": ".py",
   "mimetype": "text/x-python",
   "name": "python",
   "nbconvert_exporter": "python",
   "pygments_lexer": "ipython3",
   "version": "3.10.6"
  }
 },
 "nbformat": 4,
 "nbformat_minor": 2
}
