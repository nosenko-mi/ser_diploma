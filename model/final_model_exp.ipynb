{
 "cells": [
  {
   "cell_type": "code",
   "execution_count": 1,
   "metadata": {},
   "outputs": [],
   "source": [
    "import tensorflow as tf"
   ]
  },
  {
   "cell_type": "code",
   "execution_count": 2,
   "metadata": {},
   "outputs": [
    {
     "name": "stdout",
     "output_type": "stream",
     "text": [
      "Model: \"sequential_4\"\n",
      "_________________________________________________________________\n",
      " Layer (type)                Output Shape              Param #   \n",
      "=================================================================\n",
      " conv1d_24 (Conv1D)          (None, 162, 64)           256       \n",
      "                                                                 \n",
      " max_pooling1d_16 (MaxPoolin  (None, 81, 64)           0         \n",
      " g1D)                                                            \n",
      "                                                                 \n",
      " conv1d_25 (Conv1D)          (None, 81, 128)           24704     \n",
      "                                                                 \n",
      " max_pooling1d_17 (MaxPoolin  (None, 41, 128)          0         \n",
      " g1D)                                                            \n",
      "                                                                 \n",
      " dropout_12 (Dropout)        (None, 41, 128)           0         \n",
      "                                                                 \n",
      " conv1d_26 (Conv1D)          (None, 39, 256)           98560     \n",
      "                                                                 \n",
      " conv1d_27 (Conv1D)          (None, 39, 256)           196864    \n",
      "                                                                 \n",
      " max_pooling1d_18 (MaxPoolin  (None, 20, 256)          0         \n",
      " g1D)                                                            \n",
      "                                                                 \n",
      " dropout_13 (Dropout)        (None, 20, 256)           0         \n",
      "                                                                 \n",
      " conv1d_28 (Conv1D)          (None, 18, 512)           393728    \n",
      "                                                                 \n",
      " conv1d_29 (Conv1D)          (None, 18, 512)           786944    \n",
      "                                                                 \n",
      " max_pooling1d_19 (MaxPoolin  (None, 9, 512)           0         \n",
      " g1D)                                                            \n",
      "                                                                 \n",
      " dropout_14 (Dropout)        (None, 9, 512)            0         \n",
      "                                                                 \n",
      " flatten_4 (Flatten)         (None, 4608)              0         \n",
      "                                                                 \n",
      " dense_12 (Dense)            (None, 64)                294976    \n",
      "                                                                 \n",
      " dense_13 (Dense)            (None, 64)                4160      \n",
      "                                                                 \n",
      " dense_14 (Dense)            (None, 8)                 520       \n",
      "                                                                 \n",
      "=================================================================\n",
      "Total params: 1,800,712\n",
      "Trainable params: 1,800,712\n",
      "Non-trainable params: 0\n",
      "_________________________________________________________________\n"
     ]
    }
   ],
   "source": [
    "model = tf.keras.models.load_model('./saved_models/vgg9-v1.keras')\n",
    "model.summary()"
   ]
  },
  {
   "cell_type": "code",
   "execution_count": null,
   "metadata": {},
   "outputs": [],
   "source": []
  }
 ],
 "metadata": {
  "kernelspec": {
   "display_name": ".venv",
   "language": "python",
   "name": "python3"
  },
  "language_info": {
   "codemirror_mode": {
    "name": "ipython",
    "version": 3
   },
   "file_extension": ".py",
   "mimetype": "text/x-python",
   "name": "python",
   "nbconvert_exporter": "python",
   "pygments_lexer": "ipython3",
   "version": "3.10.6"
  }
 },
 "nbformat": 4,
 "nbformat_minor": 2
}
