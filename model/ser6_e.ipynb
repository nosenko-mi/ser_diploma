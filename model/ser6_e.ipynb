{
 "cells": [
  {
   "cell_type": "code",
   "execution_count": 1,
   "metadata": {},
   "outputs": [],
   "source": [
    "import pandas as pd\n",
    "import numpy as np\n",
    "\n",
    "import sys\n",
    "import os\n",
    "\n",
    "from pathlib import Path\n",
    "# librosa is a Python library for analyzing audio and music. It can be used to extract the data from the audio files we will see it later.\n",
    "import librosa\n",
    "import librosa.display\n",
    "import seaborn as sns\n",
    "import matplotlib.pyplot as plt\n",
    "\n",
    "from sklearn.preprocessing import StandardScaler, OneHotEncoder\n",
    "from sklearn.metrics import confusion_matrix, classification_report\n",
    "from sklearn.model_selection import train_test_split\n",
    "\n",
    "# to play the audio files\n",
    "from IPython.display import Audio\n",
    "\n",
    "import warnings\n",
    "if not sys.warnoptions:\n",
    "    warnings.simplefilter(\"ignore\")\n",
    "warnings.filterwarnings(\"ignore\", category=DeprecationWarning)"
   ]
  },
  {
   "cell_type": "code",
   "execution_count": 2,
   "metadata": {},
   "outputs": [],
   "source": [
    "os.environ[\"TF_MIN_GPU_MULTIPROCESSOR_COUNT\"] = \"2\"\n",
    "os.environ[\"CUDA_VISIBLE_DEVICES\"] = \"0,1\""
   ]
  },
  {
   "cell_type": "code",
   "execution_count": 3,
   "metadata": {},
   "outputs": [
    {
     "name": "stdout",
     "output_type": "stream",
     "text": [
      "[PhysicalDevice(name='/physical_device:GPU:0', device_type='GPU')]\n"
     ]
    }
   ],
   "source": [
    "import tensorflow as tf\n",
    "from tensorflow.keras.callbacks import ReduceLROnPlateau\n",
    "from tensorflow.keras.models import Sequential\n",
    "from tensorflow.keras.layers import Dense, Conv1D, MaxPooling1D, AveragePooling1D, Flatten, Dropout, BatchNormalization\n",
    "from tensorflow.keras.utils import to_categorical\n",
    "from tensorflow.keras.callbacks import ModelCheckpoint\n",
    "from tensorflow.keras import metrics\n",
    "\n",
    "print(tf.config.list_physical_devices('GPU'))"
   ]
  },
  {
   "cell_type": "code",
   "execution_count": 4,
   "metadata": {},
   "outputs": [
    {
     "data": {
      "text/html": [
       "<div>\n",
       "<style scoped>\n",
       "    .dataframe tbody tr th:only-of-type {\n",
       "        vertical-align: middle;\n",
       "    }\n",
       "\n",
       "    .dataframe tbody tr th {\n",
       "        vertical-align: top;\n",
       "    }\n",
       "\n",
       "    .dataframe thead th {\n",
       "        text-align: right;\n",
       "    }\n",
       "</style>\n",
       "<table border=\"1\" class=\"dataframe\">\n",
       "  <thead>\n",
       "    <tr style=\"text-align: right;\">\n",
       "      <th></th>\n",
       "      <th>0</th>\n",
       "      <th>1</th>\n",
       "      <th>2</th>\n",
       "      <th>3</th>\n",
       "      <th>4</th>\n",
       "      <th>5</th>\n",
       "      <th>6</th>\n",
       "      <th>7</th>\n",
       "      <th>8</th>\n",
       "      <th>9</th>\n",
       "      <th>...</th>\n",
       "      <th>153</th>\n",
       "      <th>154</th>\n",
       "      <th>155</th>\n",
       "      <th>156</th>\n",
       "      <th>157</th>\n",
       "      <th>158</th>\n",
       "      <th>159</th>\n",
       "      <th>160</th>\n",
       "      <th>161</th>\n",
       "      <th>labels</th>\n",
       "    </tr>\n",
       "  </thead>\n",
       "  <tbody>\n",
       "    <tr>\n",
       "      <th>0</th>\n",
       "      <td>0.174738</td>\n",
       "      <td>0.648226</td>\n",
       "      <td>0.677165</td>\n",
       "      <td>0.692260</td>\n",
       "      <td>0.716191</td>\n",
       "      <td>0.665501</td>\n",
       "      <td>0.607874</td>\n",
       "      <td>0.632416</td>\n",
       "      <td>0.642000</td>\n",
       "      <td>0.712695</td>\n",
       "      <td>...</td>\n",
       "      <td>0.008625</td>\n",
       "      <td>0.008645</td>\n",
       "      <td>0.009090</td>\n",
       "      <td>0.010604</td>\n",
       "      <td>0.011772</td>\n",
       "      <td>0.008924</td>\n",
       "      <td>0.003265</td>\n",
       "      <td>0.001107</td>\n",
       "      <td>0.000084</td>\n",
       "      <td>fear</td>\n",
       "    </tr>\n",
       "    <tr>\n",
       "      <th>1</th>\n",
       "      <td>0.252287</td>\n",
       "      <td>0.713152</td>\n",
       "      <td>0.745960</td>\n",
       "      <td>0.769096</td>\n",
       "      <td>0.762554</td>\n",
       "      <td>0.728579</td>\n",
       "      <td>0.661987</td>\n",
       "      <td>0.659903</td>\n",
       "      <td>0.686460</td>\n",
       "      <td>0.755400</td>\n",
       "      <td>...</td>\n",
       "      <td>0.011694</td>\n",
       "      <td>0.011428</td>\n",
       "      <td>0.012471</td>\n",
       "      <td>0.013722</td>\n",
       "      <td>0.014640</td>\n",
       "      <td>0.011388</td>\n",
       "      <td>0.005821</td>\n",
       "      <td>0.003910</td>\n",
       "      <td>0.003054</td>\n",
       "      <td>fear</td>\n",
       "    </tr>\n",
       "    <tr>\n",
       "      <th>2</th>\n",
       "      <td>0.174738</td>\n",
       "      <td>0.648226</td>\n",
       "      <td>0.677165</td>\n",
       "      <td>0.692260</td>\n",
       "      <td>0.716191</td>\n",
       "      <td>0.665501</td>\n",
       "      <td>0.607874</td>\n",
       "      <td>0.632416</td>\n",
       "      <td>0.642000</td>\n",
       "      <td>0.712695</td>\n",
       "      <td>...</td>\n",
       "      <td>0.008625</td>\n",
       "      <td>0.008645</td>\n",
       "      <td>0.009090</td>\n",
       "      <td>0.010604</td>\n",
       "      <td>0.011772</td>\n",
       "      <td>0.008924</td>\n",
       "      <td>0.003265</td>\n",
       "      <td>0.001107</td>\n",
       "      <td>0.000084</td>\n",
       "      <td>fear</td>\n",
       "    </tr>\n",
       "    <tr>\n",
       "      <th>3</th>\n",
       "      <td>0.181625</td>\n",
       "      <td>0.643610</td>\n",
       "      <td>0.581965</td>\n",
       "      <td>0.477430</td>\n",
       "      <td>0.558267</td>\n",
       "      <td>0.605189</td>\n",
       "      <td>0.522657</td>\n",
       "      <td>0.561186</td>\n",
       "      <td>0.614690</td>\n",
       "      <td>0.624254</td>\n",
       "      <td>...</td>\n",
       "      <td>0.183382</td>\n",
       "      <td>0.144932</td>\n",
       "      <td>0.060404</td>\n",
       "      <td>0.048087</td>\n",
       "      <td>0.056380</td>\n",
       "      <td>0.072826</td>\n",
       "      <td>0.076891</td>\n",
       "      <td>0.034622</td>\n",
       "      <td>0.004218</td>\n",
       "      <td>fear</td>\n",
       "    </tr>\n",
       "    <tr>\n",
       "      <th>4</th>\n",
       "      <td>0.238893</td>\n",
       "      <td>0.683777</td>\n",
       "      <td>0.635173</td>\n",
       "      <td>0.549861</td>\n",
       "      <td>0.612256</td>\n",
       "      <td>0.639177</td>\n",
       "      <td>0.560762</td>\n",
       "      <td>0.587642</td>\n",
       "      <td>0.635393</td>\n",
       "      <td>0.645892</td>\n",
       "      <td>...</td>\n",
       "      <td>0.184496</td>\n",
       "      <td>0.148167</td>\n",
       "      <td>0.064108</td>\n",
       "      <td>0.050857</td>\n",
       "      <td>0.059945</td>\n",
       "      <td>0.077811</td>\n",
       "      <td>0.082175</td>\n",
       "      <td>0.038339</td>\n",
       "      <td>0.007538</td>\n",
       "      <td>fear</td>\n",
       "    </tr>\n",
       "  </tbody>\n",
       "</table>\n",
       "<p>5 rows × 163 columns</p>\n",
       "</div>"
      ],
      "text/plain": [
       "          0         1         2         3         4         5         6  \\\n",
       "0  0.174738  0.648226  0.677165  0.692260  0.716191  0.665501  0.607874   \n",
       "1  0.252287  0.713152  0.745960  0.769096  0.762554  0.728579  0.661987   \n",
       "2  0.174738  0.648226  0.677165  0.692260  0.716191  0.665501  0.607874   \n",
       "3  0.181625  0.643610  0.581965  0.477430  0.558267  0.605189  0.522657   \n",
       "4  0.238893  0.683777  0.635173  0.549861  0.612256  0.639177  0.560762   \n",
       "\n",
       "          7         8         9  ...       153       154       155       156  \\\n",
       "0  0.632416  0.642000  0.712695  ...  0.008625  0.008645  0.009090  0.010604   \n",
       "1  0.659903  0.686460  0.755400  ...  0.011694  0.011428  0.012471  0.013722   \n",
       "2  0.632416  0.642000  0.712695  ...  0.008625  0.008645  0.009090  0.010604   \n",
       "3  0.561186  0.614690  0.624254  ...  0.183382  0.144932  0.060404  0.048087   \n",
       "4  0.587642  0.635393  0.645892  ...  0.184496  0.148167  0.064108  0.050857   \n",
       "\n",
       "        157       158       159       160       161  labels  \n",
       "0  0.011772  0.008924  0.003265  0.001107  0.000084    fear  \n",
       "1  0.014640  0.011388  0.005821  0.003910  0.003054    fear  \n",
       "2  0.011772  0.008924  0.003265  0.001107  0.000084    fear  \n",
       "3  0.056380  0.072826  0.076891  0.034622  0.004218    fear  \n",
       "4  0.059945  0.077811  0.082175  0.038339  0.007538    fear  \n",
       "\n",
       "[5 rows x 163 columns]"
      ]
     },
     "execution_count": 4,
     "metadata": {},
     "output_type": "execute_result"
    }
   ],
   "source": [
    "features_df = pd.read_csv('./features/features-no-uk-v1.csv')\n",
    "features_uk_df = pd.read_csv('./features/features-uk-only-v1.csv')\n",
    "\n",
    "features_df.head()"
   ]
  },
  {
   "cell_type": "code",
   "execution_count": 5,
   "metadata": {},
   "outputs": [
    {
     "name": "stdout",
     "output_type": "stream",
     "text": [
      "<class 'pandas.core.frame.DataFrame'>\n",
      "RangeIndex: 39831 entries, 0 to 39830\n",
      "Columns: 163 entries, 0 to labels\n",
      "dtypes: float64(162), object(1)\n",
      "memory usage: 49.5+ MB\n"
     ]
    }
   ],
   "source": [
    "features_df.info()"
   ]
  },
  {
   "cell_type": "code",
   "execution_count": 6,
   "metadata": {},
   "outputs": [],
   "source": [
    "emotions_number = 8"
   ]
  },
  {
   "cell_type": "code",
   "execution_count": 7,
   "metadata": {},
   "outputs": [],
   "source": [
    "X = features_df.iloc[:, :-1].values\n",
    "y = features_df['labels'].values"
   ]
  },
  {
   "cell_type": "code",
   "execution_count": 8,
   "metadata": {},
   "outputs": [],
   "source": [
    "# As this is a multiclass classification problem onehotencoding our Y.\n",
    "encoder = OneHotEncoder()\n",
    "y = encoder.fit_transform(np.array(y).reshape(-1, 1)).toarray()"
   ]
  },
  {
   "cell_type": "code",
   "execution_count": 9,
   "metadata": {},
   "outputs": [
    {
     "name": "stdout",
     "output_type": "stream",
     "text": [
      "train:\t ((31864, 162), (31864, 8))\n",
      "test:\t((7967, 162), (7967, 8))\n"
     ]
    }
   ],
   "source": [
    "# splitting data\n",
    "x_train, x_test, y_train, y_test = train_test_split(\n",
    "    X, y, test_size=0.2, random_state=0, shuffle=True)\n",
    "\n",
    "print(\n",
    "    f'train:\\t {x_train.shape, y_train.shape,}\\ntest:\\t{x_test.shape, y_test.shape}')"
   ]
  },
  {
   "cell_type": "code",
   "execution_count": 10,
   "metadata": {},
   "outputs": [
    {
     "name": "stdout",
     "output_type": "stream",
     "text": [
      "val:\t ((5576, 162), (5576, 8))\n",
      "test:\t((2391, 162), (2391, 8))\n"
     ]
    }
   ],
   "source": [
    "# Split once to get the test and validation set\n",
    "x_val, x_test, y_val, y_test = train_test_split(\n",
    "    x_test, y_test, test_size=0.3, random_state=42)\n",
    "print(\n",
    "    f'val:\\t {x_val.shape, y_val.shape,}\\ntest:\\t{x_test.shape, y_test.shape}')"
   ]
  },
  {
   "cell_type": "code",
   "execution_count": 11,
   "metadata": {},
   "outputs": [],
   "source": [
    "# # scaling our data with sklearn's Standard scaler\n",
    "# scaler = StandardScaler()\n",
    "# x_train = scaler.fit_transform(x_train)\n",
    "# x_test = scaler.transform(x_test)\n",
    "# x_val = scaler.fit_transform(x_val)\n",
    "# print(\n",
    "#     f'train:\\t {x_train.shape, y_train.shape,}\\ntest:\\t{x_val.shape, y_val.shape}\\ntest: {x_test.shape, y_test.shape}')"
   ]
  },
  {
   "cell_type": "markdown",
   "metadata": {},
   "source": [
    "## Model, train\n"
   ]
  },
  {
   "cell_type": "code",
   "execution_count": 12,
   "metadata": {},
   "outputs": [
    {
     "name": "stdout",
     "output_type": "stream",
     "text": [
      "Model: \"sequential\"\n",
      "_________________________________________________________________\n",
      " Layer (type)                Output Shape              Param #   \n",
      "=================================================================\n",
      " conv1d (Conv1D)             (None, 162, 64)           512       \n",
      "                                                                 \n",
      " max_pooling1d (MaxPooling1D  (None, 81, 64)           0         \n",
      " )                                                               \n",
      "                                                                 \n",
      " conv1d_1 (Conv1D)           (None, 81, 64)            12352     \n",
      "                                                                 \n",
      " conv1d_2 (Conv1D)           (None, 81, 64)            12352     \n",
      "                                                                 \n",
      " conv1d_3 (Conv1D)           (None, 81, 64)            12352     \n",
      "                                                                 \n",
      " conv1d_4 (Conv1D)           (None, 81, 64)            12352     \n",
      "                                                                 \n",
      " conv1d_5 (Conv1D)           (None, 81, 64)            12352     \n",
      "                                                                 \n",
      " conv1d_6 (Conv1D)           (None, 81, 64)            12352     \n",
      "                                                                 \n",
      " max_pooling1d_1 (MaxPooling  (None, 41, 64)           0         \n",
      " 1D)                                                             \n",
      "                                                                 \n",
      " dropout (Dropout)           (None, 41, 64)            0         \n",
      "                                                                 \n",
      " conv1d_7 (Conv1D)           (None, 39, 128)           24704     \n",
      "                                                                 \n",
      " conv1d_8 (Conv1D)           (None, 39, 128)           49280     \n",
      "                                                                 \n",
      " conv1d_9 (Conv1D)           (None, 39, 128)           49280     \n",
      "                                                                 \n",
      " conv1d_10 (Conv1D)          (None, 39, 128)           49280     \n",
      "                                                                 \n",
      " conv1d_11 (Conv1D)          (None, 39, 128)           49280     \n",
      "                                                                 \n",
      " conv1d_12 (Conv1D)          (None, 39, 128)           49280     \n",
      "                                                                 \n",
      " average_pooling1d (AverageP  (None, 20, 128)          0         \n",
      " ooling1D)                                                       \n",
      "                                                                 \n",
      " dropout_1 (Dropout)         (None, 20, 128)           0         \n",
      "                                                                 \n",
      " conv1d_13 (Conv1D)          (None, 18, 256)           98560     \n",
      "                                                                 \n",
      " conv1d_14 (Conv1D)          (None, 18, 256)           196864    \n",
      "                                                                 \n",
      " conv1d_15 (Conv1D)          (None, 18, 256)           196864    \n",
      "                                                                 \n",
      " conv1d_16 (Conv1D)          (None, 18, 256)           196864    \n",
      "                                                                 \n",
      " conv1d_17 (Conv1D)          (None, 18, 256)           196864    \n",
      "                                                                 \n",
      " conv1d_18 (Conv1D)          (None, 18, 256)           196864    \n",
      "                                                                 \n",
      " average_pooling1d_1 (Averag  (None, 9, 256)           0         \n",
      " ePooling1D)                                                     \n",
      "                                                                 \n",
      " dropout_2 (Dropout)         (None, 9, 256)            0         \n",
      "                                                                 \n",
      " flatten (Flatten)           (None, 2304)              0         \n",
      "                                                                 \n",
      " dense (Dense)               (None, 128)               295040    \n",
      "                                                                 \n",
      " dense_1 (Dense)             (None, 64)                8256      \n",
      "                                                                 \n",
      " dense_2 (Dense)             (None, 32)                2080      \n",
      "                                                                 \n",
      " dense_3 (Dense)             (None, 16)                528       \n",
      "                                                                 \n",
      " dense_4 (Dense)             (None, 8)                 136       \n",
      "                                                                 \n",
      "=================================================================\n",
      "Total params: 1,734,648\n",
      "Trainable params: 1,734,648\n",
      "Non-trainable params: 0\n",
      "_________________________________________________________________\n"
     ]
    }
   ],
   "source": [
    "model = Sequential()\n",
    "model.add(Conv1D(64, kernel_size=7, padding='same',\n",
    "          activation='relu', input_shape=(x_train.shape[1], 1)))\n",
    "model.add(MaxPooling1D(pool_size=2, padding='same'))\n",
    "model.add(Conv1D(64, kernel_size=3, padding='same', activation='relu'))\n",
    "model.add(Conv1D(64, kernel_size=3, padding='same', activation='relu'))\n",
    "model.add(Conv1D(64, kernel_size=3, padding='same', activation='relu'))\n",
    "model.add(Conv1D(64, kernel_size=3, padding='same', activation='relu'))\n",
    "model.add(Conv1D(64, kernel_size=3, padding='same', activation='relu'))\n",
    "model.add(Conv1D(64, kernel_size=3, padding='same', activation='relu'))\n",
    "model.add(MaxPooling1D(pool_size=2, padding='same'))\n",
    "model.add(Dropout(0.2))\n",
    "model.add(Conv1D(128, kernel_size=3, activation='relu'))\n",
    "model.add(Conv1D(128, kernel_size=3, padding='same', activation='relu'))\n",
    "model.add(Conv1D(128, kernel_size=3, padding='same', activation='relu'))\n",
    "model.add(Conv1D(128, kernel_size=3, padding='same', activation='relu'))\n",
    "model.add(Conv1D(128, kernel_size=3, padding='same', activation='relu'))\n",
    "model.add(Conv1D(128, kernel_size=3, padding='same', activation='relu'))\n",
    "model.add(AveragePooling1D(pool_size=2, padding='same'))\n",
    "model.add(Dropout(0.2))\n",
    "model.add(Conv1D(256, kernel_size=3, activation='relu'))\n",
    "model.add(Conv1D(256, kernel_size=3, padding='same', activation='relu'))\n",
    "model.add(Conv1D(256, kernel_size=3, padding='same', activation='relu'))\n",
    "model.add(Conv1D(256, kernel_size=3, padding='same', activation='relu'))\n",
    "model.add(Conv1D(256, kernel_size=3, padding='same', activation='relu'))\n",
    "model.add(Conv1D(256, kernel_size=3, padding='same', activation='relu'))\n",
    "model.add(AveragePooling1D(pool_size=2, padding='same'))\n",
    "model.add(Dropout(0.2))\n",
    "model.add(Flatten())\n",
    "model.add(Dense(units=128, activation='relu'))\n",
    "model.add(Dense(units=64, activation='relu'))\n",
    "model.add(Dense(units=32, activation='relu'))\n",
    "model.add(Dense(units=16, activation='relu'))\n",
    "model.add(Dense(units=emotions_number, activation='softmax'))\n",
    "model.compile(optimizer='adam', loss='categorical_crossentropy',\n",
    "              metrics=['accuracy'])\n",
    "\n",
    "model.summary()"
   ]
  },
  {
   "cell_type": "code",
   "execution_count": 13,
   "metadata": {},
   "outputs": [
    {
     "name": "stdout",
     "output_type": "stream",
     "text": [
      "Epoch 1/100\n",
      "996/996 [==============================] - 23s 19ms/step - loss: 1.6506 - accuracy: 0.3305 - val_loss: 1.5489 - val_accuracy: 0.3664 - lr: 0.0010\n",
      "Epoch 2/100\n",
      "996/996 [==============================] - 17s 17ms/step - loss: 1.4679 - accuracy: 0.4051 - val_loss: 1.4280 - val_accuracy: 0.4337 - lr: 0.0010\n",
      "Epoch 3/100\n",
      "996/996 [==============================] - 17s 17ms/step - loss: 1.3726 - accuracy: 0.4526 - val_loss: 1.3222 - val_accuracy: 0.4659 - lr: 0.0010\n",
      "Epoch 4/100\n",
      "996/996 [==============================] - 17s 17ms/step - loss: 1.2977 - accuracy: 0.4820 - val_loss: 1.2663 - val_accuracy: 0.4764 - lr: 0.0010\n",
      "Epoch 5/100\n",
      "996/996 [==============================] - 17s 17ms/step - loss: 1.2507 - accuracy: 0.4987 - val_loss: 1.2348 - val_accuracy: 0.4902 - lr: 0.0010\n",
      "Epoch 6/100\n",
      "996/996 [==============================] - 17s 17ms/step - loss: 1.2190 - accuracy: 0.5104 - val_loss: 1.2399 - val_accuracy: 0.5077 - lr: 0.0010\n",
      "Epoch 7/100\n",
      "996/996 [==============================] - 17s 17ms/step - loss: 1.1918 - accuracy: 0.5219 - val_loss: 1.1883 - val_accuracy: 0.5123 - lr: 0.0010\n",
      "Epoch 8/100\n",
      "996/996 [==============================] - 17s 17ms/step - loss: 1.1805 - accuracy: 0.5226 - val_loss: 1.1978 - val_accuracy: 0.5178 - lr: 0.0010\n",
      "Epoch 9/100\n",
      "996/996 [==============================] - 17s 17ms/step - loss: 1.1598 - accuracy: 0.5360 - val_loss: 1.1713 - val_accuracy: 0.5303 - lr: 0.0010\n",
      "Epoch 10/100\n",
      "996/996 [==============================] - 17s 17ms/step - loss: 1.1423 - accuracy: 0.5419 - val_loss: 1.1588 - val_accuracy: 0.5211 - lr: 0.0010\n",
      "Epoch 11/100\n",
      "996/996 [==============================] - 17s 17ms/step - loss: 1.1216 - accuracy: 0.5475 - val_loss: 1.1732 - val_accuracy: 0.5115 - lr: 0.0010\n",
      "Epoch 12/100\n",
      "996/996 [==============================] - 17s 17ms/step - loss: 1.1119 - accuracy: 0.5544 - val_loss: 1.1171 - val_accuracy: 0.5412 - lr: 0.0010\n",
      "Epoch 13/100\n",
      "996/996 [==============================] - 17s 17ms/step - loss: 1.0972 - accuracy: 0.5597 - val_loss: 1.0866 - val_accuracy: 0.5613 - lr: 0.0010\n",
      "Epoch 14/100\n",
      "996/996 [==============================] - 17s 17ms/step - loss: 1.0896 - accuracy: 0.5633 - val_loss: 1.0921 - val_accuracy: 0.5508 - lr: 0.0010\n",
      "Epoch 15/100\n",
      "996/996 [==============================] - 17s 17ms/step - loss: 1.0713 - accuracy: 0.5727 - val_loss: 1.0909 - val_accuracy: 0.5583 - lr: 0.0010\n",
      "Epoch 16/100\n",
      "996/996 [==============================] - 17s 17ms/step - loss: 1.0592 - accuracy: 0.5731 - val_loss: 1.0796 - val_accuracy: 0.5663 - lr: 0.0010\n",
      "Epoch 17/100\n",
      "996/996 [==============================] - 17s 17ms/step - loss: 1.0489 - accuracy: 0.5815 - val_loss: 1.1107 - val_accuracy: 0.5537 - lr: 0.0010\n",
      "Epoch 18/100\n",
      "996/996 [==============================] - 17s 17ms/step - loss: 1.0353 - accuracy: 0.5866 - val_loss: 1.0587 - val_accuracy: 0.5684 - lr: 0.0010\n",
      "Epoch 19/100\n",
      "996/996 [==============================] - 17s 17ms/step - loss: 1.0273 - accuracy: 0.5891 - val_loss: 1.0517 - val_accuracy: 0.5822 - lr: 0.0010\n",
      "Epoch 20/100\n",
      "996/996 [==============================] - 17s 17ms/step - loss: 1.0191 - accuracy: 0.5947 - val_loss: 1.0977 - val_accuracy: 0.5579 - lr: 0.0010\n",
      "Epoch 21/100\n",
      "996/996 [==============================] - 17s 17ms/step - loss: 1.0037 - accuracy: 0.5992 - val_loss: 1.0439 - val_accuracy: 0.5751 - lr: 0.0010\n",
      "Epoch 22/100\n",
      "996/996 [==============================] - 17s 17ms/step - loss: 0.9937 - accuracy: 0.6042 - val_loss: 1.0254 - val_accuracy: 0.5843 - lr: 0.0010\n",
      "Epoch 23/100\n",
      "996/996 [==============================] - 16s 17ms/step - loss: 0.9773 - accuracy: 0.6120 - val_loss: 1.0246 - val_accuracy: 0.5885 - lr: 0.0010\n",
      "Epoch 24/100\n",
      "996/996 [==============================] - 17s 17ms/step - loss: 0.9716 - accuracy: 0.6145 - val_loss: 1.0172 - val_accuracy: 0.5897 - lr: 0.0010\n",
      "Epoch 25/100\n",
      "996/996 [==============================] - 17s 17ms/step - loss: 0.9692 - accuracy: 0.6161 - val_loss: 1.0239 - val_accuracy: 0.5943 - lr: 0.0010\n",
      "Epoch 26/100\n",
      "996/996 [==============================] - 17s 17ms/step - loss: 0.9464 - accuracy: 0.6249 - val_loss: 0.9942 - val_accuracy: 0.6060 - lr: 0.0010\n",
      "Epoch 27/100\n",
      "996/996 [==============================] - 17s 17ms/step - loss: 0.9425 - accuracy: 0.6294 - val_loss: 0.9890 - val_accuracy: 0.6018 - lr: 0.0010\n",
      "Epoch 28/100\n",
      "996/996 [==============================] - 17s 17ms/step - loss: 0.9326 - accuracy: 0.6319 - val_loss: 0.9510 - val_accuracy: 0.6131 - lr: 0.0010\n",
      "Epoch 29/100\n",
      "996/996 [==============================] - 17s 17ms/step - loss: 0.9136 - accuracy: 0.6400 - val_loss: 1.0039 - val_accuracy: 0.6014 - lr: 0.0010\n",
      "Epoch 30/100\n",
      "996/996 [==============================] - 17s 17ms/step - loss: 0.9162 - accuracy: 0.6415 - val_loss: 0.9608 - val_accuracy: 0.6274 - lr: 0.0010\n",
      "Epoch 31/100\n",
      "996/996 [==============================] - 17s 17ms/step - loss: 0.8928 - accuracy: 0.6497 - val_loss: 0.9493 - val_accuracy: 0.6311 - lr: 0.0010\n",
      "Epoch 32/100\n",
      "996/996 [==============================] - 17s 17ms/step - loss: 0.8986 - accuracy: 0.6472 - val_loss: 0.9545 - val_accuracy: 0.6215 - lr: 0.0010\n",
      "Epoch 33/100\n",
      "996/996 [==============================] - 17s 17ms/step - loss: 0.8789 - accuracy: 0.6518 - val_loss: 0.9435 - val_accuracy: 0.6315 - lr: 0.0010\n",
      "Epoch 34/100\n",
      "996/996 [==============================] - 17s 17ms/step - loss: 0.8577 - accuracy: 0.6654 - val_loss: 0.9438 - val_accuracy: 0.6286 - lr: 0.0010\n",
      "Epoch 35/100\n",
      "996/996 [==============================] - 17s 17ms/step - loss: 0.8576 - accuracy: 0.6640 - val_loss: 0.9266 - val_accuracy: 0.6428 - lr: 0.0010\n",
      "Epoch 36/100\n",
      "996/996 [==============================] - 17s 17ms/step - loss: 0.8373 - accuracy: 0.6706 - val_loss: 0.9143 - val_accuracy: 0.6386 - lr: 0.0010\n",
      "Epoch 37/100\n",
      "996/996 [==============================] - 17s 17ms/step - loss: 0.8450 - accuracy: 0.6704 - val_loss: 0.8838 - val_accuracy: 0.6504 - lr: 0.0010\n",
      "Epoch 38/100\n",
      "996/996 [==============================] - 17s 17ms/step - loss: 0.8275 - accuracy: 0.6766 - val_loss: 0.8906 - val_accuracy: 0.6550 - lr: 0.0010\n",
      "Epoch 39/100\n",
      "996/996 [==============================] - 17s 17ms/step - loss: 0.8256 - accuracy: 0.6794 - val_loss: 0.8710 - val_accuracy: 0.6591 - lr: 0.0010\n",
      "Epoch 40/100\n",
      "996/996 [==============================] - 17s 17ms/step - loss: 0.8053 - accuracy: 0.6871 - val_loss: 0.8624 - val_accuracy: 0.6650 - lr: 0.0010\n",
      "Epoch 41/100\n",
      "996/996 [==============================] - 17s 17ms/step - loss: 0.7940 - accuracy: 0.6917 - val_loss: 0.9404 - val_accuracy: 0.6508 - lr: 0.0010\n",
      "Epoch 42/100\n",
      "996/996 [==============================] - 17s 17ms/step - loss: 0.7882 - accuracy: 0.6918 - val_loss: 0.8668 - val_accuracy: 0.6717 - lr: 0.0010\n",
      "Epoch 43/100\n",
      "996/996 [==============================] - 17s 17ms/step - loss: 0.7755 - accuracy: 0.6996 - val_loss: 0.8167 - val_accuracy: 0.6934 - lr: 0.0010\n",
      "Epoch 44/100\n",
      "996/996 [==============================] - 17s 17ms/step - loss: 0.7609 - accuracy: 0.7068 - val_loss: 0.8777 - val_accuracy: 0.6550 - lr: 0.0010\n",
      "Epoch 45/100\n",
      "996/996 [==============================] - 17s 17ms/step - loss: 0.7615 - accuracy: 0.7083 - val_loss: 0.8134 - val_accuracy: 0.6922 - lr: 0.0010\n",
      "Epoch 46/100\n",
      "996/996 [==============================] - 17s 17ms/step - loss: 0.7329 - accuracy: 0.7179 - val_loss: 0.8239 - val_accuracy: 0.6876 - lr: 0.0010\n",
      "Epoch 47/100\n",
      "996/996 [==============================] - 17s 17ms/step - loss: 0.7384 - accuracy: 0.7159 - val_loss: 0.8565 - val_accuracy: 0.6708 - lr: 0.0010\n",
      "Epoch 48/100\n",
      "996/996 [==============================] - 17s 17ms/step - loss: 0.7285 - accuracy: 0.7218 - val_loss: 0.8227 - val_accuracy: 0.6821 - lr: 0.0010\n",
      "Epoch 49/100\n",
      "996/996 [==============================] - 17s 17ms/step - loss: 0.6884 - accuracy: 0.7354 - val_loss: 0.7761 - val_accuracy: 0.7010 - lr: 0.0010\n",
      "Epoch 50/100\n",
      "996/996 [==============================] - 17s 17ms/step - loss: 0.7016 - accuracy: 0.7329 - val_loss: 0.7729 - val_accuracy: 0.7001 - lr: 0.0010\n",
      "Epoch 51/100\n",
      "996/996 [==============================] - 17s 17ms/step - loss: 0.6947 - accuracy: 0.7353 - val_loss: 0.7870 - val_accuracy: 0.6955 - lr: 0.0010\n",
      "Epoch 52/100\n",
      "996/996 [==============================] - 17s 17ms/step - loss: 0.5797 - accuracy: 0.7767 - val_loss: 0.6523 - val_accuracy: 0.7587 - lr: 4.0000e-04\n",
      "Epoch 53/100\n",
      "996/996 [==============================] - 17s 17ms/step - loss: 0.5246 - accuracy: 0.7968 - val_loss: 0.6436 - val_accuracy: 0.7537 - lr: 4.0000e-04\n",
      "Epoch 54/100\n",
      "996/996 [==============================] - 17s 17ms/step - loss: 0.5120 - accuracy: 0.8019 - val_loss: 0.6345 - val_accuracy: 0.7637 - lr: 4.0000e-04\n",
      "Epoch 55/100\n",
      "996/996 [==============================] - 17s 17ms/step - loss: 0.4936 - accuracy: 0.8094 - val_loss: 0.6291 - val_accuracy: 0.7788 - lr: 4.0000e-04\n",
      "Epoch 56/100\n",
      "996/996 [==============================] - 17s 17ms/step - loss: 0.4689 - accuracy: 0.8198 - val_loss: 0.5852 - val_accuracy: 0.7867 - lr: 4.0000e-04\n",
      "Epoch 57/100\n",
      "996/996 [==============================] - 17s 17ms/step - loss: 0.4664 - accuracy: 0.8201 - val_loss: 0.5868 - val_accuracy: 0.7926 - lr: 4.0000e-04\n",
      "Epoch 58/100\n",
      "996/996 [==============================] - 17s 17ms/step - loss: 0.4451 - accuracy: 0.8281 - val_loss: 0.5892 - val_accuracy: 0.7854 - lr: 4.0000e-04\n",
      "Epoch 59/100\n",
      "996/996 [==============================] - 17s 17ms/step - loss: 0.4423 - accuracy: 0.8305 - val_loss: 0.5681 - val_accuracy: 0.7984 - lr: 4.0000e-04\n",
      "Epoch 60/100\n",
      "996/996 [==============================] - 19s 19ms/step - loss: 0.4186 - accuracy: 0.8384 - val_loss: 0.5728 - val_accuracy: 0.8072 - lr: 4.0000e-04\n",
      "Epoch 61/100\n",
      "996/996 [==============================] - 20s 20ms/step - loss: 0.4160 - accuracy: 0.8413 - val_loss: 0.5639 - val_accuracy: 0.7972 - lr: 4.0000e-04\n",
      "Epoch 62/100\n",
      "996/996 [==============================] - 18s 18ms/step - loss: 0.4023 - accuracy: 0.8465 - val_loss: 0.5585 - val_accuracy: 0.8168 - lr: 4.0000e-04\n",
      "Epoch 63/100\n",
      "996/996 [==============================] - 18s 18ms/step - loss: 0.3944 - accuracy: 0.8484 - val_loss: 0.5574 - val_accuracy: 0.8089 - lr: 4.0000e-04\n",
      "Epoch 64/100\n",
      "996/996 [==============================] - 18s 18ms/step - loss: 0.3883 - accuracy: 0.8529 - val_loss: 0.5397 - val_accuracy: 0.8164 - lr: 4.0000e-04\n",
      "Epoch 65/100\n",
      "996/996 [==============================] - 19s 19ms/step - loss: 0.3759 - accuracy: 0.8560 - val_loss: 0.5575 - val_accuracy: 0.8135 - lr: 4.0000e-04\n",
      "Epoch 66/100\n",
      "996/996 [==============================] - 17s 18ms/step - loss: 0.3721 - accuracy: 0.8592 - val_loss: 0.5309 - val_accuracy: 0.8231 - lr: 4.0000e-04\n",
      "Epoch 67/100\n",
      "996/996 [==============================] - 17s 17ms/step - loss: 0.3648 - accuracy: 0.8625 - val_loss: 0.5100 - val_accuracy: 0.8273 - lr: 4.0000e-04\n",
      "Epoch 68/100\n",
      "996/996 [==============================] - 17s 17ms/step - loss: 0.3490 - accuracy: 0.8698 - val_loss: 0.5048 - val_accuracy: 0.8273 - lr: 4.0000e-04\n",
      "Epoch 69/100\n",
      "996/996 [==============================] - 17s 17ms/step - loss: 0.3435 - accuracy: 0.8683 - val_loss: 0.5169 - val_accuracy: 0.8252 - lr: 4.0000e-04\n",
      "Epoch 70/100\n",
      "996/996 [==============================] - 17s 17ms/step - loss: 0.3329 - accuracy: 0.8749 - val_loss: 0.5047 - val_accuracy: 0.8285 - lr: 4.0000e-04\n",
      "Epoch 71/100\n",
      "996/996 [==============================] - 17s 17ms/step - loss: 0.3281 - accuracy: 0.8761 - val_loss: 0.5186 - val_accuracy: 0.8302 - lr: 4.0000e-04\n",
      "Epoch 72/100\n",
      "996/996 [==============================] - 17s 17ms/step - loss: 0.3152 - accuracy: 0.8826 - val_loss: 0.5045 - val_accuracy: 0.8356 - lr: 4.0000e-04\n",
      "Epoch 73/100\n",
      "996/996 [==============================] - 17s 17ms/step - loss: 0.3148 - accuracy: 0.8838 - val_loss: 0.4948 - val_accuracy: 0.8361 - lr: 4.0000e-04\n",
      "Epoch 74/100\n",
      "996/996 [==============================] - 17s 17ms/step - loss: 0.3083 - accuracy: 0.8866 - val_loss: 0.4834 - val_accuracy: 0.8494 - lr: 4.0000e-04\n",
      "Epoch 75/100\n",
      "996/996 [==============================] - 17s 17ms/step - loss: 0.3066 - accuracy: 0.8863 - val_loss: 0.4799 - val_accuracy: 0.8465 - lr: 4.0000e-04\n",
      "Epoch 76/100\n",
      "996/996 [==============================] - 17s 17ms/step - loss: 0.2966 - accuracy: 0.8912 - val_loss: 0.5227 - val_accuracy: 0.8356 - lr: 4.0000e-04\n",
      "Epoch 77/100\n",
      "996/996 [==============================] - 17s 17ms/step - loss: 0.2865 - accuracy: 0.8928 - val_loss: 0.5245 - val_accuracy: 0.8419 - lr: 4.0000e-04\n",
      "Epoch 78/100\n",
      "996/996 [==============================] - 17s 17ms/step - loss: 0.2717 - accuracy: 0.9019 - val_loss: 0.4787 - val_accuracy: 0.8549 - lr: 4.0000e-04\n",
      "Epoch 79/100\n",
      "996/996 [==============================] - 17s 17ms/step - loss: 0.2776 - accuracy: 0.8993 - val_loss: 0.4502 - val_accuracy: 0.8716 - lr: 4.0000e-04\n",
      "Epoch 80/100\n",
      "996/996 [==============================] - 17s 17ms/step - loss: 0.2744 - accuracy: 0.9007 - val_loss: 0.4628 - val_accuracy: 0.8624 - lr: 4.0000e-04\n",
      "Epoch 81/100\n",
      "996/996 [==============================] - 17s 17ms/step - loss: 0.2170 - accuracy: 0.9204 - val_loss: 0.4162 - val_accuracy: 0.8821 - lr: 1.6000e-04\n",
      "Epoch 82/100\n",
      "996/996 [==============================] - 17s 17ms/step - loss: 0.1982 - accuracy: 0.9283 - val_loss: 0.4139 - val_accuracy: 0.8850 - lr: 1.6000e-04\n",
      "Epoch 83/100\n",
      "996/996 [==============================] - 17s 17ms/step - loss: 0.1883 - accuracy: 0.9308 - val_loss: 0.4015 - val_accuracy: 0.8804 - lr: 1.6000e-04\n",
      "Epoch 84/100\n",
      "996/996 [==============================] - 17s 17ms/step - loss: 0.1812 - accuracy: 0.9331 - val_loss: 0.3887 - val_accuracy: 0.8904 - lr: 1.6000e-04\n",
      "Epoch 85/100\n",
      "996/996 [==============================] - 19s 19ms/step - loss: 0.1776 - accuracy: 0.9351 - val_loss: 0.3938 - val_accuracy: 0.8917 - lr: 1.6000e-04\n",
      "Epoch 86/100\n",
      "996/996 [==============================] - 19s 19ms/step - loss: 0.1715 - accuracy: 0.9369 - val_loss: 0.4095 - val_accuracy: 0.8800 - lr: 1.6000e-04\n",
      "Epoch 87/100\n",
      "996/996 [==============================] - 18s 18ms/step - loss: 0.1712 - accuracy: 0.9380 - val_loss: 0.3932 - val_accuracy: 0.8875 - lr: 1.6000e-04\n",
      "Epoch 88/100\n",
      "996/996 [==============================] - 17s 17ms/step - loss: 0.1616 - accuracy: 0.9409 - val_loss: 0.4079 - val_accuracy: 0.8829 - lr: 1.6000e-04\n",
      "Epoch 89/100\n",
      "996/996 [==============================] - 19s 19ms/step - loss: 0.1564 - accuracy: 0.9436 - val_loss: 0.3751 - val_accuracy: 0.8967 - lr: 1.6000e-04\n",
      "Epoch 90/100\n",
      "996/996 [==============================] - 18s 18ms/step - loss: 0.1549 - accuracy: 0.9432 - val_loss: 0.3952 - val_accuracy: 0.8934 - lr: 1.6000e-04\n",
      "Epoch 91/100\n",
      "996/996 [==============================] - 25s 25ms/step - loss: 0.1508 - accuracy: 0.9459 - val_loss: 0.4082 - val_accuracy: 0.8946 - lr: 1.6000e-04\n",
      "Epoch 92/100\n",
      "996/996 [==============================] - 26s 26ms/step - loss: 0.1519 - accuracy: 0.9446 - val_loss: 0.3835 - val_accuracy: 0.8984 - lr: 1.6000e-04\n",
      "Epoch 93/100\n",
      "996/996 [==============================] - 20s 20ms/step - loss: 0.1470 - accuracy: 0.9464 - val_loss: 0.3880 - val_accuracy: 0.8963 - lr: 1.6000e-04\n",
      "Epoch 94/100\n",
      "996/996 [==============================] - 19s 19ms/step - loss: 0.1438 - accuracy: 0.9489 - val_loss: 0.3837 - val_accuracy: 0.9013 - lr: 1.6000e-04\n",
      "Epoch 95/100\n",
      "996/996 [==============================] - 21s 21ms/step - loss: 0.1434 - accuracy: 0.9474 - val_loss: 0.3769 - val_accuracy: 0.9013 - lr: 1.6000e-04\n",
      "Epoch 96/100\n",
      "996/996 [==============================] - 28s 28ms/step - loss: 0.1363 - accuracy: 0.9507 - val_loss: 0.3521 - val_accuracy: 0.9122 - lr: 1.6000e-04\n",
      "Epoch 97/100\n",
      "996/996 [==============================] - 29s 29ms/step - loss: 0.1298 - accuracy: 0.9532 - val_loss: 0.3998 - val_accuracy: 0.9088 - lr: 1.6000e-04\n",
      "Epoch 98/100\n",
      "996/996 [==============================] - 27s 27ms/step - loss: 0.1322 - accuracy: 0.9524 - val_loss: 0.3827 - val_accuracy: 0.9046 - lr: 1.6000e-04\n",
      "Epoch 99/100\n",
      "996/996 [==============================] - 27s 27ms/step - loss: 0.1295 - accuracy: 0.9539 - val_loss: 0.3577 - val_accuracy: 0.9005 - lr: 1.6000e-04\n",
      "Epoch 100/100\n",
      "996/996 [==============================] - 27s 27ms/step - loss: 0.1260 - accuracy: 0.9548 - val_loss: 0.3801 - val_accuracy: 0.9055 - lr: 1.6000e-04\n"
     ]
    }
   ],
   "source": [
    "rlrp = ReduceLROnPlateau(monitor='loss', factor=0.4,\n",
    "                         verbose=0, patience=2, min_lr=0.0000001)\n",
    "\n",
    "\n",
    "history = model.fit(x_train, y_train, batch_size=32, epochs=100,\n",
    "                    validation_data=(x_test, y_test), callbacks=[rlrp])"
   ]
  },
  {
   "cell_type": "code",
   "execution_count": 14,
   "metadata": {},
   "outputs": [],
   "source": [
    "def print_report(model, history, test_x, test_y):\n",
    "    print(\"Accuracy of our model on test data : \",\n",
    "          model.evaluate(test_x, test_y)[1]*100, \"%\")\n",
    "\n",
    "    epochs = history.epoch\n",
    "\n",
    "    fig, ax = plt.subplots(1, 2)\n",
    "\n",
    "    train_acc = history.history['accuracy']\n",
    "    train_loss = history.history['loss']\n",
    "    test_acc = history.history['val_accuracy']\n",
    "    test_loss = history.history['val_loss']\n",
    "\n",
    "    fig.set_size_inches(20, 6)\n",
    "    ax[0].plot(epochs, train_loss, label='Training Loss')\n",
    "    ax[0].plot(epochs, test_loss, label='Testing Loss')\n",
    "    ax[0].set_title('Training & Testing Loss')\n",
    "    ax[0].legend()\n",
    "    ax[0].set_xlabel(\"Epochs\")\n",
    "    ax[1].plot(epochs, train_acc, label='Training Accuracy')\n",
    "    ax[1].plot(epochs, test_acc, label='Testing Accuracy')\n",
    "    ax[1].set_title('Training & Testing Accuracy')\n",
    "    ax[1].legend()\n",
    "    ax[1].set_xlabel(\"Epochs\")\n",
    "\n",
    "    plt.show()"
   ]
  },
  {
   "cell_type": "code",
   "execution_count": 15,
   "metadata": {},
   "outputs": [],
   "source": [
    "def print_confusion_matrix(test, pred, size=(12, 10)):\n",
    "    cm = confusion_matrix(test, pred)\n",
    "    plt.figure(figsize=size)\n",
    "    cm = pd.DataFrame(cm, index=[i for i in encoder.categories_], columns=[\n",
    "        i for i in encoder.categories_])\n",
    "    sns.heatmap(cm, linecolor='white', cmap='Blues',\n",
    "                linewidth=1, annot=True, fmt='')\n",
    "    plt.title('Confusion Matrix', size=20)\n",
    "    plt.xlabel('Predicted Labels', size=14)\n",
    "    plt.ylabel('Actual Labels', size=14)\n",
    "    plt.show()"
   ]
  },
  {
   "cell_type": "code",
   "execution_count": 16,
   "metadata": {},
   "outputs": [
    {
     "name": "stdout",
     "output_type": "stream",
     "text": [
      " 1/75 [..............................] - ETA: 6s - loss: 0.1138 - accuracy: 0.9688"
     ]
    },
    {
     "name": "stdout",
     "output_type": "stream",
     "text": [
      "75/75 [==============================] - 1s 12ms/step - loss: 0.3801 - accuracy: 0.9055\n",
      "Accuracy of our model on test data :  90.54788947105408 %\n"
     ]
    },
    {
     "data": {
      "image/png": "[encoded data removed]",
      "text/plain": [
       "<Figure size 2000x600 with 2 Axes>"
      ]
     },
     "metadata": {},
     "output_type": "display_data"
    }
   ],
   "source": [
    "print_report(model, history, x_test, y_test)"
   ]
  },
  {
   "cell_type": "code",
   "execution_count": 17,
   "metadata": {},
   "outputs": [
    {
     "name": "stdout",
     "output_type": "stream",
     "text": [
      "75/75 [==============================] - 1s 8ms/step\n"
     ]
    }
   ],
   "source": [
    "# predicting on test data.\n",
    "pred_test = model.predict(x_test)\n",
    "y_pred = encoder.inverse_transform(pred_test)\n",
    "\n",
    "y_test_decoded = encoder.inverse_transform(y_test)"
   ]
  },
  {
   "cell_type": "code",
   "execution_count": 18,
   "metadata": {},
   "outputs": [],
   "source": [
    "# df = pd.DataFrame(columns=['Predicted Labels', 'Actual Labels'])\n",
    "# df['Predicted Labels'] = y_pred.flatten()\n",
    "# df['Actual Labels'] = y_test_decoded.flatten()\n",
    "\n",
    "# df.head(10)"
   ]
  },
  {
   "cell_type": "code",
   "execution_count": 19,
   "metadata": {},
   "outputs": [
    {
     "data": {
      "image/png": "[encoded data removed]",
      "text/plain": [
       "<Figure size 1200x1000 with 2 Axes>"
      ]
     },
     "metadata": {},
     "output_type": "display_data"
    }
   ],
   "source": [
    "print_confusion_matrix(y_test_decoded, y_pred)"
   ]
  },
  {
   "cell_type": "code",
   "execution_count": 20,
   "metadata": {},
   "outputs": [
    {
     "name": "stdout",
     "output_type": "stream",
     "text": [
      "              precision    recall  f1-score   support\n",
      "\n",
      "       anger       0.96      0.95      0.95       378\n",
      "        calm       0.68      0.68      0.68        31\n",
      "    contempt       0.89      0.88      0.89       395\n",
      "        fear       0.89      0.89      0.89       383\n",
      "   happiness       0.94      0.93      0.93       392\n",
      "     neutral       0.89      0.93      0.91       305\n",
      "     sadness       0.87      0.88      0.87       402\n",
      "    surprise       0.94      0.94      0.94       105\n",
      "\n",
      "    accuracy                           0.91      2391\n",
      "   macro avg       0.88      0.88      0.88      2391\n",
      "weighted avg       0.91      0.91      0.91      2391\n",
      "\n"
     ]
    }
   ],
   "source": [
    "print(classification_report(y_test_decoded, y_pred))"
   ]
  },
  {
   "cell_type": "markdown",
   "metadata": {},
   "source": [
    "## Save model\n"
   ]
  },
  {
   "cell_type": "code",
   "execution_count": 21,
   "metadata": {},
   "outputs": [
    {
     "name": "stderr",
     "output_type": "stream",
     "text": [
      "WARNING:absl:Found untraced functions such as _jit_compiled_convolution_op, _jit_compiled_convolution_op, _jit_compiled_convolution_op, _jit_compiled_convolution_op, _jit_compiled_convolution_op while saving (showing 5 of 19). These functions will not be directly callable after loading.\n"
     ]
    },
    {
     "name": "stdout",
     "output_type": "stream",
     "text": [
      "INFO:tensorflow:Assets written to: C:\\Users\\nicko\\AppData\\Local\\Temp\\tmpaqopaohn\\assets\n"
     ]
    },
    {
     "name": "stderr",
     "output_type": "stream",
     "text": [
      "INFO:tensorflow:Assets written to: C:\\Users\\nicko\\AppData\\Local\\Temp\\tmpaqopaohn\\assets\n"
     ]
    }
   ],
   "source": [
    "model.save('./saved_models/ser-main-v4-no-uk.keras')\n",
    "\n",
    "converter = tf.lite.TFLiteConverter.from_keras_model(model)\n",
    "tflite_model = converter.convert()\n",
    "\n",
    "\n",
    "with open('./saved_models/ser-main-v4-no-uk.tflite', 'wb') as f:\n",
    "    f.write(tflite_model)"
   ]
  },
  {
   "cell_type": "markdown",
   "metadata": {},
   "source": [
    "metadata (skip for now)\n"
   ]
  },
  {
   "cell_type": "code",
   "execution_count": 22,
   "metadata": {},
   "outputs": [],
   "source": [
    "# from tflite_support import flatbuffers\n",
    "# from tflite_support import metadata as _metadata\n",
    "# from tflite_support import metadata_schema_py_generated as _metadata_fb\n",
    "\n",
    "# # Creates model info.\n",
    "# model_meta = _metadata_fb.ModelMetadataT()\n",
    "# model_meta.name = \"Speech emotion recognition\"\n",
    "# model_meta.description = (\"Identify emotion of human voice\")\n",
    "# model_meta.version = \"v2\"\n",
    "# model_meta.author = \"Mykola Nosenko\"\n",
    "# model_meta.license = (\"Apache License. Version 2.0 \"\n",
    "#                       \"http://www.apache.org/licenses/LICENSE-2.0.\")  # verify later"
   ]
  },
  {
   "cell_type": "code",
   "execution_count": 23,
   "metadata": {},
   "outputs": [],
   "source": [
    "# # Creates output info.\n",
    "# output_meta = _metadata_fb.TensorMetadataT()\n",
    "# output_meta.name = \"probability\"\n",
    "# output_meta.description = \"Probabilities of the 8 labels respectively.\"\n",
    "# output_meta.content = _metadata_fb.ContentT()\n",
    "# output_meta.content.content_properties = _metadata_fb.FeaturePropertiesT()\n",
    "# output_meta.content.contentPropertiesType = (\n",
    "#     _metadata_fb.ContentProperties.FeatureProperties)\n",
    "# output_stats = _metadata_fb.StatsT()\n",
    "# output_stats.max = [1.0]\n",
    "# output_stats.min = [0.0]\n",
    "# output_meta.stats = output_stats\n",
    "# label_file = _metadata_fb.AssociatedFileT()\n",
    "# label_file.name = os.path.basename(\"./emotion_labels.txt\")\n",
    "# label_file.description = \"Labels for emotions that the model can recognize.\"\n",
    "# label_file.type = _metadata_fb.AssociatedFileType.TENSOR_AXIS_LABELS\n",
    "# output_meta.associatedFiles = [label_file]"
   ]
  },
  {
   "cell_type": "code",
   "execution_count": 24,
   "metadata": {},
   "outputs": [],
   "source": [
    "# # Creates subgraph info.\n",
    "# subgraph = _metadata_fb.SubGraphMetadataT()\n",
    "# # subgraph.inputTensorMetadata = [input_meta]\n",
    "# subgraph.outputTensorMetadata = [output_meta]\n",
    "# model_meta.subgraphMetadata = [subgraph]\n",
    "\n",
    "# b = flatbuffers.Builder(0)\n",
    "# b.Finish(\n",
    "#     model_meta.Pack(b),\n",
    "#     _metadata.MetadataPopulator.METADATA_FILE_IDENTIFIER)\n",
    "# metadata_buf = b.Output()"
   ]
  },
  {
   "cell_type": "code",
   "execution_count": 25,
   "metadata": {},
   "outputs": [],
   "source": [
    "# populator = _metadata.MetadataPopulator.with_model_file('./model.tflite')\n",
    "# populator.load_metadata_buffer(metadata_buf)\n",
    "# populator.load_associated_files([\"./emotion_labels.txt\"])\n",
    "# populator.populate()"
   ]
  },
  {
   "cell_type": "code",
   "execution_count": 26,
   "metadata": {},
   "outputs": [],
   "source": [
    "# displayer = _metadata.MetadataDisplayer.with_model_file(\n",
    "#     \"./model.tflite\")\n",
    "# export_json_file = os.path.join(\"D:/Documents/export_models/model.json\")\n",
    "# json_file = displayer.get_metadata_json()\n",
    "# # Optional: write out the metadata as a json file\n",
    "# with open(export_json_file, \"w\") as f:\n",
    "#     f.write(json_file)"
   ]
  },
  {
   "cell_type": "code",
   "execution_count": 27,
   "metadata": {},
   "outputs": [],
   "source": [
    "# # Convert the model\n",
    "# converter = tf.lite.TFLiteConverter.from_saved_model(\n",
    "#     \"./saved_models/ser4.keras\")  # path to the SavedModel directory\n",
    "# tflite_model = converter.convert()\n",
    "\n",
    "# # Save the model.\n",
    "# with open('ser4-model.tflite', 'wb') as f:\n",
    "#     f.write(tflite_model)"
   ]
  },
  {
   "cell_type": "markdown",
   "metadata": {},
   "source": [
    "## Test model\n"
   ]
  },
  {
   "cell_type": "code",
   "execution_count": 28,
   "metadata": {},
   "outputs": [],
   "source": [
    "# model_l = tf.keras.models.load_model('./saved_models/ser4-v4.keras')\n",
    "# model_l.summary()"
   ]
  },
  {
   "cell_type": "code",
   "execution_count": 29,
   "metadata": {},
   "outputs": [],
   "source": [
    "X_uk = features_uk_df.iloc[:, :-1].values\n",
    "y_uk = features_uk_df['labels'].values"
   ]
  },
  {
   "cell_type": "code",
   "execution_count": 30,
   "metadata": {},
   "outputs": [],
   "source": [
    "fear_label = 'fear'\n",
    "contempt_label = 'contempt'  # disgust\n",
    "happiness_label = 'happiness'\n",
    "anger_label = 'anger'\n",
    "sadness_label = 'sadness'\n",
    "neutral_label = 'neutral'\n",
    "surprise_label = 'surprise'\n",
    "calm_label = 'calm'\n",
    "\n",
    "emotions = [fear_label, contempt_label, happiness_label, anger_label,\n",
    "            sadness_label, neutral_label, surprise_label, calm_label]"
   ]
  },
  {
   "cell_type": "code",
   "execution_count": 31,
   "metadata": {},
   "outputs": [],
   "source": [
    "encoder_uk = OneHotEncoder(categories=[emotions])\n",
    "y_uk = encoder_uk.fit_transform(np.array(y_uk).reshape(-1, 1)).toarray()"
   ]
  },
  {
   "cell_type": "code",
   "execution_count": 32,
   "metadata": {},
   "outputs": [
    {
     "name": "stdout",
     "output_type": "stream",
     "text": [
      "3/3 - 1s - loss: 27.2965 - accuracy: 0.0769 - 845ms/epoch - 282ms/step\n",
      "Restored model, accuracy:  7.69%\n"
     ]
    }
   ],
   "source": [
    "loss, acc = model.evaluate(X_uk, y_uk, verbose=2)\n",
    "print('Restored model, accuracy: {:5.2f}%'.format(100 * acc))"
   ]
  },
  {
   "cell_type": "code",
   "execution_count": 33,
   "metadata": {},
   "outputs": [
    {
     "name": "stdout",
     "output_type": "stream",
     "text": [
      "3/3 [==============================] - 0s 7ms/step\n",
      "(78, 1)\n",
      "(78, 1)\n"
     ]
    }
   ],
   "source": [
    "pred_uk = model.predict(X_uk)\n",
    "pred_uk_decoded = encoder_uk.inverse_transform(pred_uk)\n",
    "y_uk_decoded = encoder_uk.inverse_transform(y_uk)\n",
    "print(pred_uk_decoded.shape)\n",
    "print(y_uk_decoded.shape)"
   ]
  },
  {
   "cell_type": "code",
   "execution_count": 34,
   "metadata": {},
   "outputs": [
    {
     "data": {
      "text/plain": [
       "array([[ 0,  0,  0,  6,  0,  0,  3],\n",
       "       [ 0,  0,  0,  0,  0,  0,  0],\n",
       "       [10,  0,  0,  3, 11,  2, 10],\n",
       "       [ 0,  0,  0,  0,  0,  3,  3],\n",
       "       [ 0,  3,  2,  2,  6,  2,  9],\n",
       "       [ 0,  0,  0,  0,  0,  0,  3],\n",
       "       [ 0,  0,  0,  0,  0,  0,  0]], dtype=int64)"
      ]
     },
     "execution_count": 34,
     "metadata": {},
     "output_type": "execute_result"
    }
   ],
   "source": [
    "cm = confusion_matrix(y_uk_decoded, pred_uk_decoded)\n",
    "cm"
   ]
  },
  {
   "cell_type": "code",
   "execution_count": 35,
   "metadata": {},
   "outputs": [
    {
     "name": "stdout",
     "output_type": "stream",
     "text": [
      "              precision    recall  f1-score   support\n",
      "\n",
      "       anger       0.00      0.00      0.00         9\n",
      "        calm       0.00      0.00      0.00         0\n",
      "    contempt       0.00      0.00      0.00        36\n",
      "        fear       0.00      0.00      0.00         6\n",
      "   happiness       0.35      0.25      0.29        24\n",
      "     sadness       0.00      0.00      0.00         3\n",
      "    surprise       0.00      0.00      0.00         0\n",
      "\n",
      "    accuracy                           0.08        78\n",
      "   macro avg       0.05      0.04      0.04        78\n",
      "weighted avg       0.11      0.08      0.09        78\n",
      "\n"
     ]
    }
   ],
   "source": [
    "print(classification_report(y_uk_decoded, pred_uk_decoded))"
   ]
  },
  {
   "cell_type": "code",
   "execution_count": 38,
   "metadata": {},
   "outputs": [
    {
     "name": "stdout",
     "output_type": "stream",
     "text": [
      "Memory usage: 0.021 GB\n"
     ]
    }
   ],
   "source": [
    "from model_analyzer import get_model_memory_usage\n",
    "\n",
    "\n",
    "print(f'Memory usage: {get_model_memory_usage(32, model)} GB')"
   ]
  },
  {
   "cell_type": "code",
   "execution_count": null,
   "metadata": {},
   "outputs": [],
   "source": []
  }
 ],
 "metadata": {
  "kernelspec": {
   "display_name": ".venv",
   "language": "python",
   "name": "python3"
  },
  "language_info": {
   "codemirror_mode": {
    "name": "ipython",
    "version": 3
   },
   "file_extension": ".py",
   "mimetype": "text/x-python",
   "name": "python",
   "nbconvert_exporter": "python",
   "pygments_lexer": "ipython3",
   "version": "3.10.6"
  }
 },
 "nbformat": 4,
 "nbformat_minor": 2
}
