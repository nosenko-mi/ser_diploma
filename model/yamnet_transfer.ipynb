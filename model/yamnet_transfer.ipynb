{
 "cells": [
  {
   "cell_type": "code",
   "execution_count": 98,
   "metadata": {},
   "outputs": [
    {
     "name": "stdout",
     "output_type": "stream",
     "text": [
      "[PhysicalDevice(name='/physical_device:GPU:0', device_type='GPU')]\n"
     ]
    }
   ],
   "source": [
    "from tensorflow.keras.callbacks import ModelCheckpoint\n",
    "from tensorflow.keras.utils import Sequence, to_categorical\n",
    "from tensorflow.keras.layers import Dense, LSTM, Conv2D, MaxPooling2D, AveragePooling2D, GlobalAveragePooling2D, Flatten, Dropout, BatchNormalization\n",
    "from tensorflow.keras.models import Sequential\n",
    "from tensorflow.keras.callbacks import ReduceLROnPlateau, EarlyStopping\n",
    "import tensorflow as tf\n",
    "import pandas as pd\n",
    "import numpy as np\n",
    "\n",
    "import sys\n",
    "import os\n",
    "\n",
    "from pathlib import Path\n",
    "# librosa is a Python library for analyzing audio and music. It can be used to extract the data from the audio files we will see it later.\n",
    "import librosa\n",
    "import librosa.display\n",
    "import seaborn as sns\n",
    "import matplotlib.pyplot as plt\n",
    "\n",
    "from sklearn.preprocessing import StandardScaler, OneHotEncoder, normalize\n",
    "from sklearn.metrics import confusion_matrix, classification_report\n",
    "from sklearn.model_selection import train_test_split\n",
    "\n",
    "# to play the audio files\n",
    "from IPython.display import Audio\n",
    "\n",
    "import warnings\n",
    "if not sys.warnoptions:\n",
    "    warnings.simplefilter(\"ignore\")\n",
    "warnings.filterwarnings(\"ignore\", category=DeprecationWarning)\n",
    "\n",
    "\n",
    "print(tf.config.list_physical_devices('GPU'))"
   ]
  },
  {
   "cell_type": "markdown",
   "metadata": {},
   "source": [
    "## Load features\n"
   ]
  },
  {
   "cell_type": "code",
   "execution_count": 99,
   "metadata": {},
   "outputs": [
    {
     "name": "stdout",
     "output_type": "stream",
     "text": [
      "['fear', 'contempt', 'happiness', 'anger', 'sadness', 'neutral', 'surprise'] 7\n"
     ]
    }
   ],
   "source": [
    "emotions = ['fear', 'contempt', 'happiness', 'anger',\n",
    "            'sadness', 'neutral', 'surprise']\n",
    "emotions_number = len(emotions)\n",
    "print(emotions, emotions_number)"
   ]
  },
  {
   "cell_type": "code",
   "execution_count": 100,
   "metadata": {},
   "outputs": [],
   "source": [
    "# # features-train-all-v4 - melspectrogram only 128-65\n",
    "# features_train_df = pd.read_csv('./features/features-train-all-mfcc-v2.csv')\n",
    "# features_test_df = pd.read_csv('./features/features-test-all-mfcc-v2.csv')\n",
    "# features_val_df = pd.read_csv('./features/features-val-all-mfcc-v2.csv')\n",
    "# features_train_df.head()"
   ]
  },
  {
   "cell_type": "code",
   "execution_count": 101,
   "metadata": {},
   "outputs": [],
   "source": [
    "# emofilm_info_df = pd.read_csv('D:/Documents/emofilm/data/complete_info.csv')\n",
    "emofilm_uk_df = pd.read_csv(\n",
    "    'D:/Programming/nn/emotion_classification/datasets/emofilm_uk_df.csv')\n",
    "emofilm_df = pd.read_csv(\n",
    "    'D:/Programming/nn/emotion_classification/datasets/emofilm_df.csv')\n",
    "ravdess_df = pd.read_csv(\n",
    "    'D:/Programming/nn/emotion_classification/datasets/ravdess_df.csv')\n",
    "savee_df = pd.read_csv(\n",
    "    'D:/Programming/nn/emotion_classification/datasets/savee_df.csv')\n",
    "tess_df = pd.read_csv(\n",
    "    'D:/Programming/nn/emotion_classification/datasets/tess_df.csv')\n",
    "cremad_df = pd.read_csv(\n",
    "    'D:/Programming/nn/emotion_classification/datasets/cremad_df.csv')"
   ]
  },
  {
   "cell_type": "code",
   "execution_count": 102,
   "metadata": {},
   "outputs": [
    {
     "data": {
      "text/html": [
       "<div>\n",
       "<style scoped>\n",
       "    .dataframe tbody tr th:only-of-type {\n",
       "        vertical-align: middle;\n",
       "    }\n",
       "\n",
       "    .dataframe tbody tr th {\n",
       "        vertical-align: top;\n",
       "    }\n",
       "\n",
       "    .dataframe thead th {\n",
       "        text-align: right;\n",
       "    }\n",
       "</style>\n",
       "<table border=\"1\" class=\"dataframe\">\n",
       "  <thead>\n",
       "    <tr style=\"text-align: right;\">\n",
       "      <th></th>\n",
       "      <th>emotion</th>\n",
       "      <th>path</th>\n",
       "    </tr>\n",
       "  </thead>\n",
       "  <tbody>\n",
       "    <tr>\n",
       "      <th>0</th>\n",
       "      <td>fear</td>\n",
       "      <td>D:/Programming/nn/emotion_classification/datas...</td>\n",
       "    </tr>\n",
       "    <tr>\n",
       "      <th>1</th>\n",
       "      <td>fear</td>\n",
       "      <td>D:/Programming/nn/emotion_classification/datas...</td>\n",
       "    </tr>\n",
       "    <tr>\n",
       "      <th>2</th>\n",
       "      <td>fear</td>\n",
       "      <td>D:/Programming/nn/emotion_classification/datas...</td>\n",
       "    </tr>\n",
       "    <tr>\n",
       "      <th>3</th>\n",
       "      <td>fear</td>\n",
       "      <td>D:/Programming/nn/emotion_classification/datas...</td>\n",
       "    </tr>\n",
       "    <tr>\n",
       "      <th>4</th>\n",
       "      <td>fear</td>\n",
       "      <td>D:/Programming/nn/emotion_classification/datas...</td>\n",
       "    </tr>\n",
       "    <tr>\n",
       "      <th>...</th>\n",
       "      <td>...</td>\n",
       "      <td>...</td>\n",
       "    </tr>\n",
       "    <tr>\n",
       "      <th>1110</th>\n",
       "      <td>sadness</td>\n",
       "      <td>D:/Programming/nn/emotion_classification/datas...</td>\n",
       "    </tr>\n",
       "    <tr>\n",
       "      <th>1111</th>\n",
       "      <td>sadness</td>\n",
       "      <td>D:/Programming/nn/emotion_classification/datas...</td>\n",
       "    </tr>\n",
       "    <tr>\n",
       "      <th>1112</th>\n",
       "      <td>sadness</td>\n",
       "      <td>D:/Programming/nn/emotion_classification/datas...</td>\n",
       "    </tr>\n",
       "    <tr>\n",
       "      <th>1113</th>\n",
       "      <td>sadness</td>\n",
       "      <td>D:/Programming/nn/emotion_classification/datas...</td>\n",
       "    </tr>\n",
       "    <tr>\n",
       "      <th>1114</th>\n",
       "      <td>sadness</td>\n",
       "      <td>D:/Programming/nn/emotion_classification/datas...</td>\n",
       "    </tr>\n",
       "  </tbody>\n",
       "</table>\n",
       "<p>1115 rows × 2 columns</p>\n",
       "</div>"
      ],
      "text/plain": [
       "      emotion                                               path\n",
       "0        fear  D:/Programming/nn/emotion_classification/datas...\n",
       "1        fear  D:/Programming/nn/emotion_classification/datas...\n",
       "2        fear  D:/Programming/nn/emotion_classification/datas...\n",
       "3        fear  D:/Programming/nn/emotion_classification/datas...\n",
       "4        fear  D:/Programming/nn/emotion_classification/datas...\n",
       "...       ...                                                ...\n",
       "1110  sadness  D:/Programming/nn/emotion_classification/datas...\n",
       "1111  sadness  D:/Programming/nn/emotion_classification/datas...\n",
       "1112  sadness  D:/Programming/nn/emotion_classification/datas...\n",
       "1113  sadness  D:/Programming/nn/emotion_classification/datas...\n",
       "1114  sadness  D:/Programming/nn/emotion_classification/datas...\n",
       "\n",
       "[1115 rows x 2 columns]"
      ]
     },
     "execution_count": 102,
     "metadata": {},
     "output_type": "execute_result"
    }
   ],
   "source": [
    "data_df = pd.concat([ravdess_df, savee_df, tess_df, cremad_df, emofilm_df],\n",
    "                    axis=0, ignore_index=True)\n",
    "# data_df = pd.concat([emofilm_uk_df, emofilm_df, ravdess_df, savee_df, tess_df, cremad_df],\n",
    "#                     axis=0, ignore_index=True)\n",
    "data_df_no_uk = pd.concat([emofilm_df,\n",
    "                           #    ravdess_df, savee_df, tess_df, cremad_df\n",
    "                           ],\n",
    "                          axis=0, ignore_index=True)\n",
    "data_df_no_uk"
   ]
  },
  {
   "cell_type": "code",
   "execution_count": 103,
   "metadata": {},
   "outputs": [],
   "source": [
    "def add_folds(dataframe, test_k, val_k):\n",
    "    df = dataframe.sample(frac=1).reset_index(drop=True)  # shuffle\n",
    "\n",
    "    test_len = int(len(df) * test_k)\n",
    "    val_len = int(len(df) * val_k)\n",
    "    train_len = int(len(df) - test_len - val_len)\n",
    "\n",
    "    folds = []\n",
    "    for i in range(test_len):\n",
    "        folds.append('test')\n",
    "\n",
    "    for i in range(val_len):\n",
    "        folds.append('val')\n",
    "\n",
    "    for i in range(train_len):\n",
    "        folds.append('train')\n",
    "\n",
    "    df.insert(0, 'fold', folds, True)\n",
    "\n",
    "    return df"
   ]
  },
  {
   "cell_type": "code",
   "execution_count": 104,
   "metadata": {},
   "outputs": [],
   "source": [
    "data_df_no_uk = add_folds(data_df_no_uk, 0.2, 0.2)\n",
    "data_df = add_folds(data_df, 0.2, 0.2)"
   ]
  },
  {
   "cell_type": "code",
   "execution_count": 105,
   "metadata": {},
   "outputs": [
    {
     "data": {
      "text/html": [
       "<div>\n",
       "<style scoped>\n",
       "    .dataframe tbody tr th:only-of-type {\n",
       "        vertical-align: middle;\n",
       "    }\n",
       "\n",
       "    .dataframe tbody tr th {\n",
       "        vertical-align: top;\n",
       "    }\n",
       "\n",
       "    .dataframe thead th {\n",
       "        text-align: right;\n",
       "    }\n",
       "</style>\n",
       "<table border=\"1\" class=\"dataframe\">\n",
       "  <thead>\n",
       "    <tr style=\"text-align: right;\">\n",
       "      <th></th>\n",
       "      <th>fold</th>\n",
       "      <th>emotion</th>\n",
       "      <th>path</th>\n",
       "    </tr>\n",
       "  </thead>\n",
       "  <tbody>\n",
       "    <tr>\n",
       "      <th>0</th>\n",
       "      <td>test</td>\n",
       "      <td>happiness</td>\n",
       "      <td>D:/Programming/nn/emotion_classification/datas...</td>\n",
       "    </tr>\n",
       "    <tr>\n",
       "      <th>1</th>\n",
       "      <td>test</td>\n",
       "      <td>sadness</td>\n",
       "      <td>D:/Programming/nn/emotion_classification/datas...</td>\n",
       "    </tr>\n",
       "  </tbody>\n",
       "</table>\n",
       "</div>"
      ],
      "text/plain": [
       "   fold    emotion                                               path\n",
       "0  test  happiness  D:/Programming/nn/emotion_classification/datas...\n",
       "1  test    sadness  D:/Programming/nn/emotion_classification/datas..."
      ]
     },
     "execution_count": 105,
     "metadata": {},
     "output_type": "execute_result"
    }
   ],
   "source": [
    "data_df_no_uk.head(2)"
   ]
  },
  {
   "cell_type": "code",
   "execution_count": 106,
   "metadata": {},
   "outputs": [
    {
     "data": {
      "text/plain": [
       "15600.0"
      ]
     },
     "execution_count": 106,
     "metadata": {},
     "output_type": "execute_result"
    }
   ],
   "source": [
    "0.975 * 16000"
   ]
  },
  {
   "cell_type": "code",
   "execution_count": 107,
   "metadata": {},
   "outputs": [],
   "source": [
    "def load_wav_16k_mono(filename):\n",
    "    \"\"\" Load a WAV file, convert it to a float tensor, resample to 16 kHz single-channel audio. \"\"\"\n",
    "    # file_contents = tf.io.read_file(filename)\n",
    "    # wav, sample_rate = tf.audio.decode_wav(\n",
    "    #     file_contents,\n",
    "    #     desired_channels=1)\n",
    "    # wav = tf.squeeze(wav, axis=-1)\n",
    "    # sample_rate = tf.cast(sample_rate, dtype=tf.int64)\n",
    "    # wav = tfio.audio.resample(wav, rate_in=sample_rate, rate_out=16000)\n",
    "    # Downsample 44.1kHz to 16kHz\n",
    "    wav, s = librosa.load(filename, sr=16000, duration=1)\n",
    "\n",
    "    # The model accepts a 1-D float32 Tensor or NumPy array of length 15600\n",
    "    # containing a 0.975-second waveform represented as mono 16 kHz samples in the range [-1.0, +1.0].\n",
    "    fixed_length = int(0.975 * 16000)\n",
    "    wav = librosa.util.fix_length(wav, size=fixed_length)\n",
    "    return wav"
   ]
  },
  {
   "cell_type": "code",
   "execution_count": 108,
   "metadata": {},
   "outputs": [],
   "source": [
    "# X = np.zeros((1, int(0.975 * 16000)))\n",
    "# y = []\n",
    "# for i, row in data_df_no_uk.iterrows():\n",
    "#     audio = load_wav_16k_mono(row['path'])\n",
    "#     X = np.vstack((X, audio))\n",
    "#     y.append(row['emotion'])\n",
    "# y = np.array(y)\n",
    "# X = np.delete(X, 0, 0)"
   ]
  },
  {
   "cell_type": "code",
   "execution_count": 109,
   "metadata": {},
   "outputs": [],
   "source": [
    "# audio_data = {'emotion': [], 'data': []}\n",
    "# for i, row in data_df.iterrows():\n",
    "#     audio = load_wav_16k_mono(row['path'])\n",
    "#     audio_data['emotion'].append(row['emotion'])\n",
    "#     audio_data['data'].append(audio)\n",
    "\n",
    "# audio_data_df = pd.DataFrame(audio_data)\n",
    "# del audio_data\n",
    "# audio_data_df.head()\n",
    "\n",
    "# X = audio_data_df['data'].to_numpy()\n",
    "# # X = audio_data_df['data']\n",
    "# y = audio_data_df[['emotion']]"
   ]
  },
  {
   "cell_type": "code",
   "execution_count": 110,
   "metadata": {},
   "outputs": [],
   "source": [
    "# encoder = OneHotEncoder()\n",
    "# # y_enc = encoder.fit_transform(y).toarray()\n",
    "# y_enc = encoder.fit_transform(y.reshape(-1, 1)).toarray()"
   ]
  },
  {
   "cell_type": "code",
   "execution_count": 111,
   "metadata": {},
   "outputs": [],
   "source": [
    "# x_train, x_test, y_train, y_test = train_test_split(\n",
    "#     X, y_enc, test_size=0.2, random_state=42)\n",
    "# x_train, x_val, y_train, y_val = train_test_split(\n",
    "#     x_train, y_train, test_size=0.2, random_state=42)\n",
    "\n",
    "# y_test_dec = encoder.inverse_transform(y_test)\n",
    "\n",
    "# # x_train = tf.convert_to_tensor(x_train, tf.float32)\n",
    "# # x_test = tf.convert_to_tensor(x_test, tf.float32)\n",
    "# # x_val = tf.convert_to_tensor(x_val, tf.float32)"
   ]
  },
  {
   "cell_type": "code",
   "execution_count": 112,
   "metadata": {},
   "outputs": [],
   "source": [
    "# x_train = x_train.reshape(-1)\n",
    "# x_val = x_val.reshape(-1)"
   ]
  },
  {
   "cell_type": "code",
   "execution_count": 113,
   "metadata": {},
   "outputs": [],
   "source": [
    "# print(\n",
    "#     f'x_train: {x_train.shape}\\tx_val: {x_val.shape}\\tx_test: {x_test.shape}')"
   ]
  },
  {
   "cell_type": "code",
   "execution_count": 114,
   "metadata": {},
   "outputs": [],
   "source": [
    "# tf.squeeze(x_train[0])"
   ]
  },
  {
   "cell_type": "markdown",
   "metadata": {},
   "source": [
    "## Transfer model"
   ]
  },
  {
   "cell_type": "markdown",
   "metadata": {},
   "source": [
    "\n",
    "load model"
   ]
  },
  {
   "cell_type": "code",
   "execution_count": 115,
   "metadata": {},
   "outputs": [],
   "source": [
    "import tensorflow_hub as hub\n",
    "import tensorflow_io as tfio"
   ]
  },
  {
   "cell_type": "code",
   "execution_count": 34,
   "metadata": {},
   "outputs": [],
   "source": [
    "yamnet_model_handle = 'https://tfhub.dev/google/yamnet/1'\n",
    "yamnet_model = hub.load('D:/yamnet/')"
   ]
  },
  {
   "cell_type": "markdown",
   "metadata": {},
   "source": []
  },
  {
   "cell_type": "code",
   "execution_count": 35,
   "metadata": {},
   "outputs": [],
   "source": [
    "class ReduceMeanLayer(tf.keras.layers.Layer):\n",
    "    def __init__(self, axis=0, **kwargs):\n",
    "        super(ReduceMeanLayer, self).__init__(**kwargs)\n",
    "        self.axis = axis\n",
    "\n",
    "    def call(self, input):\n",
    "        return tf.math.reduce_mean(input, axis=self.axis)"
   ]
  },
  {
   "cell_type": "code",
   "execution_count": 36,
   "metadata": {},
   "outputs": [
    {
     "data": {
      "text/html": [
       "\n",
       "                <audio  controls=\"controls\" >\n",
       "                    <source src=\"data:audio/wav;base64,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\" type=\"audio/wav\" />\n",
       "                    Your browser does not support the audio element.\n",
       "                </audio>\n",
       "              "
      ],
      "text/plain": [
       "<IPython.lib.display.Audio object>"
      ]
     },
     "execution_count": 36,
     "metadata": {},
     "output_type": "execute_result"
    },
    {
     "data": {
      "image/png": "[encoded data removed]",
      "text/plain": [
       "<Figure size 432x288 with 1 Axes>"
      ]
     },
     "metadata": {
      "needs_background": "light"
     },
     "output_type": "display_data"
    }
   ],
   "source": [
    "testing_wav_data = load_wav_16k_mono(\n",
    "    \"D:/Programming/nn/emotion_classification/datasets/emofilm/wav_corpus/f_ans001aen.wav\")\n",
    "\n",
    "_ = plt.plot(testing_wav_data)\n",
    "\n",
    "# Play the audio file.\n",
    "Audio(testing_wav_data, rate=16000)"
   ]
  },
  {
   "cell_type": "code",
   "execution_count": 37,
   "metadata": {},
   "outputs": [],
   "source": [
    "class_map_path = yamnet_model.class_map_path().numpy().decode('utf-8')\n",
    "class_names = list(pd.read_csv(class_map_path)['display_name'])"
   ]
  },
  {
   "cell_type": "markdown",
   "metadata": {},
   "source": []
  },
  {
   "cell_type": "code",
   "execution_count": 40,
   "metadata": {},
   "outputs": [
    {
     "name": "stdout",
     "output_type": "stream",
     "text": [
      "The main sound is: Speech\n",
      "The embeddings shape: (1, 1024)\n"
     ]
    }
   ],
   "source": [
    "scores, embeddings, spectrogram = yamnet_model(testing_wav_data)\n",
    "class_scores = tf.reduce_mean(scores, axis=0)\n",
    "top_class = tf.math.argmax(class_scores)\n",
    "inferred_class = class_names[top_class]\n",
    "\n",
    "print(f'The main sound is: {inferred_class}')\n",
    "print(f'The embeddings shape: {embeddings.shape}')"
   ]
  },
  {
   "cell_type": "code",
   "execution_count": 39,
   "metadata": {},
   "outputs": [],
   "source": [
    "# filenames = data_df['path']\n",
    "# targets = data_df['emotion']\n",
    "\n",
    "# main_ds = tf.data.Dataset.from_tensor_slices((filenames, targets))\n",
    "# main_ds.element_spec"
   ]
  },
  {
   "cell_type": "code",
   "execution_count": 37,
   "metadata": {},
   "outputs": [],
   "source": [
    "# X = np.zeros((1, 1024))\n",
    "# y = []\n",
    "\n",
    "# for i, row in data_df.iterrows():\n",
    "#     audio = load_wav_16k_mono(row['path'])\n",
    "#     X = np.vstack((X, audio))\n",
    "#     y.append(row['emotion'])\n",
    "# y = np.array(y)\n",
    "# X = np.delete(X, 0, 0)"
   ]
  },
  {
   "cell_type": "code",
   "execution_count": 41,
   "metadata": {},
   "outputs": [],
   "source": [
    "# applies the embedding extraction model to a wav data\n",
    "def extract_embedding(wav_data):\n",
    "    ''' run YAMNet to extract embedding from the wav data '''\n",
    "    _, embeddings, _ = yamnet_model(wav_data)\n",
    "    # num_embeddings = tf.shape(embeddings)[0]\n",
    "    return embeddings"
   ]
  },
  {
   "cell_type": "code",
   "execution_count": 52,
   "metadata": {},
   "outputs": [
    {
     "data": {
      "text/html": [
       "<div>\n",
       "<style scoped>\n",
       "    .dataframe tbody tr th:only-of-type {\n",
       "        vertical-align: middle;\n",
       "    }\n",
       "\n",
       "    .dataframe tbody tr th {\n",
       "        vertical-align: top;\n",
       "    }\n",
       "\n",
       "    .dataframe thead th {\n",
       "        text-align: right;\n",
       "    }\n",
       "</style>\n",
       "<table border=\"1\" class=\"dataframe\">\n",
       "  <thead>\n",
       "    <tr style=\"text-align: right;\">\n",
       "      <th></th>\n",
       "      <th>emotion</th>\n",
       "      <th>embedding</th>\n",
       "      <th>path</th>\n",
       "      <th>fold</th>\n",
       "    </tr>\n",
       "  </thead>\n",
       "  <tbody>\n",
       "    <tr>\n",
       "      <th>0</th>\n",
       "      <td>fear</td>\n",
       "      <td>(tf.Tensor(0.13457298, shape=(), dtype=float32...</td>\n",
       "      <td>D:/Programming/nn/emotion_classification/datas...</td>\n",
       "      <td>test</td>\n",
       "    </tr>\n",
       "    <tr>\n",
       "      <th>1</th>\n",
       "      <td>sadness</td>\n",
       "      <td>(tf.Tensor(0.16979593, shape=(), dtype=float32...</td>\n",
       "      <td>D:/Programming/nn/emotion_classification/datas...</td>\n",
       "      <td>test</td>\n",
       "    </tr>\n",
       "    <tr>\n",
       "      <th>2</th>\n",
       "      <td>surprise</td>\n",
       "      <td>(tf.Tensor(0.0, shape=(), dtype=float32), tf.T...</td>\n",
       "      <td>D:/Programming/nn/emotion_classification/datas...</td>\n",
       "      <td>test</td>\n",
       "    </tr>\n",
       "    <tr>\n",
       "      <th>3</th>\n",
       "      <td>contempt</td>\n",
       "      <td>(tf.Tensor(0.0, shape=(), dtype=float32), tf.T...</td>\n",
       "      <td>D:/Programming/nn/emotion_classification/datas...</td>\n",
       "      <td>test</td>\n",
       "    </tr>\n",
       "    <tr>\n",
       "      <th>4</th>\n",
       "      <td>happiness</td>\n",
       "      <td>(tf.Tensor(0.019596098, shape=(), dtype=float3...</td>\n",
       "      <td>D:/Programming/nn/emotion_classification/datas...</td>\n",
       "      <td>test</td>\n",
       "    </tr>\n",
       "    <tr>\n",
       "      <th>...</th>\n",
       "      <td>...</td>\n",
       "      <td>...</td>\n",
       "      <td>...</td>\n",
       "      <td>...</td>\n",
       "    </tr>\n",
       "    <tr>\n",
       "      <th>13272</th>\n",
       "      <td>fear</td>\n",
       "      <td>(tf.Tensor(0.0, shape=(), dtype=float32), tf.T...</td>\n",
       "      <td>D:/Programming/nn/emotion_classification/datas...</td>\n",
       "      <td>train</td>\n",
       "    </tr>\n",
       "    <tr>\n",
       "      <th>13273</th>\n",
       "      <td>fear</td>\n",
       "      <td>(tf.Tensor(0.088616304, shape=(), dtype=float3...</td>\n",
       "      <td>D:/Programming/nn/emotion_classification/datas...</td>\n",
       "      <td>train</td>\n",
       "    </tr>\n",
       "    <tr>\n",
       "      <th>13274</th>\n",
       "      <td>happiness</td>\n",
       "      <td>(tf.Tensor(0.0, shape=(), dtype=float32), tf.T...</td>\n",
       "      <td>D:/Programming/nn/emotion_classification/datas...</td>\n",
       "      <td>train</td>\n",
       "    </tr>\n",
       "    <tr>\n",
       "      <th>13275</th>\n",
       "      <td>anger</td>\n",
       "      <td>(tf.Tensor(0.07434075, shape=(), dtype=float32...</td>\n",
       "      <td>D:/Programming/nn/emotion_classification/datas...</td>\n",
       "      <td>train</td>\n",
       "    </tr>\n",
       "    <tr>\n",
       "      <th>13276</th>\n",
       "      <td>sadness</td>\n",
       "      <td>(tf.Tensor(0.01698947, shape=(), dtype=float32...</td>\n",
       "      <td>D:/Programming/nn/emotion_classification/datas...</td>\n",
       "      <td>train</td>\n",
       "    </tr>\n",
       "  </tbody>\n",
       "</table>\n",
       "<p>13277 rows × 4 columns</p>\n",
       "</div>"
      ],
      "text/plain": [
       "         emotion                                          embedding  \\\n",
       "0           fear  (tf.Tensor(0.13457298, shape=(), dtype=float32...   \n",
       "1        sadness  (tf.Tensor(0.16979593, shape=(), dtype=float32...   \n",
       "2       surprise  (tf.Tensor(0.0, shape=(), dtype=float32), tf.T...   \n",
       "3       contempt  (tf.Tensor(0.0, shape=(), dtype=float32), tf.T...   \n",
       "4      happiness  (tf.Tensor(0.019596098, shape=(), dtype=float3...   \n",
       "...          ...                                                ...   \n",
       "13272       fear  (tf.Tensor(0.0, shape=(), dtype=float32), tf.T...   \n",
       "13273       fear  (tf.Tensor(0.088616304, shape=(), dtype=float3...   \n",
       "13274  happiness  (tf.Tensor(0.0, shape=(), dtype=float32), tf.T...   \n",
       "13275      anger  (tf.Tensor(0.07434075, shape=(), dtype=float32...   \n",
       "13276    sadness  (tf.Tensor(0.01698947, shape=(), dtype=float32...   \n",
       "\n",
       "                                                    path   fold  \n",
       "0      D:/Programming/nn/emotion_classification/datas...   test  \n",
       "1      D:/Programming/nn/emotion_classification/datas...   test  \n",
       "2      D:/Programming/nn/emotion_classification/datas...   test  \n",
       "3      D:/Programming/nn/emotion_classification/datas...   test  \n",
       "4      D:/Programming/nn/emotion_classification/datas...   test  \n",
       "...                                                  ...    ...  \n",
       "13272  D:/Programming/nn/emotion_classification/datas...  train  \n",
       "13273  D:/Programming/nn/emotion_classification/datas...  train  \n",
       "13274  D:/Programming/nn/emotion_classification/datas...  train  \n",
       "13275  D:/Programming/nn/emotion_classification/datas...  train  \n",
       "13276  D:/Programming/nn/emotion_classification/datas...  train  \n",
       "\n",
       "[13277 rows x 4 columns]"
      ]
     },
     "execution_count": 52,
     "metadata": {},
     "output_type": "execute_result"
    }
   ],
   "source": [
    "def create_embeddings(dataframe):\n",
    "    embeddings = {'emotion': [], 'embedding': [], 'path': [], 'fold': []}\n",
    "    X = np.zeros((1, 1024))\n",
    "    y = []\n",
    "    for i, row in dataframe.iterrows():\n",
    "        wav = load_wav_16k_mono(row['path'])\n",
    "        embedding = extract_embedding(wav)\n",
    "        for i in range(tf.shape(embedding)[0]):\n",
    "            X = np.vstack((X, embedding[i]))\n",
    "            y.append(row['emotion'])\n",
    "\n",
    "            embeddings['embedding'].append(embedding[i])\n",
    "            embeddings['emotion'].append(row['emotion'])\n",
    "            embeddings['path'].append(row['path'])\n",
    "            embeddings['fold'].append(row['fold'])\n",
    "    return pd.DataFrame(embeddings), X, y\n",
    "\n",
    "\n",
    "# extract embedding\n",
    "main_ds, X, y = create_embeddings(data_df)\n",
    "main_ds"
   ]
  },
  {
   "cell_type": "code",
   "execution_count": 53,
   "metadata": {},
   "outputs": [],
   "source": [
    "train_ds = main_ds.loc[main_ds['fold'] == 'train']\n",
    "test_ds = main_ds.loc[main_ds['fold'] == 'test']\n",
    "val_ds = main_ds.loc[main_ds['fold'] == 'val']"
   ]
  },
  {
   "cell_type": "code",
   "execution_count": 54,
   "metadata": {},
   "outputs": [],
   "source": [
    "x_train = train_ds['embedding']\n",
    "y_train = train_ds[['emotion']]\n",
    "\n",
    "x_test = test_ds['embedding']\n",
    "y_test = test_ds[['emotion']]\n",
    "\n",
    "x_val = val_ds['embedding']\n",
    "y_val = val_ds[['emotion']]"
   ]
  },
  {
   "cell_type": "code",
   "execution_count": 55,
   "metadata": {},
   "outputs": [],
   "source": [
    "x_train = np.array([xi.numpy() for xi in x_train.to_numpy()])\n",
    "x_test = np.array([xi.numpy() for xi in x_test.to_numpy()])\n",
    "x_val = np.array([xi.numpy() for xi in x_val.to_numpy()])"
   ]
  },
  {
   "cell_type": "code",
   "execution_count": 56,
   "metadata": {},
   "outputs": [
    {
     "data": {
      "text/plain": [
       "['fear',\n",
       " 'sadness',\n",
       " 'surprise',\n",
       " 'contempt',\n",
       " 'happiness',\n",
       " 'calm',\n",
       " 'anger',\n",
       " 'neutral']"
      ]
     },
     "execution_count": 56,
     "metadata": {},
     "output_type": "execute_result"
    }
   ],
   "source": [
    "main_ds.emotion.unique().tolist()"
   ]
  },
  {
   "cell_type": "code",
   "execution_count": 57,
   "metadata": {},
   "outputs": [],
   "source": [
    "encoder = OneHotEncoder()\n",
    "# y_enc = encoder.fit_transform(y).toarray()\n",
    "y_train = encoder.fit_transform(y_train).toarray()\n",
    "y_val = encoder.fit_transform(y_val).toarray()"
   ]
  },
  {
   "cell_type": "code",
   "execution_count": 41,
   "metadata": {},
   "outputs": [
    {
     "name": "stdout",
     "output_type": "stream",
     "text": [
      "[0. 0. 0. ... 0. 0. 0.]\n",
      "[0.04202275 0.39931166 0.21554422 ... 0.21378797 0.         0.        ]\n",
      "[0.04880255 0.1412756  0.02507512 ... 0.19882715 0.         0.        ]\n",
      "[0.02852636 0.53949267 0.00599041 ... 0.         0.         0.        ]\n",
      "[0.         0.5783934  0.25392845 ... 0.         0.         0.        ]\n"
     ]
    }
   ],
   "source": [
    "# for i in X[:5]:\n",
    "#     print(i)"
   ]
  },
  {
   "cell_type": "code",
   "execution_count": 109,
   "metadata": {},
   "outputs": [],
   "source": [
    "# # X = main_ds['embedding']\n",
    "# # y = main_ds[['emotion']]\n",
    "\n",
    "# y = np.array(y)\n",
    "# X = np.delete(X, 0, 0)"
   ]
  },
  {
   "cell_type": "code",
   "execution_count": 110,
   "metadata": {},
   "outputs": [],
   "source": [
    "# encoder = OneHotEncoder()\n",
    "# # y_enc = encoder.fit_transform(y).toarray()\n",
    "# y_enc = encoder.fit_transform(y.reshape(-1, 1)).toarray()"
   ]
  },
  {
   "cell_type": "code",
   "execution_count": 111,
   "metadata": {},
   "outputs": [],
   "source": [
    "# x_train, x_test, y_train, y_test = train_test_split(\n",
    "#     X, y_enc, test_size=0.2, random_state=42)\n",
    "# x_train, x_val, y_train, y_val = train_test_split(\n",
    "#     x_train, y_train, test_size=0.2, random_state=42)\n",
    "\n",
    "# y_test_dec = encoder.inverse_transform(y_test)"
   ]
  },
  {
   "cell_type": "code",
   "execution_count": 114,
   "metadata": {},
   "outputs": [
    {
     "name": "stdout",
     "output_type": "stream",
     "text": [
      "x_train: (7783, 1024)\tx_val: (1946, 1024)\tx_test: (2433, 1024)\n"
     ]
    }
   ],
   "source": [
    "# print(\n",
    "#     f'x_train: {x_train.shape}\\tx_val: {x_val.shape}\\tx_test: {x_test.shape}')"
   ]
  },
  {
   "cell_type": "code",
   "execution_count": 72,
   "metadata": {},
   "outputs": [],
   "source": [
    "train_size=len(x_train)\n",
    "batch_size=128\n",
    "epochs=50\n",
    "\n",
    "initial_learning_rate = 0.001\n",
    "final_learning_rate = 0.0001\n",
    "learning_rate_decay_factor = (final_learning_rate / initial_learning_rate)**(1/epochs)\n",
    "steps_per_epoch = int(train_size/batch_size)\n",
    "\n",
    "lr_schedule = tf.keras.optimizers.schedules.ExponentialDecay(\n",
    "                initial_learning_rate=initial_learning_rate,\n",
    "                decay_steps=steps_per_epoch,\n",
    "                decay_rate=learning_rate_decay_factor,\n",
    "                staircase=True)\n",
    "\n",
    "learning_rate_schedule = tf.keras.optimizers.schedules.ExponentialDecay(\n",
    "    initial_learning_rate=0.001,\n",
    "    decay_steps=1000,\n",
    "    decay_rate=0.96\n",
    ")"
   ]
  },
  {
   "cell_type": "code",
   "execution_count": 95,
   "metadata": {},
   "outputs": [
    {
     "name": "stdout",
     "output_type": "stream",
     "text": [
      "Model: \"my_model\"\n",
      "_________________________________________________________________\n",
      " Layer (type)                Output Shape              Param #   \n",
      "=================================================================\n",
      " conv1d_24 (Conv1D)          (None, 1024, 32)          128       \n",
      "                                                                 \n",
      " average_pooling1d_24 (Avera  (None, 512, 32)          0         \n",
      " gePooling1D)                                                    \n",
      "                                                                 \n",
      " conv1d_25 (Conv1D)          (None, 512, 32)           3104      \n",
      "                                                                 \n",
      " average_pooling1d_25 (Avera  (None, 256, 32)          0         \n",
      " gePooling1D)                                                    \n",
      "                                                                 \n",
      " flatten_12 (Flatten)        (None, 8192)              0         \n",
      "                                                                 \n",
      " reshape_12 (Reshape)        (None, 32, 256)           0         \n",
      "                                                                 \n",
      " lstm_12 (LSTM)              (None, 64)                82176     \n",
      "                                                                 \n",
      " dense_18 (Dense)            (None, 8)                 520       \n",
      "                                                                 \n",
      "=================================================================\n",
      "Total params: 85,928\n",
      "Trainable params: 85,928\n",
      "Non-trainable params: 0\n",
      "_________________________________________________________________\n"
     ]
    }
   ],
   "source": [
    "my_model = tf.keras.Sequential([\n",
    "    tf.keras.layers.Input(shape=(1024, 1), dtype=tf.float32,\n",
    "                          name='input_embedding'),\n",
    "    tf.keras.layers.Conv1D(32, 3, 1, padding='same', activation='relu'),\n",
    "    tf.keras.layers.AveragePooling1D(),\n",
    "\n",
    "    tf.keras.layers.Conv1D(32, 3, 1, padding='same', activation='relu'),\n",
    "    tf.keras.layers.AveragePooling1D(),\n",
    "\n",
    "    tf.keras.layers.Flatten(),\n",
    "    tf.keras.layers.Reshape((32, 256)),\n",
    "    tf.keras.layers.LSTM(64, input_shape=(32, 256)),\n",
    "    # tf.keras.layers.Dense(128, activation='relu'),\n",
    "    tf.keras.layers.Dense(y_train.shape[1])\n",
    "], name='my_model')\n",
    "\n",
    "my_model.summary()\n",
    "\n",
    "\n",
    "optimizer = tf.keras.optimizers.Adam(learning_rate=lr_schedule)\n",
    "my_model.compile(optimizer=optimizer,\n",
    "                 loss='categorical_crossentropy', metrics=['accuracy'])"
   ]
  },
  {
   "cell_type": "code",
   "execution_count": 96,
   "metadata": {},
   "outputs": [
    {
     "name": "stdout",
     "output_type": "stream",
     "text": [
      "Epoch 1/50\n",
      "63/63 [==============================] - 4s 28ms/step - loss: 4.1700 - accuracy: 0.1613 - val_loss: 13.3522 - val_accuracy: 0.1642\n",
      "Epoch 2/50\n",
      "63/63 [==============================] - 1s 20ms/step - loss: 11.0969 - accuracy: 0.1757 - val_loss: 10.3742 - val_accuracy: 0.1687\n",
      "Epoch 3/50\n",
      "63/63 [==============================] - 1s 20ms/step - loss: 6.6136 - accuracy: 0.1646 - val_loss: 5.7491 - val_accuracy: 0.1627\n",
      "Epoch 4/50\n",
      "63/63 [==============================] - 1s 20ms/step - loss: 5.6768 - accuracy: 0.1642 - val_loss: 5.7491 - val_accuracy: 0.1627\n",
      "Epoch 5/50\n",
      "63/63 [==============================] - 1s 20ms/step - loss: 5.6768 - accuracy: 0.1642 - val_loss: 5.7491 - val_accuracy: 0.1627\n",
      "Epoch 6/50\n",
      "63/63 [==============================] - 1s 20ms/step - loss: 5.6768 - accuracy: 0.1642 - val_loss: 5.7491 - val_accuracy: 0.1627\n",
      "Epoch 7/50\n",
      "63/63 [==============================] - 1s 20ms/step - loss: 5.6768 - accuracy: 0.1642 - val_loss: 5.7491 - val_accuracy: 0.1627\n"
     ]
    }
   ],
   "source": [
    "rlrp = tf.keras.callbacks.ReduceLROnPlateau(monitor='loss', factor=0.4,\n",
    "                                            verbose=0, patience=5, min_lr=0.0000001)\n",
    "early_stopping = tf.keras.callbacks.EarlyStopping(monitor='val_accuracy', patience=5)\n",
    "\n",
    "history = my_model.fit(x=x_train,\n",
    "                       y=y_train,\n",
    "                       epochs=epochs,\n",
    "                       batch_size=batch_size,\n",
    "                       validation_data=(x_val, y_val),\n",
    "                       callbacks=[early_stopping])"
   ]
  },
  {
   "cell_type": "code",
   "execution_count": 97,
   "metadata": {},
   "outputs": [
    {
     "name": "stdout",
     "output_type": "stream",
     "text": [
      "83/83 [==============================] - 1s 5ms/step\n"
     ]
    }
   ],
   "source": [
    "y_pred = my_model.predict(x_test)\n",
    "\n",
    "y_pred_decoded = encoder.inverse_transform(y_pred)"
   ]
  },
  {
   "cell_type": "code",
   "execution_count": 89,
   "metadata": {},
   "outputs": [],
   "source": [
    "def print_report_v2(history):\n",
    "    epochs = history.epoch\n",
    "    fig, ax = plt.subplots(1, 2)\n",
    "\n",
    "    train_acc = history.history['accuracy']\n",
    "    train_loss = history.history['loss']\n",
    "    test_acc = history.history['val_accuracy']\n",
    "    test_loss = history.history['val_loss']\n",
    "\n",
    "    fig.set_size_inches(20, 6)\n",
    "    ax[0].plot(epochs, train_loss, label='Training Loss')\n",
    "    ax[0].plot(epochs, test_loss, label='Testing Loss')\n",
    "    ax[0].set_title('Training & Testing Loss')\n",
    "    ax[0].legend()\n",
    "    ax[0].set_xlabel(\"Epochs\")\n",
    "    ax[1].plot(epochs, train_acc, label='Training Accuracy')\n",
    "    ax[1].plot(epochs, test_acc, label='Testing Accuracy')\n",
    "    ax[1].set_title('Training & Testing Accuracy')\n",
    "    ax[1].legend()\n",
    "    ax[1].set_xlabel(\"Epochs\")\n",
    "\n",
    "    plt.show()\n",
    "\n",
    "\n",
    "def print_confusion_matrix(test, pred, size=(12, 10)):\n",
    "    cm = confusion_matrix(test, pred)\n",
    "    plt.figure(figsize=size)\n",
    "    cm = pd.DataFrame(cm, index=[i for i in encoder.categories_], columns=[\n",
    "        i for i in encoder.categories_])\n",
    "    sns.heatmap(cm, linecolor='white', cmap='Blues',\n",
    "                linewidth=1, annot=True, fmt='')\n",
    "    plt.title('Confusion Matrix', size=20)\n",
    "    plt.xlabel('Predicted Labels', size=14)\n",
    "    plt.ylabel('Actual Labels', size=14)\n",
    "    plt.show()"
   ]
  },
  {
   "cell_type": "code",
   "execution_count": 90,
   "metadata": {},
   "outputs": [
    {
     "data": {
      "image/png": "[encoded data removed]",
      "text/plain": [
       "<Figure size 1440x432 with 2 Axes>"
      ]
     },
     "metadata": {
      "needs_background": "light"
     },
     "output_type": "display_data"
    }
   ],
   "source": [
    "print_report_v2(history)"
   ]
  },
  {
   "cell_type": "code",
   "execution_count": 91,
   "metadata": {},
   "outputs": [
    {
     "data": {
      "image/png": "[encoded data removed]",
      "text/plain": [
       "<Figure size 864x720 with 2 Axes>"
      ]
     },
     "metadata": {
      "needs_background": "light"
     },
     "output_type": "display_data"
    }
   ],
   "source": [
    "print_confusion_matrix(y_test, y_pred_decoded)"
   ]
  },
  {
   "cell_type": "code",
   "execution_count": 92,
   "metadata": {},
   "outputs": [
    {
     "name": "stdout",
     "output_type": "stream",
     "text": [
      "              precision    recall  f1-score   support\n",
      "\n",
      "       anger       0.00      0.00      0.00       415\n",
      "        calm       0.00      0.00      0.00        53\n",
      "    contempt       0.00      0.00      0.00       432\n",
      "        fear       0.00      0.00      0.00       426\n",
      "   happiness       0.00      0.00      0.00       411\n",
      "     neutral       0.00      0.00      0.00       350\n",
      "     sadness       0.16      1.00      0.28       435\n",
      "    surprise       0.00      0.00      0.00       133\n",
      "\n",
      "    accuracy                           0.16      2655\n",
      "   macro avg       0.02      0.12      0.04      2655\n",
      "weighted avg       0.03      0.16      0.05      2655\n",
      "\n"
     ]
    }
   ],
   "source": [
    "print(classification_report(y_test, y_pred_decoded))"
   ]
  },
  {
   "cell_type": "code",
   "execution_count": 65,
   "metadata": {},
   "outputs": [],
   "source": [
    "# Add an extra dimension at the end\n",
    "x_train_reshaped = np.expand_dims(x_train, axis=-1)\n",
    "x_val_reshaped = np.expand_dims(x_val, axis=-1)"
   ]
  },
  {
   "cell_type": "code",
   "execution_count": 66,
   "metadata": {},
   "outputs": [
    {
     "name": "stdout",
     "output_type": "stream",
     "text": [
      "The main sound is: Vehicle\n",
      "The embeddings shape: (1, 1024)\n"
     ]
    }
   ],
   "source": [
    "scores, embeddings, _ = yamnet_model(x_train[0])\n",
    "\n",
    "class_scores = tf.reduce_mean(scores, axis=0)\n",
    "top_class = tf.math.argmax(class_scores)\n",
    "inferred_class = class_names[top_class]\n",
    "\n",
    "print(f'The main sound is: {inferred_class}')\n",
    "print(f'The embeddings shape: {embeddings.shape}')"
   ]
  },
  {
   "cell_type": "markdown",
   "metadata": {},
   "source": [
    "## Test another yamnet:"
   ]
  },
  {
   "cell_type": "code",
   "execution_count": null,
   "metadata": {},
   "outputs": [],
   "source": [
    "yamnet_model_handle = \"https://tfhub.dev/google/lite-model/yamnet/classification/tflite/1\"\n",
    "yamnet_model = hub.KerasLayer(yamnet_model_handle, trainable=False)\n",
    "\n",
    "# Define your custom model for transfer learning\n",
    "model = tf.keras.Sequential([\n",
    "    tf.keras.layers.Input(shape=(15600)),  # Input shape for audio data\n",
    "    yamnet_model,  # YamNet model as a feature extractor\n",
    "    # Add your custom layers for classification\n",
    "    tf.keras.layers.Dense(512, activation='relu'),\n",
    "    tf.keras.layers.Dropout(0.5),\n",
    "    # Output layer for classification\n",
    "    tf.keras.layers.Dense(emotions_number, activation='softmax')\n",
    "])\n",
    "\n",
    "# Compile the model\n",
    "model.compile(optimizer='adam', loss='categorical_crossentropy',\n",
    "              metrics=['accuracy'])"
   ]
  },
  {
   "cell_type": "code",
   "execution_count": 126,
   "metadata": {},
   "outputs": [
    {
     "ename": "ValueError",
     "evalue": "Exception encountered when calling layer \"yamnet\" (type KerasLayer).\n\nin user code:\n\n    File \"C:\\Users\\nicko\\AppData\\Roaming\\Python\\Python310\\site-packages\\tensorflow_hub\\keras_layer.py\", line 242, in call  *\n        result = f()\n\n    ValueError: Python inputs incompatible with input_signature:\n      inputs: (\n        Tensor(\"Placeholder:0\", shape=(None, 15600), dtype=float32))\n      input_signature: (\n        TensorSpec(shape=(None,), dtype=tf.float32, name=None)).\n\n\nCall arguments received by layer \"yamnet\" (type KerasLayer):\n  • inputs=tf.Tensor(shape=(None, 15600), dtype=float32)\n  • training=None",
     "output_type": "error",
     "traceback": [
      "\u001b[1;31m---------------------------------------------------------------------------\u001b[0m",
      "\u001b[1;31mValueError\u001b[0m                                Traceback (most recent call last)",
      "Input \u001b[1;32mIn [126]\u001b[0m, in \u001b[0;36m<cell line: 7>\u001b[1;34m()\u001b[0m\n\u001b[0;32m      4\u001b[0m reshaped_input \u001b[38;5;241m=\u001b[39m tf\u001b[38;5;241m.\u001b[39mkeras\u001b[38;5;241m.\u001b[39mlayers\u001b[38;5;241m.\u001b[39mReshape((\u001b[38;5;241m15600\u001b[39m,))(input_segment)\n\u001b[0;32m      5\u001b[0m embedding_extraction_layer \u001b[38;5;241m=\u001b[39m hub\u001b[38;5;241m.\u001b[39mKerasLayer(yamnet_model_handle,\n\u001b[0;32m      6\u001b[0m                                             trainable\u001b[38;5;241m=\u001b[39m\u001b[38;5;28;01mFalse\u001b[39;00m, name\u001b[38;5;241m=\u001b[39m\u001b[38;5;124m'\u001b[39m\u001b[38;5;124myamnet\u001b[39m\u001b[38;5;124m'\u001b[39m)\n\u001b[1;32m----> 7\u001b[0m _, embeddings_output, _ \u001b[38;5;241m=\u001b[39m \u001b[43membedding_extraction_layer\u001b[49m\u001b[43m(\u001b[49m\u001b[43mreshaped_input\u001b[49m\u001b[43m)\u001b[49m\n\u001b[0;32m      8\u001b[0m serving_outputs \u001b[38;5;241m=\u001b[39m my_model(embeddings_output)\n\u001b[0;32m      9\u001b[0m serving_outputs \u001b[38;5;241m=\u001b[39m ReduceMeanLayer(axis\u001b[38;5;241m=\u001b[39m\u001b[38;5;241m0\u001b[39m, name\u001b[38;5;241m=\u001b[39m\u001b[38;5;124m'\u001b[39m\u001b[38;5;124mclassifier\u001b[39m\u001b[38;5;124m'\u001b[39m)(serving_outputs)\n",
      "File \u001b[1;32m~\\AppData\\Roaming\\Python\\Python310\\site-packages\\keras\\utils\\traceback_utils.py:70\u001b[0m, in \u001b[0;36mfilter_traceback.<locals>.error_handler\u001b[1;34m(*args, **kwargs)\u001b[0m\n\u001b[0;32m     67\u001b[0m     filtered_tb \u001b[38;5;241m=\u001b[39m _process_traceback_frames(e\u001b[38;5;241m.\u001b[39m__traceback__)\n\u001b[0;32m     68\u001b[0m     \u001b[38;5;66;03m# To get the full stack trace, call:\u001b[39;00m\n\u001b[0;32m     69\u001b[0m     \u001b[38;5;66;03m# `tf.debugging.disable_traceback_filtering()`\u001b[39;00m\n\u001b[1;32m---> 70\u001b[0m     \u001b[38;5;28;01mraise\u001b[39;00m e\u001b[38;5;241m.\u001b[39mwith_traceback(filtered_tb) \u001b[38;5;28;01mfrom\u001b[39;00m \u001b[38;5;28mNone\u001b[39m\n\u001b[0;32m     71\u001b[0m \u001b[38;5;28;01mfinally\u001b[39;00m:\n\u001b[0;32m     72\u001b[0m     \u001b[38;5;28;01mdel\u001b[39;00m filtered_tb\n",
      "File \u001b[1;32m~\\AppData\\Local\\Temp\\__autograph_generated_filer8qf59x7.py:74\u001b[0m, in \u001b[0;36mouter_factory.<locals>.inner_factory.<locals>.tf__call\u001b[1;34m(self, inputs, training)\u001b[0m\n\u001b[0;32m     72\u001b[0m     result \u001b[38;5;241m=\u001b[39m ag__\u001b[38;5;241m.\u001b[39mconverted_call(ag__\u001b[38;5;241m.\u001b[39mld(smart_cond)\u001b[38;5;241m.\u001b[39msmart_cond, (ag__\u001b[38;5;241m.\u001b[39mld(training), ag__\u001b[38;5;241m.\u001b[39mautograph_artifact(\u001b[38;5;28;01mlambda\u001b[39;00m : ag__\u001b[38;5;241m.\u001b[39mconverted_call(ag__\u001b[38;5;241m.\u001b[39mld(f), (), \u001b[38;5;28mdict\u001b[39m(training\u001b[38;5;241m=\u001b[39m\u001b[38;5;28;01mTrue\u001b[39;00m), fscope)), ag__\u001b[38;5;241m.\u001b[39mautograph_artifact(\u001b[38;5;28;01mlambda\u001b[39;00m : ag__\u001b[38;5;241m.\u001b[39mconverted_call(ag__\u001b[38;5;241m.\u001b[39mld(f), (), \u001b[38;5;28mdict\u001b[39m(training\u001b[38;5;241m=\u001b[39m\u001b[38;5;28;01mFalse\u001b[39;00m), fscope))), \u001b[38;5;28;01mNone\u001b[39;00m, fscope)\n\u001b[0;32m     73\u001b[0m result \u001b[38;5;241m=\u001b[39m ag__\u001b[38;5;241m.\u001b[39mUndefined(\u001b[38;5;124m'\u001b[39m\u001b[38;5;124mresult\u001b[39m\u001b[38;5;124m'\u001b[39m)\n\u001b[1;32m---> 74\u001b[0m \u001b[43mag__\u001b[49m\u001b[38;5;241;43m.\u001b[39;49m\u001b[43mif_stmt\u001b[49m\u001b[43m(\u001b[49m\u001b[43mag__\u001b[49m\u001b[38;5;241;43m.\u001b[39;49m\u001b[43mnot_\u001b[49m\u001b[43m(\u001b[49m\u001b[43mag__\u001b[49m\u001b[38;5;241;43m.\u001b[39;49m\u001b[43mld\u001b[49m\u001b[43m(\u001b[49m\u001b[38;5;28;43mself\u001b[39;49m\u001b[43m)\u001b[49m\u001b[38;5;241;43m.\u001b[39;49m\u001b[43m_has_training_argument\u001b[49m\u001b[43m)\u001b[49m\u001b[43m,\u001b[49m\u001b[43m \u001b[49m\u001b[43mif_body_3\u001b[49m\u001b[43m,\u001b[49m\u001b[43m \u001b[49m\u001b[43melse_body_3\u001b[49m\u001b[43m,\u001b[49m\u001b[43m \u001b[49m\u001b[43mget_state_3\u001b[49m\u001b[43m,\u001b[49m\u001b[43m \u001b[49m\u001b[43mset_state_3\u001b[49m\u001b[43m,\u001b[49m\u001b[43m \u001b[49m\u001b[43m(\u001b[49m\u001b[38;5;124;43m'\u001b[39;49m\u001b[38;5;124;43mresult\u001b[39;49m\u001b[38;5;124;43m'\u001b[39;49m\u001b[43m,\u001b[49m\u001b[43m \u001b[49m\u001b[38;5;124;43m'\u001b[39;49m\u001b[38;5;124;43mtraining\u001b[39;49m\u001b[38;5;124;43m'\u001b[39;49m\u001b[43m)\u001b[49m\u001b[43m,\u001b[49m\u001b[43m \u001b[49m\u001b[38;5;241;43m1\u001b[39;49m\u001b[43m)\u001b[49m\n\u001b[0;32m     76\u001b[0m \u001b[38;5;28;01mdef\u001b[39;00m \u001b[38;5;21mget_state_6\u001b[39m():\n\u001b[0;32m     77\u001b[0m     \u001b[38;5;28;01mreturn\u001b[39;00m (result,)\n",
      "File \u001b[1;32m~\\AppData\\Local\\Temp\\__autograph_generated_filer8qf59x7.py:37\u001b[0m, in \u001b[0;36mouter_factory.<locals>.inner_factory.<locals>.tf__call.<locals>.if_body_3\u001b[1;34m()\u001b[0m\n\u001b[0;32m     35\u001b[0m \u001b[38;5;28;01mdef\u001b[39;00m \u001b[38;5;21mif_body_3\u001b[39m():\n\u001b[0;32m     36\u001b[0m     \u001b[38;5;28;01mnonlocal\u001b[39;00m result, training\n\u001b[1;32m---> 37\u001b[0m     result \u001b[38;5;241m=\u001b[39m \u001b[43mag__\u001b[49m\u001b[38;5;241;43m.\u001b[39;49m\u001b[43mconverted_call\u001b[49m\u001b[43m(\u001b[49m\u001b[43mag__\u001b[49m\u001b[38;5;241;43m.\u001b[39;49m\u001b[43mld\u001b[49m\u001b[43m(\u001b[49m\u001b[43mf\u001b[49m\u001b[43m)\u001b[49m\u001b[43m,\u001b[49m\u001b[43m \u001b[49m\u001b[43m(\u001b[49m\u001b[43m)\u001b[49m\u001b[43m,\u001b[49m\u001b[43m \u001b[49m\u001b[38;5;28;43;01mNone\u001b[39;49;00m\u001b[43m,\u001b[49m\u001b[43m \u001b[49m\u001b[43mfscope\u001b[49m\u001b[43m)\u001b[49m\n",
      "\u001b[1;31mValueError\u001b[0m: Exception encountered when calling layer \"yamnet\" (type KerasLayer).\n\nin user code:\n\n    File \"C:\\Users\\nicko\\AppData\\Roaming\\Python\\Python310\\site-packages\\tensorflow_hub\\keras_layer.py\", line 242, in call  *\n        result = f()\n\n    ValueError: Python inputs incompatible with input_signature:\n      inputs: (\n        Tensor(\"Placeholder:0\", shape=(None, 15600), dtype=float32))\n      input_signature: (\n        TensorSpec(shape=(None,), dtype=tf.float32, name=None)).\n\n\nCall arguments received by layer \"yamnet\" (type KerasLayer):\n  • inputs=tf.Tensor(shape=(None, 15600), dtype=float32)\n  • training=None"
     ]
    }
   ],
   "source": [
    "input_segment = tf.keras.layers.Input(\n",
    "    shape=(15600), dtype=tf.float32, name='audio')\n",
    "embedding_extraction_layer = hub.KerasLayer(yamnet_model_handle,\n",
    "                                            trainable=False, name='yamnet')\n",
    "_, embeddings_output, _ = embedding_extraction_layer(input_segment)\n",
    "serving_outputs = my_model(embeddings_output)\n",
    "serving_outputs = ReduceMeanLayer(axis=0, name='classifier')(serving_outputs)\n",
    "serving_model = tf.keras.Model(input_segment, serving_outputs)\n",
    "\n",
    "# saved_model_path = './dogs_and_cats_yamnet'\n",
    "# serving_model.save(saved_model_path, include_optimizer=False)"
   ]
  },
  {
   "cell_type": "code",
   "execution_count": 108,
   "metadata": {},
   "outputs": [],
   "source": [
    "serving_model.compile(loss=tf.keras.losses.SparseCategoricalCrossentropy(from_logits=True),\n",
    "                      optimizer=\"adam\",\n",
    "                      metrics=['accuracy'])\n",
    "\n",
    "callback = tf.keras.callbacks.EarlyStopping(monitor='loss',\n",
    "                                            patience=3,\n",
    "                                            restore_best_weights=True)"
   ]
  },
  {
   "cell_type": "code",
   "execution_count": 118,
   "metadata": {},
   "outputs": [
    {
     "data": {
      "text/plain": [
       "(11122800,)"
      ]
     },
     "execution_count": 118,
     "metadata": {},
     "output_type": "execute_result"
    }
   ],
   "source": [
    "x_train.shape"
   ]
  },
  {
   "cell_type": "code",
   "execution_count": 117,
   "metadata": {},
   "outputs": [
    {
     "ename": "ValueError",
     "evalue": "Data cardinality is ambiguous:\n  x sizes: 11122800\n  y sizes: 713\nMake sure all arrays contain the same number of samples.",
     "output_type": "error",
     "traceback": [
      "\u001b[1;31m---------------------------------------------------------------------------\u001b[0m",
      "\u001b[1;31mValueError\u001b[0m                                Traceback (most recent call last)",
      "Input \u001b[1;32mIn [117]\u001b[0m, in \u001b[0;36m<cell line: 1>\u001b[1;34m()\u001b[0m\n\u001b[1;32m----> 1\u001b[0m history \u001b[38;5;241m=\u001b[39m \u001b[43mserving_model\u001b[49m\u001b[38;5;241;43m.\u001b[39;49m\u001b[43mfit\u001b[49m\u001b[43m(\u001b[49m\u001b[43mx\u001b[49m\u001b[38;5;241;43m=\u001b[39;49m\u001b[43mx_train\u001b[49m\u001b[43m,\u001b[49m\n\u001b[0;32m      2\u001b[0m \u001b[43m                            \u001b[49m\u001b[43my\u001b[49m\u001b[38;5;241;43m=\u001b[39;49m\u001b[43my_train\u001b[49m\u001b[43m,\u001b[49m\n\u001b[0;32m      3\u001b[0m \u001b[43m                            \u001b[49m\u001b[43mepochs\u001b[49m\u001b[38;5;241;43m=\u001b[39;49m\u001b[38;5;241;43m5\u001b[39;49m\u001b[43m,\u001b[49m\n\u001b[0;32m      4\u001b[0m \u001b[43m                            \u001b[49m\u001b[43mvalidation_data\u001b[49m\u001b[38;5;241;43m=\u001b[39;49m\u001b[43m(\u001b[49m\u001b[43mx_val\u001b[49m\u001b[43m,\u001b[49m\u001b[43m \u001b[49m\u001b[43my_val\u001b[49m\u001b[43m)\u001b[49m\u001b[43m,\u001b[49m\n\u001b[0;32m      5\u001b[0m \u001b[43m                            \u001b[49m\u001b[43mcallbacks\u001b[49m\u001b[38;5;241;43m=\u001b[39;49m\u001b[43mcallback\u001b[49m\u001b[43m)\u001b[49m\n",
      "File \u001b[1;32m~\\AppData\\Roaming\\Python\\Python310\\site-packages\\keras\\utils\\traceback_utils.py:70\u001b[0m, in \u001b[0;36mfilter_traceback.<locals>.error_handler\u001b[1;34m(*args, **kwargs)\u001b[0m\n\u001b[0;32m     67\u001b[0m     filtered_tb \u001b[38;5;241m=\u001b[39m _process_traceback_frames(e\u001b[38;5;241m.\u001b[39m__traceback__)\n\u001b[0;32m     68\u001b[0m     \u001b[38;5;66;03m# To get the full stack trace, call:\u001b[39;00m\n\u001b[0;32m     69\u001b[0m     \u001b[38;5;66;03m# `tf.debugging.disable_traceback_filtering()`\u001b[39;00m\n\u001b[1;32m---> 70\u001b[0m     \u001b[38;5;28;01mraise\u001b[39;00m e\u001b[38;5;241m.\u001b[39mwith_traceback(filtered_tb) \u001b[38;5;28;01mfrom\u001b[39;00m \u001b[38;5;28mNone\u001b[39m\n\u001b[0;32m     71\u001b[0m \u001b[38;5;28;01mfinally\u001b[39;00m:\n\u001b[0;32m     72\u001b[0m     \u001b[38;5;28;01mdel\u001b[39;00m filtered_tb\n",
      "File \u001b[1;32m~\\AppData\\Roaming\\Python\\Python310\\site-packages\\keras\\engine\\data_adapter.py:1851\u001b[0m, in \u001b[0;36m_check_data_cardinality\u001b[1;34m(data)\u001b[0m\n\u001b[0;32m   1844\u001b[0m     msg \u001b[38;5;241m+\u001b[39m\u001b[38;5;241m=\u001b[39m \u001b[38;5;124m\"\u001b[39m\u001b[38;5;124m  \u001b[39m\u001b[38;5;132;01m{}\u001b[39;00m\u001b[38;5;124m sizes: \u001b[39m\u001b[38;5;132;01m{}\u001b[39;00m\u001b[38;5;130;01m\\n\u001b[39;00m\u001b[38;5;124m\"\u001b[39m\u001b[38;5;241m.\u001b[39mformat(\n\u001b[0;32m   1845\u001b[0m         label,\n\u001b[0;32m   1846\u001b[0m         \u001b[38;5;124m\"\u001b[39m\u001b[38;5;124m, \u001b[39m\u001b[38;5;124m\"\u001b[39m\u001b[38;5;241m.\u001b[39mjoin(\n\u001b[0;32m   1847\u001b[0m             \u001b[38;5;28mstr\u001b[39m(i\u001b[38;5;241m.\u001b[39mshape[\u001b[38;5;241m0\u001b[39m]) \u001b[38;5;28;01mfor\u001b[39;00m i \u001b[38;5;129;01min\u001b[39;00m tf\u001b[38;5;241m.\u001b[39mnest\u001b[38;5;241m.\u001b[39mflatten(single_data)\n\u001b[0;32m   1848\u001b[0m         ),\n\u001b[0;32m   1849\u001b[0m     )\n\u001b[0;32m   1850\u001b[0m msg \u001b[38;5;241m+\u001b[39m\u001b[38;5;241m=\u001b[39m \u001b[38;5;124m\"\u001b[39m\u001b[38;5;124mMake sure all arrays contain the same number of samples.\u001b[39m\u001b[38;5;124m\"\u001b[39m\n\u001b[1;32m-> 1851\u001b[0m \u001b[38;5;28;01mraise\u001b[39;00m \u001b[38;5;167;01mValueError\u001b[39;00m(msg)\n",
      "\u001b[1;31mValueError\u001b[0m: Data cardinality is ambiguous:\n  x sizes: 11122800\n  y sizes: 713\nMake sure all arrays contain the same number of samples."
     ]
    }
   ],
   "source": [
    "history = serving_model.fit(x=x_train,\n",
    "                            y=y_train,\n",
    "                            epochs=5,\n",
    "                            validation_data=(x_val, y_val),\n",
    "                            callbacks=callback)"
   ]
  },
  {
   "cell_type": "code",
   "execution_count": null,
   "metadata": {},
   "outputs": [],
   "source": []
  },
  {
   "cell_type": "code",
   "execution_count": null,
   "metadata": {},
   "outputs": [],
   "source": []
  }
 ],
 "metadata": {
  "kernelspec": {
   "display_name": "Python 3",
   "language": "python",
   "name": "python3"
  },
  "language_info": {
   "codemirror_mode": {
    "name": "ipython",
    "version": 3
   },
   "file_extension": ".py",
   "mimetype": "text/x-python",
   "name": "python",
   "nbconvert_exporter": "python",
   "pygments_lexer": "ipython3",
   "version": "3.10.5"
  }
 },
 "nbformat": 4,
 "nbformat_minor": 2
}
