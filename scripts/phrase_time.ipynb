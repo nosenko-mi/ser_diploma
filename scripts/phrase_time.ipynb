{
 "cells": [
  {
   "cell_type": "code",
   "execution_count": 1,
   "metadata": {},
   "outputs": [],
   "source": [
    "import srt\n",
    "\n",
    "import pandas as pd\n",
    "import numpy as np\n",
    "\n",
    "from thefuzz import fuzz\n",
    "from thefuzz import process\n",
    "from os import listdir\n",
    "from os.path import isfile, join, basename"
   ]
  },
  {
   "cell_type": "code",
   "execution_count": 2,
   "metadata": {},
   "outputs": [],
   "source": [
    "complete_info_df = pd.read_csv('../complete_info.csv')\n",
    "films = complete_info_df['film'].unique()"
   ]
  },
  {
   "cell_type": "code",
   "execution_count": 3,
   "metadata": {},
   "outputs": [
    {
     "name": "stdout",
     "output_type": "stream",
     "text": [
      "['the hours' 'the reader' 'falling down' 'a beautiful mind'\n",
      " 'the interpreter' 'bicentennial man' 'cinderella man' 'the impossible'\n",
      " 'fligthplan' 'casinò' 'saw3' 'titanic' 'poltergeist' 'dancer in the dark'\n",
      " 'mystic river' 'the others' 'my life without me' 'the devil wears prada'\n",
      " 'crash' 'side effects' 'big fish' 'atonement' 'brokeback mountain'\n",
      " 'patch adams' 'good will hunting' 'antichrist' 'philadelphia'\n",
      " 'the sixth sense' 'finding neverland' 'notting hill'\n",
      " 'la vida secreta de las palabras' 'hook' 'pretty woman' 'joe black'\n",
      " 'matrimonio greco' 'million dollar baby' 'american history x'\n",
      " 'the lives of others' 'lost in translation' 'meet joe black' 'saw'\n",
      " 'intelligenza artificiale' \"l'uomo che sussurrava\" 'million dolar baby']\n"
     ]
    }
   ],
   "source": [
    "print(films)"
   ]
  },
  {
   "cell_type": "code",
   "execution_count": 4,
   "metadata": {},
   "outputs": [
    {
     "name": "stdout",
     "output_type": "stream",
     "text": [
      "['../subs/american_history_x_en.srt', '../subs/american_history_x_es.srt', '../subs/antichrist_es.srt', '../subs/atonement_en.srt', '../subs/atonement_es.srt', '../subs/a_beautiful_mind_en.srt', '../subs/a_beautiful_mind_es.srt', '../subs/a_beautiful_mind_it.srt', '../subs/big_fish_en.srt', '../subs/brokeback_mountain_en.srt', '../subs/brokeback_mountain_es.srt', '../subs/casino_en.srt', '../subs/casino_es.srt', '../subs/cinderella_man_en.srt', '../subs/cinderella_man_es.srt', '../subs/dancer_in_the_dark_en.srt', '../subs/dancer_in_the_dark_es.srt', '../subs/falling_down_en.srt', '../subs/falling_down_es.srt', '../subs/finding_neverland_en.srt', '../subs/finding_neverland_es.srt', '../subs/good_will_hunting_en.srt', '../subs/good_will_hunting_es.srt', '../subs/hook_en.srt', '../subs/hook_es.srt', '../subs/hook_it.srt', '../subs/lost_in_translation_en.srt', '../subs/lost_in_translation_es.srt', '../subs/meet_joe_black_en.srt', '../subs/meet_joe_black_es.srt', '../subs/million_dollar_baby_en.srt', '../subs/mystic_river_en.srt', '../subs/mystic_river_it.srt', '../subs/notting_hill_en.srt', '../subs/notting_hill_es.srt', '../subs/patch_adams_en.srt', '../subs/patch_adams_es.srt', '../subs/philadelphia_en.srt', '../subs/philadelphia_es.srt', '../subs/philadelphia_it.srt', '../subs/poltergeist_en.srt', '../subs/poltergeist_es.srt', '../subs/pretty_woman_en.srt', '../subs/pretty_woman_es.srt', '../subs/saw_3_en.srt', '../subs/saw_3_es.srt', '../subs/saw_en.srt', '../subs/saw_es.srt', '../subs/side_effects_en.srt', '../subs/side_effects_es.srt', '../subs/the_devil_wears_prada_en.srt', '../subs/the_devil_wears_prada_es.srt', '../subs/the_hours_en.srt', '../subs/the_hours_es.srt', '../subs/the_impossible_en.srt', '../subs/the_interpreter_en.srt', '../subs/the_interpreter_es.srt', '../subs/the_lives_of_others_en.srt', '../subs/the_lives_of_others_es.srt', '../subs/the_others_en.srt', '../subs/the_others_es.srt', '../subs/the_others_it.srt', '../subs/the_reader_en.srt', '../subs/the_reader_es.srt', '../subs/the_sixth_sense_en.srt', '../subs/the_sixth_sense_es.srt', '../subs/titanic_en.srt', '../subs/titanic_es.srt', '../subs/titanic_it.srt']\n"
     ]
    }
   ],
   "source": [
    "subtitles_path = '../subs/'\n",
    "subtitle_files = [join(subtitles_path, f) for f in listdir(\n",
    "    subtitles_path) if isfile(join(subtitles_path, f))]\n",
    "print(subtitle_files)"
   ]
  },
  {
   "cell_type": "code",
   "execution_count": 5,
   "metadata": {},
   "outputs": [],
   "source": [
    "# with open('../subs/the_hours_en.srt', 'r', encoding='utf-8') as f:\n",
    "#     subtitles_text = f.read()\n",
    "\n",
    "# subtitles = list(srt.parse(subtitles_text))"
   ]
  },
  {
   "cell_type": "code",
   "execution_count": 6,
   "metadata": {},
   "outputs": [
    {
     "data": {
      "text/html": [
       "<div>\n",
       "<style scoped>\n",
       "    .dataframe tbody tr th:only-of-type {\n",
       "        vertical-align: middle;\n",
       "    }\n",
       "\n",
       "    .dataframe tbody tr th {\n",
       "        vertical-align: top;\n",
       "    }\n",
       "\n",
       "    .dataframe thead th {\n",
       "        text-align: right;\n",
       "    }\n",
       "</style>\n",
       "<table border=\"1\" class=\"dataframe\">\n",
       "  <thead>\n",
       "    <tr style=\"text-align: right;\">\n",
       "      <th></th>\n",
       "      <th>file</th>\n",
       "      <th>speaker</th>\n",
       "      <th>film</th>\n",
       "      <th>emotion</th>\n",
       "      <th>language</th>\n",
       "      <th>transcritpion</th>\n",
       "    </tr>\n",
       "  </thead>\n",
       "  <tbody>\n",
       "    <tr>\n",
       "      <th>0</th>\n",
       "      <td>f_ans001aen</td>\n",
       "      <td>Meryl Streep</td>\n",
       "      <td>the hours</td>\n",
       "      <td>ans</td>\n",
       "      <td>en</td>\n",
       "      <td>[non-verbal] I don't know what's happening, I'...</td>\n",
       "    </tr>\n",
       "    <tr>\n",
       "      <th>1</th>\n",
       "      <td>f_ans001aes</td>\n",
       "      <td>Rosa Guiñón</td>\n",
       "      <td>the hours</td>\n",
       "      <td>ans</td>\n",
       "      <td>es</td>\n",
       "      <td>No sé lo que me pasa, lo siento.</td>\n",
       "    </tr>\n",
       "  </tbody>\n",
       "</table>\n",
       "</div>"
      ],
      "text/plain": [
       "          file       speaker       film emotion language  \\\n",
       "0  f_ans001aen  Meryl Streep  the hours     ans       en   \n",
       "1  f_ans001aes   Rosa Guiñón  the hours     ans       es   \n",
       "\n",
       "                                       transcritpion  \n",
       "0  [non-verbal] I don't know what's happening, I'...  \n",
       "1                   No sé lo que me pasa, lo siento.  "
      ]
     },
     "execution_count": 6,
     "metadata": {},
     "output_type": "execute_result"
    }
   ],
   "source": [
    "film_info_df = complete_info_df.loc[complete_info_df['film'] == 'the hours']\n",
    "film_info_df.head(2)"
   ]
  },
  {
   "cell_type": "code",
   "execution_count": 7,
   "metadata": {},
   "outputs": [],
   "source": [
    "from exceptiongroup import catch\n",
    "\n",
    "\n",
    "def get_phrase_time(subtitles_text: str, film: str):\n",
    "\n",
    "    if len(subtitles_text) == 0:\n",
    "        return\n",
    "    \n",
    "    try:\n",
    "\n",
    "        subtitles = list(srt.parse(subtitles_text))\n",
    "    except srt.SRTParseError as e:\n",
    "        print(f'Could not parse subtitles for {film}. expected start: {e.expected_start} - actual start {e.actual_start}')\n",
    "        subtitles = list(srt.parse(subtitles_text[e.actual_start:]))\n",
    "\n",
    "    film_info_df = complete_info_df.loc[complete_info_df['film'] == film]\n",
    "\n",
    "\n",
    "    for index, row in film_info_df.iterrows():\n",
    "        s1 = row['transcritpion']\n",
    "        if len(s1) > 50:\n",
    "            s1 = s1[0:50]\n",
    "        for s in subtitles:\n",
    "            if fuzz.ratio(s1, s.content) >= 70:\n",
    "                # print(srt.timedelta_to_srt_timestamp(s.start), s.content)\n",
    "                complete_info_df.at[index, 'timestamp'] = srt.timedelta_to_srt_timestamp(\n",
    "                    s.start)\n",
    "                subtitles.remove(s)\n",
    "                break\n",
    "\n",
    "\n",
    "\n",
    "def get_closest_film(filepath: str, films) -> str:\n",
    "    closest = ''\n",
    "\n",
    "    name = filepath.replace('_', ' ')[:-7] \n",
    "\n",
    "    max = 0\n",
    "    for film in films:\n",
    "\n",
    "        ratio = fuzz.ratio(name, film)\n",
    "\n",
    "        if (ratio > max):\n",
    "            closest = film\n",
    "\n",
    "            max = ratio\n",
    "\n",
    "    return closest\n",
    "    "
   ]
  },
  {
   "cell_type": "code",
   "execution_count": 15,
   "metadata": {},
   "outputs": [
    {
     "name": "stdout",
     "output_type": "stream",
     "text": [
      "Could not parse subtitles for antichrist. expected start: 0 - actual start 3\n",
      "Could not parse subtitles for casinò. expected start: 0 - actual start 3\n",
      "Could not parse subtitles for the others. expected start: 0 - actual start 3\n",
      "Could not parse subtitles for titanic. expected start: 0 - actual start 3\n"
     ]
    }
   ],
   "source": [
    "from pathlib import Path\n",
    "\n",
    "\n",
    "subtitles_text = '' \n",
    "complete_info_df['timestamp'] = pd.Series()\n",
    "\n",
    "for file in subtitle_files:\n",
    "\n",
    "    with open(file) as f:\n",
    "        \n",
    "        try:\n",
    "            subtitles_text = f.read()\n",
    "        except Exception as e:\n",
    "            print(f'Could not open file {f.name}. {e}') \n",
    "\n",
    "    film = get_closest_film(file, films)\n",
    "    get_phrase_time(subtitles_text, film)\n",
    "\n",
    "    "
   ]
  },
  {
   "cell_type": "code",
   "execution_count": 20,
   "metadata": {},
   "outputs": [
    {
     "data": {
      "text/html": [
       "<div>\n",
       "<style scoped>\n",
       "    .dataframe tbody tr th:only-of-type {\n",
       "        vertical-align: middle;\n",
       "    }\n",
       "\n",
       "    .dataframe tbody tr th {\n",
       "        vertical-align: top;\n",
       "    }\n",
       "\n",
       "    .dataframe thead th {\n",
       "        text-align: right;\n",
       "    }\n",
       "</style>\n",
       "<table border=\"1\" class=\"dataframe\">\n",
       "  <thead>\n",
       "    <tr style=\"text-align: right;\">\n",
       "      <th></th>\n",
       "      <th>file</th>\n",
       "      <th>speaker</th>\n",
       "      <th>film</th>\n",
       "      <th>emotion</th>\n",
       "      <th>language</th>\n",
       "      <th>transcritpion</th>\n",
       "      <th>timestamp</th>\n",
       "    </tr>\n",
       "  </thead>\n",
       "  <tbody>\n",
       "    <tr>\n",
       "      <th>0</th>\n",
       "      <td>f_ans001aen</td>\n",
       "      <td>Meryl Streep</td>\n",
       "      <td>the hours</td>\n",
       "      <td>ans</td>\n",
       "      <td>en</td>\n",
       "      <td>[non-verbal] I don't know what's happening, I'...</td>\n",
       "      <td>00:54:58,518</td>\n",
       "    </tr>\n",
       "    <tr>\n",
       "      <th>1</th>\n",
       "      <td>f_ans001aes</td>\n",
       "      <td>Rosa Guiñón</td>\n",
       "      <td>the hours</td>\n",
       "      <td>ans</td>\n",
       "      <td>es</td>\n",
       "      <td>No sé lo que me pasa, lo siento.</td>\n",
       "      <td>00:54:59,350</td>\n",
       "    </tr>\n",
       "    <tr>\n",
       "      <th>2</th>\n",
       "      <td>f_ans001ait</td>\n",
       "      <td>Maria Pia di Meo</td>\n",
       "      <td>the hours</td>\n",
       "      <td>ans</td>\n",
       "      <td>it</td>\n",
       "      <td>Non so che cosa mi succede scusami.</td>\n",
       "      <td>NaN</td>\n",
       "    </tr>\n",
       "    <tr>\n",
       "      <th>3</th>\n",
       "      <td>f_ans002aes</td>\n",
       "      <td>Rosa Guiñón</td>\n",
       "      <td>the hours</td>\n",
       "      <td>ans</td>\n",
       "      <td>es</td>\n",
       "      <td>Lo siento, he sido muy grosera.</td>\n",
       "      <td>NaN</td>\n",
       "    </tr>\n",
       "    <tr>\n",
       "      <th>4</th>\n",
       "      <td>f_ans002ait</td>\n",
       "      <td>Maria Pia di Meo</td>\n",
       "      <td>the hours</td>\n",
       "      <td>ans</td>\n",
       "      <td>it</td>\n",
       "      <td>Scusa è davvero scortese da parte mia.</td>\n",
       "      <td>NaN</td>\n",
       "    </tr>\n",
       "    <tr>\n",
       "      <th>...</th>\n",
       "      <td>...</td>\n",
       "      <td>...</td>\n",
       "      <td>...</td>\n",
       "      <td>...</td>\n",
       "      <td>...</td>\n",
       "      <td>...</td>\n",
       "      <td>...</td>\n",
       "    </tr>\n",
       "    <tr>\n",
       "      <th>1110</th>\n",
       "      <td>m_tri040aen</td>\n",
       "      <td>Billy Crudup</td>\n",
       "      <td>big fish</td>\n",
       "      <td>tri</td>\n",
       "      <td>en</td>\n",
       "      <td>Maybe he never wanted a family.</td>\n",
       "      <td>NaN</td>\n",
       "    </tr>\n",
       "    <tr>\n",
       "      <th>1111</th>\n",
       "      <td>m_tri041aen</td>\n",
       "      <td>Billy Crudup</td>\n",
       "      <td>big fish</td>\n",
       "      <td>tri</td>\n",
       "      <td>en</td>\n",
       "      <td>Whatever it is, he likes his second life ...</td>\n",
       "      <td>01:16:12,610</td>\n",
       "    </tr>\n",
       "    <tr>\n",
       "      <th>1112</th>\n",
       "      <td>m_tri041ait</td>\n",
       "      <td>Vittorio de Angelis</td>\n",
       "      <td>big fish</td>\n",
       "      <td>tri</td>\n",
       "      <td>it</td>\n",
       "      <td>Comunque sia lui preferisce la sua seconda vita.</td>\n",
       "      <td>NaN</td>\n",
       "    </tr>\n",
       "    <tr>\n",
       "      <th>1113</th>\n",
       "      <td>m_tri041ben</td>\n",
       "      <td>Billy Crudup</td>\n",
       "      <td>big fish</td>\n",
       "      <td>tri</td>\n",
       "      <td>en</td>\n",
       "      <td>... better and the reason that he tells his st...</td>\n",
       "      <td>NaN</td>\n",
       "    </tr>\n",
       "    <tr>\n",
       "      <th>1114</th>\n",
       "      <td>m_tri042aen</td>\n",
       "      <td>Billy Crudup</td>\n",
       "      <td>big fish</td>\n",
       "      <td>tri</td>\n",
       "      <td>en</td>\n",
       "      <td>What's true?</td>\n",
       "      <td>00:50:03,584</td>\n",
       "    </tr>\n",
       "  </tbody>\n",
       "</table>\n",
       "<p>1115 rows × 7 columns</p>\n",
       "</div>"
      ],
      "text/plain": [
       "             file              speaker       film emotion language  \\\n",
       "0     f_ans001aen         Meryl Streep  the hours     ans       en   \n",
       "1     f_ans001aes          Rosa Guiñón  the hours     ans       es   \n",
       "2     f_ans001ait     Maria Pia di Meo  the hours     ans       it   \n",
       "3     f_ans002aes          Rosa Guiñón  the hours     ans       es   \n",
       "4     f_ans002ait     Maria Pia di Meo  the hours     ans       it   \n",
       "...           ...                  ...        ...     ...      ...   \n",
       "1110  m_tri040aen         Billy Crudup   big fish     tri       en   \n",
       "1111  m_tri041aen         Billy Crudup   big fish     tri       en   \n",
       "1112  m_tri041ait  Vittorio de Angelis   big fish     tri       it   \n",
       "1113  m_tri041ben         Billy Crudup   big fish     tri       en   \n",
       "1114  m_tri042aen         Billy Crudup   big fish     tri       en   \n",
       "\n",
       "                                          transcritpion     timestamp  \n",
       "0     [non-verbal] I don't know what's happening, I'...  00:54:58,518  \n",
       "1                      No sé lo que me pasa, lo siento.  00:54:59,350  \n",
       "2                   Non so che cosa mi succede scusami.           NaN  \n",
       "3                       Lo siento, he sido muy grosera.           NaN  \n",
       "4                Scusa è davvero scortese da parte mia.           NaN  \n",
       "...                                                 ...           ...  \n",
       "1110                    Maybe he never wanted a family.           NaN  \n",
       "1111       Whatever it is, he likes his second life ...  01:16:12,610  \n",
       "1112   Comunque sia lui preferisce la sua seconda vita.           NaN  \n",
       "1113  ... better and the reason that he tells his st...           NaN  \n",
       "1114                                       What's true?  00:50:03,584  \n",
       "\n",
       "[1115 rows x 7 columns]"
      ]
     },
     "execution_count": 20,
     "metadata": {},
     "output_type": "execute_result"
    }
   ],
   "source": [
    "complete_info_df"
   ]
  },
  {
   "cell_type": "code",
   "execution_count": 17,
   "metadata": {},
   "outputs": [],
   "source": [
    "complete_info_df.to_csv('../complete_info_t.csv',  mode='w', index=False)"
   ]
  },
  {
   "cell_type": "code",
   "execution_count": 18,
   "metadata": {},
   "outputs": [],
   "source": [
    "total = len(complete_info_df)\n",
    "missing = complete_info_df['timestamp'].isnull().sum()"
   ]
  },
  {
   "cell_type": "code",
   "execution_count": 19,
   "metadata": {},
   "outputs": [
    {
     "name": "stdout",
     "output_type": "stream",
     "text": [
      "total entries: 1115\n",
      "has timestamp: 347\n",
      "missing: 768\n"
     ]
    }
   ],
   "source": [
    "print(f\"total entries: {total}\\nhas timestamp: {total - missing}\\nmissing: {missing}\")"
   ]
  },
  {
   "cell_type": "code",
   "execution_count": 13,
   "metadata": {},
   "outputs": [],
   "source": [
    "# s1 = 'the_devil_wears_prada_en.srt'\n",
    "# fuzz.ratio(s1.replace('_', ' '), 'the devil wears prada')"
   ]
  },
  {
   "cell_type": "code",
   "execution_count": 14,
   "metadata": {},
   "outputs": [],
   "source": [
    "# film_info_df = complete_info_df.loc[complete_info_df['film'] == 'the hours']"
   ]
  },
  {
   "cell_type": "code",
   "execution_count": null,
   "metadata": {},
   "outputs": [],
   "source": []
  }
 ],
 "metadata": {
  "kernelspec": {
   "display_name": ".venv",
   "language": "python",
   "name": "python3"
  },
  "language_info": {
   "codemirror_mode": {
    "name": "ipython",
    "version": 3
   },
   "file_extension": ".py",
   "mimetype": "text/x-python",
   "name": "python",
   "nbconvert_exporter": "python",
   "pygments_lexer": "ipython3",
   "version": "3.10.6"
  }
 },
 "nbformat": 4,
 "nbformat_minor": 2
}
