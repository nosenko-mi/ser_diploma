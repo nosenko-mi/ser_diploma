{
 "cells": [
  {
   "cell_type": "code",
   "execution_count": 4,
   "metadata": {},
   "outputs": [],
   "source": [
    "import os\n",
    "\n",
    "from os import listdir\n",
    "from os.path import isfile, join, basename"
   ]
  },
  {
   "cell_type": "code",
   "execution_count": 6,
   "metadata": {},
   "outputs": [
    {
     "name": "stdout",
     "output_type": "stream",
     "text": [
      "['../subs/raw/A.Beautiful.Mind.English-WWW.MY-SUBS.CO.srt', '../subs/raw/A.Beautiful.Mind.Italian-WWW.MY-SUBS.CO.srt', '../subs/raw/A.Beautiful.Mind.Spanish-WWW.MY-SUBS.CO.srt', '../subs/raw/Atonement.English-WWW.MY-SUBS.CO.srt', '../subs/raw/Atonement.Spanish-WWW.MY-SUBS.CO.srt', '../subs/raw/Big.Fish.English-WWW.MY-SUBS.CO.srt', '../subs/raw/Brokeback.Mountain.English-WWW.MY-SUBS.CO.srt', '../subs/raw/Brokeback.Mountain.Spanish-WWW.MY-SUBS.CO.srt', '../subs/raw/Dancer.In.The.Dark.English-WWW.MY-SUBS.CO.srt', '../subs/raw/Dancer.In.The.Dark.Spanish-WWW.MY-SUBS.CO.srt', '../subs/raw/Lost.In.Translation.English-WWW.MY-SUBS.CO.srt', '../subs/raw/Lost.In.Translation.Spanish-WWW.MY-SUBS.CO.srt', '../subs/raw/Mystic.River.English-WWW.MY-SUBS.CO.srt', '../subs/raw/Mystic.River.Italian-WWW.MY-SUBS.CO.srt', '../subs/raw/Patch.Adams.English-WWW.MY-SUBS.CO.srt', '../subs/raw/Patch.Adams.Spanish-WWW.MY-SUBS.CO.srt', '../subs/raw/Philadelphia.English-WWW.MY-SUBS.CO.srt', '../subs/raw/Philadelphia.Italian-WWW.MY-SUBS.CO.srt', '../subs/raw/Philadelphia.Spanish-WWW.MY-SUBS.CO.srt', '../subs/raw/The.Interpreter.English-WWW.MY-SUBS.CO.srt', '../subs/raw/The.Interpreter.Spanish-WWW.MY-SUBS.CO.srt', '../subs/raw/The.Lives.Of.Others.English-WWW.MY-SUBS.CO.srt', '../subs/raw/The.Lives.Of.Others.Spanish-WWW.MY-SUBS.CO.srt', '../subs/raw/The.Reader.English-WWW.MY-SUBS.CO.srt', '../subs/raw/The.Reader.Spanish-WWW.MY-SUBS.CO.srt', '../subs/raw/The.Sixth.Sense.English-WWW.MY-SUBS.CO.srt', '../subs/raw/The.Sixth.Sense.Spanish-WWW.MY-SUBS.CO.srt']\n"
     ]
    }
   ],
   "source": [
    "subtitles_path = '../subs/raw/'\n",
    "subtitle_files = [join(subtitles_path, f) for f in listdir(\n",
    "    subtitles_path) if isfile(join(subtitles_path, f))]\n",
    "print(subtitle_files)"
   ]
  },
  {
   "cell_type": "code",
   "execution_count": null,
   "metadata": {},
   "outputs": [],
   "source": [
    "from pathlib import Path\n",
    "\n",
    "\n",
    "for file in subtitle_files:\n",
    "    filename = Path(file).name.lower()\n",
    "    # print(filename)\n",
    "    splitted = filename.split('.')\n",
    "    \n",
    "    language = splitted[-4]\n",
    "\n",
    "    if (language == \"english-www\"):\n",
    "        splitted[-4] = \"en\"\n",
    "    elif (language == \"italian-www\"):\n",
    "        splitted[-4] = \"it\"\n",
    "    elif (language == \"spanish-www\"):\n",
    "        splitted[-4] = \"es\"\n",
    "\n",
    "    splitted = splitted[:-3]\n",
    "\n",
    "    new_filename = \"_\".join(splitted) + \".srt\"\n",
    "\n",
    "    os.rename(file, join(subtitles_path, new_filename))\n",
    "\n"
   ]
  },
  {
   "cell_type": "code",
   "execution_count": null,
   "metadata": {},
   "outputs": [],
   "source": []
  }
 ],
 "metadata": {
  "kernelspec": {
   "display_name": ".venv",
   "language": "python",
   "name": "python3"
  },
  "language_info": {
   "codemirror_mode": {
    "name": "ipython",
    "version": 3
   },
   "file_extension": ".py",
   "mimetype": "text/x-python",
   "name": "python",
   "nbconvert_exporter": "python",
   "pygments_lexer": "ipython3",
   "version": "3.10.6"
  }
 },
 "nbformat": 4,
 "nbformat_minor": 2
}
