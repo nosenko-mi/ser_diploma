{
 "cells": [
  {
   "cell_type": "code",
   "execution_count": 1,
   "metadata": {},
   "outputs": [],
   "source": [
    "import os\n",
    "\n",
    "from os import listdir\n",
    "from os.path import isfile, join, basename"
   ]
  },
  {
   "cell_type": "code",
   "execution_count": 3,
   "metadata": {},
   "outputs": [
    {
     "name": "stdout",
     "output_type": "stream",
     "text": [
      "['C:/Users/nicko/Videos/obs/f_ans117ait.mp4', 'C:/Users/nicko/Videos/obs/f_ans118ait.mp4', 'C:/Users/nicko/Videos/obs/f_dis014bes.mp4', 'C:/Users/nicko/Videos/obs/f_dis016aen.mp4', 'C:/Users/nicko/Videos/obs/f_dis106ait.mp4', 'C:/Users/nicko/Videos/obs/f_dis107ait.mp4', 'C:/Users/nicko/Videos/obs/f_dis108aen.mp4', 'C:/Users/nicko/Videos/obs/f_dis150aen.mp4', 'C:/Users/nicko/Videos/obs/f_dis201aes.mp4', 'C:/Users/nicko/Videos/obs/f_dis202aen.mp4', 'C:/Users/nicko/Videos/obs/f_dis204aen.mp4', 'C:/Users/nicko/Videos/obs/f_dis219ait.mp4', 'C:/Users/nicko/Videos/obs/f_gio016aen.mp4', 'C:/Users/nicko/Videos/obs/f_gio017aen.mp4', 'C:/Users/nicko/Videos/obs/f_gio108ait.mp4', 'C:/Users/nicko/Videos/obs/f_gio206aen.mp4', 'C:/Users/nicko/Videos/obs/f_gio207aen.mp4', 'C:/Users/nicko/Videos/obs/f_gio208aen.mp4', 'C:/Users/nicko/Videos/obs/f_gio209aen.mp4', 'C:/Users/nicko/Videos/obs/f_gio212aen.mp4', 'C:/Users/nicko/Videos/obs/f_tri059aes.mp4', 'C:/Users/nicko/Videos/obs/m_dis008ben.mp4', 'C:/Users/nicko/Videos/obs/m_dis013aen.mp4', 'C:/Users/nicko/Videos/obs/m_rab084aen.mp4', 'C:/Users/nicko/Videos/obs/m_rab085aen.mp4', 'C:/Users/nicko/Videos/obs/m_rab087aen.mp4']\n"
     ]
    }
   ],
   "source": [
    "audio_path = 'C:/Users/nicko/Videos/obs/'\n",
    "subtitle_files = [join(audio_path, f) for f in listdir(\n",
    "    audio_path) if isfile(join(audio_path, f))]\n",
    "print(subtitle_files)"
   ]
  },
  {
   "cell_type": "code",
   "execution_count": 12,
   "metadata": {},
   "outputs": [
    {
     "name": "stdout",
     "output_type": "stream",
     "text": [
      "f_ans117ait.mp4\n",
      "new: f_ans117auk.mp4\n",
      "f_ans118ait.mp4\n",
      "new: f_ans118auk.mp4\n",
      "f_dis014bes.mp4\n",
      "new: f_dis014buk.mp4\n",
      "f_dis016aen.mp4\n",
      "new: f_dis016auk.mp4\n",
      "f_dis106ait.mp4\n",
      "new: f_dis106auk.mp4\n",
      "f_dis107ait.mp4\n",
      "new: f_dis107auk.mp4\n",
      "f_dis108aen.mp4\n",
      "new: f_dis108auk.mp4\n",
      "f_dis150aen.mp4\n",
      "new: f_dis150auk.mp4\n",
      "f_dis201aes.mp4\n",
      "new: f_dis201auk.mp4\n",
      "f_dis202aen.mp4\n",
      "new: f_dis202auk.mp4\n",
      "f_dis204aen.mp4\n",
      "new: f_dis204auk.mp4\n",
      "f_dis219ait.mp4\n",
      "new: f_dis219auk.mp4\n",
      "f_gio016aen.mp4\n",
      "new: f_gio016auk.mp4\n",
      "f_gio017aen.mp4\n",
      "new: f_gio017auk.mp4\n",
      "f_gio108ait.mp4\n",
      "new: f_gio108auk.mp4\n",
      "f_gio206aen.mp4\n",
      "new: f_gio206auk.mp4\n",
      "f_gio207aen.mp4\n",
      "new: f_gio207auk.mp4\n",
      "f_gio208aen.mp4\n",
      "new: f_gio208auk.mp4\n",
      "f_gio209aen.mp4\n",
      "new: f_gio209auk.mp4\n",
      "f_gio212aen.mp4\n",
      "new: f_gio212auk.mp4\n",
      "f_tri059aes.mp4\n",
      "new: f_tri059auk.mp4\n",
      "m_dis008ben.mp4\n",
      "new: m_dis008buk.mp4\n",
      "m_dis013aen.mp4\n",
      "new: m_dis013auk.mp4\n",
      "m_rab084aen.mp4\n",
      "new: m_rab084auk.mp4\n",
      "m_rab085aen.mp4\n",
      "new: m_rab085auk.mp4\n",
      "m_rab087aen.mp4\n",
      "new: m_rab087auk.mp4\n"
     ]
    }
   ],
   "source": [
    "from pathlib import Path\n",
    "\n",
    "\n",
    "def replace_str_index(text, index=0, replacement=''):\n",
    "    return f'{text[:index]}{replacement}{text[index+1:]}'\n",
    "\n",
    "\n",
    "for file in subtitle_files:\n",
    "    filename = Path(file).name.lower()\n",
    "    print(filename)\n",
    "    new_filename = replace_str_index(filename, 9, 'u')\n",
    "    new_filename = replace_str_index(new_filename, 10, 'k')\n",
    "    print('new:', new_filename)\n",
    "\n",
    "    os.rename(file, join(audio_path, new_filename))"
   ]
  },
  {
   "cell_type": "code",
   "execution_count": null,
   "metadata": {},
   "outputs": [],
   "source": []
  }
 ],
 "metadata": {
  "kernelspec": {
   "display_name": ".venv",
   "language": "python",
   "name": "python3"
  },
  "language_info": {
   "codemirror_mode": {
    "name": "ipython",
    "version": 3
   },
   "file_extension": ".py",
   "mimetype": "text/x-python",
   "name": "python",
   "nbconvert_exporter": "python",
   "pygments_lexer": "ipython3",
   "version": "3.10.6"
  }
 },
 "nbformat": 4,
 "nbformat_minor": 2
}
