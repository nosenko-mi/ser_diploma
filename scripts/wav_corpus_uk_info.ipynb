{
 "cells": [
  {
   "cell_type": "code",
   "execution_count": 12,
   "metadata": {},
   "outputs": [],
   "source": [
    "import pandas as pd\n",
    "import numpy as np\n",
    "\n",
    "import sys\n",
    "import os\n",
    "\n",
    "from pathlib import Path\n",
    "from os import listdir\n",
    "from os.path import join, isfile, basename"
   ]
  },
  {
   "cell_type": "code",
   "execution_count": 2,
   "metadata": {},
   "outputs": [],
   "source": [
    "Emofilm_uk = 'D:/Documents/emofilm/data/wav_corpus_uk/'"
   ]
  },
  {
   "cell_type": "code",
   "execution_count": 3,
   "metadata": {},
   "outputs": [],
   "source": [
    "fear_label = 'fear'\n",
    "contempt_label = 'contempt'\n",
    "happiness_label = 'happiness'\n",
    "anger_label = 'anger'\n",
    "sadness_label = 'sadness'\n",
    "neutral_label = 'neutral'\n",
    "surprise_label = 'surprise'\n",
    "\n",
    "emofilm_emotions = {\n",
    "    'ans': fear_label,\n",
    "    'dis': contempt_label,\n",
    "    'gio': happiness_label,\n",
    "    'rab': anger_label,\n",
    "    'tri': sadness_label\n",
    "}"
   ]
  },
  {
   "cell_type": "code",
   "execution_count": 7,
   "metadata": {},
   "outputs": [
    {
     "name": "stdout",
     "output_type": "stream",
     "text": [
      "['D:/Documents/emofilm/data/wav_corpus_uk/f_ans117auk.wav', 'D:/Documents/emofilm/data/wav_corpus_uk/f_ans118auk.wav', 'D:/Documents/emofilm/data/wav_corpus_uk/f_dis014buk.wav', 'D:/Documents/emofilm/data/wav_corpus_uk/f_dis016auk.wav', 'D:/Documents/emofilm/data/wav_corpus_uk/f_dis106auk.wav', 'D:/Documents/emofilm/data/wav_corpus_uk/f_dis107auk.wav', 'D:/Documents/emofilm/data/wav_corpus_uk/f_dis108auk.wav', 'D:/Documents/emofilm/data/wav_corpus_uk/f_dis150auk.wav', 'D:/Documents/emofilm/data/wav_corpus_uk/f_dis201auk.wav', 'D:/Documents/emofilm/data/wav_corpus_uk/f_dis202auk.wav', 'D:/Documents/emofilm/data/wav_corpus_uk/f_dis204auk.wav', 'D:/Documents/emofilm/data/wav_corpus_uk/f_dis219auk.wav', 'D:/Documents/emofilm/data/wav_corpus_uk/f_gio016auk.wav', 'D:/Documents/emofilm/data/wav_corpus_uk/f_gio017auk.wav', 'D:/Documents/emofilm/data/wav_corpus_uk/f_gio108auk.wav', 'D:/Documents/emofilm/data/wav_corpus_uk/f_gio206auk.wav', 'D:/Documents/emofilm/data/wav_corpus_uk/f_gio207auk.wav', 'D:/Documents/emofilm/data/wav_corpus_uk/f_gio208auk.wav', 'D:/Documents/emofilm/data/wav_corpus_uk/f_gio209auk.wav', 'D:/Documents/emofilm/data/wav_corpus_uk/f_gio212auk.wav', 'D:/Documents/emofilm/data/wav_corpus_uk/f_tri059auk.wav', 'D:/Documents/emofilm/data/wav_corpus_uk/m_dis008buk.wav', 'D:/Documents/emofilm/data/wav_corpus_uk/m_dis013auk.wav', 'D:/Documents/emofilm/data/wav_corpus_uk/m_rab084auk.wav', 'D:/Documents/emofilm/data/wav_corpus_uk/m_rab085auk.wav', 'D:/Documents/emofilm/data/wav_corpus_uk/m_rab087auk.wav']\n"
     ]
    }
   ],
   "source": [
    "audio_files = [join(Emofilm_uk, f) for f in listdir(\n",
    "    Emofilm_uk) if isfile(join(Emofilm_uk, f))]\n",
    "print(audio_files)"
   ]
  },
  {
   "cell_type": "code",
   "execution_count": 8,
   "metadata": {},
   "outputs": [],
   "source": []
  },
  {
   "cell_type": "code",
   "execution_count": 13,
   "metadata": {},
   "outputs": [
    {
     "data": {
      "text/plain": [
       "'f_ans117auk.wav'"
      ]
     },
     "execution_count": 13,
     "metadata": {},
     "output_type": "execute_result"
    }
   ],
   "source": [
    "basename(audio_files[0])"
   ]
  },
  {
   "cell_type": "code",
   "execution_count": 22,
   "metadata": {},
   "outputs": [
    {
     "data": {
      "text/plain": [
       "'ans'"
      ]
     },
     "execution_count": 22,
     "metadata": {},
     "output_type": "execute_result"
    }
   ],
   "source": [
    "file_name = basename(audio_files[0])\n",
    "file_name[2:5]"
   ]
  },
  {
   "cell_type": "code",
   "execution_count": 23,
   "metadata": {},
   "outputs": [
    {
     "data": {
      "text/plain": [
       "'fear'"
      ]
     },
     "execution_count": 23,
     "metadata": {},
     "output_type": "execute_result"
    }
   ],
   "source": [
    "emofilm_emotions.get(file_name[2:5])"
   ]
  },
  {
   "cell_type": "code",
   "execution_count": 31,
   "metadata": {},
   "outputs": [],
   "source": [
    "emofilm_uk_map = {'emotion': [], 'path': []}\n",
    "\n",
    "for f in audio_files:\n",
    "    file_name = basename(f)\n",
    "    raw_emotion = file_name[2:5]\n",
    "    emotion = emofilm_emotions.get(raw_emotion)\n",
    "    emofilm_uk_map['emotion'].append(emotion)\n",
    "    emofilm_uk_map['path'].append(f)\n",
    "\n",
    "\n",
    "emofilm_uk_df = pd.DataFrame(emofilm_uk_map)"
   ]
  },
  {
   "cell_type": "code",
   "execution_count": 30,
   "metadata": {},
   "outputs": [
    {
     "data": {
      "text/html": [
       "<div>\n",
       "<style scoped>\n",
       "    .dataframe tbody tr th:only-of-type {\n",
       "        vertical-align: middle;\n",
       "    }\n",
       "\n",
       "    .dataframe tbody tr th {\n",
       "        vertical-align: top;\n",
       "    }\n",
       "\n",
       "    .dataframe thead th {\n",
       "        text-align: right;\n",
       "    }\n",
       "</style>\n",
       "<table border=\"1\" class=\"dataframe\">\n",
       "  <thead>\n",
       "    <tr style=\"text-align: right;\">\n",
       "      <th></th>\n",
       "      <th>emotion</th>\n",
       "      <th>path</th>\n",
       "    </tr>\n",
       "  </thead>\n",
       "  <tbody>\n",
       "    <tr>\n",
       "      <th>0</th>\n",
       "      <td>fear</td>\n",
       "      <td>D:/Documents/emofilm/data/wav_corpus_uk/f_ans1...</td>\n",
       "    </tr>\n",
       "    <tr>\n",
       "      <th>1</th>\n",
       "      <td>fear</td>\n",
       "      <td>D:/Documents/emofilm/data/wav_corpus_uk/f_ans1...</td>\n",
       "    </tr>\n",
       "    <tr>\n",
       "      <th>2</th>\n",
       "      <td>contempt</td>\n",
       "      <td>D:/Documents/emofilm/data/wav_corpus_uk/f_dis0...</td>\n",
       "    </tr>\n",
       "    <tr>\n",
       "      <th>3</th>\n",
       "      <td>contempt</td>\n",
       "      <td>D:/Documents/emofilm/data/wav_corpus_uk/f_dis0...</td>\n",
       "    </tr>\n",
       "    <tr>\n",
       "      <th>4</th>\n",
       "      <td>contempt</td>\n",
       "      <td>D:/Documents/emofilm/data/wav_corpus_uk/f_dis1...</td>\n",
       "    </tr>\n",
       "    <tr>\n",
       "      <th>5</th>\n",
       "      <td>contempt</td>\n",
       "      <td>D:/Documents/emofilm/data/wav_corpus_uk/f_dis1...</td>\n",
       "    </tr>\n",
       "    <tr>\n",
       "      <th>6</th>\n",
       "      <td>contempt</td>\n",
       "      <td>D:/Documents/emofilm/data/wav_corpus_uk/f_dis1...</td>\n",
       "    </tr>\n",
       "    <tr>\n",
       "      <th>7</th>\n",
       "      <td>contempt</td>\n",
       "      <td>D:/Documents/emofilm/data/wav_corpus_uk/f_dis1...</td>\n",
       "    </tr>\n",
       "    <tr>\n",
       "      <th>8</th>\n",
       "      <td>contempt</td>\n",
       "      <td>D:/Documents/emofilm/data/wav_corpus_uk/f_dis2...</td>\n",
       "    </tr>\n",
       "    <tr>\n",
       "      <th>9</th>\n",
       "      <td>contempt</td>\n",
       "      <td>D:/Documents/emofilm/data/wav_corpus_uk/f_dis2...</td>\n",
       "    </tr>\n",
       "    <tr>\n",
       "      <th>10</th>\n",
       "      <td>contempt</td>\n",
       "      <td>D:/Documents/emofilm/data/wav_corpus_uk/f_dis2...</td>\n",
       "    </tr>\n",
       "    <tr>\n",
       "      <th>11</th>\n",
       "      <td>contempt</td>\n",
       "      <td>D:/Documents/emofilm/data/wav_corpus_uk/f_dis2...</td>\n",
       "    </tr>\n",
       "    <tr>\n",
       "      <th>12</th>\n",
       "      <td>happiness</td>\n",
       "      <td>D:/Documents/emofilm/data/wav_corpus_uk/f_gio0...</td>\n",
       "    </tr>\n",
       "    <tr>\n",
       "      <th>13</th>\n",
       "      <td>happiness</td>\n",
       "      <td>D:/Documents/emofilm/data/wav_corpus_uk/f_gio0...</td>\n",
       "    </tr>\n",
       "    <tr>\n",
       "      <th>14</th>\n",
       "      <td>happiness</td>\n",
       "      <td>D:/Documents/emofilm/data/wav_corpus_uk/f_gio1...</td>\n",
       "    </tr>\n",
       "    <tr>\n",
       "      <th>15</th>\n",
       "      <td>happiness</td>\n",
       "      <td>D:/Documents/emofilm/data/wav_corpus_uk/f_gio2...</td>\n",
       "    </tr>\n",
       "    <tr>\n",
       "      <th>16</th>\n",
       "      <td>happiness</td>\n",
       "      <td>D:/Documents/emofilm/data/wav_corpus_uk/f_gio2...</td>\n",
       "    </tr>\n",
       "    <tr>\n",
       "      <th>17</th>\n",
       "      <td>happiness</td>\n",
       "      <td>D:/Documents/emofilm/data/wav_corpus_uk/f_gio2...</td>\n",
       "    </tr>\n",
       "    <tr>\n",
       "      <th>18</th>\n",
       "      <td>happiness</td>\n",
       "      <td>D:/Documents/emofilm/data/wav_corpus_uk/f_gio2...</td>\n",
       "    </tr>\n",
       "    <tr>\n",
       "      <th>19</th>\n",
       "      <td>happiness</td>\n",
       "      <td>D:/Documents/emofilm/data/wav_corpus_uk/f_gio2...</td>\n",
       "    </tr>\n",
       "    <tr>\n",
       "      <th>20</th>\n",
       "      <td>sadness</td>\n",
       "      <td>D:/Documents/emofilm/data/wav_corpus_uk/f_tri0...</td>\n",
       "    </tr>\n",
       "    <tr>\n",
       "      <th>21</th>\n",
       "      <td>contempt</td>\n",
       "      <td>D:/Documents/emofilm/data/wav_corpus_uk/m_dis0...</td>\n",
       "    </tr>\n",
       "    <tr>\n",
       "      <th>22</th>\n",
       "      <td>contempt</td>\n",
       "      <td>D:/Documents/emofilm/data/wav_corpus_uk/m_dis0...</td>\n",
       "    </tr>\n",
       "    <tr>\n",
       "      <th>23</th>\n",
       "      <td>anger</td>\n",
       "      <td>D:/Documents/emofilm/data/wav_corpus_uk/m_rab0...</td>\n",
       "    </tr>\n",
       "    <tr>\n",
       "      <th>24</th>\n",
       "      <td>anger</td>\n",
       "      <td>D:/Documents/emofilm/data/wav_corpus_uk/m_rab0...</td>\n",
       "    </tr>\n",
       "    <tr>\n",
       "      <th>25</th>\n",
       "      <td>anger</td>\n",
       "      <td>D:/Documents/emofilm/data/wav_corpus_uk/m_rab0...</td>\n",
       "    </tr>\n",
       "  </tbody>\n",
       "</table>\n",
       "</div>"
      ],
      "text/plain": [
       "      emotion                                               path\n",
       "0        fear  D:/Documents/emofilm/data/wav_corpus_uk/f_ans1...\n",
       "1        fear  D:/Documents/emofilm/data/wav_corpus_uk/f_ans1...\n",
       "2    contempt  D:/Documents/emofilm/data/wav_corpus_uk/f_dis0...\n",
       "3    contempt  D:/Documents/emofilm/data/wav_corpus_uk/f_dis0...\n",
       "4    contempt  D:/Documents/emofilm/data/wav_corpus_uk/f_dis1...\n",
       "5    contempt  D:/Documents/emofilm/data/wav_corpus_uk/f_dis1...\n",
       "6    contempt  D:/Documents/emofilm/data/wav_corpus_uk/f_dis1...\n",
       "7    contempt  D:/Documents/emofilm/data/wav_corpus_uk/f_dis1...\n",
       "8    contempt  D:/Documents/emofilm/data/wav_corpus_uk/f_dis2...\n",
       "9    contempt  D:/Documents/emofilm/data/wav_corpus_uk/f_dis2...\n",
       "10   contempt  D:/Documents/emofilm/data/wav_corpus_uk/f_dis2...\n",
       "11   contempt  D:/Documents/emofilm/data/wav_corpus_uk/f_dis2...\n",
       "12  happiness  D:/Documents/emofilm/data/wav_corpus_uk/f_gio0...\n",
       "13  happiness  D:/Documents/emofilm/data/wav_corpus_uk/f_gio0...\n",
       "14  happiness  D:/Documents/emofilm/data/wav_corpus_uk/f_gio1...\n",
       "15  happiness  D:/Documents/emofilm/data/wav_corpus_uk/f_gio2...\n",
       "16  happiness  D:/Documents/emofilm/data/wav_corpus_uk/f_gio2...\n",
       "17  happiness  D:/Documents/emofilm/data/wav_corpus_uk/f_gio2...\n",
       "18  happiness  D:/Documents/emofilm/data/wav_corpus_uk/f_gio2...\n",
       "19  happiness  D:/Documents/emofilm/data/wav_corpus_uk/f_gio2...\n",
       "20    sadness  D:/Documents/emofilm/data/wav_corpus_uk/f_tri0...\n",
       "21   contempt  D:/Documents/emofilm/data/wav_corpus_uk/m_dis0...\n",
       "22   contempt  D:/Documents/emofilm/data/wav_corpus_uk/m_dis0...\n",
       "23      anger  D:/Documents/emofilm/data/wav_corpus_uk/m_rab0...\n",
       "24      anger  D:/Documents/emofilm/data/wav_corpus_uk/m_rab0...\n",
       "25      anger  D:/Documents/emofilm/data/wav_corpus_uk/m_rab0..."
      ]
     },
     "execution_count": 30,
     "metadata": {},
     "output_type": "execute_result"
    }
   ],
   "source": [
    "emofilm_uk_df"
   ]
  },
  {
   "cell_type": "code",
   "execution_count": 32,
   "metadata": {},
   "outputs": [],
   "source": [
    "emofilm_uk_df.to_csv(\n",
    "    'D:/Documents/emofilm/data/emofilm_uk_df.csv', index=False)"
   ]
  }
 ],
 "metadata": {
  "kernelspec": {
   "display_name": ".venv",
   "language": "python",
   "name": "python3"
  },
  "language_info": {
   "codemirror_mode": {
    "name": "ipython",
    "version": 3
   },
   "file_extension": ".py",
   "mimetype": "text/x-python",
   "name": "python",
   "nbconvert_exporter": "python",
   "pygments_lexer": "ipython3",
   "version": "3.10.6"
  }
 },
 "nbformat": 4,
 "nbformat_minor": 2
}
