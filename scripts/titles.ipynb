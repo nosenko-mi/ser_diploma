{
 "cells": [
  {
   "cell_type": "markdown",
   "metadata": {},
   "source": [
    "Визначимо, які фільми були використані у наборі даних, щоб перевірити наявність дубляжу українською мовою."
   ]
  },
  {
   "cell_type": "code",
   "execution_count": 1,
   "metadata": {},
   "outputs": [],
   "source": [
    "import pandas as pd\n",
    "import numpy as np\n",
    "\n",
    "import os"
   ]
  },
  {
   "cell_type": "code",
   "execution_count": 2,
   "metadata": {},
   "outputs": [],
   "source": [
    "legend_f = pd.read_csv('../legend_f.csv')\n",
    "legend_m = pd.read_csv('../legend_m.csv')"
   ]
  },
  {
   "cell_type": "code",
   "execution_count": 3,
   "metadata": {},
   "outputs": [
    {
     "data": {
      "text/html": [
       "<div>\n",
       "<style scoped>\n",
       "    .dataframe tbody tr th:only-of-type {\n",
       "        vertical-align: middle;\n",
       "    }\n",
       "\n",
       "    .dataframe tbody tr th {\n",
       "        vertical-align: top;\n",
       "    }\n",
       "\n",
       "    .dataframe thead th {\n",
       "        text-align: right;\n",
       "    }\n",
       "</style>\n",
       "<table border=\"1\" class=\"dataframe\">\n",
       "  <thead>\n",
       "    <tr style=\"text-align: right;\">\n",
       "      <th></th>\n",
       "      <th>file</th>\n",
       "      <th>speaker</th>\n",
       "      <th>film</th>\n",
       "    </tr>\n",
       "  </thead>\n",
       "  <tbody>\n",
       "    <tr>\n",
       "      <th>0</th>\n",
       "      <td>m_ans001aen</td>\n",
       "      <td>Tim Robbins</td>\n",
       "      <td>Mystic river</td>\n",
       "    </tr>\n",
       "    <tr>\n",
       "      <th>1</th>\n",
       "      <td>m_ans001aes</td>\n",
       "      <td>Paco Gázquez</td>\n",
       "      <td>Mystic river</td>\n",
       "    </tr>\n",
       "    <tr>\n",
       "      <th>2</th>\n",
       "      <td>m_ans002aen</td>\n",
       "      <td>Tim Robbins</td>\n",
       "      <td>Mystic river</td>\n",
       "    </tr>\n",
       "    <tr>\n",
       "      <th>3</th>\n",
       "      <td>m_ans002aes</td>\n",
       "      <td>Paco Gázquez</td>\n",
       "      <td>Mystic river</td>\n",
       "    </tr>\n",
       "    <tr>\n",
       "      <th>4</th>\n",
       "      <td>m_ans002ait</td>\n",
       "      <td>Stefano de Sando</td>\n",
       "      <td>Mystic river</td>\n",
       "    </tr>\n",
       "  </tbody>\n",
       "</table>\n",
       "</div>"
      ],
      "text/plain": [
       "          file           speaker          film\n",
       "0  m_ans001aen       Tim Robbins  Mystic river\n",
       "1  m_ans001aes      Paco Gázquez  Mystic river\n",
       "2  m_ans002aen       Tim Robbins  Mystic river\n",
       "3  m_ans002aes      Paco Gázquez  Mystic river\n",
       "4  m_ans002ait  Stefano de Sando  Mystic river"
      ]
     },
     "execution_count": 3,
     "metadata": {},
     "output_type": "execute_result"
    }
   ],
   "source": [
    "legend_m.head()"
   ]
  },
  {
   "cell_type": "code",
   "execution_count": 4,
   "metadata": {},
   "outputs": [
    {
     "name": "stdout",
     "output_type": "stream",
     "text": [
      "45\n"
     ]
    }
   ],
   "source": [
    "movies = np.concatenate((legend_f.film.unique(), legend_m.film.unique()), axis=0).ravel()\n",
    "movies = set(map(lambda x: x.lower(), movies))\n",
    "\n",
    "print(len(movies))"
   ]
  },
  {
   "cell_type": "code",
   "execution_count": 5,
   "metadata": {},
   "outputs": [],
   "source": [
    "with open('../dubbed.txt', \"w\", encoding=\"utf-8\") as f:\n",
    "    for movie in movies:\n",
    "        f.write(movie + '\\n')"
   ]
  },
  {
   "cell_type": "code",
   "execution_count": 6,
   "metadata": {},
   "outputs": [],
   "source": [
    "movies_df = pd.DataFrame(movies, columns=['film'])\n"
   ]
  },
  {
   "cell_type": "code",
   "execution_count": 7,
   "metadata": {},
   "outputs": [],
   "source": [
    "dubbed_list = [False] * len(movies)\n",
    "movies_df['dubbed'] = dubbed_list"
   ]
  },
  {
   "cell_type": "code",
   "execution_count": 8,
   "metadata": {},
   "outputs": [],
   "source": [
    "movies_df.to_csv('../movies_dubbed.csv', mode='w', index=False)"
   ]
  },
  {
   "cell_type": "code",
   "execution_count": null,
   "metadata": {},
   "outputs": [],
   "source": []
  }
 ],
 "metadata": {
  "kernelspec": {
   "display_name": ".venv",
   "language": "python",
   "name": "python3"
  },
  "language_info": {
   "codemirror_mode": {
    "name": "ipython",
    "version": 3
   },
   "file_extension": ".py",
   "mimetype": "text/x-python",
   "name": "python",
   "nbconvert_exporter": "python",
   "pygments_lexer": "ipython3",
   "version": "3.10.6"
  }
 },
 "nbformat": 4,
 "nbformat_minor": 2
}
